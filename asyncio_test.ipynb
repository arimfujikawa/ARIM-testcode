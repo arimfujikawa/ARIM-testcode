{
 "cells": [
  {
   "attachments": {},
   "cell_type": "markdown",
   "metadata": {},
   "source": [
    "# asyncioのテスト"
   ]
  },
  {
   "cell_type": "code",
   "execution_count": 7,
   "metadata": {},
   "outputs": [
    {
     "name": "stdout",
     "output_type": "stream",
     "text": [
      "started at 11:36:03\n",
      "hello\n",
      "world\n",
      "finished at 11:36:05\n"
     ]
    }
   ],
   "source": [
    "import asyncio\n",
    "import time\n",
    "\n",
    "async def say_after(delay, what):\n",
    "    await asyncio.sleep(delay)\n",
    "    print(what)\n",
    "\n",
    "async def main():\n",
    "    task1 = asyncio.create_task(\n",
    "        say_after(1, 'hello'))\n",
    "\n",
    "    task2 = asyncio.create_task(\n",
    "        say_after(2, 'world'))\n",
    "\n",
    "    print(f\"started at {time.strftime('%X')}\")\n",
    "\n",
    "    # Wait until both tasks are completed (should take\n",
    "    # around 2 seconds.)\n",
    "    await task1\n",
    "    await task2\n",
    "\n",
    "    print(f\"finished at {time.strftime('%X')}\")\n",
    "\n",
    "await main()\n"
   ]
  },
  {
   "attachments": {},
   "cell_type": "markdown",
   "metadata": {},
   "source": [
    "### coroutineの場合"
   ]
  },
  {
   "cell_type": "code",
   "execution_count": 7,
   "metadata": {},
   "outputs": [
    {
     "name": "stdout",
     "output_type": "stream",
     "text": [
      "42\n"
     ]
    }
   ],
   "source": [
    "import asyncio\n",
    "\n",
    "\n",
    "async def nested():\n",
    "    return 42\n",
    "\n",
    "\n",
    "async def main():\n",
    "    # Nothing happens if we just call \"nested()\".\n",
    "    # A coroutine object is created but not awaited,\n",
    "    # so it *won't run at all*.\n",
    "    \n",
    "    # nested()\n",
    "\n",
    "    # Let's do it differently now and await it:\n",
    "    print(await nested())  # will print \"42\".\n",
    "\n",
    "await main()\n"
   ]
  },
  {
   "attachments": {},
   "cell_type": "markdown",
   "metadata": {},
   "source": [
    "### taskの場合"
   ]
  },
  {
   "cell_type": "code",
   "execution_count": 6,
   "metadata": {},
   "outputs": [
    {
     "name": "stdout",
     "output_type": "stream",
     "text": [
      "42\n"
     ]
    }
   ],
   "source": [
    "import asyncio\n",
    "\n",
    "\n",
    "async def nested():\n",
    "    return 42\n",
    "\n",
    "\n",
    "async def main():\n",
    "    # Schedule nested() to run soon concurrently\n",
    "    # with \"main()\".\n",
    "    task = asyncio.create_task(nested())\n",
    "\n",
    "    # \"task\" can now be used to cancel \"nested()\", or\n",
    "    # can simply be awaited to wait until it is complete:\n",
    "    print(await task)\n",
    "\n",
    "await main()\n"
   ]
  },
  {
   "attachments": {},
   "cell_type": "markdown",
   "metadata": {},
   "source": [
    "### 複数Taskの実行"
   ]
  },
  {
   "cell_type": "code",
   "execution_count": 1,
   "metadata": {},
   "outputs": [
    {
     "name": "stdout",
     "output_type": "stream",
     "text": [
      "Task A: Compute factorial(2), currently i=2, f=1...\n",
      "Task B: Compute factorial(3), currently i=2, f=1...\n",
      "Task C: Compute factorial(4), currently i=2, f=1...\n",
      "Task A: factorial(2) = 2\n",
      "Task B: Compute factorial(3), currently i=3, f=2...\n",
      "Task C: Compute factorial(4), currently i=3, f=2...\n",
      "Task B: factorial(3) = 6\n",
      "Task C: Compute factorial(4), currently i=4, f=6...\n",
      "Task C: factorial(4) = 24\n",
      "[2, 6, 24]\n"
     ]
    }
   ],
   "source": [
    "import asyncio\n",
    "\n",
    "\n",
    "async def factorial(name, number):\n",
    "    f = 1\n",
    "    for i in range(2, number + 1):\n",
    "        print(f\"Task {name}: Compute factorial({number}), currently i={i}, f={f}...\")\n",
    "        await asyncio.sleep(1)\n",
    "        f *= i\n",
    "    print(f\"Task {name}: factorial({number}) = {f}\")\n",
    "    return f\n",
    "\n",
    "\n",
    "async def main():\n",
    "    # Schedule three calls *concurrently*:\n",
    "    L = await asyncio.gather(\n",
    "        factorial(\"A\", 2),\n",
    "        factorial(\"B\", 3),\n",
    "        factorial(\"C\", 4),\n",
    "    )\n",
    "    print(L)\n",
    "\n",
    "await main()\n"
   ]
  },
  {
   "cell_type": "code",
   "execution_count": 8,
   "metadata": {},
   "outputs": [
    {
     "name": "stdout",
     "output_type": "stream",
     "text": [
      "1686721098.8191576 Task1 A: Compute factorial(3), currently i=2, f=1...\n",
      "1686721099.8199356 Task2 B: factorial(3) = 1\n",
      "1686721101.8206809 Task2 B: factorial(3) = 2\n",
      "1686721104.821054 Task2 B: factorial(3) = 3\n",
      "1686721104.821054 Task1 A: Compute factorial(3), currently i=3, f=2...\n",
      "1686721105.824202 Task1 A: factorial(3) = 6\n",
      "1686721105.824202 [6, 4]:<class 'list'>\n"
     ]
    }
   ],
   "source": [
    "import asyncio\n",
    "import time\n",
    "\n",
    "\n",
    "async def task1(name, number):\n",
    "    f = 1\n",
    "    for i in range(2, number + 1):\n",
    "        current_time = time.time()\n",
    "        print(\n",
    "            f\"{current_time} Task1 {name}: Compute factorial({number}), currently i={i}, f={f}...\")\n",
    "        await asyncio.sleep(1)\n",
    "        f *= i\n",
    "    current_time = time.time()\n",
    "    print(f\"{current_time} Task1 {name}: factorial({number}) = {f}\")\n",
    "    return f\n",
    "\n",
    "\n",
    "async def task2(name, number):\n",
    "    f = 1\n",
    "    for i in range(number):\n",
    "        time.sleep(f)\n",
    "        current_time = time.time()\n",
    "\n",
    "        print(f\"{current_time} Task2 {name}: factorial({number}) = {f}\")\n",
    "        f += 1\n",
    "    return f\n",
    "\n",
    "async def main():\n",
    "    # Schedule three calls *concurrently*:\n",
    "\n",
    "    L = await asyncio.gather(\n",
    "        task1(\"A\", 3),\n",
    "        task2(\"B\", 3),\n",
    "    )\n",
    "    \n",
    "    current_time = time.time()\n",
    "\n",
    "    print(f'{current_time} {L}:{type(L)}')\n",
    "\n",
    "await main()\n"
   ]
  },
  {
   "cell_type": "code",
   "execution_count": 10,
   "metadata": {},
   "outputs": [
    {
     "name": "stdout",
     "output_type": "stream",
     "text": [
      "1686721425.874763 Task1 A: Compute factorial(3), currently i=2, f=1...\n",
      "1686721426.8882246 Task1 A: Compute factorial(3), currently i=3, f=2...\n",
      "1686721426.8882246 Task2 B: factorial(3) = 1\n",
      "1686721427.9027603 Task1 A: factorial(3) = 6\n",
      "1686721428.897211 Task2 B: factorial(3) = 2\n",
      "1686721431.903201 Task2 B: factorial(3) = 3\n",
      "1686721431.904241 [6, 4]:<class 'list'>\n"
     ]
    }
   ],
   "source": [
    "import asyncio\n",
    "import time\n",
    "\n",
    "\n",
    "async def task1(name, number):\n",
    "    f = 1\n",
    "    for i in range(2, number + 1):\n",
    "        current_time = time.time()\n",
    "        print(\n",
    "            f\"{current_time} Task1 {name}: Compute factorial({number}), currently i={i}, f={f}...\")\n",
    "        await asyncio.sleep(1)\n",
    "        f *= i\n",
    "    current_time = time.time()\n",
    "    print(f\"{current_time} Task1 {name}: factorial({number}) = {f}\")\n",
    "    return f\n",
    "\n",
    "\n",
    "async def task2(name, number):\n",
    "    f = 1\n",
    "    for i in range(number):\n",
    "        await asyncio.sleep(f)\n",
    "        current_time = time.time()\n",
    "\n",
    "        print(f\"{current_time} Task2 {name}: factorial({number}) = {f}\")\n",
    "        f += 1\n",
    "    return f\n",
    "\n",
    "async def main():\n",
    "    # Schedule three calls *concurrently*:\n",
    "\n",
    "    L = await asyncio.gather(\n",
    "        task1(\"A\", 3),\n",
    "        task2(\"B\", 3),\n",
    "    )\n",
    "    \n",
    "    current_time = time.time()\n",
    "\n",
    "    print(f'{current_time} {L}:{type(L)}')\n",
    "\n",
    "await main()\n"
   ]
  },
  {
   "attachments": {},
   "cell_type": "markdown",
   "metadata": {},
   "source": [
    "### taskの入れ子"
   ]
  },
  {
   "cell_type": "code",
   "execution_count": 11,
   "metadata": {},
   "outputs": [
    {
     "name": "stdout",
     "output_type": "stream",
     "text": [
      "1686721524.4652464 Task1 A: Compute factorial(3), currently i=2, f=1...\n",
      "1686721526.4812405 Task2 B: factorial(3) = 1\n",
      "1686721528.4917595 Task2 B: factorial(3) = 2\n",
      "1686721531.5050256 Task2 B: factorial(3) = 3\n",
      "1686721531.5050256 Task1 A: Compute factorial(3), currently i=3, f=2...\n",
      "1686721533.5204754 Task2 B: factorial(3) = 1\n",
      "1686721535.5314631 Task2 B: factorial(3) = 2\n",
      "1686721538.5409384 Task2 B: factorial(3) = 3\n",
      "1686721538.5409384 Task1 A: factorial(3) = 6\n",
      "1686721538.5409384 6:<class 'int'>\n"
     ]
    }
   ],
   "source": [
    "import asyncio\n",
    "import time\n",
    "\n",
    "\n",
    "async def task1(name, number):\n",
    "    f = 1\n",
    "    for i in range(2, number + 1):\n",
    "        current_time = time.time()\n",
    "        print(\n",
    "            f\"{current_time} Task1 {name}: Compute factorial({number}), currently i={i}, f={f}...\")\n",
    "        await asyncio.sleep(1)\n",
    "        task_2 = asyncio.create_task(task2('B', 3))\n",
    "        await task_2\n",
    "        f *= i\n",
    "    current_time = time.time()\n",
    "    print(f\"{current_time} Task1 {name}: factorial({number}) = {f}\")\n",
    "    return f\n",
    "\n",
    "\n",
    "async def task2(name, number):\n",
    "    f = 1\n",
    "    for i in range(number):\n",
    "        await asyncio.sleep(f)\n",
    "        current_time = time.time()\n",
    "\n",
    "        print(f\"{current_time} Task2 {name}: factorial({number}) = {f}\")\n",
    "        f += 1\n",
    "    return f\n",
    "\n",
    "async def main():\n",
    "    # Schedule three calls *concurrently*:\n",
    "    task_1 = asyncio.create_task(task1('A', 3))\n",
    "\n",
    "    r = await task_1\n",
    "\n",
    "    current_time = time.time()\n",
    "\n",
    "    print(f'{current_time} {r}:{type(r)}')\n",
    "\n",
    "await main()\n"
   ]
  }
 ],
 "metadata": {
  "kernelspec": {
   "display_name": "venv",
   "language": "python",
   "name": "python3"
  },
  "language_info": {
   "codemirror_mode": {
    "name": "ipython",
    "version": 3
   },
   "file_extension": ".py",
   "mimetype": "text/x-python",
   "name": "python",
   "nbconvert_exporter": "python",
   "pygments_lexer": "ipython3",
   "version": "3.11.1"
  },
  "orig_nbformat": 4
 },
 "nbformat": 4,
 "nbformat_minor": 2
}
