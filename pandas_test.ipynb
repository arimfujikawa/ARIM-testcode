{
 "cells": [
  {
   "attachments": {},
   "cell_type": "markdown",
   "metadata": {},
   "source": [
    "# pandasのテスト"
   ]
  },
  {
   "cell_type": "code",
   "execution_count": 28,
   "metadata": {},
   "outputs": [
    {
     "name": "stdout",
     "output_type": "stream",
     "text": [
      "Empty DataFrame\n",
      "Columns: []\n",
      "Index: []\n",
      "Index([], dtype='object')\n",
      "0\n",
      "True\n",
      "0\n",
      "test\n",
      "1\n",
      "1\n",
      "a\n",
      "2\n",
      "1\n",
      "   test a\n",
      "0   3.0  \n",
      "Index(['test', 'a'], dtype='object')\n",
      "False\n",
      "Empty DataFrame\n",
      "Columns: []\n",
      "Index: [0]\n",
      "Index([], dtype='object')\n"
     ]
    }
   ],
   "source": [
    "import pandas as pd\n",
    "df_mail = pd.DataFrame()\n",
    "print(df_mail)\n",
    "print(df_mail.columns)\n",
    "print(len(df_mail.columns))\n",
    "print(df_mail.empty)\n",
    "print(len(df_mail.index))\n",
    "print('test')\n",
    "df_mail.loc[0, 'test'] = 3\n",
    "print(len(df_mail.columns))\n",
    "print(len(df_mail.index))\n",
    "print('a')\n",
    "\n",
    "df_mail['a'] = ''\n",
    "print(len(df_mail.columns))\n",
    "print(len(df_mail.index))\n",
    "\n",
    "print(df_mail)\n",
    "print(df_mail.columns)\n",
    "print(df_mail.empty)\n",
    "\n",
    "print(df_mail.filter(items=['C']))\n",
    "print(df_mail.filter(items=['C']).columns)\n",
    "\n"
   ]
  },
  {
   "cell_type": "markdown",
   "metadata": {},
   "source": [
    "### 列があるかないかの判断"
   ]
  },
  {
   "cell_type": "code",
   "execution_count": 18,
   "metadata": {},
   "outputs": [
    {
     "name": "stdout",
     "output_type": "stream",
     "text": [
      "   test a\n",
      "0   3.0  \n",
      "Exam\n",
      "0\n",
      "1\n",
      "1\n"
     ]
    }
   ],
   "source": [
    "import pandas as pd\n",
    "df = pd.DataFrame()\n",
    "df.loc[0, 'test'] = 3\n",
    "df['a'] = ''\n",
    "print(df)\n",
    "# 列があるかないかの判断\n",
    "print('Exam')\n",
    "print(len(df.filter(items=['C']).columns))\n",
    "print(len(df.filter(items=['test']).columns))\n",
    "print(len(df.filter(items=['a']).columns))"
   ]
  },
  {
   "cell_type": "markdown",
   "metadata": {},
   "source": [
    "### JSON、dictファイルの階層を反映したデータを出力する\n",
    "- valueはcolumn['value']に出力"
   ]
  },
  {
   "cell_type": "code",
   "execution_count": 21,
   "metadata": {},
   "outputs": [
    {
     "name": "stdout",
     "output_type": "stream",
     "text": [
      "{'a': 123, 'b': 456, 'c': {'d': '789', 'e': '012'}}\n",
      "key,value 0:0 = a, 123\n",
      "value 0:1 = 123\n",
      "key,value 1:0 = b, 456\n",
      "value 1:1 = 456\n",
      "key,value 2:0 = c, {'d': '789', 'e': '012'}\n",
      "key,value 2:1 = d, 789\n",
      "value 2:2 = 789\n",
      "key,value 3:1 = e, 012\n",
      "value 3:2 = 012\n",
      "  value key0 key1\n",
      "0   123    a  NaN\n",
      "1   456    b  NaN\n",
      "2   789    c    d\n",
      "3   012  NaN    e\n"
     ]
    }
   ],
   "source": [
    "import json\n",
    "import pandas as pd\n",
    "\n",
    "def make_table(data, index=0, line=0, dataframe=None):\n",
    "    if isinstance(data, dict):\n",
    "        for key,value in data.items():\n",
    "            print(f'key,value {line}:{index} = {key}, {value}')\n",
    "            if len(dataframe.index) < index:\n",
    "                if len(df.filter(items=[f'key{index}']).columns) == 0:\n",
    "                    dataframe[f'key{index}']\n",
    "            dataframe.loc[line, f'key{index}'] = key         \n",
    "            make_table(value, index+1, line, dataframe)\n",
    "            line += 1\n",
    "    else:\n",
    "        print(f'value {line}:{index} = {data}')\n",
    "        dataframe.loc[line, 'value'] = data\n",
    "    \n",
    "    return \n",
    "\n",
    "        \n",
    "\n",
    "json_file = '''{\n",
    "            \"a\": 123,\n",
    "            \"b\": 456,\n",
    "            \"c\": {\n",
    "                \"d\": \"789\",\n",
    "                \"e\": \"012\"\n",
    "                }\n",
    "            }'''\n",
    "\n",
    "dict_object = json.loads(json_file)\n",
    "print(dict_object)\n",
    "df = pd.DataFrame()\n",
    "df['value'] = ''\n",
    "make_table(dict_object, dataframe=df)\n",
    "print(df)\n",
    "df.to_csv('dataframe.csv', mode='w', sep=',')\n"
   ]
  }
 ],
 "metadata": {
  "kernelspec": {
   "display_name": "venv",
   "language": "python",
   "name": "python3"
  },
  "language_info": {
   "codemirror_mode": {
    "name": "ipython",
    "version": 3
   },
   "file_extension": ".py",
   "mimetype": "text/x-python",
   "name": "python",
   "nbconvert_exporter": "python",
   "pygments_lexer": "ipython3",
   "version": "3.11.1"
  },
  "orig_nbformat": 4
 },
 "nbformat": 4,
 "nbformat_minor": 2
}
