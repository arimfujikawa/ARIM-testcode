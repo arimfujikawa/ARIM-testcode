{
 "cells": [
  {
   "attachments": {},
   "cell_type": "markdown",
   "metadata": {},
   "source": [
    "# pandasのテスト"
   ]
  },
  {
   "cell_type": "code",
   "execution_count": 6,
   "metadata": {},
   "outputs": [
    {
     "name": "stdout",
     "output_type": "stream",
     "text": [
      "Empty DataFrame\n",
      "Columns: []\n",
      "Index: []\n",
      "Index([], dtype='object')\n",
      "True\n",
      "   test\n",
      "0   1.0\n",
      "Index(['test'], dtype='object')\n",
      "False\n"
     ]
    }
   ],
   "source": [
    "import pandas as pd\n",
    "df_mail = pd.DataFrame()\n",
    "print(df_mail)\n",
    "print(df_mail.columns)\n",
    "print(df_mail.empty)\n",
    "df_mail.loc[0, 'test'] = 1\n",
    "print(df_mail)\n",
    "print(df_mail.columns)\n",
    "print(df_mail.empty)\n"
   ]
  }
 ],
 "metadata": {
  "kernelspec": {
   "display_name": "venv",
   "language": "python",
   "name": "python3"
  },
  "language_info": {
   "codemirror_mode": {
    "name": "ipython",
    "version": 3
   },
   "file_extension": ".py",
   "mimetype": "text/x-python",
   "name": "python",
   "nbconvert_exporter": "python",
   "pygments_lexer": "ipython3",
   "version": "3.11.1"
  },
  "orig_nbformat": 4
 },
 "nbformat": 4,
 "nbformat_minor": 2
}
