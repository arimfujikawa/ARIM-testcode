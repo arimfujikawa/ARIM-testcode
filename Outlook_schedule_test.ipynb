{
 "cells": [
  {
   "attachments": {},
   "cell_type": "markdown",
   "metadata": {},
   "source": [
    "# outlookのスケジュール操作"
   ]
  },
  {
   "attachments": {},
   "cell_type": "markdown",
   "metadata": {},
   "source": [
    "- デフォルトのフォルダーを探す\n",
    "https://zw-kakeru.com/tips/wim32com-getdefaultfolder-index/"
   ]
  },
  {
   "cell_type": "code",
   "execution_count": 1,
   "metadata": {},
   "outputs": [
    {
     "name": "stdout",
     "output_type": "stream",
     "text": [
      "3 削除済みアイテム\n",
      "4 送信トレイ\n",
      "5 送信済みアイテム\n",
      "6 受信トレイ\n",
      "9 予定表\n",
      "10 連絡先\n",
      "11 履歴\n",
      "12 メモ\n",
      "13 タスク\n",
      "14 アラーム\n",
      "15 アラーム\n",
      "16 下書き\n",
      "23 迷惑メール\n",
      "25 RSS フィード\n",
      "26 メッセージの追跡処理\n",
      "28 To Do バーのタスク リスト\n",
      "31 クイック操作設定\n",
      "33 Contact Search\n",
      "35 IM Contact List\n",
      "36 クイック連絡先\n",
      "37 元のファイルを変更すると、アイテム内に変更が反映されます。\n",
      "38 元のファイルを変更すると、アイテム内に変更が反映されます。\n",
      "39 アーカイブ\n"
     ]
    }
   ],
   "source": [
    "\n",
    "import win32com.client\n",
    "outlook = win32com.client.Dispatch(\"Outlook.Application\").GetNamespace(\"MAPI\")\n",
    "for i in range(100):\n",
    "\ttry:\n",
    "\t\tbox = outlook.GetDefaultFolder(i)\n",
    "\t\tname = box.Name\n",
    "\t\tprint(i, name)\n",
    "\texcept:\n",
    "\t\tpass"
   ]
  },
  {
   "attachments": {},
   "cell_type": "markdown",
   "metadata": {},
   "source": [
    "- 予定を入れるだけならばGetNamespaceはいらない\n",
    "- CreateItem(1)の要素はMicrosoft Graphから開発=>APIリファレンス=>予定表=>イベント=>イベントにある要素が使用できる\n",
    "https://learn.microsoft.com/ja-jp/graph/api/resources/event?view=graph-rest-1.0"
   ]
  },
  {
   "cell_type": "code",
   "execution_count": 43,
   "metadata": {},
   "outputs": [
    {
     "name": "stdout",
     "output_type": "stream",
     "text": [
      "{'_oleobj_': <PyIDispatch at 0x00000175E65A0910 with obj at 0x00000175E62982D8>, '_username_': 'CreateItem', '_olerepr_': <win32com.client.build.LazyDispatchItem object at 0x00000175E82AA4D0>, '_mapCachedItems_': {}, '_builtMethods_': {'Save': <function Save at 0x00000175E813C5E0>}, '_enum_': None, '_unicode_to_string_': None, '_lazydata_': (<PyITypeInfo at 0x00000175E65A04C0 with obj at 0x00000175E6298858>, <PyITypeComp at 0x00000175E65A0EB0 with obj at 0x00000175E62983D8>)}\n",
      "_oleobj_, <PyIDispatch at 0x00000175E65A0910 with obj at 0x00000175E62982D8>\n",
      "_username_, CreateItem\n",
      "_olerepr_, <win32com.client.build.LazyDispatchItem object at 0x00000175E82AA4D0>\n",
      "_mapCachedItems_, {}\n",
      "_builtMethods_, {'Save': <function Save at 0x00000175E813C5E0>}\n",
      "_enum_, None\n",
      "_unicode_to_string_, None\n",
      "_lazydata_, (<PyITypeInfo at 0x00000175E65A04C0 with obj at 0x00000175E6298858>, <PyITypeComp at 0x00000175E65A0EB0 with obj at 0x00000175E62983D8>)\n",
      "\n"
     ]
    }
   ],
   "source": [
    "import win32com.client\n",
    "from datetime import datetime as Datetime\n",
    "\n",
    "def add_outlook_schedule():\n",
    "    APPOINTMENT_ITEM = 1\n",
    "    outlook = win32com.client.Dispatch(\"Outlook.Application\")\n",
    "    # mapi = outlook.GetNamespace(\"MAPI\")\n",
    "    item = outlook.CreateItem(APPOINTMENT_ITEM)\n",
    "    # item.AllDayEvent = True\n",
    "    # start_date = Datetime( 2023, 4, 13, 10, 30, 0, 0 )\n",
    "    # print(start_date)\n",
    "    \n",
    "    \n",
    "    # NOTE*datetime型をわたすより文字列が安定している\n",
    "    # Datetime.strptimeは日付が変になる\n",
    "    item.Start = '2023-04-13 10:30'\n",
    "    item.End = '2023-04-14 11:00'\n",
    "    \n",
    "    # datetime.datetime.today()は可能\n",
    "    # item.Start = Datetime.today()\n",
    "    # item.Duration = 30\n",
    "\n",
    "    item.Subject = '定例ミーティング'\n",
    "    item.Body = 'いつものミーティング'\n",
    "    # 分類を決定\n",
    "    item.Categories = 'ビームタイム'\n",
    "    \n",
    "    item.ReminderMinutesBeforeStart = 0\n",
    "    item.ReminderSet = True\n",
    "    \n",
    "    item.Save()\n",
    "    \n",
    "   \n",
    "add_outlook_schedule()\n",
    "\n"
   ]
  },
  {
   "cell_type": "code",
   "execution_count": 28,
   "metadata": {},
   "outputs": [
    {
     "name": "stdout",
     "output_type": "stream",
     "text": [
      "2023-04-13 10:30:00\n"
     ]
    }
   ],
   "source": [
    "from datetime import datetime as datetime\n",
    "\n",
    "date_str = '2020 / 5 / 18 16 : 34'\n",
    "# date= Datetime.strptime(date_str , '%Y / %m / %d %H : %M' )\n",
    "date= Datetime.strptime('4/13/2023 10 : 30', '%m/%d/%Y %H : %M')\n",
    "print(date)"
   ]
  }
 ],
 "metadata": {
  "kernelspec": {
   "display_name": "venv",
   "language": "python",
   "name": "python3"
  },
  "language_info": {
   "codemirror_mode": {
    "name": "ipython",
    "version": 3
   },
   "file_extension": ".py",
   "mimetype": "text/x-python",
   "name": "python",
   "nbconvert_exporter": "python",
   "pygments_lexer": "ipython3",
   "version": "3.11.1"
  },
  "orig_nbformat": 4
 },
 "nbformat": 4,
 "nbformat_minor": 2
}
