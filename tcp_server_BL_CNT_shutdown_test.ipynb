{
 "cells": [
  {
   "cell_type": "code",
   "execution_count": 23,
   "metadata": {},
   "outputs": [
    {
     "ename": "KeyboardInterrupt",
     "evalue": "",
     "output_type": "error",
     "traceback": [
      "\u001b[1;31m---------------------------------------------------------------------------\u001b[0m",
      "\u001b[1;31mKeyboardInterrupt\u001b[0m                         Traceback (most recent call last)",
      "Cell \u001b[1;32mIn [23], line 75\u001b[0m\n\u001b[0;32m     71\u001b[0m     \u001b[39mwith\u001b[39;00m MyTCPServer((ADDR, PORT), MyTCPHandler) \u001b[39mas\u001b[39;00m tcps:\n\u001b[0;32m     72\u001b[0m         \u001b[39m# サーバとしてクライアントのリクエストを待ち続ける\u001b[39;00m\n\u001b[0;32m     73\u001b[0m         tcps\u001b[39m.\u001b[39mserve_forever()\n\u001b[1;32m---> 75\u001b[0m start_server()\n",
      "Cell \u001b[1;32mIn [23], line 73\u001b[0m, in \u001b[0;36mstart_server\u001b[1;34m()\u001b[0m\n\u001b[0;32m     70\u001b[0m \u001b[39m\"\"\"サーバ起動.\"\"\"\u001b[39;00m\n\u001b[0;32m     71\u001b[0m \u001b[39mwith\u001b[39;00m MyTCPServer((ADDR, PORT), MyTCPHandler) \u001b[39mas\u001b[39;00m tcps:\n\u001b[0;32m     72\u001b[0m     \u001b[39m# サーバとしてクライアントのリクエストを待ち続ける\u001b[39;00m\n\u001b[1;32m---> 73\u001b[0m     tcps\u001b[39m.\u001b[39;49mserve_forever()\n",
      "File \u001b[1;32mc:\\Users\\admin\\AppData\\Local\\Programs\\Python\\Python310\\lib\\socketserver.py:232\u001b[0m, in \u001b[0;36mBaseServer.serve_forever\u001b[1;34m(self, poll_interval)\u001b[0m\n\u001b[0;32m    229\u001b[0m selector\u001b[39m.\u001b[39mregister(\u001b[39mself\u001b[39m, selectors\u001b[39m.\u001b[39mEVENT_READ)\n\u001b[0;32m    231\u001b[0m \u001b[39mwhile\u001b[39;00m \u001b[39mnot\u001b[39;00m \u001b[39mself\u001b[39m\u001b[39m.\u001b[39m__shutdown_request:\n\u001b[1;32m--> 232\u001b[0m     ready \u001b[39m=\u001b[39m selector\u001b[39m.\u001b[39;49mselect(poll_interval)\n\u001b[0;32m    233\u001b[0m     \u001b[39m# bpo-35017: shutdown() called during select(), exit immediately.\u001b[39;00m\n\u001b[0;32m    234\u001b[0m     \u001b[39mif\u001b[39;00m \u001b[39mself\u001b[39m\u001b[39m.\u001b[39m__shutdown_request:\n",
      "File \u001b[1;32mc:\\Users\\admin\\AppData\\Local\\Programs\\Python\\Python310\\lib\\selectors.py:324\u001b[0m, in \u001b[0;36mSelectSelector.select\u001b[1;34m(self, timeout)\u001b[0m\n\u001b[0;32m    322\u001b[0m ready \u001b[39m=\u001b[39m []\n\u001b[0;32m    323\u001b[0m \u001b[39mtry\u001b[39;00m:\n\u001b[1;32m--> 324\u001b[0m     r, w, _ \u001b[39m=\u001b[39m \u001b[39mself\u001b[39;49m\u001b[39m.\u001b[39;49m_select(\u001b[39mself\u001b[39;49m\u001b[39m.\u001b[39;49m_readers, \u001b[39mself\u001b[39;49m\u001b[39m.\u001b[39;49m_writers, [], timeout)\n\u001b[0;32m    325\u001b[0m \u001b[39mexcept\u001b[39;00m \u001b[39mInterruptedError\u001b[39;00m:\n\u001b[0;32m    326\u001b[0m     \u001b[39mreturn\u001b[39;00m ready\n",
      "File \u001b[1;32mc:\\Users\\admin\\AppData\\Local\\Programs\\Python\\Python310\\lib\\selectors.py:315\u001b[0m, in \u001b[0;36mSelectSelector._select\u001b[1;34m(self, r, w, _, timeout)\u001b[0m\n\u001b[0;32m    314\u001b[0m \u001b[39mdef\u001b[39;00m \u001b[39m_select\u001b[39m(\u001b[39mself\u001b[39m, r, w, _, timeout\u001b[39m=\u001b[39m\u001b[39mNone\u001b[39;00m):\n\u001b[1;32m--> 315\u001b[0m     r, w, x \u001b[39m=\u001b[39m select\u001b[39m.\u001b[39;49mselect(r, w, w, timeout)\n\u001b[0;32m    316\u001b[0m     \u001b[39mreturn\u001b[39;00m r, w \u001b[39m+\u001b[39m x, []\n",
      "\u001b[1;31mKeyboardInterrupt\u001b[0m: "
     ]
    }
   ],
   "source": [
    "import socketserver\n",
    "import socket\n",
    "import threading\n",
    "import time\n",
    "\n",
    "from struct import unpack\n",
    "\n",
    "\"\"\"\n",
    "今回サーバ↔︎クライアント間で\n",
    "やりとりするデータの構造\n",
    "\n",
    "+-----------------------------+\n",
    "| ヘッダー                            |\n",
    "+-----------------------------+\n",
    "| 内容: データサイズ            |\n",
    "| サイズ: 4byte(固定)        |\n",
    "+-----------------------------+\n",
    "+-----------------------------+\n",
    "| データ                               |\n",
    "+-----------------------------+\n",
    "| 内容: 実際のデータ           |\n",
    "| サイズ: 上記指定のサイズ |\n",
    "+-----------------------------+\n",
    "\"\"\"\n",
    "# ヘッダサイズ (固定長)\n",
    "HEADER_SIZE = 4\n",
    "\n",
    "# サーバのアドレスとポート\n",
    "ADDR = \"133.53.174.44\"\n",
    "PORT = 50550\n",
    "MESSAGE = \"<reply>2023/01/20 1116:1000.2023/01/20 1116:2000.ID_mm.rejected</reply>\"\n",
    "SHUTDOWN_WORDS = ('stop', 'kill', 'quit', 'shutdown')\n",
    "\n",
    "class MyTCPHandler(socketserver.BaseRequestHandler):\n",
    "    \"\"\"サーバに届いたリクエストを処理するクラス.\"\"\"\n",
    "\n",
    "    def handle(self) -> None:\n",
    "        \"\"\"\n",
    "        クライアントからのリクエストを処理する関数.\n",
    "\n",
    "        クライアントからのリクエストを受信する毎に実行される\n",
    "        \"\"\"\n",
    "        \n",
    "        client = self.request\n",
    "        # データ本体の受信\n",
    "\n",
    "        _data = client.recv(4096).decode()\n",
    "        print(_data)\n",
    "        message = MESSAGE\n",
    "        # シャットダウンコマンドの受信確認\n",
    "        if _data.lower() in SHUTDOWN_WORDS:\n",
    "            print('Server is going down')\n",
    "            self.server.shutdown()\n",
    "        elif _data == 'mv':\n",
    "            for i in range(5):\n",
    "                time.sleep(1)\n",
    "                message = str(i)\n",
    "        # データ送信\n",
    "        print(message)\n",
    "        client.sendall(bytes(message, 'utf-8'))\n",
    "\n",
    "# ソケットのアドレスの再利用\n",
    "class MyTCPServer(socketserver.ThreadingTCPServer, object):\n",
    "    def server_bind(self) -> None:\n",
    "#        self.socket.setsockopt(socket.SOL_SOCKET, socket.SO_REUSEADDR, 1)\n",
    "        self.allow_reuse_address = True\n",
    "        self.socket.bind(self.server_address)          \n",
    "\n",
    "def start_server() -> None:\n",
    "    \"\"\"サーバ起動.\"\"\"\n",
    "    with MyTCPServer((ADDR, PORT), MyTCPHandler) as tcps:\n",
    "        # サーバとしてクライアントのリクエストを待ち続ける\n",
    "        tcps.serve_forever()\n",
    "        \n",
    "start_server()"
   ]
  },
  {
   "cell_type": "code",
   "execution_count": 36,
   "metadata": {},
   "outputs": [
    {
     "name": "stdout",
     "output_type": "stream",
     "text": [
      "Server loop running in thread: Thread-48 (serve_forever)\n"
     ]
    },
    {
     "name": "stderr",
     "output_type": "stream",
     "text": [
      "Exception in thread Thread-48 (serve_forever):\n",
      "Traceback (most recent call last):\n",
      "  File \"c:\\Users\\admin\\AppData\\Local\\Programs\\Python\\Python310\\lib\\threading.py\", line 1016, in _bootstrap_inner\n"
     ]
    },
    {
     "ename": "ConnectionRefusedError",
     "evalue": "[WinError 10061] 対象のコンピューターによって拒否されたため、接続できませんでした。",
     "output_type": "error",
     "traceback": [
      "\u001b[1;31m---------------------------------------------------------------------------\u001b[0m",
      "\u001b[1;31mConnectionRefusedError\u001b[0m                    Traceback (most recent call last)",
      "Cell \u001b[1;32mIn [36], line 44\u001b[0m\n\u001b[0;32m     41\u001b[0m     server_thread\u001b[39m.\u001b[39mstart()\n\u001b[0;32m     42\u001b[0m     \u001b[39mprint\u001b[39m(\u001b[39m\"\u001b[39m\u001b[39mServer loop running in thread:\u001b[39m\u001b[39m\"\u001b[39m, server_thread\u001b[39m.\u001b[39mname)\n\u001b[1;32m---> 44\u001b[0m client(HOST, PORT, \u001b[39m\"\u001b[39;49m\u001b[39mHello World 1\u001b[39;49m\u001b[39m\"\u001b[39;49m)\n",
      "Cell \u001b[1;32mIn [36], line 23\u001b[0m, in \u001b[0;36mclient\u001b[1;34m(ip, port, message)\u001b[0m\n\u001b[0;32m     21\u001b[0m \u001b[39mdef\u001b[39;00m \u001b[39mclient\u001b[39m(ip, port, message):\n\u001b[0;32m     22\u001b[0m     \u001b[39mwith\u001b[39;00m socket\u001b[39m.\u001b[39msocket(socket\u001b[39m.\u001b[39mAF_INET, socket\u001b[39m.\u001b[39mSOCK_STREAM) \u001b[39mas\u001b[39;00m sock:\n\u001b[1;32m---> 23\u001b[0m         sock\u001b[39m.\u001b[39;49mconnect((ip, port))\n\u001b[0;32m     24\u001b[0m         sock\u001b[39m.\u001b[39msendall(\u001b[39mbytes\u001b[39m(message, \u001b[39m'\u001b[39m\u001b[39mascii\u001b[39m\u001b[39m'\u001b[39m))\n\u001b[0;32m     25\u001b[0m         response \u001b[39m=\u001b[39m \u001b[39mstr\u001b[39m(sock\u001b[39m.\u001b[39mrecv(\u001b[39m1024\u001b[39m), \u001b[39m'\u001b[39m\u001b[39mascii\u001b[39m\u001b[39m'\u001b[39m)\n",
      "\u001b[1;31mConnectionRefusedError\u001b[0m: [WinError 10061] 対象のコンピューターによって拒否されたため、接続できませんでした。"
     ]
    },
    {
     "name": "stderr",
     "output_type": "stream",
     "text": [
      "    self.run()\n",
      "  File \"c:\\Users\\admin\\AppData\\Local\\Programs\\Python\\Python310\\lib\\threading.py\", line 953, in run\n",
      "    self._target(*self._args, **self._kwargs)\n",
      "  File \"c:\\Users\\admin\\AppData\\Local\\Programs\\Python\\Python310\\lib\\socketserver.py\", line 232, in serve_forever\n",
      "    ready = selector.select(poll_interval)\n",
      "  File \"c:\\Users\\admin\\AppData\\Local\\Programs\\Python\\Python310\\lib\\selectors.py\", line 324, in select\n",
      "    r, w, _ = self._select(self._readers, self._writers, [], timeout)\n",
      "  File \"c:\\Users\\admin\\AppData\\Local\\Programs\\Python\\Python310\\lib\\selectors.py\", line 315, in _select\n",
      "    r, w, x = select.select(r, w, w, timeout)\n",
      "OSError: [WinError 10038] ソケット以外のものに対して操作を実行しようとしました。\n"
     ]
    }
   ],
   "source": [
    "import socket\n",
    "import threading\n",
    "import socketserver\n",
    "\n",
    "class ThreadedTCPRequestHandler(socketserver.BaseRequestHandler):\n",
    "\n",
    "    def handle(self):\n",
    "        data = str(self.request.recv(1024), 'ascii')\n",
    "        cur_thread = threading.current_thread()\n",
    "        response = bytes(\"{}: {}\".format(cur_thread.name, data), 'ascii')\n",
    "        self.request.sendall(response)\n",
    "        self.server.shutdown()\n",
    "\n",
    "class ThreadedTCPServer(socketserver.ThreadingMixIn, socketserver.TCPServer):\n",
    "    def server_bind(self) -> None:\n",
    "#        self.socket.setsockopt(socket.SOL_SOCKET, socket.SO_REUSEADDR, 1)\n",
    "        self.socket.settimeout(3)\n",
    "        self.allow_reuse_address = True\n",
    "        self.socket.bind(self.server_address)   \n",
    "\n",
    "def client(ip, port, message):\n",
    "    with socket.socket(socket.AF_INET, socket.SOCK_STREAM) as sock:\n",
    "        sock.connect((ip, port))\n",
    "        sock.sendall(bytes(message, 'ascii'))\n",
    "        response = str(sock.recv(1024), 'ascii')\n",
    "        print(\"Received: {}\".format(response))\n",
    "\n",
    "# if __name__ == \"__main__\":\n",
    "    # Port 0 means to select an arbitrary unused port\n",
    "HOST, PORT = \"133.53.174.44\", 50000\n",
    "\n",
    "server = ThreadedTCPServer((HOST, PORT), ThreadedTCPRequestHandler)\n",
    "with server:\n",
    "    ip, port = server.server_address\n",
    "\n",
    "        # Start a thread with the server -- that thread will then start one\n",
    "        # more thread for each request\n",
    "    server_thread = threading.Thread(target=server.serve_forever)\n",
    "        # Exit the server thread when the main thread terminates\n",
    "    server_thread.daemon = True\n",
    "    server_thread.start()\n",
    "    print(\"Server loop running in thread:\", server_thread.name)\n",
    "\n",
    "client(HOST, PORT, \"Hello World 1\")\n",
    " #       client(ip, port, \"Hello World 2\")\n",
    " #      client(ip, port, \"Hello World 3\")\n",
    "\n",
    " #       server.shutdown()"
   ]
  }
 ],
 "metadata": {
  "kernelspec": {
   "display_name": "Python 3",
   "language": "python",
   "name": "python3"
  },
  "language_info": {
   "codemirror_mode": {
    "name": "ipython",
    "version": 3
   },
   "file_extension": ".py",
   "mimetype": "text/x-python",
   "name": "python",
   "nbconvert_exporter": "python",
   "pygments_lexer": "ipython3",
   "version": "3.10.7 (tags/v3.10.7:6cc6b13, Sep  5 2022, 14:08:36) [MSC v.1933 64 bit (AMD64)]"
  },
  "orig_nbformat": 4,
  "vscode": {
   "interpreter": {
    "hash": "beedbe2faf2f7048d727558d0bc3221e7eba2a0b921cac4d4771b2feb8f74b30"
   }
  }
 },
 "nbformat": 4,
 "nbformat_minor": 2
}
