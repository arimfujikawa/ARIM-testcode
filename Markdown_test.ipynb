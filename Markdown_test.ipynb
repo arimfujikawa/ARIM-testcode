{
 "cells": [
  {
   "cell_type": "markdown",
   "metadata": {},
   "source": [
    "# **Markdownの例**"
   ]
  },
  {
   "attachments": {},
   "cell_type": "markdown",
   "metadata": {},
   "source": [
    "\n",
    "### **参考**\n",
    "- [VS Codeを利用したMarkdonwの基礎とフォーマット](https://tracpath.com/works/development/markdown_basics/)\n",
    "- [Markdownでリンクを作る方法](https://www.sejuku.net/blog/77385)\n",
    "- [Markdown記法](https://qiita.com/Qiita/items/c686397e4a0f4f11683d)"
   ]
  },
  {
   "cell_type": "markdown",
   "metadata": {},
   "source": [
    "### リンクは、以下のように分離して表現することも可能    "
   ]
  },
  {
   "cell_type": "markdown",
   "metadata": {},
   "source": [
    "\n",
    "\n",
    "\"ググるときは、 [Google] [1] で、 [Yahoo!] [2] では路線探索、 Windows開発は、[MSDN] [3]で調べたりします。\"\n",
    "\n",
    "[1]: http://google.com/        \"Google\"\n",
    "[2]: http://www.yahoo.co.jp/  \"Yahoo!\"\n",
    "[3]: http://msdn.microsoft.com/ja-jp/    \"MSDN\""
   ]
  },
  {
   "attachments": {},
   "cell_type": "markdown",
   "metadata": {},
   "source": [
    "### **表記例**"
   ]
  },
  {
   "attachments": {},
   "cell_type": "markdown",
   "metadata": {},
   "source": [
    "**<font color=\"red\">赤太字のテスト</font>**  \n",
    "**<font color=\"blue\">青太字のテスト</font>**  \n",
    "**<font color=\"green\">緑太字のテスト</font>**  "
   ]
  },
  {
   "attachments": {},
   "cell_type": "markdown",
   "metadata": {},
   "source": [
    "- 打ち消し線を使うには ~~ で囲みます。 ~~打ち消し~~\n"
   ]
  },
  {
   "attachments": {},
   "cell_type": "markdown",
   "metadata": {},
   "source": [
    "normal *italic*  \n",
    "normal _italic_  \n",
    "normal **bold**  \n",
    "normal __bold__  \n",
    "normal ***bold***  \n",
    "normal ___italic___  "
   ]
  },
  {
   "attachments": {},
   "cell_type": "markdown",
   "metadata": {},
   "source": [
    "1. 番号付きリスト  \n",
    "    1. 番号付きリスト(tab)  \n",
    "  1. 番号付きリスト(スペース二つ)  \n",
    "1. 番号付きリスト  "
   ]
  },
  {
   "attachments": {},
   "cell_type": "markdown",
   "metadata": {},
   "source": [
    "- リスト(-)\n",
    "    - ネスト(tab)\n",
    "+ リスト(+)\n",
    "  - ネスト(スペース二つ)\n",
    "* リスト1(*)"
   ]
  },
  {
   "attachments": {},
   "cell_type": "markdown",
   "metadata": {},
   "source": [
    "| 左寄せ(デフォルト) |中央揃え| 右寄せ |\n",
    "| ------------------ | :----------------------------: | -------------------------: |\n",
    "| その１ | コロンでラインを挟むと中央揃え | 右側にコロンを書くと右寄せ |\n",
    "| その２ | 実践編 | 実践編 |\n",
    "| その３ | 発展編 | 発展編 |"
   ]
  },
  {
   "attachments": {},
   "cell_type": "markdown",
   "metadata": {},
   "source": [
    "コードを記載します\n",
    "```c\n",
    "int val;\n",
    "value = 100;\n",
    "printf( \"%d\\n\", val );\n",
    "```\n",
    "この値は`strValue`という変数に格納されています"
   ]
  },
  {
   "attachments": {},
   "cell_type": "markdown",
   "metadata": {},
   "source": [
    "> 引用しました\n",
    ">> 引用の引用です\n",
    ">>> さらに引用"
   ]
  },
  {
   "attachments": {},
   "cell_type": "markdown",
   "metadata": {},
   "source": [
    "改行  \n",
    "しました"
   ]
  },
  {
   "attachments": {},
   "cell_type": "markdown",
   "metadata": {},
   "source": [
    "セクション１\n",
    "***\n",
    "セクション２\n",
    "___\n",
    "セクション３"
   ]
  },
  {
   "cell_type": "markdown",
   "metadata": {},
   "source": [
    "### **画像リンク**"
   ]
  },
  {
   "cell_type": "markdown",
   "metadata": {},
   "source": [
    "![Googleロゴ](http://www.google.com/intl/en_ALL/images/srpr/logo1w.png)."
   ]
  },
  {
   "attachments": {},
   "cell_type": "markdown",
   "metadata": {},
   "source": [
    "### **絵文字**\n",
    "https://www.webfx.com/tools/emoji-cheat-sheet/"
   ]
  },
  {
   "cell_type": "markdown",
   "metadata": {},
   "source": [
    "✅  \n",
    "❌  \n",
    "⭕  \n",
    "👍  \n",
    "☠  \n",
    "💀  \n",
    "㊙  \n",
    "❓  \n",
    "❗  "
   ]
  },
  {
   "cell_type": "markdown",
   "metadata": {},
   "source": [
    "### **エスケープ文字**"
   ]
  },
  {
   "attachments": {},
   "cell_type": "markdown",
   "metadata": {},
   "source": [
    "\\\\   バックスラッシュ    \n",
    "\\`   backtick    \n",
    "\\*   アスタリスク   \n",
    "\\_   アンダースコア  \n",
    "\\{\\}  大括弧  \n",
    "\\[\\]  中括弧   \n",
    "\\(\\)  小括弧   \n",
    "\\#   シャープ   \n",
    "\\+   プラス   \n",
    "\\-   マイナス（ハイフン）  \n",
    "\\.   ドット  \n",
    "\\!   エクスクラメーション"
   ]
  },
  {
   "cell_type": "markdown",
   "metadata": {},
   "source": [
    "### **記号**"
   ]
  },
  {
   "cell_type": "markdown",
   "metadata": {},
   "source": [
    "&copy;  コピーライト   \n",
    "&reg;\t登録商標   \n",
    "&euro;\tユーロ   \n",
    "&trade;\tトレードマーク   \n",
    "&hearts;\tハート記号   \n",
    "&larr;\t左矢印   \n",
    "&rarr;\t右矢印   \n",
    "&uarr;\t上矢印   \n",
    "&darr;\t下矢印  \n",
    "&harr;\t両矢印 "
   ]
  },
  {
   "cell_type": "markdown",
   "metadata": {},
   "source": []
  }
 ],
 "metadata": {
  "kernelspec": {
   "display_name": "venv",
   "language": "python",
   "name": "python3"
  },
  "language_info": {
   "codemirror_mode": {
    "name": "ipython",
    "version": 3
   },
   "file_extension": ".py",
   "mimetype": "text/x-python",
   "name": "python",
   "nbconvert_exporter": "python",
   "pygments_lexer": "ipython3",
   "version": "3.11.1"
  },
  "orig_nbformat": 4
 },
 "nbformat": 4,
 "nbformat_minor": 2
}
