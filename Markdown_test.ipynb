{
 "cells": [
  {
   "attachments": {},
   "cell_type": "markdown",
   "metadata": {},
   "source": [
    "# Markdownの例\n",
    "### 参考\n",
    "- [VS Codeを利用したMarkdonwの基礎とフォーマット](https://tracpath.com/works/development/markdown_basics/)\n",
    "- [Markdownでリンクを作る方法](https://www.sejuku.net/blog/77385)\n",
    "- [Markdown記法](https://qiita.com/Qiita/items/c686397e4a0f4f11683d)"
   ]
  },
  {
   "attachments": {},
   "cell_type": "markdown",
   "metadata": {},
   "source": [
    "### 表記例"
   ]
  },
  {
   "attachments": {},
   "cell_type": "markdown",
   "metadata": {},
   "source": [
    "**<font color=\"red\">赤太字のテスト</font>**  \n",
    "**<font color=\"blue\">青太字のテスト</font>**  \n",
    "**<font color=\"green\">緑太字のテスト</font>**  "
   ]
  },
  {
   "attachments": {},
   "cell_type": "markdown",
   "metadata": {},
   "source": [
    "- 打ち消し線を使うには ~~ で囲みます。 ~~打ち消し~~\n"
   ]
  },
  {
   "attachments": {},
   "cell_type": "markdown",
   "metadata": {},
   "source": [
    "normal *italic*  \n",
    "normal _italic_  \n",
    "normal **bold**  \n",
    "normal __bold__  \n",
    "normal ***bold***  \n",
    "normal ___italic___  "
   ]
  },
  {
   "attachments": {},
   "cell_type": "markdown",
   "metadata": {},
   "source": [
    "1. 番号付きリスト  \n",
    "    1. 番号付きリスト(tab)  \n",
    "  1. 番号付きリスト(スペース二つ)  \n",
    "1. 番号付きリスト  "
   ]
  },
  {
   "attachments": {},
   "cell_type": "markdown",
   "metadata": {},
   "source": [
    "- リスト(-)\n",
    "    - ネスト(tab)\n",
    "+ リスト(+)\n",
    "  - ネスト(スペース二つ)\n",
    "* リスト1(*)"
   ]
  },
  {
   "attachments": {},
   "cell_type": "markdown",
   "metadata": {},
   "source": [
    "## 帰宅後\n",
    "- [ ] うがい\n",
    "- [x] 手洗い"
   ]
  },
  {
   "attachments": {},
   "cell_type": "markdown",
   "metadata": {},
   "source": [
    "| 左寄せ(デフォルト) |中央揃え| 右寄せ |\n",
    "| ------------------ | :----------------------------: | -------------------------: |\n",
    "| その１ | コロンでラインを挟むと中央揃え | 右側にコロンを書くと右寄せ |\n",
    "| その２ | 実践編 | 実践編 |\n",
    "| その３ | 発展編 | 発展編 |"
   ]
  },
  {
   "attachments": {},
   "cell_type": "markdown",
   "metadata": {},
   "source": [
    "コードを記載します\n",
    "```c\n",
    "int val;\n",
    "value = 100;\n",
    "printf( \"%d\\n\", val );\n",
    "```\n",
    "この値は`strValue`という変数に格納されています"
   ]
  },
  {
   "attachments": {},
   "cell_type": "markdown",
   "metadata": {},
   "source": []
  },
  {
   "attachments": {},
   "cell_type": "markdown",
   "metadata": {},
   "source": [
    "> 引用しました\n",
    ">> 引用の引用です\n",
    ">>> さらに引用"
   ]
  },
  {
   "attachments": {},
   "cell_type": "markdown",
   "metadata": {},
   "source": [
    "改行  \n",
    "しました"
   ]
  },
  {
   "attachments": {},
   "cell_type": "markdown",
   "metadata": {},
   "source": [
    "セクション１\n",
    "***\n",
    "セクション２\n",
    "___\n",
    "セクション３"
   ]
  },
  {
   "attachments": {},
   "cell_type": "markdown",
   "metadata": {},
   "source": []
  },
  {
   "attachments": {},
   "cell_type": "markdown",
   "metadata": {},
   "source": []
  }
 ],
 "metadata": {
  "language_info": {
   "name": "python"
  },
  "orig_nbformat": 4
 },
 "nbformat": 4,
 "nbformat_minor": 2
}
