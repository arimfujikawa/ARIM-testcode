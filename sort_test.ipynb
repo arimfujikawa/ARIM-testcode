{
 "cells": [
  {
   "cell_type": "markdown",
   "metadata": {},
   "source": [
    "# ソートのいろいろ"
   ]
  },
  {
   "cell_type": "markdown",
   "metadata": {},
   "source": [
    "### 3次元リストでのソート"
   ]
  },
  {
   "cell_type": "code",
   "execution_count": 2,
   "metadata": {},
   "outputs": [
    {
     "name": "stdout",
     "output_type": "stream",
     "text": [
      "[1 0 2]\n",
      "[['cat' '1']\n",
      " ['dog' '2']\n",
      " ['ham' '4']]\n",
      "[[['dog', 2], ['cat', 1], ['ham', 4]], [['hose', 2], ['cow', 3], ['sheep', 1]]]\n"
     ]
    }
   ],
   "source": [
    "import numpy as np\n",
    "samples = [[['dog', 2], ['cat', 1], ['ham', 4]], [['hose', 2], ['cow', 3], ['sheep', 1]]]\n",
    "samples_array = np.array(samples)\n",
    "# samples_array[0][][1]でソートしたsamples_array[0][]のインデックスを取得\n",
    "indexs = np.argsort(samples_array[0, :, 1])\n",
    "print(indexs)\n",
    "# 得られたindex\n",
    "print(samples_array[0][indexs])\n",
    "\n"
   ]
  },
  {
   "cell_type": "code",
   "execution_count": 6,
   "metadata": {},
   "outputs": [
    {
     "name": "stdout",
     "output_type": "stream",
     "text": [
      "[2 1 0]\n",
      "[['morning' '2023-10-03 06:00:00']\n",
      " ['noon' '2023-10-03 12:00:00']\n",
      " ['night' '2023-10-03 18:00:00']]\n"
     ]
    }
   ],
   "source": [
    "import numpy as np\n",
    "samples = [[['night', '2023-10-03 18:00:00'], ['noon', '2023-10-03 12:00:00'],\n",
    "            ['morning', '2023-10-03 06:00:00']], [['teatime', '2023-10-03 15:00:00'], ['take_bath', '2023-10-03 21:00:00'], ['go_to_work', '2023-10-03 7:00:00']]]\n",
    "samples_array = np.array(samples)\n",
    "# samples_array[0][][1]でソートしたsamples_array[0][]のインデックスを取得\n",
    "indexs = np.argsort(samples_array[0, :, 1])\n",
    "print(indexs)\n",
    "# 得られたindex\n",
    "print(samples_array[0][indexs])\n"
   ]
  },
  {
   "cell_type": "code",
   "execution_count": 5,
   "metadata": {},
   "outputs": [
    {
     "name": "stdout",
     "output_type": "stream",
     "text": [
      "[2 1 0]\n",
      "[['morning' '2023-10-03 06:00:00']\n",
      " ['noon' '2023-10-03 12:00:00']\n",
      " ['night' '2023-10-03 18:00:00']]\n",
      "[2 0 1]\n",
      "[['go_to_work' '2023-10-03 07:00:00']\n",
      " ['teatime' '2023-10-03 15:00:00']\n",
      " ['play_game' '2023-10-04 01:00:00']]\n",
      "[[['morning' '2023-10-03 06:00:00']\n",
      "  ['noon' '2023-10-03 12:00:00']\n",
      "  ['night' '2023-10-03 18:00:00']]\n",
      "\n",
      " [['go_to_work' '2023-10-03 07:00:00']\n",
      "  ['teatime' '2023-10-03 15:00:00']\n",
      "  ['play_game' '2023-10-04 01:00:00']]]\n"
     ]
    }
   ],
   "source": [
    "import numpy as np\n",
    "samples = [[['night', '2023-10-03 18:00:00'], ['noon', '2023-10-03 12:00:00'],\n",
    "            ['morning', '2023-10-03 06:00:00']], [['teatime', '2023-10-03 15:00:00'], ['play_game', '2023-10-04 01:00:00'], ['go_to_work', '2023-10-03 07:00:00']]]\n",
    "samples_array = np.array(samples)\n",
    "copied_array = np.copy(samples_array)\n",
    "sorted_array = np.zeros_like(copied_array)\n",
    "# samples_array[0][][1]でソートしたsamples_array[0][]のインデックスを取得\n",
    "for count, sample in enumerate(samples_array):\n",
    "    indexs = np.argsort(sample[:, 1])\n",
    "    # 得られたindex\n",
    "    print(indexs)\n",
    "    print(sample[indexs])\n",
    "    sorted_array[count] = sample[indexs]\n",
    "\n",
    "print(sorted_array)\n",
    "\n"
   ]
  },
  {
   "cell_type": "markdown",
   "metadata": {},
   "source": [
    "- datetimeでもソートが可能"
   ]
  },
  {
   "cell_type": "code",
   "execution_count": 3,
   "metadata": {},
   "outputs": [
    {
     "name": "stdout",
     "output_type": "stream",
     "text": [
      "[2 0 1]:<class 'numpy.ndarray'>\n",
      "[['go_to_work' datetime.datetime(2023, 10, 3, 7, 0)]\n",
      " ['teatime' datetime.datetime(2023, 10, 3, 15, 0)]\n",
      " ['play_game' datetime.datetime(2023, 10, 4, 1, 0)]]\n"
     ]
    }
   ],
   "source": [
    "import numpy as np\n",
    "from datetime import datetime as dt\n",
    "dt_pattern = '%Y-%m-%d %H:%M:%S'\n",
    "dt.strptime('2023-10-03 18:00:00', dt_pattern)\n",
    "samples = [[['night', dt.strptime('2023-10-03 18:00:00', dt_pattern)], ['noon', dt.strptime('2023-10-03 12:00:00', dt_pattern)],\n",
    "            ['morning', dt.strptime('2023-10-03 06:00:00', dt_pattern)]], [['teatime', dt.strptime('2023-10-03 15:00:00', dt_pattern)], \n",
    "            ['play_game', dt.strptime('2023-10-04 01:00:00', dt_pattern)], ['go_to_work', dt.strptime('2023-10-03 07:00:00', dt_pattern)]]]\n",
    "samples_array = np.array(samples)\n",
    "# samples_array[0][][1]でソートしたsamples_array[0][]のインデックスを取得\n",
    "indexs = np.argsort(samples_array[1, :, 1])\n",
    "print(f'{indexs}:{type(indexs)}')\n",
    "# 得られたindexから\n",
    "print(samples_array[1][indexs])\n",
    "\n"
   ]
  }
 ],
 "metadata": {
  "kernelspec": {
   "display_name": "venv",
   "language": "python",
   "name": "python3"
  },
  "language_info": {
   "codemirror_mode": {
    "name": "ipython",
    "version": 3
   },
   "file_extension": ".py",
   "mimetype": "text/x-python",
   "name": "python",
   "nbconvert_exporter": "python",
   "pygments_lexer": "ipython3",
   "version": "3.11.1"
  },
  "orig_nbformat": 4
 },
 "nbformat": 4,
 "nbformat_minor": 2
}
