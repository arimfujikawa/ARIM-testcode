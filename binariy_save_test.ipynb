{
 "cells": [
  {
   "cell_type": "markdown",
   "metadata": {},
   "source": [
    "# バイナリファイルでセーブ"
   ]
  },
  {
   "cell_type": "markdown",
   "metadata": {},
   "source": [
    "### numpyでバイナリ化\n",
    "- numpy.savezはヘッダーが保存できないようだ\n",
    "    - ヘッダーをsavez用の辞書のkeyにする"
   ]
  },
  {
   "cell_type": "code",
   "execution_count": 2,
   "metadata": {},
   "outputs": [
    {
     "name": "stdout",
     "output_type": "stream",
     "text": [
      "data =\n",
      "{'header 0\\n1.1998195168723877': array([[0.08064936, 0.90987882],\n",
      "       [0.04958796, 0.15970337]]), 'header 1\\n1.6208486961624127': array([[0.64222819, 0.18349195],\n",
      "       [0.70879206, 0.08633648]]), 'header 2\\n1.3010616033972413': array([[0.27973157, 0.55322207],\n",
      "       [0.0269196 , 0.44118837]])}\n",
      "<class 'numpy.lib.npyio.NpzFile'>\n",
      "header 0\n",
      "1.1998195168723877, [[0.08064936 0.90987882]\n",
      " [0.04958796 0.15970337]]\n",
      "header 1\n",
      "1.6208486961624127, [[0.64222819 0.18349195]\n",
      " [0.70879206 0.08633648]]\n",
      "header 2\n",
      "1.3010616033972413, [[0.27973157 0.55322207]\n",
      " [0.0269196  0.44118837]]\n"
     ]
    }
   ],
   "source": [
    "import numpy as np\n",
    "\n",
    "MAX_FILES = 3\n",
    "COLUMNS = 2\n",
    "ROWS = 2\n",
    "\n",
    "# np.savezは拡張子なしでも.npzが付加されるが付けていても問題ない\n",
    "DATA_FILE = 'data_noheader.npz'\n",
    "\n",
    "# ndarray用の辞書\n",
    "data_dict = {}\n",
    "\n",
    "for i in range(MAX_FILES):\n",
    "    temp_arr = np.random.rand(COLUMNS, ROWS)\n",
    "    #ヘッダー兼keyの作成\n",
    "    temp_key = f'header {i}\\n{np.sum(temp_arr)}'\n",
    "    data_dict[temp_key] = temp_arr\n",
    "    \n",
    "print(f'data =\\n{data_dict}')\n",
    "# NOTE:辞書を**で展開\n",
    "np.savez(DATA_FILE, **data_dict)\n",
    "\n",
    "# ファイルのロード\n",
    "loaded_data = np.load(DATA_FILE)\n",
    "print(type(loaded_data))\n",
    "\n",
    "# テキストでセーブ\n",
    "# NOTE:zipでヘッダーとdataを呼び出しても順番は保存した順番になっているようだ\n",
    "for i, h in enumerate(loaded_data):\n",
    "    print(f'{h}, {loaded_data[h]}')\n",
    "    np.savetxt(f'data_{i}.dat', loaded_data[h], header=f'data_{i}.dat\\n{h}' , delimiter='\\t')\n"
   ]
  },
  {
   "cell_type": "markdown",
   "metadata": {},
   "source": [
    "### 容量圧縮\n",
    "- savez_compressedを使用する"
   ]
  },
  {
   "cell_type": "code",
   "execution_count": null,
   "metadata": {},
   "outputs": [],
   "source": [
    "for i in range(MAX_FILES):\n",
    "    temp_arr = np.random.rand(COLUMNS, ROWS)\n",
    "    #ヘッダー兼keyの作成\n",
    "    temp_key = f'header {i}\\n{np.sum(temp_arr)}'\n",
    "    data_dict[temp_key] = temp_arr\n",
    "    \n",
    "print(f'data =\\n{data_dict}')\n",
    "# NOTE:辞書を**で展開\n",
    "np.savez_compressed(DATA_FILE, **data_dict)\n",
    "\n"
   ]
  },
  {
   "cell_type": "markdown",
   "metadata": {},
   "source": [
    "### ヘッダー別ファイルバージョン\n",
    "- keyにファイル名を付けたいとき等はヘッダーを別ファイルに\n",
    "- dataの辞書ファイルをセーブ前に操作する場合は登録順がヘッダーファイルと変わる可能性がある\n",
    "    - 安全策はヘッダーにキーワードを仕込んでre.search等で一致するものを選ぶ"
   ]
  },
  {
   "cell_type": "code",
   "execution_count": 6,
   "metadata": {},
   "outputs": [
    {
     "name": "stdout",
     "output_type": "stream",
     "text": [
      "feaders = \n",
      "['header 0\\n1.8731090373496064', 'header 1\\n2.2684331176327914', 'header 2\\n1.5110995566422347']\n",
      "data =\n",
      "{'data_0_noheader': array([[0.17785748, 0.61633583],\n",
      "       [0.6571018 , 0.42181393]]), 'data_1_noheader': array([[0.70131442, 0.64028112],\n",
      "       [0.83175726, 0.09508032]]), 'data_2_noheader': array([[0.46432128, 0.0743831 ],\n",
      "       [0.26012692, 0.71226826]])}\n",
      "<class 'numpy.ndarray'>\n",
      "<class 'numpy.lib.npyio.NpzFile'>\n",
      "header 0\n",
      "1.8731090373496064, data_0_noheader, [[0.17785748 0.61633583]\n",
      " [0.6571018  0.42181393]]\n",
      "header 1\n",
      "2.2684331176327914, data_1_noheader, [[0.70131442 0.64028112]\n",
      " [0.83175726 0.09508032]]\n",
      "header 2\n",
      "1.5110995566422347, data_2_noheader, [[0.46432128 0.0743831 ]\n",
      " [0.26012692 0.71226826]]\n"
     ]
    }
   ],
   "source": [
    "import numpy as np\n",
    "\n",
    "MAX_FILES = 3\n",
    "COLUMNS = 2\n",
    "ROWS = 2\n",
    "\n",
    "# np.savezは拡張子なしでも.npzが付加されるが付けていても問題ない\n",
    "DATA_FILE = 'data_noheader.npz'\n",
    "# バイナリセーブ後にテキストで解凍するためのヘッダーファイル\n",
    "HEADER_FILE = 'header.npy'\n",
    "\n",
    "# ndarray用の辞書\n",
    "data_dict = {}\n",
    "headers = []\n",
    "\n",
    "for i in range(MAX_FILES):\n",
    "    temp_arr = np.random.rand(COLUMNS, ROWS)\n",
    "    # ndarrayにkeyをつける\n",
    "    data_dict[f'data_{i}_noheader'] = temp_arr\n",
    "    \n",
    "    #ヘッダーの作成\n",
    "    temp_header = f'header {i}\\n{np.sum(temp_arr)}'\n",
    "    headers.append(temp_header)\n",
    "    \n",
    "print(f'feaders = \\n{headers}')\n",
    "print(f'data =\\n{data_dict}')\n",
    "# NOTE:辞書を**で展開\n",
    "np.savez(DATA_FILE, **data_dict)\n",
    "np.save(HEADER_FILE, headers)\n",
    "\n",
    "# ファイルのロード\n",
    "loaded_headers = np.load(HEADER_FILE)\n",
    "loaded_data = np.load(DATA_FILE)\n",
    "print(type(loaded_headers))\n",
    "print(type(loaded_data))\n",
    "\n",
    "# テキストでセーブ\n",
    "# NOTE:zipでヘッダーとdataを呼び出しても順番は保存した順番になっているようだ\n",
    "\n",
    "for h, d in zip(loaded_headers, loaded_data):\n",
    "    print(f'{h}, {d}, {loaded_data[d]}')\n",
    "    np.savetxt(f'{d}.dat', loaded_data[d], header=f'{d}.dat\\n{h}' , delimiter='\\t')\n"
   ]
  }
 ],
 "metadata": {
  "kernelspec": {
   "display_name": "venv",
   "language": "python",
   "name": "python3"
  },
  "language_info": {
   "codemirror_mode": {
    "name": "ipython",
    "version": 3
   },
   "file_extension": ".py",
   "mimetype": "text/x-python",
   "name": "python",
   "nbconvert_exporter": "python",
   "pygments_lexer": "ipython3",
   "version": "3.11.1"
  },
  "orig_nbformat": 4
 },
 "nbformat": 4,
 "nbformat_minor": 2
}
