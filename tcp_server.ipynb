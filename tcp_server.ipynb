{
 "cells": [
  {
   "cell_type": "code",
   "execution_count": 4,
   "metadata": {},
   "outputs": [
    {
     "name": "stdout",
     "output_type": "stream",
     "text": [
      "b'test'\n",
      "b'test'\n"
     ]
    },
    {
     "ename": "KeyboardInterrupt",
     "evalue": "",
     "output_type": "error",
     "traceback": [
      "\u001b[1;31m---------------------------------------------------------------------------\u001b[0m",
      "\u001b[1;31mKeyboardInterrupt\u001b[0m                         Traceback (most recent call last)",
      "Cell \u001b[1;32mIn [4], line 59\u001b[0m\n\u001b[0;32m     55\u001b[0m     \u001b[39mwith\u001b[39;00m socketserver\u001b[39m.\u001b[39mTCPServer((ADDR, PORT), MyTCPHandler) \u001b[39mas\u001b[39;00m s:\n\u001b[0;32m     56\u001b[0m         \u001b[39m# サーバとしてクライアントのリクエストを待ち続ける\u001b[39;00m\n\u001b[0;32m     57\u001b[0m         s\u001b[39m.\u001b[39mserve_forever()\n\u001b[1;32m---> 59\u001b[0m start_server()\n",
      "Cell \u001b[1;32mIn [4], line 57\u001b[0m, in \u001b[0;36mstart_server\u001b[1;34m()\u001b[0m\n\u001b[0;32m     54\u001b[0m \u001b[39m\"\"\"サーバ起動.\"\"\"\u001b[39;00m\n\u001b[0;32m     55\u001b[0m \u001b[39mwith\u001b[39;00m socketserver\u001b[39m.\u001b[39mTCPServer((ADDR, PORT), MyTCPHandler) \u001b[39mas\u001b[39;00m s:\n\u001b[0;32m     56\u001b[0m     \u001b[39m# サーバとしてクライアントのリクエストを待ち続ける\u001b[39;00m\n\u001b[1;32m---> 57\u001b[0m     s\u001b[39m.\u001b[39;49mserve_forever()\n",
      "File \u001b[1;32mc:\\Users\\admin\\AppData\\Local\\Programs\\Python\\Python310\\lib\\socketserver.py:232\u001b[0m, in \u001b[0;36mBaseServer.serve_forever\u001b[1;34m(self, poll_interval)\u001b[0m\n\u001b[0;32m    229\u001b[0m selector\u001b[39m.\u001b[39mregister(\u001b[39mself\u001b[39m, selectors\u001b[39m.\u001b[39mEVENT_READ)\n\u001b[0;32m    231\u001b[0m \u001b[39mwhile\u001b[39;00m \u001b[39mnot\u001b[39;00m \u001b[39mself\u001b[39m\u001b[39m.\u001b[39m__shutdown_request:\n\u001b[1;32m--> 232\u001b[0m     ready \u001b[39m=\u001b[39m selector\u001b[39m.\u001b[39;49mselect(poll_interval)\n\u001b[0;32m    233\u001b[0m     \u001b[39m# bpo-35017: shutdown() called during select(), exit immediately.\u001b[39;00m\n\u001b[0;32m    234\u001b[0m     \u001b[39mif\u001b[39;00m \u001b[39mself\u001b[39m\u001b[39m.\u001b[39m__shutdown_request:\n",
      "File \u001b[1;32mc:\\Users\\admin\\AppData\\Local\\Programs\\Python\\Python310\\lib\\selectors.py:324\u001b[0m, in \u001b[0;36mSelectSelector.select\u001b[1;34m(self, timeout)\u001b[0m\n\u001b[0;32m    322\u001b[0m ready \u001b[39m=\u001b[39m []\n\u001b[0;32m    323\u001b[0m \u001b[39mtry\u001b[39;00m:\n\u001b[1;32m--> 324\u001b[0m     r, w, _ \u001b[39m=\u001b[39m \u001b[39mself\u001b[39;49m\u001b[39m.\u001b[39;49m_select(\u001b[39mself\u001b[39;49m\u001b[39m.\u001b[39;49m_readers, \u001b[39mself\u001b[39;49m\u001b[39m.\u001b[39;49m_writers, [], timeout)\n\u001b[0;32m    325\u001b[0m \u001b[39mexcept\u001b[39;00m \u001b[39mInterruptedError\u001b[39;00m:\n\u001b[0;32m    326\u001b[0m     \u001b[39mreturn\u001b[39;00m ready\n",
      "File \u001b[1;32mc:\\Users\\admin\\AppData\\Local\\Programs\\Python\\Python310\\lib\\selectors.py:315\u001b[0m, in \u001b[0;36mSelectSelector._select\u001b[1;34m(self, r, w, _, timeout)\u001b[0m\n\u001b[0;32m    314\u001b[0m \u001b[39mdef\u001b[39;00m \u001b[39m_select\u001b[39m(\u001b[39mself\u001b[39m, r, w, _, timeout\u001b[39m=\u001b[39m\u001b[39mNone\u001b[39;00m):\n\u001b[1;32m--> 315\u001b[0m     r, w, x \u001b[39m=\u001b[39m select\u001b[39m.\u001b[39;49mselect(r, w, w, timeout)\n\u001b[0;32m    316\u001b[0m     \u001b[39mreturn\u001b[39;00m r, w \u001b[39m+\u001b[39m x, []\n",
      "\u001b[1;31mKeyboardInterrupt\u001b[0m: "
     ]
    }
   ],
   "source": [
    "import socketserver\n",
    "from struct import unpack\n",
    "\n",
    "\"\"\"\n",
    "今回サーバ↔︎クライアント間で\n",
    "やりとりするデータの構造\n",
    "\n",
    "+-----------------------------+\n",
    "| ヘッダー                            |\n",
    "+-----------------------------+\n",
    "| 内容: データサイズ            |\n",
    "| サイズ: 4byte(固定)        |\n",
    "+-----------------------------+\n",
    "+-----------------------------+\n",
    "| データ                               |\n",
    "+-----------------------------+\n",
    "| 内容: 実際のデータ           |\n",
    "| サイズ: 上記指定のサイズ |\n",
    "+-----------------------------+\n",
    "\"\"\"\n",
    "# ヘッダサイズ (固定長)\n",
    "HEADER_SIZE = 4\n",
    "\n",
    "# サーバのアドレスとポート\n",
    "ADDR = \"133.53.174.44\"\n",
    "PORT = 50550\n",
    "\n",
    "\n",
    "class MyTCPHandler(socketserver.BaseRequestHandler):\n",
    "    \"\"\"サーバに届いたリクエストを処理するクラス.\"\"\"\n",
    "\n",
    "    def handle(self) -> None:\n",
    "        \"\"\"\n",
    "        クライアントからのリクエストを処理する関数.\n",
    "\n",
    "        クライアントからのリクエストを受信する毎に実行される\n",
    "        \"\"\"\n",
    "\n",
    "\n",
    "        # ヘッダからデータサイズを取得 (受信データはbytesなのでintとして扱うためにunpackが必要)\n",
    "\n",
    "\n",
    "        # データ本体の受信\n",
    "        _data = self.request.recv(4096)\n",
    "        print(_data)\n",
    "\n",
    "        # 今回はサンプルなので受信したデータをそのまま返す\n",
    "\n",
    "        # データ送信\n",
    "        self.request.sendall(_data)\n",
    "\n",
    "\n",
    "def start_server() -> None:\n",
    "    \"\"\"サーバ起動.\"\"\"\n",
    "    with socketserver.TCPServer((ADDR, PORT), MyTCPHandler) as s:\n",
    "        # サーバとしてクライアントのリクエストを待ち続ける\n",
    "        s.serve_forever()\n",
    "\n",
    "start_server()"
   ]
  }
 ],
 "metadata": {
  "kernelspec": {
   "display_name": "Python 3",
   "language": "python",
   "name": "python3"
  },
  "language_info": {
   "codemirror_mode": {
    "name": "ipython",
    "version": 3
   },
   "file_extension": ".py",
   "mimetype": "text/x-python",
   "name": "python",
   "nbconvert_exporter": "python",
   "pygments_lexer": "ipython3",
   "version": "3.10.7 (tags/v3.10.7:6cc6b13, Sep  5 2022, 14:08:36) [MSC v.1933 64 bit (AMD64)]"
  },
  "orig_nbformat": 4,
  "vscode": {
   "interpreter": {
    "hash": "beedbe2faf2f7048d727558d0bc3221e7eba2a0b921cac4d4771b2feb8f74b30"
   }
  }
 },
 "nbformat": 4,
 "nbformat_minor": 2
}
