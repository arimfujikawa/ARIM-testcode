{
 "cells": [
  {
   "cell_type": "markdown",
   "metadata": {},
   "source": [
    "# line_profilerの使い方"
   ]
  },
  {
   "cell_type": "code",
   "execution_count": 2,
   "metadata": {},
   "outputs": [
    {
     "name": "stdout",
     "output_type": "stream",
     "text": [
      "Timer unit: 1e-09 s\n",
      "\n",
      "Total time: 6.39e-05 s\n",
      "File: C:\\Users\\fujikawa\\AppData\\Local\\Temp\\ipykernel_5840\\671070373.py\n",
      "Function: func at line 5\n",
      "\n",
      "Line #      Hits         Time  Per Hit   % Time  Line Contents\n",
      "==============================================================\n",
      "     5                                           def func():\n",
      "     6         5       3400.0    680.0      5.3      for i in range(5):\n",
      "     7         5      60500.0  12100.0     94.7          a = np.empty([i*100, 1000])\n",
      "\n"
     ]
    }
   ],
   "source": [
    "import line_profiler\n",
    "import numpy as np\n",
    "\n",
    "\n",
    "def func():\n",
    "    for i in range(5):\n",
    "        a = np.empty([i*100, 1000])\n",
    "\n",
    "\n",
    "def test():\n",
    "    func()\n",
    "\n",
    "\n",
    "profile = line_profiler.LineProfiler()\n",
    "profile.add_function(func)\n",
    "profile.runcall(test)\n",
    "profile.print_stats(output_unit=1e-9)\n"
   ]
  },
  {
   "cell_type": "markdown",
   "metadata": {},
   "source": [
    "### ループに使用"
   ]
  },
  {
   "cell_type": "code",
   "execution_count": 1,
   "metadata": {},
   "outputs": [
    {
     "name": "stdout",
     "output_type": "stream",
     "text": [
      "Timer unit: 1e-09 s\n",
      "\n",
      "Total time: 0.0208671 s\n",
      "File: C:\\Users\\fujikawa\\AppData\\Local\\Temp\\ipykernel_5840\\2983318294.py\n",
      "Function: func at line 5\n",
      "\n",
      "Line #      Hits         Time  Per Hit   % Time  Line Contents\n",
      "==============================================================\n",
      "     5                                           def func():\n",
      "     6      5000    1292900.0    258.6      6.2      for i in range(5):\n",
      "     7      5000   19574200.0   3914.8     93.8          a = np.empty([i*100, 1000])\n",
      "\n",
      "Total time: 0.0281482 s\n",
      "File: C:\\Users\\fujikawa\\AppData\\Local\\Temp\\ipykernel_5840\\2983318294.py\n",
      "Function: test at line 10\n",
      "\n",
      "Line #      Hits         Time  Per Hit   % Time  Line Contents\n",
      "==============================================================\n",
      "    10                                           def test():\n",
      "    11         1        400.0    400.0      0.0      loop_count = 1000\n",
      "    12      1000     249200.0    249.2      0.9      for i in range(loop_count):\n",
      "    13      1000   27898600.0  27898.6     99.1          func()\n",
      "\n"
     ]
    }
   ],
   "source": [
    "import line_profiler\n",
    "import numpy as np\n",
    "\n",
    "\n",
    "def func():\n",
    "    for i in range(5):\n",
    "        a = np.empty([i*100, 1000])\n",
    "\n",
    "\n",
    "def test():\n",
    "    loop_count = 1000\n",
    "    for i in range(loop_count):\n",
    "        func()\n",
    "\n",
    "\n",
    "\n",
    "profile = line_profiler.LineProfiler()\n",
    "\n",
    "# profile.enable_by_count()\n",
    "profile.add_function(func)\n",
    "profile.add_function(test)\n",
    "# profile.disable_by_count()\n",
    "\n",
    "profile.runcall(test)\n",
    "profile.print_stats(output_unit=1e-9)\n",
    "\n"
   ]
  },
  {
   "cell_type": "markdown",
   "metadata": {},
   "source": [
    "### スレッドに適用"
   ]
  },
  {
   "cell_type": "code",
   "execution_count": 2,
   "metadata": {},
   "outputs": [
    {
     "name": "stdout",
     "output_type": "stream",
     "text": [
      "Timer unit: 1e-07 s\n",
      "\n",
      "Total time: 1.00096 s\n",
      "File: C:\\Users\\fujikawa\\AppData\\Local\\Temp\\ipykernel_14508\\4080591567.py\n",
      "Function: do_stuff at line 13\n",
      "\n",
      "Line #      Hits         Time  Per Hit   % Time  Line Contents\n",
      "==============================================================\n",
      "    13                                           def do_stuff(numbers):\n",
      "    14         1        568.0    568.0      0.0      my_thread = threading.Thread(target=do_other_stuff, args=[numbers])\n",
      "    15         1       3936.0   3936.0      0.0      my_thread.start()\n",
      "    16         1   10005097.0 10005097.0    100.0      my_thread.join()\n",
      "\n",
      "Timer unit: 1e-07 s\n",
      "\n",
      "Total time: 1.00053 s\n",
      "File: C:\\Users\\fujikawa\\AppData\\Local\\Temp\\ipykernel_14508\\4080591567.py\n",
      "Function: do_other_stuff at line 8\n",
      "\n",
      "Line #      Hits         Time  Per Hit   % Time  Line Contents\n",
      "==============================================================\n",
      "     8                                           def do_other_stuff(numbers):\n",
      "     9         1   10005182.0 10005182.0    100.0      time.sleep(1)\n",
      "    10         1        111.0    111.0      0.0      s = sum(numbers)\n",
      "\n"
     ]
    }
   ],
   "source": [
    "import random\n",
    "import threading\n",
    "import time\n",
    "\n",
    "from line_profiler import LineProfiler\n",
    "\n",
    "\n",
    "def do_other_stuff(numbers):\n",
    "    time.sleep(1)\n",
    "    s = sum(numbers)\n",
    "\n",
    "\n",
    "def do_stuff(numbers):\n",
    "    my_thread = threading.Thread(target=do_other_stuff, args=[numbers])\n",
    "    my_thread.start()\n",
    "    my_thread.join()\n",
    "\n",
    "\n",
    "thread_to_lp = {}\n",
    "\n",
    "\n",
    "def wrapper_in_thread(func):\n",
    "    def inner(*args, **kwargs):\n",
    "        lp = thread_to_lp.setdefault(\n",
    "            threading.current_thread(), LineProfiler())\n",
    "        lp.add_function(func)\n",
    "        lp.enable_by_count()\n",
    "        try:\n",
    "            return func(*args, **kwargs)\n",
    "        finally:\n",
    "            lp.disable_by_count()\n",
    "\n",
    "    return inner\n",
    "\n",
    "\n",
    "do_other_stuff = wrapper_in_thread(do_other_stuff)\n",
    "do_stuff = wrapper_in_thread(do_stuff)\n",
    "\n",
    "numbers = [random.randint(1, 100) for i in range(1000)]\n",
    "do_stuff(numbers)\n",
    "\n",
    "for lp in thread_to_lp.values():\n",
    "    lp.print_stats()\n"
   ]
  }
 ],
 "metadata": {
  "kernelspec": {
   "display_name": "venv",
   "language": "python",
   "name": "python3"
  },
  "language_info": {
   "codemirror_mode": {
    "name": "ipython",
    "version": 3
   },
   "file_extension": ".py",
   "mimetype": "text/x-python",
   "name": "python",
   "nbconvert_exporter": "python",
   "pygments_lexer": "ipython3",
   "version": "3.11.1"
  },
  "orig_nbformat": 4
 },
 "nbformat": 4,
 "nbformat_minor": 2
}
