{
 "cells": [
  {
   "cell_type": "code",
   "execution_count": 36,
   "metadata": {},
   "outputs": [
    {
     "name": "stdout",
     "output_type": "stream",
     "text": [
      "<reply>2023/01/20 1116:1000.2023/01/20 1116:2000.ID_mm.accepted</reply>\n",
      "<reply>2023/01/20 1116:1000.2023/01/20 1116:2000.ID_mm.rejected</reply>\n",
      "True\n",
      "<built-in method span of re.Match object at 0x00000177428E56C0>\n",
      "None\n",
      "\n"
     ]
    }
   ],
   "source": [
    "import re\n",
    "\n",
    "reply_accepted = \"<reply>2023/01/20 1116:1000.2023/01/20 1116:2000.ID_mm.accepted</reply>\"\n",
    "reply_rejected = \"<reply>2023/01/20 1116:1000.2023/01/20 1116:2000.ID_mm.rejected</reply>\"\n",
    "print(f'{reply_accepted}\\n{reply_rejected}')\n",
    "\n",
    "#re.search('(?.+)(\\.rejected)(?.+)', reply_rejected)\n",
    "re_match = re.search(r'\\.rejected',reply_rejected)\n",
    "print('.rejected' in reply_rejected)\n",
    "print(re_match.span)\n",
    "re_unmatch = re.search(r'\\.rejected',reply_accepted)\n",
    "print(re_unmatch)\n",
    "#print(re_unmatch.start)\n",
    "re_fullmatch = re.fullmatch(r'.+\\.rejected.+',reply_rejected)\n",
    "print()"
   ]
  },
  {
   "cell_type": "code",
   "execution_count": 1,
   "metadata": {},
   "outputs": [
    {
     "name": "stdout",
     "output_type": "stream",
     "text": [
      "results = abc=[1,2,3]\n",
      "{\"e\":4, \"f\":5, \"g\":6}\n",
      "h=7.8\n",
      "\n",
      "result2-1 = abc\n",
      "result2-2 = abc=[1,2,3]\n",
      "{\"e\":4, \"f\":5, \"g\":6}\n",
      "h\n",
      "result2-3 = abc\n",
      "result3 = [1,2,3]\n",
      "{\"e\":4, \"f\":5, \"g\":6}\n",
      "h=7.8\n",
      "\n",
      "result4 = h\n"
     ]
    }
   ],
   "source": [
    "import re\n",
    "str = 'abc=[1,2,3]\\n{\"e\":4, \"f\":5, \"g\":6}\\nh=7.8\\n'\n",
    "result1 = re.search('.*', str, re.DOTALL)\n",
    "print(f'results = {result1.group()}')\n",
    "result2_1 = re.search('(.*)=', str)\n",
    "result2_2 = re.search('(.*)=', str, re.DOTALL)\n",
    "result2_3 = re.search('(.*?)=', str, re.DOTALL)\n",
    "print(f'result2-1 = {result2_1.group(1)}')\n",
    "print(f'result2-2 = {result2_2.group(1)}')\n",
    "print(f'result2-3 = {result2_3.group(1)}')\n",
    "result3 = re.search('=(.*)', result1.group(), re.DOTALL)\n",
    "print(f'result3 = {result3.group(1)}')\n",
    "result4 = re.search('(.*)=', result3.group(1))\n",
    "print(f'result4 = {result4.group(1)}')\n"
   ]
  }
 ],
 "metadata": {
  "kernelspec": {
   "display_name": "venv",
   "language": "python",
   "name": "python3"
  },
  "language_info": {
   "codemirror_mode": {
    "name": "ipython",
    "version": 3
   },
   "file_extension": ".py",
   "mimetype": "text/x-python",
   "name": "python",
   "nbconvert_exporter": "python",
   "pygments_lexer": "ipython3",
   "version": "3.11.1"
  },
  "orig_nbformat": 4,
  "vscode": {
   "interpreter": {
    "hash": "d35c52b2c13af452197fdd75c6084e25b04d1acbe8d55b56c2a3127f4fde3c1e"
   }
  }
 },
 "nbformat": 4,
 "nbformat_minor": 2
}
