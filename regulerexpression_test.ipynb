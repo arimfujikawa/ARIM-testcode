{
 "cells": [
  {
   "cell_type": "code",
   "execution_count": 36,
   "metadata": {},
   "outputs": [
    {
     "name": "stdout",
     "output_type": "stream",
     "text": [
      "<reply>2023/01/20 1116:1000.2023/01/20 1116:2000.ID_mm.accepted</reply>\n",
      "<reply>2023/01/20 1116:1000.2023/01/20 1116:2000.ID_mm.rejected</reply>\n",
      "True\n",
      "<built-in method span of re.Match object at 0x00000177428E56C0>\n",
      "None\n",
      "\n"
     ]
    }
   ],
   "source": [
    "import re\n",
    "\n",
    "reply_accepted = \"<reply>2023/01/20 1116:1000.2023/01/20 1116:2000.ID_mm.accepted</reply>\"\n",
    "reply_rejected = \"<reply>2023/01/20 1116:1000.2023/01/20 1116:2000.ID_mm.rejected</reply>\"\n",
    "print(f'{reply_accepted}\\n{reply_rejected}')\n",
    "\n",
    "#re.search('(?.+)(\\.rejected)(?.+)', reply_rejected)\n",
    "re_match = re.search(r'\\.rejected',reply_rejected)\n",
    "print('.rejected' in reply_rejected)\n",
    "print(re_match.span)\n",
    "re_unmatch = re.search(r'\\.rejected',reply_accepted)\n",
    "print(re_unmatch)\n",
    "#print(re_unmatch.start)\n",
    "re_fullmatch = re.fullmatch(r'.+\\.rejected.+',reply_rejected)\n",
    "print()"
   ]
  },
  {
   "cell_type": "code",
   "execution_count": 1,
   "metadata": {},
   "outputs": [
    {
     "name": "stdout",
     "output_type": "stream",
     "text": [
      "results = abc=[1,2,3]\n",
      "{\"e\":4, \"f\":5, \"g\":6}\n",
      "h=7.8\n",
      "\n",
      "result2-1 = abc\n",
      "result2-2 = abc=[1,2,3]\n",
      "{\"e\":4, \"f\":5, \"g\":6}\n",
      "h\n",
      "result2-3 = abc\n",
      "result3 = [1,2,3]\n",
      "{\"e\":4, \"f\":5, \"g\":6}\n",
      "h=7.8\n",
      "\n",
      "result4 = h\n"
     ]
    }
   ],
   "source": [
    "import re\n",
    "str = 'abc=[1,2,3]\\n{\"e\":4, \"f\":5, \"g\":6}\\nh=7.8\\n'\n",
    "result1 = re.search('.*', str, re.DOTALL)\n",
    "print(f'results = {result1.group()}')\n",
    "result2_1 = re.search('(.*)=', str)\n",
    "result2_2 = re.search('(.*)=', str, re.DOTALL)\n",
    "result2_3 = re.search('(.*?)=', str, re.DOTALL)\n",
    "print(f'result2-1 = {result2_1.group(1)}')\n",
    "print(f'result2-2 = {result2_2.group(1)}')\n",
    "print(f'result2-3 = {result2_3.group(1)}')\n",
    "result3 = re.search('=(.*)', result1.group(), re.DOTALL)\n",
    "print(f'result3 = {result3.group(1)}')\n",
    "result4 = re.search('(.*)=', result3.group(1))\n",
    "print(f'result4 = {result4.group(1)}')\n"
   ]
  },
  {
   "cell_type": "code",
   "execution_count": 11,
   "metadata": {},
   "outputs": [
    {
     "name": "stdout",
     "output_type": "stream",
     "text": [
      "Normalization.value=True\n"
     ]
    }
   ],
   "source": [
    "import re\n",
    "change = \"{'name': 'value', 'old': False, 'new': True, 'owner': Checkbox(\\\n",
    "    value=True, description='Normalization'), 'type': 'change'}\"\n",
    "results = re.search(\"value=(.*?),.*description='(.*?)'\", change)\n",
    "value = results.group(1)\n",
    "description = results.group(2)\n",
    "print(f'{description}.value={value}')\n"
   ]
  },
  {
   "cell_type": "code",
   "execution_count": 1,
   "metadata": {},
   "outputs": [
    {
     "name": "stdout",
     "output_type": "stream",
     "text": [
      "//*[@id=\"__layout\"]/div/main/div[2]/div[1]/div[2]/div[3]/table/tbody/tr[1]/td[3]/select/option[2]\n"
     ]
    }
   ],
   "source": [
    "import re\n",
    "str = '//*[@id=\"__layout\"]/div/main/div[2]/div[1]/div[2]/div[3]/table/tbody/tr/td[3]/select/option[1]'\n",
    "i = \n",
    "role = 2\n",
    "print(str.replace('tr', 'tr[1]').replace('option[1]', f'option[{role}]'))\n"
   ]
  },
  {
   "attachments": {},
   "cell_type": "markdown",
   "metadata": {},
   "source": [
    "### 大文字小文字関係なく"
   ]
  },
  {
   "cell_type": "code",
   "execution_count": 2,
   "metadata": {},
   "outputs": [
    {
     "name": "stdout",
     "output_type": "stream",
     "text": [
      "yEs\n",
      "yes\n",
      "Yes\n",
      "YES\n"
     ]
    }
   ],
   "source": [
    "import re\n",
    "\n",
    "strings_list = ['yEs', 'I say yes !', 'He says \"Yes\".', 'They say YES.']\n",
    "pattern = 'yes'\n",
    "\n",
    "for strings in strings_list:\n",
    "    results = re.search(f'.*({pattern}).*', strings, flags=re.IGNORECASE)\n",
    "    print(results.group(1))"
   ]
  },
  {
   "attachments": {},
   "cell_type": "markdown",
   "metadata": {},
   "source": [
    "### 同じパターンの繰り返し re.finditer"
   ]
  },
  {
   "cell_type": "code",
   "execution_count": 9,
   "metadata": {},
   "outputs": [
    {
     "name": "stdout",
     "output_type": "stream",
     "text": [
      "<callable_iterator object at 0x0000021C2F17DAE0>\n",
      "<re.Match object; span=(0, 19), match='Kinetic Energy [eV]'>\n",
      "Kinetic Energy [eV]\n",
      "<re.Match object; span=(19, 31), match='Y-Scale [mm]'>\n",
      "Y-Scale [mm]\n"
     ]
    }
   ],
   "source": [
    "import re\n",
    "str = 'Kinetic Energy [eV]Y-Scale [mm]'\n",
    "# results = re.search('(.*?\\[.*?\\])?', str)\n",
    "results = re.finditer('(.*?\\[.*?\\])', str)\n",
    "print(results)\n",
    "\n",
    "for r in results:\n",
    "    print(r)\n",
    "    print(r.group(1))\n",
    "\n"
   ]
  },
  {
   "attachments": {},
   "cell_type": "markdown",
   "metadata": {},
   "source": [
    "### スペース連結のデータ"
   ]
  },
  {
   "cell_type": "code",
   "execution_count": 8,
   "metadata": {},
   "outputs": [
    {
     "name": "stdout",
     "output_type": "stream",
     "text": [
      "1\n",
      "20\n",
      "3.4\n"
     ]
    }
   ],
   "source": [
    "import re\n",
    "a = '1 20 3.4\\n'\n",
    "results = re.finditer('(.*?)[ \\n]', a)\n",
    "for result in results:\n",
    "    print(result.group())"
   ]
  },
  {
   "cell_type": "code",
   "execution_count": 7,
   "metadata": {},
   "outputs": [
    {
     "name": "stdout",
     "output_type": "stream",
     "text": [
      "False\n",
      "False\n",
      "True\n",
      "True\n",
      "False\n"
     ]
    }
   ],
   "source": [
    "a = ['abc def\\n', '123\\n', '\\n', ' \\n', 'end']\n",
    "for line in a:\n",
    "    print(line.isspace())"
   ]
  },
  {
   "cell_type": "markdown",
   "metadata": {},
   "source": [
    "### []でかこまれた文字列を編集"
   ]
  },
  {
   "cell_type": "code",
   "execution_count": 21,
   "metadata": {},
   "outputs": [],
   "source": [
    "note = '''[Info]\n",
    "Version=1.2.5\n",
    "Region Name=V1s\n",
    "Lens Mode=Transmission\n",
    "Pass Energy=200\n",
    "Number of Sweeps=1\n",
    "Excitation Energy=8001.6\n",
    "Energy Scale=Kinetic\n",
    "Acquisition Mode=Swept\n",
    "Energy Unit=Kinetic\n",
    "Center Energy=2535\n",
    "Low Energy=2525\n",
    "High Energy=2545\n",
    "Energy Step=0.05\n",
    "Step Time=79\n",
    "Detector First X-Channel=1\n",
    "Detector Last X-Channel=1175\n",
    "Detector First Y-Channel=1\n",
    "Detector Last Y-Channel=1029\n",
    "Number of Slices=1\n",
    "File=E:\\Data\\BL22XU_20230131\\CP-01_add\\CL_0002.pxt,.ibw,.txt\n",
    "Sequence=E:\\SES_1.9.4_Win64_Package\\SES_1.9.4_Win64\\Sequences\\HAXPES_BL22XU_20221031.seq\n",
    "Spectrum Name=V1s\n",
    "Instrument=EW4000HE-7ES209\n",
    "Location=Scienta\n",
    "User=kobata\n",
    "Sample=CP-01_add\n",
    "Comments=S0.5mm;MCP=1450V;Screen=3600V TOA90deg;Ep200eV;;Att=0um;PIN uA BL  ,;neutralize:uA,E=eV;;\n",
    "Date=2023-02-04\n",
    "Time=04:34:02\n",
    "Time per Spectrum Channel=2812.242\n",
    "DetectorMode=ADC\n",
    "ThetaX=0\n",
    "ThetaY=0\n",
    "[Run Mode Information]\n",
    "Name=Add Dimension\n",
    "\n",
    "[User Interface Information]\n",
    "[Manipulator]\n",
    "Sample-X=-2.141\n",
    "Sample-Y=-6.543\n",
    "Sample-Z=-102.389\n",
    "Sample-Theta=-94.171\n",
    "Base-Z=4.635\n",
    "Attenater=1.150\n",
    "\n",
    "[Dimension Information]\n",
    "Dimension 1 name=Kinetic Energy [eV]\n",
    "Dimension 1 start=2525\n",
    "Dimension 1 end=2545\n",
    "Dimension 1 step=0.05\n",
    "Dimension 1 size=401\n",
    "Dimension 2 name=Seq. Iteration[a.u.]\n",
    "Dimension 2 start=1\n",
    "Dimension 2 end=102\n",
    "Dimension 2 step=1\n",
    "Dimension 2 size=102\n",
    "Intensity name=Counts [a.u.]\n",
    "'''"
   ]
  },
  {
   "cell_type": "code",
   "execution_count": 22,
   "metadata": {},
   "outputs": [
    {
     "name": "stdout",
     "output_type": "stream",
     "text": [
      "['[Info]', 'Version=1.2.5', 'Region Name=V1s', 'Lens Mode=Transmission', 'Pass Energy=200', 'Number of Sweeps=1', 'Excitation Energy=8001.6', 'Energy Scale=Kinetic', 'Acquisition Mode=Swept', 'Energy Unit=Kinetic', 'Center Energy=2535', 'Low Energy=2525', 'High Energy=2545', 'Energy Step=0.05', 'Step Time=79', 'Detector First X-Channel=1', 'Detector Last X-Channel=1175', 'Detector First Y-Channel=1', 'Detector Last Y-Channel=1029', 'Number of Slices=1', 'File=E:\\\\Data\\\\BL22XU_20230131\\\\CP-01_add\\\\CL_0002.pxt,.ibw,.txt', 'Sequence=E:\\\\SES_1.9.4_Win64_Package\\\\SES_1.9.4_Win64\\\\Sequences\\\\HAXPES_BL22XU_20221031.seq', 'Spectrum Name=V1s', 'Instrument=EW4000HE-7ES209', 'Location=Scienta', 'User=kobata', 'Sample=CP-01_add', 'Comments=S0.5mm;MCP=1450V;Screen=3600V TOA90deg;Ep200eV;;Att=0um;PIN uA BL  ,;neutralize:uA,E=eV;;', 'Date=2023-02-04', 'Time=04:34:02', 'Time per Spectrum Channel=2812.242', 'DetectorMode=ADC', 'ThetaX=0', 'ThetaY=0', '[Run Mode Information]', 'Name=Add Dimension', '', '[User Interface Information]', '[Manipulator]', 'Sample-X=-2.141', 'Sample-Y=-6.543', 'Sample-Z=-102.389', 'Sample-Theta=-94.171', 'Base-Z=4.635', 'Attenater=1.150', '', '[Dimension Information]', 'Dimension 1 name=Kinetic Energy [eV]', 'Dimension 1 start=2525', 'Dimension 1 end=2545', 'Dimension 1 step=0.05', 'Dimension 1 size=401', 'Dimension 2 name=Seq. Iteration[a.u.]', 'Dimension 2 start=1', 'Dimension 2 end=102', 'Dimension 2 step=1', 'Dimension 2 size=102', 'Intensity name=Counts [a.u.]']\n",
      "[Info]\n",
      "Info\n",
      "[Run Mode Information]\n",
      "Run Mode Information\n",
      "[User Interface Information]\n",
      "User Interface Information\n",
      "[Manipulator]\n",
      "Manipulator\n",
      "[Dimension Information]\n",
      "Dimension Information\n",
      "new note = [Info 1]\n",
      "Version=1.2.5\n",
      "Region Name=V1s\n",
      "Lens Mode=Transmission\n",
      "Pass Energy=200\n",
      "Number of Sweeps=1\n",
      "Excitation Energy=8001.6\n",
      "Energy Scale=Kinetic\n",
      "Acquisition Mode=Swept\n",
      "Energy Unit=Kinetic\n",
      "Center Energy=2535\n",
      "Low Energy=2525\n",
      "High Energy=2545\n",
      "Energy Step=0.05\n",
      "Step Time=79\n",
      "Detector First X-Channel=1\n",
      "Detector Last X-Channel=1175\n",
      "Detector First Y-Channel=1\n",
      "Detector Last Y-Channel=1029\n",
      "Number of Slices=1\n",
      "File=E:\\Data\\BL22XU_20230131\\CP-01_add\\CL_0002.pxt,.ibw,.txt\n",
      "Sequence=E:\\SES_1.9.4_Win64_Package\\SES_1.9.4_Win64\\Sequences\\HAXPES_BL22XU_20221031.seq\n",
      "Spectrum Name=V1s\n",
      "Instrument=EW4000HE-7ES209\n",
      "Location=Scienta\n",
      "User=kobata\n",
      "Sample=CP-01_add\n",
      "Comments=S0.5mm;MCP=1450V;Screen=3600V TOA90deg;Ep200eV;;Att=0um;PIN uA BL  ,;neutralize:uA,E=eV;;\n",
      "Date=2023-02-04\n",
      "Time=04:34:02\n",
      "Time per Spectrum Channel=2812.242\n",
      "DetectorMode=ADC\n",
      "ThetaX=0\n",
      "ThetaY=0\n",
      "[Run Mode Information 1]\n",
      "Name=Add Dimension\n",
      "\n",
      "[User Interface Information 1]\n",
      "[Manipulator 1]\n",
      "Sample-X=-2.141\n",
      "Sample-Y=-6.543\n",
      "Sample-Z=-102.389\n",
      "Sample-Theta=-94.171\n",
      "Base-Z=4.635\n",
      "Attenater=1.150\n",
      "\n",
      "[Dimension Information 1]\n",
      "Dimension 1 name=Kinetic Energy [eV]\n",
      "Dimension 1 start=2525\n",
      "Dimension 1 end=2545\n",
      "Dimension 1 step=0.05\n",
      "Dimension 1 size=401\n",
      "Dimension 2 name=Seq. Iteration[a.u.]\n",
      "Dimension 2 start=1\n",
      "Dimension 2 end=102\n",
      "Dimension 2 step=1\n",
      "Dimension 2 size=102\n",
      "Intensity name=Counts [a.u.]\n",
      "\n"
     ]
    }
   ],
   "source": [
    "import re\n",
    "lines = note.splitlines()\n",
    "print(lines)\n",
    "\n",
    "items = []\n",
    "for line in lines:\n",
    "    results = re.search('(^\\[.*?\\])', line)\n",
    "    if results is not None:\n",
    "        items.append(results.group(1))\n",
    "number = 1\n",
    "for item in items:\n",
    "    print(item)\n",
    "    words = re.search('\\[(.*)\\]', item, re.DOTALL)\n",
    "    print(words.group(1))\n",
    "    note = note.replace(item, f'[{words.group(1)} {number}]')\n",
    "\n",
    "print(f'new note = {note}')"
   ]
  }
 ],
 "metadata": {
  "kernelspec": {
   "display_name": "venv",
   "language": "python",
   "name": "python3"
  },
  "language_info": {
   "codemirror_mode": {
    "name": "ipython",
    "version": 3
   },
   "file_extension": ".py",
   "mimetype": "text/x-python",
   "name": "python",
   "nbconvert_exporter": "python",
   "pygments_lexer": "ipython3",
   "version": "3.11.1"
  },
  "orig_nbformat": 4,
  "vscode": {
   "interpreter": {
    "hash": "d35c52b2c13af452197fdd75c6084e25b04d1acbe8d55b56c2a3127f4fde3c1e"
   }
  }
 },
 "nbformat": 4,
 "nbformat_minor": 2
}
