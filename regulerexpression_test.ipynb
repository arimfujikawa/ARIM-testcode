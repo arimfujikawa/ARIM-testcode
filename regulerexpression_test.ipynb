{
 "cells": [
  {
   "cell_type": "code",
   "execution_count": 36,
   "metadata": {},
   "outputs": [
    {
     "name": "stdout",
     "output_type": "stream",
     "text": [
      "<reply>2023/01/20 1116:1000.2023/01/20 1116:2000.ID_mm.accepted</reply>\n",
      "<reply>2023/01/20 1116:1000.2023/01/20 1116:2000.ID_mm.rejected</reply>\n",
      "True\n",
      "<built-in method span of re.Match object at 0x00000177428E56C0>\n",
      "None\n",
      "\n"
     ]
    }
   ],
   "source": [
    "import re\n",
    "\n",
    "reply_accepted = \"<reply>2023/01/20 1116:1000.2023/01/20 1116:2000.ID_mm.accepted</reply>\"\n",
    "reply_rejected = \"<reply>2023/01/20 1116:1000.2023/01/20 1116:2000.ID_mm.rejected</reply>\"\n",
    "print(f'{reply_accepted}\\n{reply_rejected}')\n",
    "\n",
    "#re.search('(?.+)(\\.rejected)(?.+)', reply_rejected)\n",
    "re_match = re.search(r'\\.rejected',reply_rejected)\n",
    "print('.rejected' in reply_rejected)\n",
    "print(re_match.span)\n",
    "re_unmatch = re.search(r'\\.rejected',reply_accepted)\n",
    "print(re_unmatch)\n",
    "#print(re_unmatch.start)\n",
    "re_fullmatch = re.fullmatch(r'.+\\.rejected.+',reply_rejected)\n",
    "print()"
   ]
  },
  {
   "cell_type": "code",
   "execution_count": null,
   "metadata": {},
   "outputs": [],
   "source": []
  }
 ],
 "metadata": {
  "kernelspec": {
   "display_name": "venv",
   "language": "python",
   "name": "python3"
  },
  "language_info": {
   "codemirror_mode": {
    "name": "ipython",
    "version": 3
   },
   "file_extension": ".py",
   "mimetype": "text/x-python",
   "name": "python",
   "nbconvert_exporter": "python",
   "pygments_lexer": "ipython3",
   "version": "3.11.1"
  },
  "orig_nbformat": 4,
  "vscode": {
   "interpreter": {
    "hash": "d35c52b2c13af452197fdd75c6084e25b04d1acbe8d55b56c2a3127f4fde3c1e"
   }
  }
 },
 "nbformat": 4,
 "nbformat_minor": 2
}
