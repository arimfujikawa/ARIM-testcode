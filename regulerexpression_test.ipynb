{
 "cells": [
  {
   "cell_type": "code",
   "execution_count": 36,
   "metadata": {},
   "outputs": [
    {
     "name": "stdout",
     "output_type": "stream",
     "text": [
      "<reply>2023/01/20 1116:1000.2023/01/20 1116:2000.ID_mm.accepted</reply>\n",
      "<reply>2023/01/20 1116:1000.2023/01/20 1116:2000.ID_mm.rejected</reply>\n",
      "True\n",
      "<built-in method span of re.Match object at 0x00000177428E56C0>\n",
      "None\n",
      "\n"
     ]
    }
   ],
   "source": [
    "import re\n",
    "\n",
    "reply_accepted = \"<reply>2023/01/20 1116:1000.2023/01/20 1116:2000.ID_mm.accepted</reply>\"\n",
    "reply_rejected = \"<reply>2023/01/20 1116:1000.2023/01/20 1116:2000.ID_mm.rejected</reply>\"\n",
    "print(f'{reply_accepted}\\n{reply_rejected}')\n",
    "\n",
    "#re.search('(?.+)(\\.rejected)(?.+)', reply_rejected)\n",
    "re_match = re.search(r'\\.rejected',reply_rejected)\n",
    "print('.rejected' in reply_rejected)\n",
    "print(re_match.span)\n",
    "re_unmatch = re.search(r'\\.rejected',reply_accepted)\n",
    "print(re_unmatch)\n",
    "#print(re_unmatch.start)\n",
    "re_fullmatch = re.fullmatch(r'.+\\.rejected.+',reply_rejected)\n",
    "print()"
   ]
  },
  {
   "cell_type": "code",
   "execution_count": 1,
   "metadata": {},
   "outputs": [
    {
     "name": "stdout",
     "output_type": "stream",
     "text": [
      "results = abc=[1,2,3]\n",
      "{\"e\":4, \"f\":5, \"g\":6}\n",
      "h=7.8\n",
      "\n",
      "result2-1 = abc\n",
      "result2-2 = abc=[1,2,3]\n",
      "{\"e\":4, \"f\":5, \"g\":6}\n",
      "h\n",
      "result2-3 = abc\n",
      "result3 = [1,2,3]\n",
      "{\"e\":4, \"f\":5, \"g\":6}\n",
      "h=7.8\n",
      "\n",
      "result4 = h\n"
     ]
    }
   ],
   "source": [
    "import re\n",
    "str = 'abc=[1,2,3]\\n{\"e\":4, \"f\":5, \"g\":6}\\nh=7.8\\n'\n",
    "result1 = re.search('.*', str, re.DOTALL)\n",
    "print(f'results = {result1.group()}')\n",
    "result2_1 = re.search('(.*)=', str)\n",
    "result2_2 = re.search('(.*)=', str, re.DOTALL)\n",
    "result2_3 = re.search('(.*?)=', str, re.DOTALL)\n",
    "print(f'result2-1 = {result2_1.group(1)}')\n",
    "print(f'result2-2 = {result2_2.group(1)}')\n",
    "print(f'result2-3 = {result2_3.group(1)}')\n",
    "result3 = re.search('=(.*)', result1.group(), re.DOTALL)\n",
    "print(f'result3 = {result3.group(1)}')\n",
    "result4 = re.search('(.*)=', result3.group(1))\n",
    "print(f'result4 = {result4.group(1)}')\n"
   ]
  },
  {
   "cell_type": "code",
   "execution_count": 11,
   "metadata": {},
   "outputs": [
    {
     "name": "stdout",
     "output_type": "stream",
     "text": [
      "Normalization.value=True\n"
     ]
    }
   ],
   "source": [
    "import re\n",
    "change = \"{'name': 'value', 'old': False, 'new': True, 'owner': Checkbox(\\\n",
    "    value=True, description='Normalization'), 'type': 'change'}\"\n",
    "results = re.search(\"value=(.*?),.*description='(.*?)'\", change)\n",
    "value = results.group(1)\n",
    "description = results.group(2)\n",
    "print(f'{description}.value={value}')\n"
   ]
  },
  {
   "cell_type": "code",
   "execution_count": 1,
   "metadata": {},
   "outputs": [
    {
     "name": "stdout",
     "output_type": "stream",
     "text": [
      "//*[@id=\"__layout\"]/div/main/div[2]/div[1]/div[2]/div[3]/table/tbody/tr[1]/td[3]/select/option[2]\n"
     ]
    }
   ],
   "source": [
    "import re\n",
    "str = '//*[@id=\"__layout\"]/div/main/div[2]/div[1]/div[2]/div[3]/table/tbody/tr/td[3]/select/option[1]'\n",
    "i = \n",
    "role = 2\n",
    "print(str.replace('tr', 'tr[1]').replace('option[1]', f'option[{role}]'))\n"
   ]
  },
  {
   "attachments": {},
   "cell_type": "markdown",
   "metadata": {},
   "source": [
    "### 大文字小文字関係なく"
   ]
  },
  {
   "cell_type": "code",
   "execution_count": 2,
   "metadata": {},
   "outputs": [
    {
     "name": "stdout",
     "output_type": "stream",
     "text": [
      "yEs\n",
      "yes\n",
      "Yes\n",
      "YES\n"
     ]
    }
   ],
   "source": [
    "import re\n",
    "\n",
    "strings_list = ['yEs', 'I say yes !', 'He says \"Yes\".', 'They say YES.']\n",
    "pattern = 'yes'\n",
    "\n",
    "for strings in strings_list:\n",
    "    results = re.search(f'.*({pattern}).*', strings, flags=re.IGNORECASE)\n",
    "    print(results.group(1))"
   ]
  }
 ],
 "metadata": {
  "kernelspec": {
   "display_name": "venv",
   "language": "python",
   "name": "python3"
  },
  "language_info": {
   "codemirror_mode": {
    "name": "ipython",
    "version": 3
   },
   "file_extension": ".py",
   "mimetype": "text/x-python",
   "name": "python",
   "nbconvert_exporter": "python",
   "pygments_lexer": "ipython3",
   "version": "3.11.1"
  },
  "orig_nbformat": 4,
  "vscode": {
   "interpreter": {
    "hash": "d35c52b2c13af452197fdd75c6084e25b04d1acbe8d55b56c2a3127f4fde3c1e"
   }
  }
 },
 "nbformat": 4,
 "nbformat_minor": 2
}
