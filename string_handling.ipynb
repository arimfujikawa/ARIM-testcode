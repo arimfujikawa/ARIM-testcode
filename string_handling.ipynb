{
 "cells": [
  {
   "cell_type": "code",
   "execution_count": 4,
   "metadata": {},
   "outputs": [
    {
     "name": "stdout",
     "output_type": "stream",
     "text": [
      "001.dat.001\n",
      "001.001\n",
      "001.001\n"
     ]
    }
   ],
   "source": [
    "a = 'pd001.dat.001'\n",
    "b = a.replace('pd', '')\n",
    "print(b)\n",
    "b = b.replace('.dat', '')\n",
    "print(b)\n",
    "b = a.replace('pd', '').replace('.dat', '')\n",
    "print(b)\n"
   ]
  }
 ],
 "metadata": {
  "kernelspec": {
   "display_name": "venv",
   "language": "python",
   "name": "python3"
  },
  "language_info": {
   "codemirror_mode": {
    "name": "ipython",
    "version": 3
   },
   "file_extension": ".py",
   "mimetype": "text/x-python",
   "name": "python",
   "nbconvert_exporter": "python",
   "pygments_lexer": "ipython3",
   "version": "3.11.1"
  },
  "orig_nbformat": 4
 },
 "nbformat": 4,
 "nbformat_minor": 2
}
