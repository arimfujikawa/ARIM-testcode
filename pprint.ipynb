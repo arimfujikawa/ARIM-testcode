{
 "cells": [
  {
   "cell_type": "markdown",
   "metadata": {},
   "source": [
    "# pprintの使い方"
   ]
  },
  {
   "cell_type": "code",
   "execution_count": 10,
   "metadata": {},
   "outputs": [
    {
     "name": "stdout",
     "output_type": "stream",
     "text": [
      "['test',\n",
      " 'strings',\n",
      " 1234]\n",
      "{   'a': 'A',\n",
      "    'b': 1,\n",
      "    'c': None,\n",
      "    'd': 'None',\n",
      "    'e': [   123,\n",
      "             456.7],\n",
      "    'f': {   'key': [   'test',\n",
      "                        'strings',\n",
      "                        1234]}}\n"
     ]
    }
   ],
   "source": [
    "import pprint\n",
    "l = ['test', 'strings', 1234]\n",
    "dict = {'a':'A', 'b':1, 'c':None, 'd':'None', 'e':[123, 456.7], 'f':{'key':l}}\n",
    "pprint.pprint(l, width=1)\n",
    "pprint.pprint(dict, indent=4, width=1 )"
   ]
  },
  {
   "cell_type": "markdown",
   "metadata": {},
   "source": [
    "### printで代用"
   ]
  },
  {
   "cell_type": "code",
   "execution_count": 17,
   "metadata": {},
   "outputs": [
    {
     "name": "stdout",
     "output_type": "stream",
     "text": [
      "test strings 1234\n",
      "    test\n",
      "    strings\n",
      "    1234\n",
      "      test\n",
      "   strings\n",
      "      1234\n"
     ]
    }
   ],
   "source": [
    "l = ['test', 'strings', 1234]\n",
    "print(*l)\n",
    "for element in l:\n",
    "    print(f'{\" \"*4}{element}')\n",
    "for element in l:\n",
    "    print(f'{str(element).rjust(10, \" \")}')"
   ]
  },
  {
   "cell_type": "markdown",
   "metadata": {},
   "source": []
  }
 ],
 "metadata": {
  "kernelspec": {
   "display_name": "venv",
   "language": "python",
   "name": "python3"
  },
  "language_info": {
   "codemirror_mode": {
    "name": "ipython",
    "version": 3
   },
   "file_extension": ".py",
   "mimetype": "text/x-python",
   "name": "python",
   "nbconvert_exporter": "python",
   "pygments_lexer": "ipython3",
   "version": "3.11.1"
  },
  "orig_nbformat": 4
 },
 "nbformat": 4,
 "nbformat_minor": 2
}
