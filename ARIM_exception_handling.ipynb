{
 "cells": [
  {
   "cell_type": "markdown",
   "metadata": {},
   "source": [
    "# ARIMでの例外処理について"
   ]
  },
  {
   "cell_type": "markdown",
   "metadata": {},
   "source": [
    "### XAFS"
   ]
  },
  {
   "cell_type": "markdown",
   "metadata": {},
   "source": [
    "- ファイル名の検出 \n",
    "✅ファイルの長さ\n",
    "safixが```ab01```の時、```ab01.dat```と```ab01.dat.001```、  \n",
    "safixが```ab```の時、```ab01.dat```と```ab02.dat.001```  \n",
    "✅連番の重複\n",
    "\n"
   ]
  },
  {
   "cell_type": "code",
   "execution_count": null,
   "metadata": {},
   "outputs": [],
   "source": [
    "previous_name = ''\n",
    "previous_value = -1\n",
    "files = []\n",
    "for file in uninspected_files:\n",
    "    name = os.path.basename(file)\n",
    "    # ファイル名の長さで別のデータを排除\n",
    "    if len(name) == len(previous_name) and len(previous_name) > 0:\n",
    "        previous_name = name\n",
    "        results = re.search(f'{prefix}[\\D]*(\\d+)+', name, re.ASCII)\n",
    "        value = results.group(1)\n",
    "        # 連番の重複ファイルは排除\n",
    "        if value > previous_value:\n",
    "            previous_value = value\n",
    "            files.append(file)\n",
    "        else:\n",
    "            print(f'warning: data duplication, {name} or {previous_name}')\n",
    "    else:\n",
    "        print(f'error: diffrent data group, between {previous_name} and {name} \\n違うデータセットのデータが混じっている可能性があります')\n",
    "        exit()\n",
    "        "
   ]
  }
 ],
 "metadata": {
  "language_info": {
   "name": "python"
  },
  "orig_nbformat": 4
 },
 "nbformat": 4,
 "nbformat_minor": 2
}
