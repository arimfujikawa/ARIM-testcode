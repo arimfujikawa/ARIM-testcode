{
 "cells": [
  {
   "attachments": {},
   "cell_type": "markdown",
   "metadata": {},
   "source": [
    "# ブーリアン演算子のテスト"
   ]
  },
  {
   "attachments": {},
   "cell_type": "markdown",
   "metadata": {},
   "source": [
    "### and、in"
   ]
  },
  {
   "cell_type": "code",
   "execution_count": 12,
   "metadata": {},
   "outputs": [
    {
     "name": "stdout",
     "output_type": "stream",
     "text": [
      "1 ok\n",
      "2 ok\n",
      "3 ok\n",
      "4 ok\n",
      "5 ok\n",
      "7 ok\n"
     ]
    }
   ],
   "source": [
    "a = 'a'\n",
    "b = 'b'\n",
    "#　文字列にaかbが含まれている場合\n",
    "# a and (b in 'a b')なのでこれらはダメ\n",
    "# aは文字列なのでa=True\n",
    "if a or b in 'a b':\n",
    "    print('1 ok')\n",
    "if a or b in 'a c':\n",
    "    print('2 ok')\n",
    "if a or b in 'd b':\n",
    "    print('3 ok')\n",
    "if a or b in 'c d':\n",
    "    print('4 ok')\n",
    "\n",
    "if a in 'b c' or b in 'b c':\n",
    "    print('5 ok')\n",
    "if a in 'c d' or b in 'c d':\n",
    "    print('6 ok')    \n",
    "if a in 'a d' or b in 'a d':\n",
    "    print('7 ok')    "
   ]
  },
  {
   "attachments": {},
   "cell_type": "markdown",
   "metadata": {},
   "source": [
    "### reで書き換え"
   ]
  },
  {
   "cell_type": "code",
   "execution_count": 16,
   "metadata": {},
   "outputs": [
    {
     "name": "stdout",
     "output_type": "stream",
     "text": [
      "<re.Match object; span=(0, 2), match='ab'>\n",
      "<re.Match object; span=(0, 2), match='ab'>\n",
      "<re.Match object; span=(0, 2), match='cd'>\n",
      "None\n"
     ]
    }
   ],
   "source": [
    "import re\n",
    "a = 'ab'\n",
    "b = 'cd'\n",
    "print(re.search(f'{a}|{b}', 'abcd'))\n",
    "print(re.search(f'{a}|{b}', 'abef'))\n",
    "print(re.search(f'{a}|{b}', 'cdef'))\n",
    "print(re.search(f'{a}|{b}', 'dfgh'))\n",
    "\n",
    "\n",
    "     "
   ]
  }
 ],
 "metadata": {
  "kernelspec": {
   "display_name": "venv",
   "language": "python",
   "name": "python3"
  },
  "language_info": {
   "codemirror_mode": {
    "name": "ipython",
    "version": 3
   },
   "file_extension": ".py",
   "mimetype": "text/x-python",
   "name": "python",
   "nbconvert_exporter": "python",
   "pygments_lexer": "ipython3",
   "version": "3.11.1"
  },
  "orig_nbformat": 4
 },
 "nbformat": 4,
 "nbformat_minor": 2
}
