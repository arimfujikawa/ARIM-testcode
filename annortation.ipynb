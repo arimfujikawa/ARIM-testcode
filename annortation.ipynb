{
 "cells": [
  {
   "cell_type": "code",
   "execution_count": 8,
   "metadata": {},
   "outputs": [
    {
     "name": "stdout",
     "output_type": "stream",
     "text": [
      "(['0', datetime.datetime(2022, 5, 27, 4, 47, 50, 432130)], ['1', datetime.datetime(2022, 5, 27, 4, 47, 51, 432130)], ['2', datetime.datetime(2022, 5, 27, 4, 47, 52, 432130)])\n"
     ]
    }
   ],
   "source": [
    "from datetime import datetime as dt\n",
    "samples_list = []\n",
    "samples = ()\n",
    "for i in range(3):\n",
    "    samples_list.append([str(i), dt.fromtimestamp(1653594470.432130 + i)])\n",
    "print(tuple(samples_list))\n"
   ]
  }
 ],
 "metadata": {
  "kernelspec": {
   "display_name": "venv",
   "language": "python",
   "name": "python3"
  },
  "language_info": {
   "codemirror_mode": {
    "name": "ipython",
    "version": 3
   },
   "file_extension": ".py",
   "mimetype": "text/x-python",
   "name": "python",
   "nbconvert_exporter": "python",
   "pygments_lexer": "ipython3",
   "version": "3.11.1"
  }
 },
 "nbformat": 4,
 "nbformat_minor": 2
}
