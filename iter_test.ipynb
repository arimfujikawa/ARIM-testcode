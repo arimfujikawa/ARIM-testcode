{
 "cells": [
  {
   "cell_type": "markdown",
   "metadata": {},
   "source": [
    "# イテレータiteのふるまい"
   ]
  },
  {
   "cell_type": "markdown",
   "metadata": {},
   "source": [
    "### 一つだけ"
   ]
  },
  {
   "cell_type": "code",
   "execution_count": 3,
   "metadata": {},
   "outputs": [
    {
     "name": "stdout",
     "output_type": "stream",
     "text": [
      "1\n",
      "0:2\n",
      "1:3\n",
      "2:4\n"
     ]
    }
   ],
   "source": [
    "l = [1, 2, 3, 4]\n",
    "ia = iter(l)\n",
    "print(next(ia))\n",
    "count = 0\n",
    "for a in ia:\n",
    "    print(f'{count}:{a}')\n",
    "    count += 1"
   ]
  },
  {
   "cell_type": "markdown",
   "metadata": {},
   "source": [
    "### 空の場合"
   ]
  },
  {
   "cell_type": "markdown",
   "metadata": {},
   "source": [
    "- ループにかけても例外が出ない\n",
    "- イテレータの値に代入がなくNoneのままならイテレータはから"
   ]
  },
  {
   "cell_type": "code",
   "execution_count": 7,
   "metadata": {},
   "outputs": [
    {
     "name": "stdout",
     "output_type": "stream",
     "text": [
      "iaのイテレータのループ終了\n",
      "b is None\n"
     ]
    }
   ],
   "source": [
    "l = []\n",
    "ia = iter(l)\n",
    "for a in ia:\n",
    "    print(f'{count}:{a}')\n",
    "    count += 1\n",
    "print('iaのイテレータのループ終了')\n",
    "\n",
    "ib = iter(l)\n",
    "b = None\n",
    "for b in ib:\n",
    "    print(f'{count}:{b}')\n",
    "    count += 1\n",
    "if b is None:\n",
    "    print(f'b is None')"
   ]
  },
  {
   "cell_type": "code",
   "execution_count": 13,
   "metadata": {},
   "outputs": [
    {
     "name": "stdout",
     "output_type": "stream",
     "text": [
      "1234    \n",
      "5678\n"
     ]
    }
   ],
   "source": [
    "s = '1234\\\n",
    "    \\n5678'\n",
    "print(s)"
   ]
  }
 ],
 "metadata": {
  "kernelspec": {
   "display_name": "venv",
   "language": "python",
   "name": "python3"
  },
  "language_info": {
   "codemirror_mode": {
    "name": "ipython",
    "version": 3
   },
   "file_extension": ".py",
   "mimetype": "text/x-python",
   "name": "python",
   "nbconvert_exporter": "python",
   "pygments_lexer": "ipython3",
   "version": "3.11.1"
  },
  "orig_nbformat": 4
 },
 "nbformat": 4,
 "nbformat_minor": 2
}
