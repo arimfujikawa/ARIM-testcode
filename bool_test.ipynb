{
 "cells": [
  {
   "attachments": {},
   "cell_type": "markdown",
   "metadata": {},
   "source": [
    "# ブーリアンのテスト"
   ]
  },
  {
   "attachments": {},
   "cell_type": "markdown",
   "metadata": {},
   "source": []
  },
  {
   "cell_type": "code",
   "execution_count": null,
   "metadata": {},
   "outputs": [],
   "source": [
    "a=False\n",
    "b=True\n",
    "b = False\n",
    "print(a and b is True)\n",
    "\n",
    "print(a is b)\n",
    "b=False\n",
    "print(a is b)\n",
    "c=True\n",
    "b=c\n",
    "print(a is b)\n",
    "a=1\n",
    "b=1\n",
    "print(a is b)\n",
    "a=(1,2)\n",
    "b=(1,2)\n",
    "print(f\"is = {a is b}\")\n",
    "print(f\"== = {a == b}\")\n",
    "a=[1,2]\n",
    "b=[1,2]\n",
    "print(f\"is = {a is b}\")\n",
    "print(f\"== = {a == b}\")\n",
    "b=a\n",
    "print(f\"is = {a is b}\")\n"
   ]
  },
  {
   "cell_type": "code",
   "execution_count": 29,
   "metadata": {},
   "outputs": [
    {
     "name": "stdout",
     "output_type": "stream",
     "text": [
      "a = False, b = True\n",
      "a and b = False\n",
      "a or b = True\n",
      "a or b is True = True\n",
      "b or a is True = True\n",
      "a or a is True = False\n",
      "a is True or b is True = True\n",
      "b is True or b is True = True\n",
      "a and b is False = False\n",
      "a is False and b is False = False\n",
      "a or b is False = False\n",
      "a is False or b is False = True\n",
      "a and a is False = False\n",
      "a is False  and a is False = True\n",
      "b or b is False = True\n",
      "b is False or b is False = False\n",
      "c = True\n",
      "b or a or c is True = True\n",
      "b or c or a is True = True\n",
      "b or a or a is True = True\n"
     ]
    }
   ],
   "source": [
    "a = False\n",
    "b = True\n",
    "print(f'a = {a}, b = {b}')\n",
    "print(f'a and b = {a and b}')\n",
    "print(f'a or b = {a or b}')\n",
    "print(f'a or b is True = {a or b is True}')\n",
    "print(f'b or a is True = {b or a is True}')\n",
    "print(f'a or a is True = {a or a is True}')\n",
    "\n",
    "print(f'a is True or b is True = {a is True or b is True}')\n",
    "print(f'b is True or b is True = {b is True or b is True}')\n",
    "print(f'a and b is False = {a and b is False}')\n",
    "print(f'a is False and b is False = {a is False and b is False}')\n",
    "print(f'a or b is False = {a  or b is False}')\n",
    "print(f'a is False or b is False = {a is False or b is False}')\n",
    "print(f'a and a is False = {a and a is False}')\n",
    "print(f'a is False  and a is False = {a is False and a is False}')\n",
    "print(f'b or b is False = {b or b is False}')\n",
    "print(f'b is False or b is False = {b is False or b is False}')\n",
    "c= True\n",
    "print(f'c = {c}')\n",
    "print(f'b or a or c is True = {b or a or c is True}')\n",
    "print(f'b or c or a is True = {b or c or a is True}')\n",
    "print(f'b or a or a is True = {b or a or a is True}')\n"
   ]
  },
  {
   "cell_type": "code",
   "execution_count": 1,
   "metadata": {},
   "outputs": [
    {
     "name": "stdout",
     "output_type": "stream",
     "text": [
      "False\n"
     ]
    }
   ],
   "source": [
    "a=False\n",
    "b=False\n",
    "c=True\n",
    "print( a is True and (b or c is True))\n",
    "if a and b is False:\n",
    "    print(type(a))"
   ]
  },
  {
   "cell_type": "markdown",
   "metadata": {},
   "source": [
    "### 三つの値で評価"
   ]
  },
  {
   "cell_type": "code",
   "execution_count": 5,
   "metadata": {},
   "outputs": [
    {
     "name": "stdout",
     "output_type": "stream",
     "text": [
      "False\n",
      "False\n"
     ]
    }
   ],
   "source": [
    "a = 1\n",
    "b = 0\n",
    "print(bool(a == b == 0))\n",
    "print(bool(a == b == 1))\n"
   ]
  }
 ],
 "metadata": {
  "kernelspec": {
   "display_name": "venv",
   "language": "python",
   "name": "python3"
  },
  "language_info": {
   "codemirror_mode": {
    "name": "ipython",
    "version": 3
   },
   "file_extension": ".py",
   "mimetype": "text/x-python",
   "name": "python",
   "nbconvert_exporter": "python",
   "pygments_lexer": "ipython3",
   "version": "3.11.1"
  },
  "orig_nbformat": 4
 },
 "nbformat": 4,
 "nbformat_minor": 2
}
