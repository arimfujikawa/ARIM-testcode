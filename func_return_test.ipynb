{
 "cells": [
  {
   "cell_type": "code",
   "execution_count": 4,
   "metadata": {},
   "outputs": [
    {
     "name": "stdout",
     "output_type": "stream",
     "text": [
      "2,{'D': 'd', 'delta': 4}\n"
     ]
    }
   ],
   "source": [
    "def func():\n",
    "    a = 'a'\n",
    "    b = 2\n",
    "    c = ['C', 3]\n",
    "    d = {'D': 'd', 'delta': 4}\n",
    "    return a, b, c, d\n",
    "\n",
    "# a, b, c, d = func()\n",
    "# print(f'{a},{b},{c},{d}')\n",
    "_, b, _, d = func()\n",
    "\n",
    "print(f'{b},{d}')\n"
   ]
  },
  {
   "cell_type": "code",
   "execution_count": 1,
   "metadata": {},
   "outputs": [
    {
     "name": "stdout",
     "output_type": "stream",
     "text": [
      "('a', 2, ['C', 3], {'D': 'd', 'delta': 4})\n",
      "2,{'D': 'd', 'delta': 4}\n",
      "['a', 2, ['C', 3], {'D': 'd', 'delta': 4}]\n",
      "2,{'D': 'd', 'delta': 4}\n"
     ]
    }
   ],
   "source": [
    "def func():\n",
    "    a = 'a'\n",
    "    b = 2\n",
    "    c = ['C', 3]\n",
    "    d = {'D': 'd', 'delta': 4}\n",
    "    return a, b, c, d\n",
    "\n",
    "\n",
    "def func_list():\n",
    "    a = 'a'\n",
    "    b = 2\n",
    "    c = ['C', 3]\n",
    "    d = {'D': 'd', 'delta': 4}\n",
    "    return [a, b, c, d]\n",
    "# a, b, c, d = func()\n",
    "# print(f'{a},{b},{c},{d}')\n",
    "print(func())\n",
    "_, b, _, d = func()\n",
    "print(f'{b},{d}')\n",
    "print(func_list())\n",
    "_, b, _, d = func_list()\n",
    "print(f'{b},{d}')\n"
   ]
  },
  {
   "cell_type": "code",
   "execution_count": 4,
   "metadata": {},
   "outputs": [
    {
     "name": "stdout",
     "output_type": "stream",
     "text": [
      "1\n",
      "1\n"
     ]
    }
   ],
   "source": [
    "def func():\n",
    "    a = []\n",
    "    value = 1\n",
    "    a.append(value)\n",
    "    return a\n",
    "\n",
    "\n",
    "def func_list():\n",
    "    a = 1\n",
    "    return [a]\n",
    "\n",
    "values = func()\n",
    "print(values[0])\n",
    "values = func_list()\n",
    "print(values[0])\n"
   ]
  },
  {
   "cell_type": "code",
   "execution_count": 6,
   "metadata": {},
   "outputs": [
    {
     "name": "stdout",
     "output_type": "stream",
     "text": [
      "ok\n"
     ]
    }
   ],
   "source": [
    "a = None\n",
    "if a == None:\n",
    "    print('ok')"
   ]
  }
 ],
 "metadata": {
  "kernelspec": {
   "display_name": "venv",
   "language": "python",
   "name": "python3"
  },
  "language_info": {
   "codemirror_mode": {
    "name": "ipython",
    "version": 3
   },
   "file_extension": ".py",
   "mimetype": "text/x-python",
   "name": "python",
   "nbconvert_exporter": "python",
   "pygments_lexer": "ipython3",
   "version": "3.11.1"
  },
  "orig_nbformat": 4
 },
 "nbformat": 4,
 "nbformat_minor": 2
}
