{
 "cells": [
  {
   "cell_type": "markdown",
   "metadata": {},
   "source": [
    "# エラーやワーニング等"
   ]
  },
  {
   "cell_type": "markdown",
   "metadata": {},
   "source": [
    "### モジュールのimportでの相対パス"
   ]
  },
  {
   "cell_type": "markdown",
   "metadata": {},
   "source": [
    "以下のディレクトリ構造で\n",
    "```\n",
    "module_test.py\n",
    "|-A-|-test.py\n",
    "|   |-settings.py\n",
    "|\n",
    "|-B---b_test.py\n",
    "|\n",
    "|-top.py\n",
    "\n",
    "```"
   ]
  },
  {
   "cell_type": "code",
   "execution_count": null,
   "metadata": {},
   "outputs": [],
   "source": [
    "# module_test.py\n",
    "from A import test "
   ]
  },
  {
   "cell_type": "markdown",
   "metadata": {},
   "source": [
    "- 相対モジュールインポート"
   ]
  },
  {
   "cell_type": "code",
   "execution_count": null,
   "metadata": {},
   "outputs": [],
   "source": [
    "# A/test.py\n",
    "\n",
    "from .settings import enum      #　これは OK\n",
    "import .settings                # 怒られる\n",
    "from . import settings          # これなら大丈夫\n",
    "\n",
    "from ..B import b_test          # ImportError: attempted relative import beyond top-level packageで怒られる\n",
    "\n",
    "from .. import B                # ImportError: attempted relative import beyond top-level package\n",
    "B.b_test()                      # で怒られる\n",
    "\n",
    "from ..top import top          # 怒られる\n",
    "\n",
    "from B import b_test            # OK　NOTE:相対パスはモジュール内で有効のようだ\n",
    "from top import top             # OK　\n",
    "\n",
    "def do():\n",
    "    print(enum.var.value)\n",
    "\n",
    "    b_test.top()\n",
    "    top()"
   ]
  },
  {
   "cell_type": "code",
   "execution_count": null,
   "metadata": {},
   "outputs": [],
   "source": [
    "# A/settings.py\n",
    "from enum import Enum\n",
    "class enum(Enum):\n",
    "    var = 3"
   ]
  },
  {
   "cell_type": "code",
   "execution_count": null,
   "metadata": {},
   "outputs": [],
   "source": [
    "# B/b_test.py\n",
    "def top():\n",
    "    print('b_test.py')"
   ]
  },
  {
   "cell_type": "code",
   "execution_count": null,
   "metadata": {},
   "outputs": [],
   "source": [
    "# top.py\n",
    "def top():\n",
    "    print('top.py')"
   ]
  }
 ],
 "metadata": {
  "language_info": {
   "name": "python"
  },
  "orig_nbformat": 4
 },
 "nbformat": 4,
 "nbformat_minor": 2
}
