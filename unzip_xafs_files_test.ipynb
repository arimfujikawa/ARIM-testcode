{
 "cells": [
  {
   "cell_type": "markdown",
   "metadata": {},
   "source": []
  },
  {
   "cell_type": "code",
   "execution_count": null,
   "metadata": {},
   "outputs": [],
   "source": []
  },
  {
   "cell_type": "markdown",
   "metadata": {},
   "source": [
    "# ファイル解凍ソフト"
   ]
  },
  {
   "cell_type": "code",
   "execution_count": null,
   "metadata": {},
   "outputs": [
    {
     "ename": "SyntaxError",
     "evalue": "EOL while scanning string literal (3129342970.py, line 38)",
     "output_type": "error",
     "traceback": [
      "\u001b[1;36m  File \u001b[1;32m\"C:\\Users\\admin\\AppData\\Local\\Temp\\ipykernel_21664\\3129342970.py\"\u001b[1;36m, line \u001b[1;32m38\u001b[0m\n",
      "\u001b[1;33m    print(f'{basename} or is not found ! Arrange {basename} in {directory}\u001b[0m\n",
      "\u001b[1;37m                                                                          ^\u001b[0m\n",
      "\u001b[1;31mSyntaxError\u001b[0m\u001b[1;31m:\u001b[0m EOL while scanning string literal\n"
     ]
    }
   ],
   "source": [
    "import numpy as np\n",
    "import time\n",
    "import os \n",
    "\n",
    "NORM_DIRECTORY = '03/fit'\n",
    "FT_DIRECTORY = '03/fit'\n",
    "FIT_DIRECTORY = '03/fit'\n",
    "CHIK_DIRECTORY = '03/fit'\n",
    "NORM = 'norm'\n",
    "CHIK = 'chik'\n",
    "FT = 'FT'\n",
    "FIT = 'Fit'\n",
    "FILE_SAFIX = '_results.npz'\n",
    "HEADER_SAFIX = '_header.npy'\n",
    "directories = [f'{NORM_DIRECTORY}/{NORM}', f'{CHIK_DIRECTORY}/{CHIK}', f'{FT_DIRECTORY}/{FT}', f'{FIT_DIRECTORY}/{FIT}' ]\n",
    "prefixes = [NORM, CHIK, FT, FIT]\n",
    "files = []\n",
    "headers = []\n",
    "\n",
    "def save_to_text(directory, loaded_npz, header_list):\n",
    "    if len(loaded_npz) == len(header_list):\n",
    "        for l_n, header_l in zip(loaded_npz, header_list):\n",
    "            np.savetxt(f'{directory}/{l_n}', loaded_npz[l_n], header=header_l, delimiter='\\t')\n",
    "    else:\n",
    "        print(f'list length is not match between npz ({len(loaded_npz)}) and header_list ({len(header_list)})')\n",
    "    \n",
    "start_time = time.time()\n",
    "for directory, prefix in zip(directories, prefixes):\n",
    "    files.append(f'{directory}/{prefix}{FILE_SAFIX}')\n",
    "    headers.append(f'{directory}/{prefix}{HEADER_SAFIX}')\n",
    "for file, directory, header in zip(files, directories, headers):\n",
    "    try:\n",
    "        save_to_text(directory, np.load(file), np.load(header))\n",
    "        print(f'{file} was finished')\n",
    "    except FileNotFoundError:\n",
    "        basename = os.path.basename(file)\n",
    "        header\n",
    "        print(f'{basename} or is not found ! Arrange {basename} in {directory}\n",
    "    \n",
    "print( time.time()-start_time)\n",
    "\n"
   ]
  },
  {
   "cell_type": "markdown",
   "metadata": {},
   "source": [
    "# ファイル解凍試作１"
   ]
  },
  {
   "cell_type": "code",
   "execution_count": null,
   "metadata": {},
   "outputs": [],
   "source": [
    "from ipywidgets import (interact, BoundedFloatText, interactive_output, HBox, VBox, Label,\n",
    "                        Text, IntSlider, Layout, Checkbox, SelectMultiple, BoundedIntText,\n",
    "                        Dropdown, Button, Textarea, FloatProgress)"
   ]
  },
  {
   "cell_type": "code",
   "execution_count": null,
   "metadata": {},
   "outputs": [
    {
     "data": {
      "application/vnd.jupyter.widget-view+json": {
       "model_id": "853019747c4848dabb5d0fc73c2719cf",
       "version_major": 2,
       "version_minor": 0
      },
      "text/plain": [
       "Button(description='Start', icon='check', style=ButtonStyle(), tooltip='test')"
      ]
     },
     "metadata": {},
     "output_type": "display_data"
    },
    {
     "ename": "NameError",
     "evalue": "name 'func' is not defined",
     "output_type": "error",
     "traceback": [
      "\u001b[1;31m---------------------------------------------------------------------------\u001b[0m\n",
      "\u001b[1;31mNameError\u001b[0m                                 Traceback (most recent call last)\n",
      "\u001b[1;32m~\\AppData\\Local\\Temp\\ipykernel_21664\\709492128.py\u001b[0m in \u001b[0;36m<module>\u001b[1;34m\u001b[0m\n",
      "\u001b[0;32m      7\u001b[0m )\n",
      "\u001b[0;32m      8\u001b[0m \u001b[0mdisplay\u001b[0m\u001b[1;33m(\u001b[0m\u001b[0munzip_button\u001b[0m\u001b[1;33m)\u001b[0m\u001b[1;33m\u001b[0m\u001b[1;33m\u001b[0m\u001b[0m\n",
      "\u001b[1;32m----> 9\u001b[1;33m \u001b[0munzip_button\u001b[0m\u001b[1;33m.\u001b[0m\u001b[0mon_click\u001b[0m\u001b[1;33m(\u001b[0m\u001b[0mfunc\u001b[0m\u001b[1;33m.\u001b[0m\u001b[0munzip_data\u001b[0m\u001b[1;33m)\u001b[0m\u001b[1;33m\u001b[0m\u001b[1;33m\u001b[0m\u001b[0m\n",
      "\u001b[0m\n",
      "\u001b[1;31mNameError\u001b[0m: name 'func' is not defined"
     ]
    }
   ],
   "source": [
    "unzip_button = Button(\n",
    "    description='Start',\n",
    "    disabled=False,\n",
    "    button_style='', # 'success', 'info', 'warning', 'danger' or ''\n",
    "    tooltip='test',\n",
    "    icon='check' # (FontAwesome names without the `fa-` prefix)\n",
    ")\n",
    "display(unzip_button)\n",
    "unzip_button.on_click(func.unzip_data)"
   ]
  },
  {
   "cell_type": "markdown",
   "metadata": {},
   "source": [
    "# ファイル解凍試作２"
   ]
  },
  {
   "cell_type": "code",
   "execution_count": null,
   "metadata": {},
   "outputs": [],
   "source": [
    "from XAFSanalysis import XAFSanalysis_func as func\n",
    "from ipywidgets import (interact, BoundedFloatText, interactive_output, HBox, VBox, Label,\n",
    "                        Text, IntSlider, Layout, Checkbox, SelectMultiple, BoundedIntText,\n",
    "                        Dropdown, Button, Textarea, FloatProgress)\n",
    "unzip_button = Button(\n",
    "    description='Start',\n",
    "    disabled=False,\n",
    "    button_style='', # 'success', 'info', 'warning', 'danger' or ''\n",
    "    tooltip='start unzip npz file',\n",
    "    icon='check' # (FontAwesome names without the `fa-` prefix)\n",
    ")\n",
    "        \n",
    "unzip_progressbar=widgets.FloatProgress(\n",
    "    value=0,\n",
    "    min=0,\n",
    "    max=1,\n",
    "    description='Loading:',\n",
    "    bar_style='info',\n",
    "    style={'bar_color': '#ffff00'},\n",
    "    orientation='horizontal'\n",
    ")\n",
    "\n",
    "label_unzip_button = widgets.HBox([widgets.Label(value=\"Unzip\"), unzip_button])  \n",
    "unzip_button.on_click(func.unzip_data)\n",
    "display(label_unzip_button)"
   ]
  },
  {
   "attachments": {},
   "cell_type": "markdown",
   "metadata": {},
   "source": [
    "# いろいろ"
   ]
  },
  {
   "cell_type": "code",
   "execution_count": null,
   "metadata": {},
   "outputs": [],
   "source": [
    "#print(d_FT.files)\n",
    "#print(d_chik.files)\n",
    "print(d_Fit.files)\n",
    "\n",
    "#print(d_l)\n",
    "#print(d['./03/fit/norm//norm_10ad00000.dat'])\n",
    "#mu = d[dn] for dn in d_l\n",
    "d_n_l=[]\n",
    "d_c_l=[]\n",
    "d_f_l=[]\n",
    "d_fit_l=[]\n",
    "for dn, dc, df, dfit in zip(d_norm, d_chik, d_FT, d_Fit):\n",
    "    d_n=d_norm[dn]\n",
    "    d_n_l.append(d_n)\n",
    "    d_c=d_chik[dc]\n",
    "    d_c_l.append(d_c)\n",
    "    d_f=d_FT[df]\n",
    "    d_f_l.append(d_f)\n",
    "    d_fit=d_Fit[dfit]\n",
    "    d_fit_l.append(d_fit)\n",
    "    np.savetxt(f\"03/fit/norm/test/{dn}\",d_d)\n",
    "#print(f\"norm = \\n{d_n_l}\\nchik = \\n{d_c_l}\\nFT = \\n{d_f_l}\\nFit = \\n{d_fit_l}\\n\")\n",
    "#print(f\"norm 1 = \\n{d_n_l[0]}\")\n",
    "\n",
    "#print(mu)\n",
    "# 辞書からリストを復元する\n",
    "#mu = [d['mu_' + str(i)] for i in range(M)]"
   ]
  },
  {
   "cell_type": "code",
   "execution_count": null,
   "metadata": {},
   "outputs": [],
   "source": [
    "from XAFSanalysis import XAFSanalysis_func as func\n",
    "from ipywidgets import (interact, BoundedFloatText, interactive_output, HBox, VBox, Label,\n",
    "                        Text, IntSlider, Layout, Checkbox, SelectMultiple, BoundedIntText,\n",
    "                        Dropdown, Button, Textarea, FloatProgress)\n",
    "unzip_button = Button(\n",
    "    description='Start',\n",
    "    disabled=False,\n",
    "    button_style='', # 'success', 'info', 'warning', 'danger' or ''\n",
    "    tooltip='start unzip npz file',\n",
    "    icon='check' # (FontAwesome names without the `fa-` prefix)\n",
    ")\n",
    "        \n",
    "unzip_progressbar=widgets.FloatProgress(\n",
    "    value=0,\n",
    "    min=0,\n",
    "    max=1,\n",
    "    description='Loading:',\n",
    "    bar_style='info',\n",
    "    style={'bar_color': '#ffff00'},\n",
    "    orientation='horizontal'\n",
    ")\n",
    "\n",
    "label_unzip_button = widgets.HBox([widgets.Label(value=\"Unzip\"), unzip_button])  \n",
    "unzip_button.on_click(func.unzip_data)\n",
    "display(label_unzip_button)"
   ]
  },
  {
   "cell_type": "code",
   "execution_count": null,
   "metadata": {},
   "outputs": [],
   "source": [
    "import numpy as np\n",
    "a = ['a\\n123\\t456','b\\n234\\t567']\n",
    "filename = ['npdata1', 'npdata2']\n",
    "print(a)\n",
    "b = [[10,20],[30,40]]\n",
    "np.savetxt('header.txt', a, fmt='%s')\n",
    "np.save('headerbin.npy', a)\n",
    "atxt=np.load('headerbin.npy')\n",
    "i = 0\n",
    "for aa,bb in zip(atxt,b):\n",
    "    print(f'aa={len(aa)}, bb = {len(bb)}')\n",
    "    np.savetxt(f'escapestr{i}.txt', bb, header=aa, delimiter='\\t')\n",
    "    i =+ 1"
   ]
  },
  {
   "cell_type": "code",
   "execution_count": null,
   "metadata": {},
   "outputs": [],
   "source": [
    "import os\n",
    "import numpy as np\n",
    "NORM_DIRECTORY = r'03\\fit'\n",
    "FT_DIRECTORY = r'03\\fit'\n",
    "FIT_DIRECTORY = r'03\\fit'\n",
    "CHIK_DIRECTORY = r'03\\fit'\n",
    "NORM = 'norm'\n",
    "CHIK = 'chik'\n",
    "FT = 'FT'\n",
    "FIT = 'Fit'\n",
    "FILE_SAFIX = '_results.npz'\n",
    "directorys = [os.path.join(NORM_DIRECTORY, NORM), os.path.join(CHIK_DIRECTORY,CHIK), os.path.join(FT_DIRECTORY,FT), os.path.join(FIT_DIRECTORY, FIT) ]\n",
    "prefixes = [NORM, CHIK, FT, FIT]\n",
    "files = []\n",
    "for directory, prefix in zip(directorys, prefixes):\n",
    "    files.append(os.path.join(directory, f'{prefix}{FILE_SAFIX}'))\n",
    "print(files)\n",
    "d_norm = None\n",
    "d_chik = None\n",
    "d_FT = None\n",
    "d_Fit = None\n",
    "\n",
    "for npz_buff, file in zip([\"d_norm\", \"d_chik\", \"d_FT\", \"d_Fit\"], files):\n",
    "    exec(f'{npz_buff} = np.load(r\"{file}\")')\n",
    "    print(eval(f\"len({npz_buff})\"))\n",
    "print(len(d_norm))\n",
    "for df in d_Fit:\n",
    "     np.savetxt(f\"03/fit/norm/test/{df}\",d_Fit[df])\n"
   ]
  }
 ],
 "metadata": {
  "language_info": {
   "name": "python"
  },
  "orig_nbformat": 4
 },
 "nbformat": 4,
 "nbformat_minor": 2
}
