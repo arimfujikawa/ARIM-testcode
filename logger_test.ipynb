{
 "cells": [
  {
   "cell_type": "markdown",
   "metadata": {},
   "source": [
    "- https://resanaplaza.com/2021/07/23/%E3%80%90%E8%89%AF%E3%81%8F%E5%88%86%E3%81%8B%E3%82%8B%E3%80%91python-logger%E3%81%AE-%E4%BD%BF%E3%81%84%E6%96%B9%E3%81%A8%E6%B3%A8%E6%84%8F%E7%82%B9/"
   ]
  },
  {
   "cell_type": "code",
   "execution_count": null,
   "metadata": {},
   "outputs": [],
   "source": [
    "from multiprocessing import Pool\n",
    "import time\n",
    "import numpy as np\n",
    "import logging\n",
    "# ロガーの生成\n",
    "logger = logging.getLogger('mylog')\n",
    "# 出力レベルの設定\n",
    "logger.setLevel(logging.DEBUG)\n",
    "# ハンドラの生成\n",
    "handler = logging.FileHandler('mylog2.log')\n",
    "# ロガーにハンドラを登録\n",
    "logger.addHandler(handler)\n",
    "# フォーマッタの生成\n",
    "# fmt = logging.Formatter('%(asctime)s %(module)s %(funcName)s %(levelname)s %(lineno)s %(message)s')\n",
    "fmt = logging.Formatter('%(asctime)s %(module)s.%(funcName)s %(lineno)s[%(levelname)s]: %(message)s')\n",
    "\n",
    "# ハンドラにフォーマッタを登録\n",
    "handler.setFormatter(fmt)\n",
    "from  process_cpubound_block_prevent_OverSubscription import wrap_calc, calc\n",
    "CPU_COUNT = 6\n",
    "TIMES = 100\n",
    "N = 120\n",
    "\n",
    "p = Pool(processes=CPU_COUNT)\n",
    "As_list = np.array_split([i for i in range(TIMES)], CPU_COUNT)\n",
    "job_args = [(As, N) for As in As_list]\n",
    "logger.info(f'main args = {job_args}')\n",
    "start = time.time()\n",
    "# print(wrap_calc((2, 100)))\n",
    "# print(calc(2, 100))\n",
    "for result in p.imap_unordered(wrap_calc, job_args):\n",
    "    pass\n",
    "    # print(result)\n",
    "print(time.time()-start)\n",
    "\n"
   ]
  },
  {
   "cell_type": "code",
   "execution_count": 6,
   "metadata": {},
   "outputs": [],
   "source": [
    "%matplotlib notebook\n",
    "import logging\n",
    "logger = logging.getLogger('test')\n",
    "logger.setLevel(logging.DEBUG)\n",
    "formatter = logging.Formatter(\n",
    "    '%(asctime)s - %(name)s - %(levelname)s - %(message)s')\n",
    "\n",
    "# Setup file handler\n",
    "fhandler = logging.FileHandler('my.log')\n",
    "fhandler.setLevel(logging.DEBUG)\n",
    "fhandler.setFormatter(formatter)\n",
    "\n",
    "# Configure stream handler for the cells\n",
    "# chandler = logging.StreamHandler()\n",
    "# chandler.setLevel(logging.DEBUG)\n",
    "# chandler.setFormatter(formatter)\n",
    "\n",
    "# Add both handlers\n",
    "logger.addHandler(fhandler)\n",
    "# logger.addHandler(chandler)\n",
    "logger.setLevel(logging.DEBUG)\n",
    "\n",
    "# Show the handlers\n",
    "logger.handlers\n",
    "\n",
    "# Log Something\n",
    "logger.info(\"Test info\")\n",
    "logger.debug(\"Test debug\")\n",
    "logger.error(\"Test error\")\n"
   ]
  },
  {
   "cell_type": "code",
   "execution_count": null,
   "metadata": {},
   "outputs": [],
   "source": []
  }
 ],
 "metadata": {
  "kernelspec": {
   "display_name": "Python 3 (ipykernel)",
   "language": "python",
   "name": "python3"
  },
  "language_info": {
   "codemirror_mode": {
    "name": "ipython",
    "version": 3
   },
   "file_extension": ".py",
   "mimetype": "text/x-python",
   "name": "python",
   "nbconvert_exporter": "python",
   "pygments_lexer": "ipython3",
   "version": "3.11.1"
  }
 },
 "nbformat": 4,
 "nbformat_minor": 2
}
