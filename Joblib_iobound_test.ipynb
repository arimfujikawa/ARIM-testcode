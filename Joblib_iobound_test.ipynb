{
 "cells": [
  {
   "cell_type": "markdown",
   "metadata": {},
   "source": [
    "# IOバウンド処理のマルチプロセスのテスト"
   ]
  },
  {
   "cell_type": "markdown",
   "metadata": {},
   "source": [
    "### マルチプロセス、スレッドなし"
   ]
  },
  {
   "cell_type": "code",
   "execution_count": null,
   "metadata": {},
   "outputs": [],
   "source": [
    "import time\n",
    "\n",
    "from process_iobound_one_by_one import wrap_calc, calc\n",
    "CPU_COUNT = 1\n",
    "TIMES = 1000\n",
    "N = 10\n",
    "start = time.time()\n",
    "job_args = [(i, N) for i in range(TIMES)]\n",
    "# print(wrap_calc((2, 100)))\n",
    "# print(calc(2, 100))\n",
    "for result in map(wrap_calc, job_args):\n",
    "    pass\n",
    "    # print(result)\n",
    "print(time.time()-start)\n"
   ]
  },
  {
   "cell_type": "markdown",
   "metadata": {},
   "source": [
    "### concurrent.futuresによるIOバウンド処理"
   ]
  },
  {
   "cell_type": "code",
   "execution_count": 2,
   "metadata": {},
   "outputs": [
    {
     "name": "stdout",
     "output_type": "stream",
     "text": [
      "0.42957091331481934\n"
     ]
    }
   ],
   "source": [
    "import time\n",
    "from concurrent.futures import ThreadPoolExecutor\n",
    "import concurrent.futures\n",
    "\n",
    "\n",
    "from  process_iobound_one_by_one import wrap_calc, calc\n",
    "CPU_COUNT = 6\n",
    "TIMES = 1000\n",
    "N = 10\n",
    "\n",
    "job_args = [(i, N) for i in range(TIMES)]\n",
    "start = time.time()\n",
    "with ThreadPoolExecutor(max_workers=CPU_COUNT) as executor:\n",
    "    futures = {executor.submit(wrap_calc, args):args for args in job_args}\n",
    "    for i, future in enumerate(concurrent.futures.as_completed(futures)):\n",
    "        result = futures[future]\n",
    "        # print(result)\n",
    "        # print(future.result())\n",
    "print(time.time()-start)\n"
   ]
  },
  {
   "cell_type": "markdown",
   "metadata": {},
   "source": [
    "### joblibマルチプロセスIOバウンド"
   ]
  },
  {
   "cell_type": "code",
   "execution_count": 1,
   "metadata": {},
   "outputs": [
    {
     "name": "stdout",
     "output_type": "stream",
     "text": [
      "1\n",
      "2.1131396293640137\n"
     ]
    }
   ],
   "source": [
    "import time\n",
    "from joblib import Parallel, delayed\n",
    "\n",
    "from process_iobound_one_by_one import wrap_calc, calc\n",
    "CPU_COUNT = 6\n",
    "TIMES = 1000\n",
    "N = 10\n",
    "\n",
    "job_args = [(i, N) for i in range(TIMES)]\n",
    "\n",
    "start = time.time()\n",
    "# print(wrap_calc((2, 100)))\n",
    "# print(calc(2, 100))\n",
    "for result in Parallel(n_jobs=CPU_COUNT)([delayed(wrap_calc)(args) for args in job_args]):\n",
    "    pass\n",
    "    # print(result)\n",
    "print(time.time()-start)\n"
   ]
  },
  {
   "cell_type": "markdown",
   "metadata": {},
   "source": [
    "0.4から2.1程度で安定しない"
   ]
  },
  {
   "cell_type": "markdown",
   "metadata": {},
   "source": [
    "### joblibスレッドでのIOバウンド処理"
   ]
  },
  {
   "cell_type": "code",
   "execution_count": 1,
   "metadata": {},
   "outputs": [
    {
     "name": "stdout",
     "output_type": "stream",
     "text": [
      "1\n",
      "0.4501981735229492\n"
     ]
    }
   ],
   "source": [
    "import time\n",
    "from joblib import Parallel, delayed\n",
    "\n",
    "from process_iobound_one_by_one import wrap_calc, calc\n",
    "CPU_COUNT = 6\n",
    "TIMES = 1000\n",
    "N = 10\n",
    "\n",
    "job_args = [(i, N) for i in range(TIMES)]\n",
    "\n",
    "start = time.time()\n",
    "# print(wrap_calc((2, 100)))\n",
    "# print(calc(2, 100))\n",
    "for result in Parallel(n_jobs=CPU_COUNT, backend='threading')([delayed(wrap_calc)(args) for args in job_args]):\n",
    "    pass\n",
    "    # print(result)\n",
    "print(time.time()-start)\n"
   ]
  },
  {
   "cell_type": "markdown",
   "metadata": {},
   "source": [
    "#### concurrent.futureとそん色なし👍"
   ]
  },
  {
   "cell_type": "markdown",
   "metadata": {},
   "source": []
  }
 ],
 "metadata": {
  "kernelspec": {
   "display_name": "venv",
   "language": "python",
   "name": "python3"
  },
  "language_info": {
   "codemirror_mode": {
    "name": "ipython",
    "version": 3
   },
   "file_extension": ".py",
   "mimetype": "text/x-python",
   "name": "python",
   "nbconvert_exporter": "python",
   "pygments_lexer": "ipython3",
   "version": "3.11.1"
  }
 },
 "nbformat": 4,
 "nbformat_minor": 2
}
