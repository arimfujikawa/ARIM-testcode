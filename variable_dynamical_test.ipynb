{
 "cells": [
  {
   "attachments": {},
   "cell_type": "markdown",
   "metadata": {},
   "source": [
    "#　動的変数の作成"
   ]
  },
  {
   "attachments": {},
   "cell_type": "markdown",
   "metadata": {},
   "source": [
    "### vars()、exec()、globals()を使用した場合、登録した変数の呼び出し方法が難しい\n",
    "- 未定義の変数が入る"
   ]
  },
  {
   "cell_type": "code",
   "execution_count": 10,
   "metadata": {},
   "outputs": [
    {
     "name": "stdout",
     "output_type": "stream",
     "text": [
      "2\n",
      "A\n"
     ]
    }
   ],
   "source": [
    "\n",
    "a = 'A'\n",
    "vars()[a] = 2\n",
    "# マジックナンバー\n",
    "print(A)\n",
    "print(a)"
   ]
  },
  {
   "cell_type": "code",
   "execution_count": 13,
   "metadata": {},
   "outputs": [
    {
     "name": "stdout",
     "output_type": "stream",
     "text": [
      "2\n",
      "A\n"
     ]
    }
   ],
   "source": [
    "a = 'A'\n",
    "exec(f'{a} = 2')\n",
    "print(A)\n",
    "print(a)\n"
   ]
  },
  {
   "cell_type": "markdown",
   "metadata": {},
   "source": [
    "### globalsの使用"
   ]
  },
  {
   "cell_type": "code",
   "execution_count": 6,
   "metadata": {},
   "outputs": [
    {
     "name": "stdout",
     "output_type": "stream",
     "text": [
      "2\n",
      "A_1\n"
     ]
    }
   ],
   "source": [
    "safix = '_1'\n",
    "a = 'A'\n",
    "var_a = f'{a}{safix}'\n",
    "globals()[var_a] = 2\n",
    "# マジックナンバーになる\n",
    "print(A_1)\n",
    "print(var_a)\n"
   ]
  },
  {
   "cell_type": "markdown",
   "metadata": {},
   "source": [
    "### 辞書を使用"
   ]
  },
  {
   "cell_type": "code",
   "execution_count": 14,
   "metadata": {},
   "outputs": [
    {
     "name": "stdout",
     "output_type": "stream",
     "text": [
      "2\n",
      "3\n"
     ]
    }
   ],
   "source": [
    "a = 'A'\n",
    "safix = '_1'\n",
    "var_a = f'{a}{safix}'\n",
    "variables_dict = {var_a:2}\n",
    "print(variables_dict[var_a])\n",
    "b = 'B'\n",
    "var_b = f'{b}{safix}'\n",
    "variables_dict[var_b] = 3\n",
    "print(variables_dict[var_b])"
   ]
  },
  {
   "attachments": {},
   "cell_type": "markdown",
   "metadata": {},
   "source": [
    "### classでsetattr()を用いる"
   ]
  },
  {
   "cell_type": "code",
   "execution_count": 4,
   "metadata": {},
   "outputs": [
    {
     "name": "stdout",
     "output_type": "stream",
     "text": [
      "2\n",
      "3\n",
      "10\n"
     ]
    }
   ],
   "source": [
    "class TestVar():\n",
    "    pass\n",
    "\n",
    "a = 'A'\n",
    "safix = '_1'\n",
    "var_a = f'{a}{safix}'\n",
    "setattr(TestVar, var_a, 2)\n",
    "print(getattr(TestVar, var_a))\n",
    "b = 'B'\n",
    "var_b = f'{b}{safix}'\n",
    "setattr(TestVar, var_b, 3)\n",
    "print(getattr(TestVar, var_b))\n",
    "TestVar.A = 10\n",
    "print(TestVar.A)"
   ]
  }
 ],
 "metadata": {
  "kernelspec": {
   "display_name": "venv",
   "language": "python",
   "name": "python3"
  },
  "language_info": {
   "codemirror_mode": {
    "name": "ipython",
    "version": 3
   },
   "file_extension": ".py",
   "mimetype": "text/x-python",
   "name": "python",
   "nbconvert_exporter": "python",
   "pygments_lexer": "ipython3",
   "version": "3.11.1"
  },
  "orig_nbformat": 4
 },
 "nbformat": 4,
 "nbformat_minor": 2
}
