{
 "cells": [
  {
   "cell_type": "markdown",
   "metadata": {},
   "source": [
    "# リストのテスト"
   ]
  },
  {
   "cell_type": "markdown",
   "metadata": {},
   "source": [
    "### 指定した値に対応した要素を抜き出す"
   ]
  },
  {
   "cell_type": "markdown",
   "metadata": {},
   "source": [
    "- インデックスがあるリストを辞書にしてから"
   ]
  },
  {
   "cell_type": "code",
   "execution_count": 1,
   "metadata": {},
   "outputs": [
    {
     "name": "stdout",
     "output_type": "stream",
     "text": [
      "['deltar']\n",
      "deltar\n",
      "deltar\n",
      "deltar\n",
      "deltar\n"
     ]
    }
   ],
   "source": [
    "SELECT_OPTIONS = [('S02', 0), ('enot', 1), ('deltar', 2), ('sigma2', 3), (\n",
    "    'third', 4), ('forth', 5), ('ei', 6)]\n",
    "d1 = dict(SELECT_OPTIONS)\n",
    "select_name = [k for k,v in d1.items() if v == 2]\n",
    "print(select_name)\n",
    "print(select_name[0])\n",
    "print(','.join(map(str,select_name)))\n",
    "print(''.join(select_name))\n",
    "print(*select_name)"
   ]
  },
  {
   "attachments": {},
   "cell_type": "markdown",
   "metadata": {},
   "source": [
    "### リスト要素の判定"
   ]
  },
  {
   "cell_type": "markdown",
   "metadata": {},
   "source": [
    "- boolのTrueがあるかどうかインデックスで返す"
   ]
  },
  {
   "cell_type": "code",
   "execution_count": 2,
   "metadata": {},
   "outputs": [
    {
     "name": "stdout",
     "output_type": "stream",
     "text": [
      "[0, 2]\n"
     ]
    }
   ],
   "source": [
    "bool_list = [True, False, True]\n",
    "if True in bool_list:   \n",
    "    print([i for i, bool in enumerate(bool_list) if bool is True])"
   ]
  },
  {
   "cell_type": "markdown",
   "metadata": {},
   "source": [
    "- リストが空かどうか"
   ]
  },
  {
   "cell_type": "code",
   "execution_count": 4,
   "metadata": {},
   "outputs": [
    {
     "name": "stdout",
     "output_type": "stream",
     "text": [
      "False\n",
      "True\n"
     ]
    }
   ],
   "source": [
    "blank_list = []\n",
    "occupied_list = [1, 2]\n",
    "print(bool(blank_list))\n",
    "print(bool(occupied_list))\n",
    "    "
   ]
  },
  {
   "cell_type": "markdown",
   "metadata": {},
   "source": [
    "### 多次元の動的リスト作成"
   ]
  },
  {
   "cell_type": "code",
   "execution_count": 3,
   "metadata": {},
   "outputs": [
    {
     "name": "stdout",
     "output_type": "stream",
     "text": [
      "[0, 1, 2]\n",
      "[3, 4, 5]\n",
      "[[0, 1, 2], [3, 4, 5]]\n"
     ]
    }
   ],
   "source": [
    "l_a = [i for i in range(3)]\n",
    "l_b = [i for i in range(3, 6)]\n",
    "print(l_a)\n",
    "print(l_b)\n",
    "l_o = []\n",
    "l_o.append(l_a)\n",
    "l_o.append(l_b)\n",
    "print(l_o)\n"
   ]
  },
  {
   "cell_type": "code",
   "execution_count": 1,
   "metadata": {},
   "outputs": [
    {
     "name": "stdout",
     "output_type": "stream",
     "text": [
      "[[1, 3], [1, 4], [2, 3], [2, 4]]\n",
      "[[5, 7], [5, 8], [6, 7], [6, 8]]\n",
      "[[[1, 3], [1, 4], [2, 3], [2, 4]],\n",
      " [[5, 7], [5, 8], [6, 7], [6, 8]]]\n",
      "[[[1, 3], [1, 4], [2, 3], [2, 4],\n",
      "  [10, 20]],\n",
      " [[5, 7], [5, 8], [6, 7], [6, 8]]]\n",
      "[[[1, 3], [1, 4], [2, 3], [2, 4],\n",
      "  [10, 20]],\n",
      " [[5, 7, [10, 20]], [5, 8], [6, 7],\n",
      "  [6, 8]]]\n",
      "[[[1, 3], [1, 4], [2, 3], [2, 4],\n",
      "  [10, 20]],\n",
      " [[5, 7, [10, 20]], [5, 8], [6, 7],\n",
      "  [6, 8], [10, 20]]]\n"
     ]
    }
   ],
   "source": [
    "from pprint import PrettyPrinter as pp\n",
    "ppw41cT= pp(width=41, compact=True)\n",
    "l_a = [[i, j] for i in range(1, 3) for j in range(3, 5)]\n",
    "l_b = [[i, j] for i in range(5, 7) for j in range(7, 9)]\n",
    "print(l_a)\n",
    "print(l_b)\n",
    "l_o = []\n",
    "l_o.append(l_a)\n",
    "l_o.append(l_b)\n",
    "ppw41cT.pprint(l_o)\n",
    "\n",
    "# 別のリストを後から追加してみる\n",
    "l_c = [10, 20]\n",
    "l_o[0].append(l_c)\n",
    "ppw41cT.pprint(l_o)\n",
    "l_o[1][0].append(l_c)\n",
    "ppw41cT.pprint(l_o)\n",
    "# l_oの2番目の要素の参照\n",
    "l_o_1 = l_o[1]\n",
    "# l_o_1がlistなら要素を加える\n",
    "if isinstance(l_o_1, list):\n",
    "    l_o_1.append(l_c)\n",
    "# 参照渡しなので元のリストに影響する\n",
    "ppw41cT.pprint(l_o)\n"
   ]
  },
  {
   "cell_type": "markdown",
   "metadata": {},
   "source": [
    "### リストのコピー"
   ]
  },
  {
   "cell_type": "markdown",
   "metadata": {},
   "source": [
    "- 元リストの変更をディープコピーで防ぐ"
   ]
  },
  {
   "cell_type": "code",
   "execution_count": 10,
   "metadata": {},
   "outputs": [
    {
     "name": "stdout",
     "output_type": "stream",
     "text": [
      "2\n",
      "5\n",
      "[[1, 2], [3, 4]]\n",
      "[1, 2]\n",
      "[1, 2, 5]\n",
      "[[1, 2, 5], [3, 4]]\n",
      "もとの値が変わらにように\n",
      "まずは元リスト\n",
      "[[1, 2], [3, 4]]\n",
      "[1, 2]\n",
      "変更後\n",
      "[[1, 2, 5], [3, 4]]\n",
      "元データは変わらない\n",
      "[[1, 2], [3, 4]]\n"
     ]
    }
   ],
   "source": [
    "import copy\n",
    "\n",
    "a = [[1, 2], [3, 4]]\n",
    "# ディープコピーしておく\n",
    "b = copy.deepcopy(a)\n",
    "# intなのでイミュータブル\n",
    "c = a[0][1]\n",
    "print(c)\n",
    "c = 5\n",
    "print(c)\n",
    "print(a)\n",
    "# リストなので参照\n",
    "d = a[0]\n",
    "print(d)\n",
    "d.append(5)\n",
    "print(d)\n",
    "print(a)\n",
    "\n",
    "print('もとの値が変わらにように')\n",
    "print('まずは元リスト')\n",
    "print(b)\n",
    "# ディープコピーでリストをコピー\n",
    "e = copy.deepcopy(b)\n",
    "f = e[0]\n",
    "print(f)\n",
    "f.append(5)\n",
    "print('変更後')\n",
    "print(e)\n",
    "print('元データは変わらない')\n",
    "print(b)\n"
   ]
  },
  {
   "cell_type": "code",
   "execution_count": 12,
   "metadata": {},
   "outputs": [
    {
     "name": "stdout",
     "output_type": "stream",
     "text": [
      "[2, 4]\n",
      "[2, 4, 5]:2972876796736\n",
      "[[1, 2], [3, 4]]:2972853568448\n"
     ]
    }
   ],
   "source": [
    "import copy\n",
    "\n",
    "a = [[1, 2], [3, 4]]\n",
    "# ディープコピーしておく\n",
    "# intなのでイミュータブル\n",
    "b = [inner_list[1] for inner_list in a]\n",
    "print(b)\n",
    "b.append(5)\n",
    "\n",
    "print(f'{b}:{id(b)}')\n",
    "print(f'{a}:{id(a)}')\n"
   ]
  },
  {
   "cell_type": "markdown",
   "metadata": {},
   "source": [
    "### 2次元リストのスライス\n",
    "- numpyと違い内包表記と組み合わせる"
   ]
  },
  {
   "cell_type": "code",
   "execution_count": 2,
   "metadata": {},
   "outputs": [
    {
     "name": "stdout",
     "output_type": "stream",
     "text": [
      "[6, 8, 12, 16, 24, 32, 36]\n"
     ]
    }
   ],
   "source": [
    "samples = [[6, 177], [8, 151], [12,108], [16, 121], [24, 85], [32, 117], [36, 64]]\n",
    "first_elements = [inner[0] for inner in samples]\n",
    "print(first_elements)"
   ]
  }
 ],
 "metadata": {
  "kernelspec": {
   "display_name": "venv",
   "language": "python",
   "name": "python3"
  },
  "language_info": {
   "codemirror_mode": {
    "name": "ipython",
    "version": 3
   },
   "file_extension": ".py",
   "mimetype": "text/x-python",
   "name": "python",
   "nbconvert_exporter": "python",
   "pygments_lexer": "ipython3",
   "version": "3.11.1"
  },
  "orig_nbformat": 4
 },
 "nbformat": 4,
 "nbformat_minor": 2
}
