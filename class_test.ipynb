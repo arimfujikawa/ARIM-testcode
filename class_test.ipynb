{
 "cells": [
  {
   "cell_type": "markdown",
   "metadata": {},
   "source": [
    "# classの構造"
   ]
  },
  {
   "cell_type": "markdown",
   "metadata": {},
   "source": [
    "### ネスト\n"
   ]
  },
  {
   "cell_type": "code",
   "execution_count": 1,
   "metadata": {},
   "outputs": [
    {
     "name": "stdout",
     "output_type": "stream",
     "text": [
      "A_1 = 1\n",
      "A_2 = 2\n"
     ]
    }
   ],
   "source": [
    "class A:\n",
    "    class A_1:\n",
    "        def __init__(self, a_1):\n",
    "            self.a_1 = a_1\n",
    "        def show(self):\n",
    "            print(f'A_1 = {self.a_1}')\n",
    "    \n",
    "    class A_2:\n",
    "        def __init__(self, a_2):\n",
    "            self.a_2 = a_2\n",
    "        def show(self):\n",
    "            print(f'A_2 = {self.a_2}')\n",
    "            \n",
    "    def __init__(self, a):\n",
    "        \n",
    "        self.a1 = A.A_1(a[0])\n",
    "        self.a2 = A.A_2(a[1])\n",
    "    \n",
    "    def show(self):\n",
    "        self.a1.show()\n",
    "        self.a2.show()\n",
    "        \n",
    "a = A([1, 2])\n",
    "a.show()\n",
    "    "
   ]
  },
  {
   "cell_type": "markdown",
   "metadata": {},
   "source": [
    "### 変数のスコープ"
   ]
  },
  {
   "cell_type": "code",
   "execution_count": 5,
   "metadata": {},
   "outputs": [
    {
     "name": "stdout",
     "output_type": "stream",
     "text": [
      "A_1.key = 1\n",
      "A var a = [1, 2]\n",
      "A_2.value = 2\n"
     ]
    }
   ],
   "source": [
    "class A:\n",
    "    s = '.value'\n",
    "    class A_1:\n",
    "        def __init__(self, a, a_1):\n",
    "            self.a_1 = a_1\n",
    "            self.a_1_a = a\n",
    "        def show(self, s_ini):\n",
    "            print(f'A_1{s_ini} = {self.a_1}')\n",
    "            print(f'A var a = {self.a_1_a}')\n",
    "\n",
    "    class A_2:\n",
    "        def __init__(self, a_2):\n",
    "            self.a_2 = a_2\n",
    "        def show(self):\n",
    "            print(f'A_2{A.s} = {self.a_2}')\n",
    "\n",
    "    def __init__(self, a):\n",
    "        self.a1 = A.A_1(a, a[0])\n",
    "        self.a2 = A.A_2(a[1])\n",
    "        self.s_ini = '.key'\n",
    "        # ネストしたクラスでは使えない\n",
    "        self.a = a\n",
    "        \n",
    "    def show(self):\n",
    "        self.a1.show(self.s_ini)\n",
    "        self.a2.show()\n",
    "\n",
    "a = A([1, 2])\n",
    "a.show()"
   ]
  },
  {
   "cell_type": "markdown",
   "metadata": {},
   "source": [
    "- ネスト3階層"
   ]
  },
  {
   "cell_type": "code",
   "execution_count": 7,
   "metadata": {},
   "outputs": [
    {
     "name": "stdout",
     "output_type": "stream",
     "text": [
      "A_1.key = 1\n",
      "A_2.value = 6\n"
     ]
    }
   ],
   "source": [
    "class A:\n",
    "    s = '.value'\n",
    "    class A_1:\n",
    "        def __init__(self, a_1):\n",
    "            self.a_1 = a_1\n",
    "        def show(self, s_ini):\n",
    "            print(f'A_1{s_ini} = {self.a_1}')\n",
    "            return self.a_1*3\n",
    "\n",
    "    class A_2:\n",
    "        def __init__(self, a_2):\n",
    "            self.a_2 = a_2\n",
    "        \n",
    "        def show(self):\n",
    "            # ここからはクラスではないのでselfは渡さなくてもよい\n",
    "            def calc(value):\n",
    "                return value*3\n",
    "            print(f'A_2{A.s} = {calc(self.a_2)}')\n",
    "\n",
    "    def __init__(self, a):\n",
    "        self.a1 = A.A_1(a[0])\n",
    "        self.a2 = A.A_2(a[1])\n",
    "        self.s_ini = '.key'\n",
    "        \n",
    "    def show(self):\n",
    "        value = self.a1.show(self.s_ini)\n",
    "        self.a2.show()\n",
    "\n",
    "a = A([1, 2])\n",
    "a.show()"
   ]
  },
  {
   "cell_type": "markdown",
   "metadata": {},
   "source": [
    "### ネストされたクラスのデータを再利用"
   ]
  },
  {
   "cell_type": "code",
   "execution_count": null,
   "metadata": {},
   "outputs": [
    {
     "name": "stdout",
     "output_type": "stream",
     "text": [
      "A_1.key = 1\n",
      "A_2.value = 2\n",
      "30\n"
     ]
    }
   ],
   "source": [
    "class A:\n",
    "    s = '.value'\n",
    "    class A_1:\n",
    "        def __init__(self, a_1):\n",
    "            self.a_1 = a_1\n",
    "        def show(self, s_ini):\n",
    "            print(f'A_1{s_ini} = {self.a_1}')\n",
    "            return self.a_1*3\n",
    "\n",
    "    class A_2:\n",
    "        def __init__(self, a_2):\n",
    "            self.a_2 = a_2\n",
    "\n",
    "        def calc(self, value):\n",
    "            return value*3\n",
    "        def show(self):\n",
    "            print(f'A_2{A.s} = {self.calc(self.a_2)}')\n",
    "\n",
    "    def __init__(self, a):\n",
    "        self.a1 = A.A_1(a[0])\n",
    "        self.a2 = A.A_2(a[1])\n",
    "        self.s_ini = '.key'\n",
    "        \n",
    "    def show(self):\n",
    "        value = self.a1.show(self.s_ini)\n",
    "        self.a2.show()\n",
    "        print(self.calc(value))\n",
    "    \n",
    "    def calc(self, value):\n",
    "        return value*10\n",
    "        \n",
    "\n",
    "a = A([1, 2])\n",
    "a.show()"
   ]
  },
  {
   "cell_type": "markdown",
   "metadata": {},
   "source": [
    "### ネストされたクラス同士の変数の取り扱い"
   ]
  },
  {
   "cell_type": "code",
   "execution_count": 1,
   "metadata": {},
   "outputs": [
    {
     "name": "stdout",
     "output_type": "stream",
     "text": [
      "A_1.key = 1\n",
      "A_2.value = 6\n",
      "a_1 in A_2 = 5 \n",
      "30\n"
     ]
    }
   ],
   "source": [
    "class A:\n",
    "    s = '.value'\n",
    "    class A_1:\n",
    "        def __init__(self, a_1):\n",
    "            self.a_1 = a_1\n",
    "        def show(self, s_ini):\n",
    "            print(f'A_1{s_ini} = {self.a_1}')\n",
    "            return self.a_1*3\n",
    "        def put(self):\n",
    "            return self.a_1 * 5\n",
    "\n",
    "    class A_2:\n",
    "        def __init__(self, a_2, a_1):\n",
    "            self.a_2 = a_2\n",
    "            self.a_1 = a_1\n",
    "\n",
    "        def calc(self, value):\n",
    "            return value*3\n",
    "        \n",
    "        def show(self):\n",
    "            print(f'A_2{A.s} = {self.calc(self.a_2)}')\n",
    "            print(f'a_1 in A_2 = {self.a_1} ')\n",
    "            \n",
    "    def __init__(self, a):\n",
    "        self.a1 = A.A_1(a[0])\n",
    "        self.a2 = A.A_2(a[1], self.a1.put())\n",
    "        self.s_ini = '.key'\n",
    "        \n",
    "    def show(self):\n",
    "        value = self.a1.show(self.s_ini)\n",
    "        self.a2.show()\n",
    "        print(self.calc(value))\n",
    "    \n",
    "    def calc(self, value):\n",
    "        return value*10\n",
    "        \n",
    "\n",
    "a = A([1, 2])\n",
    "a.show()"
   ]
  },
  {
   "cell_type": "markdown",
   "metadata": {},
   "source": [
    "### クラスメソッド\n",
    "- インスタンス無"
   ]
  },
  {
   "cell_type": "code",
   "execution_count": 3,
   "metadata": {},
   "outputs": [
    {
     "name": "stdout",
     "output_type": "stream",
     "text": [
      "3\n"
     ]
    }
   ],
   "source": [
    "class A:\n",
    "    A = 1\n",
    "    B = 2\n",
    "    \n",
    "    @classmethod\n",
    "    def calc(cls):\n",
    "        print(cls.A + cls.B)\n",
    "\n",
    "A.calc()\n"
   ]
  },
  {
   "cell_type": "markdown",
   "metadata": {},
   "source": [
    "### 属性、メソッド情報の取得"
   ]
  },
  {
   "cell_type": "code",
   "execution_count": 8,
   "metadata": {},
   "outputs": [
    {
     "name": "stdout",
     "output_type": "stream",
     "text": [
      "[   (   'A',\n",
      "        1),\n",
      "    (   'B',\n",
      "        2),\n",
      "    (   '__class__',\n",
      "        <class 'type'>),\n",
      "    (   '__delattr__',\n",
      "        <slot wrapper '__delattr__' of 'object' objects>),\n",
      "    (   '__dict__',\n",
      "        mappingproxy({   'A': 1,\n",
      "                         'B': 2,\n",
      "                         '__dict__': <attribute '__dict__' of 'A' objects>,\n",
      "                         '__doc__': None,\n",
      "                         '__module__': '__main__',\n",
      "                         '__weakref__': <attribute '__weakref__' of 'A' objects>,\n",
      "                         'calc': <classmethod(<function A.calc at 0x0000014E7DDEB9C0>)>})),\n",
      "    (   '__dir__',\n",
      "        <method '__dir__' of 'object' objects>),\n",
      "    (   '__doc__',\n",
      "        None),\n",
      "    (   '__eq__',\n",
      "        <slot wrapper '__eq__' of 'object' objects>),\n",
      "    (   '__format__',\n",
      "        <method '__format__' of 'object' objects>),\n",
      "    (   '__ge__',\n",
      "        <slot wrapper '__ge__' of 'object' objects>),\n",
      "    (   '__getattribute__',\n",
      "        <slot wrapper '__getattribute__' of 'object' objects>),\n",
      "    (   '__getstate__',\n",
      "        <method '__getstate__' of 'object' objects>),\n",
      "    (   '__gt__',\n",
      "        <slot wrapper '__gt__' of 'object' objects>),\n",
      "    (   '__hash__',\n",
      "        <slot wrapper '__hash__' of 'object' objects>),\n",
      "    (   '__init__',\n",
      "        <slot wrapper '__init__' of 'object' objects>),\n",
      "    (   '__init_subclass__',\n",
      "        <built-in method __init_subclass__ of type object at 0x0000014E7CC48990>),\n",
      "    (   '__le__',\n",
      "        <slot wrapper '__le__' of 'object' objects>),\n",
      "    (   '__lt__',\n",
      "        <slot wrapper '__lt__' of 'object' objects>),\n",
      "    (   '__module__',\n",
      "        '__main__'),\n",
      "    (   '__ne__',\n",
      "        <slot wrapper '__ne__' of 'object' objects>),\n",
      "    (   '__new__',\n",
      "        <built-in method __new__ of type object at 0x00007FF901FA8DF0>),\n",
      "    (   '__reduce__',\n",
      "        <method '__reduce__' of 'object' objects>),\n",
      "    (   '__reduce_ex__',\n",
      "        <method '__reduce_ex__' of 'object' objects>),\n",
      "    (   '__repr__',\n",
      "        <slot wrapper '__repr__' of 'object' objects>),\n",
      "    (   '__setattr__',\n",
      "        <slot wrapper '__setattr__' of 'object' objects>),\n",
      "    (   '__sizeof__',\n",
      "        <method '__sizeof__' of 'object' objects>),\n",
      "    (   '__str__',\n",
      "        <slot wrapper '__str__' of 'object' objects>),\n",
      "    (   '__subclasshook__',\n",
      "        <built-in method __subclasshook__ of type object at 0x0000014E7CC48990>),\n",
      "    (   '__weakref__',\n",
      "        <attribute '__weakref__' of 'A' objects>),\n",
      "    (   'calc',\n",
      "        <bound method A.calc of <class '__main__.A'>>)]\n"
     ]
    }
   ],
   "source": [
    "import inspect\n",
    "from pprint import pprint as pp\n",
    "\n",
    "class A:\n",
    "    A = 1\n",
    "    B = 2\n",
    "    \n",
    "    @classmethod\n",
    "    def calc(cls):\n",
    "        print(cls.A + cls.B)\n",
    "\n",
    "\n",
    "# pp(dir(A), indent=4, width=1)\n",
    "pp(inspect.getmembers(A), indent=4, width=1)\n"
   ]
  },
  {
   "cell_type": "markdown",
   "metadata": {},
   "source": [
    "### inspect.getmembersではネストは表示できない"
   ]
  },
  {
   "cell_type": "code",
   "execution_count": 9,
   "metadata": {},
   "outputs": [
    {
     "name": "stdout",
     "output_type": "stream",
     "text": [
      "[   (   'A_1',\n",
      "        <class '__main__.A.A_1'>),\n",
      "    (   'A_2',\n",
      "        <class '__main__.A.A_2'>),\n",
      "    (   '__class__',\n",
      "        <class 'type'>),\n",
      "    (   '__delattr__',\n",
      "        <slot wrapper '__delattr__' of 'object' objects>),\n",
      "    (   '__dict__',\n",
      "        mappingproxy({   'A_1': <class '__main__.A.A_1'>,\n",
      "                         'A_2': <class '__main__.A.A_2'>,\n",
      "                         '__dict__': <attribute '__dict__' of 'A' objects>,\n",
      "                         '__doc__': None,\n",
      "                         '__init__': <function A.__init__ at 0x0000014E7DDEBF60>,\n",
      "                         '__module__': '__main__',\n",
      "                         '__weakref__': <attribute '__weakref__' of 'A' objects>,\n",
      "                         'calc': <function A.calc at 0x0000014E7E2E4720>,\n",
      "                         's': '.value',\n",
      "                         'show': <function A.show at 0x0000014E7E2E45E0>})),\n",
      "    (   '__dir__',\n",
      "        <method '__dir__' of 'object' objects>),\n",
      "    (   '__doc__',\n",
      "        None),\n",
      "    (   '__eq__',\n",
      "        <slot wrapper '__eq__' of 'object' objects>),\n",
      "    (   '__format__',\n",
      "        <method '__format__' of 'object' objects>),\n",
      "    (   '__ge__',\n",
      "        <slot wrapper '__ge__' of 'object' objects>),\n",
      "    (   '__getattribute__',\n",
      "        <slot wrapper '__getattribute__' of 'object' objects>),\n",
      "    (   '__getstate__',\n",
      "        <method '__getstate__' of 'object' objects>),\n",
      "    (   '__gt__',\n",
      "        <slot wrapper '__gt__' of 'object' objects>),\n",
      "    (   '__hash__',\n",
      "        <slot wrapper '__hash__' of 'object' objects>),\n",
      "    (   '__init__',\n",
      "        <function A.__init__ at 0x0000014E7DDEBF60>),\n",
      "    (   '__init_subclass__',\n",
      "        <built-in method __init_subclass__ of type object at 0x0000014E7CC44120>),\n",
      "    (   '__le__',\n",
      "        <slot wrapper '__le__' of 'object' objects>),\n",
      "    (   '__lt__',\n",
      "        <slot wrapper '__lt__' of 'object' objects>),\n",
      "    (   '__module__',\n",
      "        '__main__'),\n",
      "    (   '__ne__',\n",
      "        <slot wrapper '__ne__' of 'object' objects>),\n",
      "    (   '__new__',\n",
      "        <built-in method __new__ of type object at 0x00007FF901FA8DF0>),\n",
      "    (   '__reduce__',\n",
      "        <method '__reduce__' of 'object' objects>),\n",
      "    (   '__reduce_ex__',\n",
      "        <method '__reduce_ex__' of 'object' objects>),\n",
      "    (   '__repr__',\n",
      "        <slot wrapper '__repr__' of 'object' objects>),\n",
      "    (   '__setattr__',\n",
      "        <slot wrapper '__setattr__' of 'object' objects>),\n",
      "    (   '__sizeof__',\n",
      "        <method '__sizeof__' of 'object' objects>),\n",
      "    (   '__str__',\n",
      "        <slot wrapper '__str__' of 'object' objects>),\n",
      "    (   '__subclasshook__',\n",
      "        <built-in method __subclasshook__ of type object at 0x0000014E7CC44120>),\n",
      "    (   '__weakref__',\n",
      "        <attribute '__weakref__' of 'A' objects>),\n",
      "    (   'calc',\n",
      "        <function A.calc at 0x0000014E7E2E4720>),\n",
      "    (   's',\n",
      "        '.value'),\n",
      "    (   'show',\n",
      "        <function A.show at 0x0000014E7E2E45E0>)]\n"
     ]
    }
   ],
   "source": [
    "import inspect\n",
    "from pprint import pprint as pp\n",
    "\n",
    "class A:\n",
    "    s = '.value'\n",
    "    class A_1:\n",
    "        def __init__(self, a_1):\n",
    "            self.a_1 = a_1\n",
    "        def show(self, s_ini):\n",
    "            print(f'A_1{s_ini} = {self.a_1}')\n",
    "            return self.a_1*3\n",
    "        def put(self):\n",
    "            return self.a_1 * 5\n",
    "\n",
    "    class A_2:\n",
    "        def __init__(self, a_2, a_1):\n",
    "            self.a_2 = a_2\n",
    "            self.a_1 = a_1\n",
    "\n",
    "        def calc(self, value):\n",
    "            return value*3\n",
    "        \n",
    "        def show(self):\n",
    "            print(f'A_2{A.s} = {self.calc(self.a_2)}')\n",
    "            print(f'a_1 in A_2 = {self.a_1} ')\n",
    "            \n",
    "    def __init__(self, a):\n",
    "        self.a1 = A.A_1(a[0])\n",
    "        self.a2 = A.A_2(a[1], self.a1.put())\n",
    "        self.s_ini = '.key'\n",
    "        \n",
    "    def show(self):\n",
    "        value = self.a1.show(self.s_ini)\n",
    "        self.a2.show()\n",
    "        print(self.calc(value))\n",
    "    \n",
    "    def calc(self, value):\n",
    "        return value*10\n",
    "        \n",
    "\n",
    "pp(inspect.getmembers(A), indent=4, width=1)\n"
   ]
  }
 ],
 "metadata": {
  "kernelspec": {
   "display_name": "venv",
   "language": "python",
   "name": "python3"
  },
  "language_info": {
   "codemirror_mode": {
    "name": "ipython",
    "version": 3
   },
   "file_extension": ".py",
   "mimetype": "text/x-python",
   "name": "python",
   "nbconvert_exporter": "python",
   "pygments_lexer": "ipython3",
   "version": "3.11.1"
  },
  "orig_nbformat": 4
 },
 "nbformat": 4,
 "nbformat_minor": 2
}
