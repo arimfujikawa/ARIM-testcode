{
 "cells": [
  {
   "cell_type": "code",
   "execution_count": 17,
   "metadata": {},
   "outputs": [
    {
     "ename": "ConnectionRefusedError",
     "evalue": "[WinError 10061] 対象のコンピューターによって拒否されたため、接続できませんでした。",
     "output_type": "error",
     "traceback": [
      "\u001b[1;31m---------------------------------------------------------------------------\u001b[0m",
      "\u001b[1;31mConnectionRefusedError\u001b[0m                    Traceback (most recent call last)",
      "Cell \u001b[1;32mIn [17], line 42\u001b[0m\n\u001b[0;32m     40\u001b[0m line \u001b[39m=\u001b[39m \u001b[39m\"\u001b[39m\u001b[39mmv\u001b[39m\u001b[39m\"\u001b[39m\n\u001b[0;32m     41\u001b[0m \u001b[39mfor\u001b[39;00m _ \u001b[39min\u001b[39;00m \u001b[39mrange\u001b[39m(\u001b[39m1\u001b[39m):\n\u001b[1;32m---> 42\u001b[0m     tcp_client(line)\n\u001b[0;32m     43\u001b[0m     time\u001b[39m.\u001b[39msleep(\u001b[39m3\u001b[39m)\n\u001b[0;32m     44\u001b[0m line \u001b[39m=\u001b[39m \u001b[39m\"\u001b[39m\u001b[39mstop\u001b[39m\u001b[39m\"\u001b[39m\n",
      "Cell \u001b[1;32mIn [17], line 20\u001b[0m, in \u001b[0;36mtcp_client\u001b[1;34m(data)\u001b[0m\n\u001b[0;32m     16\u001b[0m \u001b[39m# ソケット作成 (INETドメインのTCPソケット)\u001b[39;00m\n\u001b[0;32m     17\u001b[0m \u001b[39mwith\u001b[39;00m socket\u001b[39m.\u001b[39msocket(socket\u001b[39m.\u001b[39mAF_INET, socket\u001b[39m.\u001b[39mSOCK_STREAM) \u001b[39mas\u001b[39;00m sock:\n\u001b[0;32m     18\u001b[0m \n\u001b[0;32m     19\u001b[0m     \u001b[39m# サーバに接続\u001b[39;00m\n\u001b[1;32m---> 20\u001b[0m     sock\u001b[39m.\u001b[39;49mconnect((ADDR, PORT))\n\u001b[0;32m     24\u001b[0m     \u001b[39m# データ送信\u001b[39;00m\n\u001b[0;32m     25\u001b[0m     \u001b[39m# (データ本体を文字コードutf-8としてbytesオブジェクトに変換)\u001b[39;00m\n\u001b[0;32m     26\u001b[0m     sock\u001b[39m.\u001b[39msendall(\u001b[39mbytes\u001b[39m(data, \u001b[39m'\u001b[39m\u001b[39mutf-8\u001b[39m\u001b[39m'\u001b[39m))\n",
      "\u001b[1;31mConnectionRefusedError\u001b[0m: [WinError 10061] 対象のコンピューターによって拒否されたため、接続できませんでした。"
     ]
    }
   ],
   "source": [
    "\n",
    "import socket\n",
    "import time\n",
    "from struct import pack, unpack\n",
    "\n",
    "# ヘッダサイズ (固定長)\n",
    "HEADER_SIZE = 4\n",
    "\n",
    "# サーバのアドレスとポート (サーバ側の設定と合わせること)\n",
    "ADDR = \"133.53.174.44\"\n",
    "PORT = 50550\n",
    "\n",
    "\n",
    "def tcp_client(data: str) -> None:\n",
    "    \"\"\"クライアント処理.\"\"\"\n",
    "\n",
    "    # ソケット作成 (INETドメインのTCPソケット)\n",
    "    with socket.socket(socket.AF_INET, socket.SOCK_STREAM) as sock:\n",
    "\n",
    "        # サーバに接続\n",
    "        sock.connect((ADDR, PORT))\n",
    "\n",
    "\n",
    "\n",
    "        # データ送信\n",
    "        # (データ本体を文字コードutf-8としてbytesオブジェクトに変換)\n",
    "        sock.sendall(bytes(data, 'utf-8'))\n",
    "        received = ''\n",
    "        # データ本体の受信\n",
    "        while 1:\n",
    "            received = sock.recv(4096).decode()\n",
    "            if received is not None:\n",
    "                break\n",
    "            time.sleep(0.2)\n",
    "\n",
    "    print(\"Sent:     {}\".format(data))\n",
    "    print(\"Received: {}\".format(received))\n",
    "    print('.rejected' in received)\n",
    "\n",
    "\n",
    "line = \"mv\"\n",
    "for _ in range(1):\n",
    "    tcp_client(line)\n",
    "    time.sleep(3)\n",
    "line = \"stop\"\n",
    "tcp_client(line)\n",
    "\n"
   ]
  }
 ],
 "metadata": {
  "kernelspec": {
   "display_name": "Python 3",
   "language": "python",
   "name": "python3"
  },
  "language_info": {
   "codemirror_mode": {
    "name": "ipython",
    "version": 3
   },
   "file_extension": ".py",
   "mimetype": "text/x-python",
   "name": "python",
   "nbconvert_exporter": "python",
   "pygments_lexer": "ipython3",
   "version": "3.10.7 (tags/v3.10.7:6cc6b13, Sep  5 2022, 14:08:36) [MSC v.1933 64 bit (AMD64)]"
  },
  "orig_nbformat": 4,
  "vscode": {
   "interpreter": {
    "hash": "beedbe2faf2f7048d727558d0bc3221e7eba2a0b921cac4d4771b2feb8f74b30"
   }
  }
 },
 "nbformat": 4,
 "nbformat_minor": 2
}
