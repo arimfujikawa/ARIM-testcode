{
 "cells": [
  {
   "cell_type": "markdown",
   "metadata": {},
   "source": [
    "# エクステンションの効果\n",
    "\n",
    "pylance:入力補完、import 補助\n",
    "ndent-rainbow：インデントの色分け  \n",
    "Zenkaku：全角スペースの可視化  \n",
    "Trailing Spaces：行末の空白可視化  \n",
    "TODOTree：TODO,FIXME などのアノテーションの有効化\n"
   ]
  },
  {
   "cell_type": "code",
   "execution_count": 2,
   "metadata": {},
   "outputs": [
    {
     "name": "stdout",
     "output_type": "stream",
     "text": [
      "-9\n"
     ]
    }
   ],
   "source": [
    "sample_list = [100000000, 200000000, 300000000,\n",
    "               400000000, 500000000, 600000000, 700000000]\n",
    "sample_array = np.array(sample_list)\n",
    "\n",
    "\n",
    "def sample_func_2(arg: int) -> None:\n",
    "    pass\n",
    "\n",
    "\n",
    "class SampleClass():\n",
    "    # TODO:行末にスペースがあります\n",
    "    def __init__(self):\n",
    "        pass\n",
    "\n",
    "    def sample_func_1(self, arg1, arg2: str, arg3: str = 'variable', arg4: dict = {'a': 1234567890, 'b': 'cdefgfijk'}) -> None:\n",
    "        print('全角だよ　')\n",
    "\n",
    "\n",
    "value = 1+2-3*4\n",
    "\n",
    "# NOTE\n",
    "# OPTIMIZE\n",
    "# WARNING\n",
    "# CHANGED:はsettingで追加しました"
   ]
  },
  {
   "cell_type": "markdown",
   "metadata": {},
   "source": [
    "### フォーマットの実行\n",
    "\n",
    "フォーマットはたぶん autopep8 が働いたと思うのですが\n"
   ]
  },
  {
   "cell_type": "code",
   "execution_count": null,
   "metadata": {},
   "outputs": [],
   "source": [
    "\n",
    "sample_list = [100000000, 200000000, 300000000,\n",
    "               400000000, 500000000, 600000000, 700000000]\n",
    "\n",
    "\n",
    "def sample_func_2(arg: int) -> None:\n",
    "    pass\n",
    "\n",
    "\n",
    "class SampleClass():\n",
    "    # TODO:行末にスペースがあります\n",
    "    def __init__(self):\n",
    "        pass\n",
    "\n",
    "    def sample_func_1(self, arg1, arg2: str, arg3: str = 'variable', arg4: dict = {'a': 1234567890, 'b': 'cdefgfijk'}) -> None:\n",
    "        print('全角だよ　')\n",
    "\n",
    "\n",
    "value = 1+2-3*4\n",
    "# 演算子にスペースが・・・\n",
    "# FIXME:value = 1 + 2 - 3*4 のはずだと思うんですが"
   ]
  }
 ],
 "metadata": {
  "kernelspec": {
   "display_name": "venv",
   "language": "python",
   "name": "python3"
  },
  "language_info": {
   "codemirror_mode": {
    "name": "ipython",
    "version": 3
   },
   "file_extension": ".py",
   "mimetype": "text/x-python",
   "name": "python",
   "nbconvert_exporter": "python",
   "pygments_lexer": "ipython3",
   "version": "3.11.1"
  },
  "orig_nbformat": 4
 },
 "nbformat": 4,
 "nbformat_minor": 2
}
