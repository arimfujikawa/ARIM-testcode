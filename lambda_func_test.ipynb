{
 "cells": [
  {
   "cell_type": "markdown",
   "metadata": {},
   "source": [
    "# ラムダ関数のいろいろテスト"
   ]
  },
  {
   "cell_type": "markdown",
   "metadata": {},
   "source": [
    "- リスト内包表記処理に組み込む"
   ]
  },
  {
   "cell_type": "markdown",
   "metadata": {},
   "source": [
    "オリジナル"
   ]
  },
  {
   "cell_type": "code",
   "execution_count": 7,
   "metadata": {},
   "outputs": [
    {
     "name": "stdout",
     "output_type": "stream",
     "text": [
      "[[ 10 100]\n",
      " [ 11 101]\n",
      " [ 12 102]]\n",
      "[['A', array([[ 10, 100],\n",
      "       [ 11, 101],\n",
      "       [ 12, 102]]), 'FT k-weight=one'], ['A', array([[ 20, 201],\n",
      "       [ 21, 201],\n",
      "       [ 22, 202]]), 'FT k-weight=two']]\n"
     ]
    }
   ],
   "source": [
    "import numpy as np\n",
    "\n",
    "parameters = [{1: [10, 11, 12], 10: [100, 101, 102], 'text': 'one'}, {1: [20, 21, 22], 10: [201, 201, 202], 'text': 'two'}]\n",
    "\n",
    "print(np.stack([parameters[0][1], parameters[0][10]], 1))\n",
    "norm_args = [[\"A\", np.stack([para[1], para[10]], 1),\n",
    "            f'FT k-weight={str(para[\"text\"])}'] for para in parameters]\n",
    "print(norm_args)"
   ]
  },
  {
   "cell_type": "markdown",
   "metadata": {},
   "source": [
    "ラムダ関数"
   ]
  },
  {
   "cell_type": "code",
   "execution_count": null,
   "metadata": {
    "notebookRunGroups": {
     "groupValue": "1"
    }
   },
   "outputs": [],
   "source": []
  },
  {
   "cell_type": "code",
   "execution_count": 9,
   "metadata": {},
   "outputs": [
    {
     "name": "stdout",
     "output_type": "stream",
     "text": [
      "[[ 10 100]\n",
      " [ 11 101]\n",
      " [ 12 102]]\n",
      "[['A', array([[ 10, 100],\n",
      "       [ 11, 101],\n",
      "       [ 12, 102]]), 'FT k-weight=one'], ['A', array([[ 20, 201],\n",
      "       [ 21, 201],\n",
      "       [ 22, 202]]), 'FT k-weight=two']]\n"
     ]
    }
   ],
   "source": [
    "import numpy as np\n",
    "\n",
    "parameters = [{1: [10, 11, 12], 10: [100, 101, 102], 'text': 'one'}, {1: [20, 21, 22], 10: [201, 201, 202], 'text': 'two'}]\n",
    "\n",
    "lam_func1 = lambda para: np.stack([para[1], para[10]], 1)\n",
    "lam_func2 = lambda para: f'FT k-weight={str(para[\"text\"])}'\n",
    "\n",
    "print(np.stack([parameters[0][1], parameters[0][10]], 1))\n",
    "norm_args = [[\"A\", lam_func1(para),\n",
    "            lam_func2(para)] for para in parameters]\n",
    "print(norm_args)"
   ]
  },
  {
   "cell_type": "markdown",
   "metadata": {},
   "source": [
    "ラムダ関数を引数にできるか"
   ]
  },
  {
   "cell_type": "code",
   "execution_count": 11,
   "metadata": {},
   "outputs": [
    {
     "name": "stdout",
     "output_type": "stream",
     "text": [
      "[[ 10 100]\n",
      " [ 11 101]\n",
      " [ 12 102]]\n",
      "[['A', array([[ 10, 100],\n",
      "       [ 11, 101],\n",
      "       [ 12, 102]]), 'FT k-weight=one'], ['A', array([[ 20, 201],\n",
      "       [ 21, 201],\n",
      "       [ 22, 202]]), 'FT k-weight=two']]\n"
     ]
    }
   ],
   "source": [
    "import numpy as np\n",
    "\n",
    "\n",
    "class Func:\n",
    "    stack_func = lambda para: np.stack([para[1], para[10]], 1)\n",
    "    string_func = lambda para: f'FT k-weight={str(para[\"text\"])}'\n",
    "    \n",
    "\n",
    "parameters = [{1: [10, 11, 12], 10: [100, 101, 102], 'text': 'one'}, {1: [20, 21, 22], 10: [201, 201, 202], 'text': 'two'}]\n",
    "\n",
    "# lam_func1 = lambda para: np.stack([para[1], para[10]], 1)\n",
    "# lam_func2 = lambda para: f'FT k-weight={str(para[\"text\"])}'\n",
    "\n",
    "print(np.stack([parameters[0][1], parameters[0][10]], 1))\n",
    "norm_args = [[\"A\", Func.stack_func(para),\n",
    "            Func.string_func(para)] for para in parameters]\n",
    "print(norm_args)"
   ]
  }
 ],
 "metadata": {
  "kernelspec": {
   "display_name": "venv",
   "language": "python",
   "name": "python3"
  },
  "language_info": {
   "codemirror_mode": {
    "name": "ipython",
    "version": 3
   },
   "file_extension": ".py",
   "mimetype": "text/x-python",
   "name": "python",
   "nbconvert_exporter": "python",
   "pygments_lexer": "ipython3",
   "version": "3.11.1"
  }
 },
 "nbformat": 4,
 "nbformat_minor": 2
}
