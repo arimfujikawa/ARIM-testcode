{
 "cells": [
  {
   "attachments": {},
   "cell_type": "markdown",
   "metadata": {},
   "source": [
    "# Pathos＋initializer+globals()\n",
    "## うまくglobals()は渡せない\n",
    "- with Pool(os.cpu_count()) as p:\n"
   ]
  },
  {
   "cell_type": "code",
   "execution_count": 1,
   "metadata": {},
   "outputs": [
    {
     "name": "stdout",
     "output_type": "stream",
     "text": [
      "global namespace = None\n",
      "globals = None\n",
      "('icopng\\\\icons8-キャンセル-64.png', 'png', 0, 'top_results')\n",
      "wrap_save_npy top_namespace = None\n",
      "args = ('icopng\\\\icons8-キャンセル-64.png', 'png', 0, 'top_results')\n"
     ]
    },
    {
     "ename": "TypeError",
     "evalue": "'NoneType' object is not iterable",
     "output_type": "error",
     "traceback": [
      "\u001b[1;31m---------------------------------------------------------------------------\u001b[0m",
      "\u001b[1;31mTypeError\u001b[0m                                 Traceback (most recent call last)",
      "Cell \u001b[1;32mIn[1], line 47\u001b[0m\n\u001b[0;32m     45\u001b[0m \u001b[39mprint\u001b[39m(job_args[\u001b[39m0\u001b[39m])\n\u001b[0;32m     46\u001b[0m \u001b[39m# mapナシならglobals()は動作している\u001b[39;00m\n\u001b[1;32m---> 47\u001b[0m pathos_test\u001b[39m.\u001b[39;49mwrap_save_npy(job_args[\u001b[39m0\u001b[39;49m])\n\u001b[0;32m     50\u001b[0m \u001b[39m# imapによってprocessの順番は任意で処理される\u001b[39;00m\n\u001b[0;32m     51\u001b[0m \n\u001b[0;32m     52\u001b[0m \u001b[39m# for result in p.imap_unordered(wrap_save_npy, job_args):\u001b[39;00m\n\u001b[0;32m     53\u001b[0m \u001b[39m# for result in p.imap(wrap_save_npy, job_args):\u001b[39;00m\n\u001b[0;32m     54\u001b[0m \u001b[39m# mapでシリアライズされるとglobals()を渡しても動作しなくなる\u001b[39;00m\n\u001b[0;32m     55\u001b[0m \u001b[39mfor\u001b[39;00m result \u001b[39min\u001b[39;00m pool\u001b[39m.\u001b[39mmap(pathos_test\u001b[39m.\u001b[39mwrap_save_npy, job_args):\n",
      "File \u001b[1;32mc:\\Users\\fujikawa\\python_projects\\ARIM_testcode\\pathos_global_test.py:18\u001b[0m, in \u001b[0;36mPathosTest.wrap_save_npy\u001b[1;34m(self, args)\u001b[0m\n\u001b[0;32m     16\u001b[0m     path, type_name, num, k \u001b[39m=\u001b[39m args\n\u001b[0;32m     17\u001b[0m \u001b[39m# print(f'name space = {namespace}')\u001b[39;00m\n\u001b[1;32m---> 18\u001b[0m     \u001b[39mfor\u001b[39;00m name \u001b[39min\u001b[39;00m \u001b[39mself\u001b[39m\u001b[39m.\u001b[39mtop_namespace:\n\u001b[0;32m     19\u001b[0m         \u001b[39mprint\u001b[39m(\u001b[39mf\u001b[39m\u001b[39m'\u001b[39m\u001b[39m{\u001b[39;00mname\u001b[39m}\u001b[39;00m\u001b[39m=\u001b[39m\u001b[39m{\u001b[39;00m\u001b[39mself\u001b[39m\u001b[39m.\u001b[39mtop_namespace[name]\u001b[39m}\u001b[39;00m\u001b[39m'\u001b[39m)\n\u001b[0;32m     20\u001b[0m         \u001b[39mif\u001b[39;00m name \u001b[39m==\u001b[39m k:\n",
      "\u001b[1;31mTypeError\u001b[0m: 'NoneType' object is not iterable"
     ]
    }
   ],
   "source": [
    "import os\n",
    "from multiprocessing import Pool, cpu_count \n",
    "from pathos.pools import ParallelPool\n",
    "from pathos.pools import ProcessPool\n",
    "\n",
    "from tqdm import tqdm \n",
    "from glob import glob\n",
    "import numpy as np\n",
    "\n",
    "import dill\n",
    "import pickle\n",
    "import pathos_global_test\n",
    "\n",
    "from pathos_global_test import PathosTest\n",
    "pathos_test = PathosTest()\n",
    "top_results = [[0, 0] for _ in range(11)]\n",
    "# pathos_test.top_namespace = globals()\n",
    "print(f'global namespace = {pathos_test.top_namespace}')\n",
    "\n",
    "# initializerの定義\n",
    "# https://superfastpython.com/multiprocessing-pool-shared-global-variables/\n",
    "def init_worker(globals_object):\n",
    "    print(f'globals object = {globals_object}')\n",
    "    pathos_test.top_namespace = globals_object\n",
    "\n",
    "# wrap_save_npy.namespace_main = globals()\n",
    "# print(wrap_save_npy.namespace_main)\n",
    "# サブプロセス群に入力データを分配 (データ並列) して関数を並列実行する\n",
    "# p = Pool(processes=cpu_count()-1)\n",
    "pool = ParallelPool(initializer= init_worker, initargs=(globals(),), node=cpu_count()-1)\n",
    "# pool = ParallelPool( node=cpu_count()-1)\n",
    "# pool = ProcessPool( node=cpu_count()-1)\n",
    "# NumPy Arrayをsaveするフォルダ\n",
    "save_base_path = 'gaussian_filtered_nparrays/'\n",
    "# フォルダ作成\n",
    "if not os.path.exists(save_base_path):\n",
    "    os.makedirs(save_base_path)\n",
    "# pngファイル名リストを作成\n",
    "path_list = glob('icopng/*.png')\n",
    "\n",
    "print(f'globals = {pathos_test.top_namespace}')\n",
    "# processに渡す引数の作成\n",
    "\n",
    "job_args = [(path, path.split('.')[1], num, 'top_results') for num,path in enumerate(path_list)]\n",
    "print(job_args[0])\n",
    "# mapナシならglobals()は動作している\n",
    "pathos_test.wrap_save_npy(job_args[0])\n",
    "\n",
    "\n",
    "# imapによってprocessの順番は任意で処理される\n",
    "\n",
    "# for result in p.imap_unordered(wrap_save_npy, job_args):\n",
    "# for result in p.imap(wrap_save_npy, job_args):\n",
    "# mapでシリアライズされるとglobals()を渡しても動作しなくなる\n",
    "for result in pool.map(pathos_test.wrap_save_npy, job_args):\n",
    "    print(result)\n",
    "# print(f' top results = {top_results}')"
   ]
  }
 ],
 "metadata": {
  "kernelspec": {
   "display_name": "venv",
   "language": "python",
   "name": "python3"
  },
  "language_info": {
   "codemirror_mode": {
    "name": "ipython",
    "version": 3
   },
   "file_extension": ".py",
   "mimetype": "text/x-python",
   "name": "python",
   "nbconvert_exporter": "python",
   "pygments_lexer": "ipython3",
   "version": "3.11.1"
  },
  "orig_nbformat": 4
 },
 "nbformat": 4,
 "nbformat_minor": 2
}
