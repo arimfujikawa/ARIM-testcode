{
 "cells": [
  {
   "cell_type": "code",
   "execution_count": 8,
   "metadata": {},
   "outputs": [
    {
     "name": "stdout",
     "output_type": "stream",
     "text": [
      "1686723567.8251264:スレッド開始\n",
      "1686723567.828128:まーだだよ False\n",
      "1686723570.8360417:まーだだよ False\n",
      "1686723573.8361475:まーだだよ False\n",
      "1686723574.828872:イベント発生\n",
      "1686723574.8298874:スレッド終了\n"
     ]
    }
   ],
   "source": [
    "from threading import Event, Thread\n",
    "import time\n",
    "event = Event()\n",
    "\n",
    "\n",
    "def event_example2():\n",
    "    print(f\"{time.time()}:スレッド開始\")\n",
    "    bool_event = False\n",
    "    while not bool_event:\n",
    "        print(f\"{time.time()}:まーだだよ {bool_event}\")\n",
    "        bool_event = event.wait(3)\n",
    "\n",
    "    print(f\"{time.time()}:スレッド終了\")\n",
    "\n",
    "\n",
    "thread = Thread(target=event_example2)\n",
    "thread.start()\n",
    "time.sleep(7)\n",
    "print(f\"{time.time()}:イベント発生\")\n",
    "event.set()\n"
   ]
  }
 ],
 "metadata": {
  "kernelspec": {
   "display_name": "venv",
   "language": "python",
   "name": "python3"
  },
  "language_info": {
   "codemirror_mode": {
    "name": "ipython",
    "version": 3
   },
   "file_extension": ".py",
   "mimetype": "text/x-python",
   "name": "python",
   "nbconvert_exporter": "python",
   "pygments_lexer": "ipython3",
   "version": "3.11.1"
  },
  "orig_nbformat": 4
 },
 "nbformat": 4,
 "nbformat_minor": 2
}
