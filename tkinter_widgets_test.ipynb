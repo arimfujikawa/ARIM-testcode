{
 "cells": [
  {
   "attachments": {},
   "cell_type": "markdown",
   "metadata": {},
   "source": [
    "# ラインの引き方"
   ]
  },
  {
   "cell_type": "code",
   "execution_count": 1,
   "metadata": {},
   "outputs": [],
   "source": [
    "import tkinter as tk\n",
    "import tkinter.ttk as ttk\n",
    "\n",
    "# メインウィンドウの作成\n",
    "root = tk.Tk()\n",
    "root.title(\"Tkinter Separator\")\n",
    "\n",
    "root.rowconfigure(0, minsize=200, weight=1)\n",
    "root.rowconfigure(2, minsize=200, weight=1)\n",
    "root.columnconfigure(0, minsize=400, weight=1)\n",
    "\n",
    "# Styleの指定\n",
    "style = ttk.Style()\n",
    "style.configure(\"blue.TSeparator\", background=\"blue\")\n",
    "\n",
    "### Widgetの作成 ###\n",
    "frame_top = tk.Frame(root)\n",
    "separator = ttk.Separator(root, orient=\"horizontal\", style=\"blue.TSeparator\")\n",
    "frame_bottom = tk.Frame(root)\n",
    "\n",
    "label1 = tk.Label(frame_top, text=\"label1\", relief=\"raised\", height=10, bg=\"white\")\n",
    "label2 = tk.Label(frame_bottom, text=\"label2\", relief=\"raised\", height=10, bg=\"white\")\n",
    "\n",
    "### 配置 ###\n",
    "frame_top.grid(row=0, column=0, sticky=\"nsew\", padx=20, pady=20)\n",
    "separator.grid(row=1, column=0, sticky=\"ew\")\n",
    "frame_bottom.grid(row=2, column=0, sticky=\"nsew\", padx=20, pady=20)\n",
    "\n",
    "label1.pack(fill=\"both\")\n",
    "label2.pack(fill=\"both\")\n",
    "\n",
    "root.mainloop()"
   ]
  },
  {
   "cell_type": "code",
   "execution_count": 18,
   "metadata": {},
   "outputs": [],
   "source": [
    "import tkinter as tk\n",
    "from PIL import Image, ImageTk\n",
    "from tkinter import ttk\n",
    "class App(tk.Tk):\n",
    "    def __init__(self):\n",
    "        super().__init__()\n",
    "        self.title('')\n",
    "        #im = Image.open('round.png')\n",
    "        #self.img = ImageTk.PhotoImage(im, master=self)\n",
    "        self.img = tk.PhotoImage(file='round.png', master=self) # PhotoImageは最初のインスタンスに紐づけられるので、2つ（2度）目以降はmasterでself（root）を明示的に指定しないとエラーになる\n",
    "        self.btn = tk.Button(\n",
    "            self,\n",
    "            image=self.img,\n",
    "            highlightthickness=0,\n",
    "            bd=0,\n",
    "            command=''\n",
    "\n",
    "        )\n",
    "        self.btn.pack()\n",
    "\n",
    "App().mainloop()"
   ]
  },
  {
   "cell_type": "code",
   "execution_count": 15,
   "metadata": {},
   "outputs": [],
   "source": [
    "import tkinter as tk\n",
    "\n",
    "# rootメインウィンドウの設定\n",
    "root = tk.Tk()\n",
    "root.title(\"application\")\n",
    "root.geometry(\"250x150\")\n",
    "\n",
    "# メインフレームの作成と設置\n",
    "frame = tk.Frame(root)\n",
    "frame.pack(fill = tk.BOTH, padx=20,pady=10)\n",
    "\n",
    "# 画像ファイルをインスタンス変数に代入\n",
    "img = tk.PhotoImage(file=\"round.png\", master=root)\n",
    "\n",
    "# 画像のリサイズ\n",
    "small_img = img.subsample(2, 1)\n",
    "big_img = img.zoom(2, 2)\n",
    "\n",
    "# 各種ウィジェットの作成\n",
    "button = tk.Button(frame, text=\"画像\", image=img, compound=\"top\")\n",
    "button_small = tk.Button(frame, text=\"小画像\", image=small_img, compound=\"top\")\n",
    "button_big = tk.Button(frame, text=\"大画像\", image=big_img, compound=\"top\")\n",
    "\n",
    "# 各種ウィジェットの設置\n",
    "button.grid(row=0, column=0, padx=5)\n",
    "button_small.grid(row=0, column=1, padx=5)\n",
    "button_big.grid(row=0, column=2, padx=5)\n",
    "\n",
    "root.mainloop()"
   ]
  },
  {
   "cell_type": "code",
   "execution_count": 5,
   "metadata": {},
   "outputs": [],
   "source": [
    "import tkinter as tk\n",
    "from tkinter import ttk\n",
    "\n",
    "# rootメインウィンドウの設定\n",
    "root = tk.Tk()\n",
    "root.title(\"application\")\n",
    "root.geometry(\"200x100\")\n",
    "\n",
    "# メインフレームの作成と設置\n",
    "frame = tk.Frame(root)\n",
    "frame.pack(padx=20,pady=10)\n",
    "\n",
    "\n",
    "# 各種ウィジェットの作成\n",
    "menubutton = tk.Menubutton(frame, text=\"tkinter\")\n",
    "menubutton_ttk = ttk.Menubutton(frame, text=\"ttk\")\n",
    "# 各種ウィジェットの設置\n",
    "menubutton.grid(row=0, column=0, pady=5)\n",
    "menubutton_ttk.grid(row=1, column=0)\n",
    "\n",
    "root.mainloop()"
   ]
  }
 ],
 "metadata": {
  "kernelspec": {
   "display_name": "venv",
   "language": "python",
   "name": "python3"
  },
  "language_info": {
   "codemirror_mode": {
    "name": "ipython",
    "version": 3
   },
   "file_extension": ".py",
   "mimetype": "text/x-python",
   "name": "python",
   "nbconvert_exporter": "python",
   "pygments_lexer": "ipython3",
   "version": "3.11.1"
  },
  "orig_nbformat": 4,
  "vscode": {
   "interpreter": {
    "hash": "d35c52b2c13af452197fdd75c6084e25b04d1acbe8d55b56c2a3127f4fde3c1e"
   }
  }
 },
 "nbformat": 4,
 "nbformat_minor": 2
}
