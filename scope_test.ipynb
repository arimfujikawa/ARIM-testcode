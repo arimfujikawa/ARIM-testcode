{
 "cells": [
  {
   "cell_type": "markdown",
   "metadata": {},
   "source": [
    "# スコープ"
   ]
  },
  {
   "cell_type": "markdown",
   "metadata": {},
   "source": [
    "### 変数"
   ]
  },
  {
   "cell_type": "code",
   "execution_count": 7,
   "metadata": {},
   "outputs": [
    {
     "name": "stdout",
     "output_type": "stream",
     "text": [
      "var in func is 3\n",
      "funcの後はvarは変化していない var = 1\n",
      "loacl_vars in func_arg is 3\n",
      "func_argの後もvarはイミュータブルなので変化しない var = 1\n",
      "var in func_global is 3\n",
      "func_globalでglobalを使用すると var = 3\n",
      "vars in func_direct is [3]\n",
      "func_directでリストのvarsはミュータブルなので変わる vars = [3]\n",
      "varsに再び値をセット vars = [1]\n",
      "loacl_vars in func_arg_list is [3]\n",
      "func_arg_listでリストを引数で渡す  vars = [3]\n"
     ]
    }
   ],
   "source": [
    "var = 1\n",
    "vars = [1]\n",
    "\n",
    "def func():\n",
    "    var = 3\n",
    "    print(f'var in func is {var}')\n",
    "\n",
    "\n",
    "def func_arg(loacl_vars: int):\n",
    "    loacl_vars = 3\n",
    "    print(f'loacl_vars in func_arg is {loacl_vars}')\n",
    "    \n",
    "\n",
    "def func_global():\n",
    "    global var\n",
    "    var = 3\n",
    "    print(f'var in func_global is {var}')\n",
    "\n",
    "\n",
    "def func_direct():\n",
    "    vars[0] = 3\n",
    "    print(f'vars in func_direct is {vars}')\n",
    "\n",
    "\n",
    "def func_arg_list(loacl_vars: list):\n",
    "    loacl_vars[0] = 3\n",
    "    print(f'loacl_vars in func_arg_list is {loacl_vars}')\n",
    "    \n",
    "\n",
    "func()\n",
    "print(f'funcの後はvarは変化していない var = {var}')\n",
    "func_arg(var)\n",
    "print(f'func_argの後もvarはイミュータブルなので変化しない var = {var}')\n",
    "func_global()\n",
    "print(f'func_globalでglobalを使用すると var = {var}')\n",
    "func_direct()\n",
    "print(f'func_directでリストのvarsはミュータブルなので変わる vars = {vars}')\n",
    "vars = [1]\n",
    "print(f'varsに再び値をセット vars = {vars}')\n",
    "func_arg_list(vars)\n",
    "print(f'func_arg_listでリストを引数で渡す  vars = {vars}')\n",
    "\n",
    "\n"
   ]
  }
 ],
 "metadata": {
  "kernelspec": {
   "display_name": "venv",
   "language": "python",
   "name": "python3"
  },
  "language_info": {
   "codemirror_mode": {
    "name": "ipython",
    "version": 3
   },
   "file_extension": ".py",
   "mimetype": "text/x-python",
   "name": "python",
   "nbconvert_exporter": "python",
   "pygments_lexer": "ipython3",
   "version": "3.11.1"
  },
  "orig_nbformat": 4
 },
 "nbformat": 4,
 "nbformat_minor": 2
}
