{
 "cells": [
  {
   "attachments": {},
   "cell_type": "markdown",
   "metadata": {},
   "source": [
    "# multiprocessing test\n",
    "## multiprocessing.Poolを使用する例\n",
    "- with Pool(os.cpu_count()) as p:\n"
   ]
  },
  {
   "cell_type": "code",
   "execution_count": 3,
   "metadata": {},
   "outputs": [
    {
     "name": "stdout",
     "output_type": "stream",
     "text": [
      "12\n"
     ]
    }
   ],
   "source": [
    "import os\n",
    "from glob import glob\n",
    "from multiprocessing.pool import ThreadPool as Pool\n",
    "from func_test2 import thread_save\n",
    "# from save_im import thread_save\n",
    "print(os.cpu_count())\n",
    "\n",
    "# NumPy Arrayをsaveするフォルダ\n",
    "save_base_path = 'gaussian_filtered_nparrays/'\n",
    "if not os.path.exists(save_base_path):\n",
    "    os.makedirs(save_base_path)\n",
    "\n",
    "thread_save()\n"
   ]
  },
  {
   "attachments": {},
   "cell_type": "markdown",
   "metadata": {},
   "source": [
    "- multiprocessing無し"
   ]
  },
  {
   "cell_type": "code",
   "execution_count": 2,
   "metadata": {},
   "outputs": [
    {
     "name": "stdout",
     "output_type": "stream",
     "text": [
      "['icopng\\\\icons8-キャンセル-64.png', 'icopng\\\\icons8-チェック-64.png', 'icopng\\\\icons8-ネットワーク-48.png', 'icopng\\\\icons8-ボット-50.png', 'icopng\\\\icons8-マインド-マップ-48.png', 'icopng\\\\icons8-マインド-マップ-80.png', 'icopng\\\\icons8-ロボット2-50.png', 'icopng\\\\icons8-人工知能-48.png', 'icopng\\\\icons8-機械学習-64 (1).png', 'icopng\\\\icons8-機械学習-64 (2).png', 'icopng\\\\icons8-機械学習-64.png']\n",
      "0\n",
      "0\n",
      "178\n",
      "0\n",
      "87\n",
      "0\n",
      "0\n",
      "115\n",
      "93\n",
      "220\n",
      "147\n",
      "icopng\\icons8-キャンセル-64.png\n",
      "icopng\\icons8-チェック-64.png\n",
      "icopng\\icons8-ネットワーク-48.png\n",
      "icopng\\icons8-ボット-50.png\n",
      "icopng\\icons8-マインド-マップ-48.png\n",
      "icopng\\icons8-マインド-マップ-80.png\n",
      "icopng\\icons8-ロボット2-50.png\n",
      "icopng\\icons8-人工知能-48.png\n",
      "icopng\\icons8-機械学習-64 (1).png\n",
      "icopng\\icons8-機械学習-64 (2).png\n",
      "icopng\\icons8-機械学習-64.png\n",
      "[0, 0, 0, 0, 0, 0, 0, 0, 0, 0, 0]\n"
     ]
    }
   ],
   "source": [
    "import os\n",
    "from glob import glob\n",
    "import numpy as np\n",
    "from PIL import Image\n",
    "\n",
    "save_base_path = 'gaussian_filtered_nparrays/'\n",
    "path_list = glob('icopng/*.png')\n",
    "print(path_list)\n",
    "results = [0 for _ in range(len(path_list))]\n",
    "numbers = [i for i in range(len(path_list))]\n",
    "map_list = [[i, path] for i, path in enumerate(path_list)]\n",
    "\n",
    "\n",
    "def save_im(path):\n",
    "    # global save_base_path\n",
    "    # global results\n",
    "    #PILでロード\n",
    "    im = Image.open(path).convert('L')\n",
    "    \n",
    "\n",
    "    print(im.getpixel((20, 20)))\n",
    "    im = np.array(im)\n",
    "    im = im.astype(np.float64)\n",
    "    num = 6\n",
    "    im_b = im\n",
    "    for _ in range(num):\n",
    "        im_a = im+np.var(im)\n",
    "        im_b = im-np.var(im_b)\n",
    "        im = np.cov(im_b, im_a)\n",
    "\n",
    "    x = np.argsort(im.flatten())\n",
    "    y = np.argsort(x)\n",
    "\n",
    "    return path\n",
    "\n",
    "for m in list(map(save_im, path_list)):\n",
    "    print(m)\n",
    "print(results)\n"
   ]
  },
  {
   "attachments": {},
   "cell_type": "markdown",
   "metadata": {},
   "source": [
    "- mapのテスト"
   ]
  },
  {
   "cell_type": "code",
   "execution_count": 1,
   "metadata": {},
   "outputs": [
    {
     "name": "stdout",
     "output_type": "stream",
     "text": [
      "['icopng\\\\icons8-キャンセル-64.png', 'icopng\\\\icons8-チェック-64.png', 'icopng\\\\icons8-ネットワーク-48.png', 'icopng\\\\icons8-ボット-50.png', 'icopng\\\\icons8-マインド-マップ-48.png', 'icopng\\\\icons8-マインド-マップ-80.png', 'icopng\\\\icons8-ロボット2-50.png', 'icopng\\\\icons8-人工知能-48.png', 'icopng\\\\icons8-機械学習-64 (1).png', 'icopng\\\\icons8-機械学習-64 (2).png', 'icopng\\\\icons8-機械学習-64.png']\n",
      "[[0, 'icopng\\\\icons8-キャンセル-64.png'], [1, 'icopng\\\\icons8-チェック-64.png'], [2, 'icopng\\\\icons8-ネットワーク-48.png'], [3, 'icopng\\\\icons8-ボット-50.png'], [4, 'icopng\\\\icons8-マインド-マップ-48.png'], [5, 'icopng\\\\icons8-マインド-マップ-80.png'], [6, 'icopng\\\\icons8-ロボット2-50.png'], [7, 'icopng\\\\icons8-人工知能-48.png'], [8, 'icopng\\\\icons8-機械学習-64 (1).png'], [9, 'icopng\\\\icons8-機械学習-64 (2).png'], [10, 'icopng\\\\icons8-機械学習-64.png']]\n",
      "([0, 'icopng\\\\icons8-キャンセル-64.png'],)\n",
      "n,f = 0,icopng\\icons8-キャンセル-64.png\n",
      "([1, 'icopng\\\\icons8-チェック-64.png'],)\n",
      "n,f = 1,icopng\\icons8-チェック-64.png\n",
      "([2, 'icopng\\\\icons8-ネットワーク-48.png'],)\n",
      "n,f = 2,icopng\\icons8-ネットワーク-48.png\n",
      "([3, 'icopng\\\\icons8-ボット-50.png'],)\n",
      "n,f = 3,icopng\\icons8-ボット-50.png\n",
      "([4, 'icopng\\\\icons8-マインド-マップ-48.png'],)\n",
      "n,f = 4,icopng\\icons8-マインド-マップ-48.png\n",
      "([5, 'icopng\\\\icons8-マインド-マップ-80.png'],)\n",
      "n,f = 5,icopng\\icons8-マインド-マップ-80.png\n",
      "([6, 'icopng\\\\icons8-ロボット2-50.png'],)\n",
      "n,f = 6,icopng\\icons8-ロボット2-50.png\n",
      "([7, 'icopng\\\\icons8-人工知能-48.png'],)\n",
      "n,f = 7,icopng\\icons8-人工知能-48.png\n",
      "([8, 'icopng\\\\icons8-機械学習-64 (1).png'],)\n",
      "n,f = 8,icopng\\icons8-機械学習-64 (1).png\n",
      "([9, 'icopng\\\\icons8-機械学習-64 (2).png'],)\n",
      "n,f = 9,icopng\\icons8-機械学習-64 (2).png\n",
      "([10, 'icopng\\\\icons8-機械学習-64.png'],)\n",
      "n,f = 10,icopng\\icons8-機械学習-64.png\n",
      "n,f = 0,icopng\\icons8-キャンセル-64.png\n",
      "n,f = 1,icopng\\icons8-チェック-64.png\n",
      "n,f = 2,icopng\\icons8-ネットワーク-48.png\n",
      "n,f = 3,icopng\\icons8-ボット-50.png\n",
      "n,f = 4,icopng\\icons8-マインド-マップ-48.png\n",
      "n,f = 5,icopng\\icons8-マインド-マップ-80.png\n",
      "n,f = 6,icopng\\icons8-ロボット2-50.png\n",
      "n,f = 7,icopng\\icons8-人工知能-48.png\n",
      "n,f = 8,icopng\\icons8-機械学習-64 (1).png\n",
      "n,f = 9,icopng\\icons8-機械学習-64 (2).png\n",
      "n,f = 10,icopng\\icons8-機械学習-64.png\n"
     ]
    }
   ],
   "source": [
    "from glob import glob\n",
    "path_list = glob('icopng/*.png')\n",
    "print(path_list)\n",
    "results = [0 for _ in range(len(path_list))]\n",
    "numbers = [i for i in range(len(path_list))]\n",
    "map_list = [[i, path] for i, path in enumerate(path_list)]\n",
    "print(map_list)\n",
    "\n",
    "def sep(*args):\n",
    "    print(args)\n",
    "    print(f'n,f = {args[0][0]},{args[0][1]}')\n",
    "    return f'n,f = {args[0][0]},{args[0][1]}'\n",
    "for a in list(map(sep, map_list)):\n",
    "    print(a)"
   ]
  }
 ],
 "metadata": {
  "kernelspec": {
   "display_name": "venv",
   "language": "python",
   "name": "python3"
  },
  "language_info": {
   "codemirror_mode": {
    "name": "ipython",
    "version": 3
   },
   "file_extension": ".py",
   "mimetype": "text/x-python",
   "name": "python",
   "nbconvert_exporter": "python",
   "pygments_lexer": "ipython3",
   "version": "3.11.1"
  },
  "orig_nbformat": 4
 },
 "nbformat": 4,
 "nbformat_minor": 2
}
