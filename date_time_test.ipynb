{
 "cells": [
  {
   "attachments": {},
   "cell_type": "markdown",
   "metadata": {},
   "source": [
    "# 日時データの扱い"
   ]
  },
  {
   "cell_type": "code",
   "execution_count": 10,
   "metadata": {},
   "outputs": [
    {
     "name": "stdout",
     "output_type": "stream",
     "text": [
      "2023-06-09 11:56:31.089713:<class 'datetime.datetime'>\n",
      "2023-06-09 11:56:31.089712:<class 'datetime.datetime'>\n",
      "2023-06-09: <class 'datetime.date'>\n",
      "11:56:31.089712: <class 'datetime.time'>\n",
      "2023:<class 'int'>\n",
      "6\n",
      "9\n",
      "11\n",
      "56\n",
      "31\n",
      "89712\n"
     ]
    }
   ],
   "source": [
    "import datetime\n",
    "current = datetime.datetime.today()\n",
    "print(f'{current}:{type(current)}')\n",
    "current = datetime.datetime.now()\n",
    "print(f'{current}:{type(current)}')\n",
    "print(f'{current.date()}: {type(current.date())}')\n",
    "print(f'{current.time()}: {type(current.time())}')\n",
    "print(f'{current.year}:{type(current.year)}')\n",
    "print(current.month)\n",
    "print(current.day)\n",
    "print(current.hour)\n",
    "print(current.minute)\n",
    "print(current.second)\n",
    "print(current.microsecond)\n"
   ]
  },
  {
   "attachments": {},
   "cell_type": "markdown",
   "metadata": {},
   "source": [
    "### pandasのTimestanmpのtypingの確認\n",
    "- datetimeとpandas.Timestampの演算は可能だが、datetime同士の出力とは違う"
   ]
  },
  {
   "cell_type": "code",
   "execution_count": 30,
   "metadata": {},
   "outputs": [
    {
     "name": "stdout",
     "output_type": "stream",
     "text": [
      "2023-06-09 13:48:53.860295:<class 'datetime.datetime'>\n",
      "2023-06-09 13:48:56.861901:<class 'pandas._libs.tslibs.timestamps.Timestamp'>\n",
      "2023-06-09: <class 'datetime.date'>\n",
      "13:48:56.861901: <class 'datetime.time'>\n",
      "2023:<class 'int'>\n",
      "2023-06-09 13:48:56:<class 'pandas._libs.tslibs.timestamps.Timestamp'>\n",
      "2023-06-09 13:48:56.861901 - 2023-06-09 13:48:53.860295 = 0 days 00:00:03.001606:<class 'pandas._libs.tslibs.timedeltas.Timedelta'>\n",
      "2023-06-09 13:48:56 - 2023-06-09 13:48:53.860295 = 0 days 00:00:02.139705:<class 'pandas._libs.tslibs.timedeltas.Timedelta'>\n",
      "2023-06-09 13:48:56.861901 - 2023-06-09 13:48:53.860295 = 0:00:03.001606:<class 'datetime.timedelta'>\n"
     ]
    }
   ],
   "source": [
    "import datetime\n",
    "import pandas as pd\n",
    "import time\n",
    "\n",
    "current = datetime.datetime.now()\n",
    "print(f'{current}:{type(current)}')\n",
    "time.sleep(3)\n",
    "current2 = datetime.datetime.now()\n",
    "pd_datetime1 = pd.to_datetime(str(current2))\n",
    "print(f'{pd_datetime1}:{type(pd_datetime1)}')\n",
    "\n",
    "print(f'{pd_datetime1.date()}: {type(pd_datetime1.date())}')\n",
    "print(f'{pd_datetime1.time()}: {type(pd_datetime1.time())}')\n",
    "print(f'{pd_datetime1.year}:{type(pd_datetime1.year)}')\n",
    "pd_datetime2 = pd.to_datetime(str(current2)[:-6])\n",
    "print(f'{pd_datetime2}:{type(pd_datetime1)}')\n",
    "\n",
    "if current < pd_datetime2:\n",
    "    dif_pd_time1 = pd_datetime1 - current\n",
    "    print(f'{pd_datetime1} - {current} = {dif_pd_time1}:{type(dif_pd_time1)}')\n",
    "    dif_pd_time2 = pd_datetime2 - current\n",
    "    print(f'{pd_datetime2} - {current} = {dif_pd_time2}:{type(dif_pd_time2)}')\n",
    "    dif_time_time = current2 - current\n",
    "    print(f'{current2} - {current} = {dif_time_time}:{type(dif_time_time)}')\n"
   ]
  },
  {
   "attachments": {},
   "cell_type": "markdown",
   "metadata": {},
   "source": [
    "### detatimeでのtimedeltaを用いた時間演算"
   ]
  },
  {
   "cell_type": "code",
   "execution_count": 36,
   "metadata": {},
   "outputs": [
    {
     "name": "stdout",
     "output_type": "stream",
     "text": [
      "2023-06-09 16:55:17.086793 - 2:00:00 = 2023-06-09 14:55:17.086793\n",
      "1:00:00\n"
     ]
    }
   ],
   "source": [
    "import datetime\n",
    "from datetime import timedelta\n",
    "\n",
    "current = datetime.datetime.now()\n",
    "dif_time = current - timedelta(hours=2)\n",
    "print(f'{current} - {timedelta(hours=2)} = {dif_time}')\n",
    "\n"
   ]
  },
  {
   "attachments": {},
   "cell_type": "markdown",
   "metadata": {},
   "source": [
    "### datetimeの変換\n",
    "- string　->　datetime"
   ]
  },
  {
   "cell_type": "code",
   "execution_count": 32,
   "metadata": {},
   "outputs": [
    {
     "name": "stdout",
     "output_type": "stream",
     "text": [
      "2023-06-09 14:36:07.487924:<class 'datetime.datetime'>\n",
      "2023-06-09 14:36:07.487924:<class 'str'>\n",
      "2023-06-09 14:36:07.487924:<class 'datetime.datetime'>\n"
     ]
    }
   ],
   "source": [
    "import datetime\n",
    "\n",
    "current = datetime.datetime.now()\n",
    "print(f'{current}:{type(current)}')\n",
    "string_current = str(current)\n",
    "print(f'{string_current}:{type(string_current)}')\n",
    "datetime_current = datetime.datetime.fromisoformat(string_current)\n",
    "print(f'{datetime_current}:{type(datetime_current)}')\n"
   ]
  }
 ],
 "metadata": {
  "kernelspec": {
   "display_name": "venv",
   "language": "python",
   "name": "python3"
  },
  "language_info": {
   "codemirror_mode": {
    "name": "ipython",
    "version": 3
   },
   "file_extension": ".py",
   "mimetype": "text/x-python",
   "name": "python",
   "nbconvert_exporter": "python",
   "pygments_lexer": "ipython3",
   "version": "3.11.1"
  },
  "orig_nbformat": 4
 },
 "nbformat": 4,
 "nbformat_minor": 2
}
