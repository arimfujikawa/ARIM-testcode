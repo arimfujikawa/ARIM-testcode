{
 "cells": [
  {
   "attachments": {},
   "cell_type": "markdown",
   "metadata": {},
   "source": [
    "# multiprocessing test\n",
    "## multiprocessing.Poolを使用する例\n",
    "- with Pool(os.cpu_count()) as p:\n"
   ]
  },
  {
   "cell_type": "code",
   "execution_count": 1,
   "metadata": {},
   "outputs": [
    {
     "name": "stdout",
     "output_type": "stream",
     "text": [
      "['icopng\\\\icons8-キャンセル-64.png', 'icopng\\\\icons8-チェック-64.png', 'icopng\\\\icons8-ネットワーク-48.png', 'icopng\\\\icons8-ボット-50.png', 'icopng\\\\icons8-マインド-マップ-48.png', 'icopng\\\\icons8-マインド-マップ-80.png', 'icopng\\\\icons8-ロボット2-50.png', 'icopng\\\\icons8-人工知能-48.png', 'icopng\\\\icons8-機械学習-64 (1).png', 'icopng\\\\icons8-機械学習-64 (2).png', 'icopng\\\\icons8-機械学習-64.png']\n",
      "12\n",
      "[0, 0, 0, 0, 0, 0, 0, 0, 0, 0, 0]\n"
     ]
    }
   ],
   "source": [
    "import os\n",
    "from glob import glob\n",
    "from multiprocessing.pool import ThreadPool as Pool\n",
    "from func_test2 import thread_save\n",
    "# from save_im import thread_save\n",
    "print(os.cpu_count())\n",
    "\n",
    "# NumPy Arrayをsaveするフォルダ\n",
    "save_base_path = 'gaussian_filtered_nparrays/'\n",
    "if not os.path.exists(save_base_path):\n",
    "    os.makedirs(save_base_path)\n",
    "\n",
    "thread_save()\n"
   ]
  },
  {
   "cell_type": "code",
   "execution_count": 1,
   "metadata": {},
   "outputs": [
    {
     "name": "stdout",
     "output_type": "stream",
     "text": [
      "['icopng\\\\icons8-キャンセル-64.png', 'icopng\\\\icons8-チェック-64.png', 'icopng\\\\icons8-ネットワーク-48.png', 'icopng\\\\icons8-ボット-50.png', 'icopng\\\\icons8-マインド-マップ-48.png', 'icopng\\\\icons8-マインド-マップ-80.png', 'icopng\\\\icons8-ロボット2-50.png', 'icopng\\\\icons8-人工知能-48.png', 'icopng\\\\icons8-機械学習-64 (1).png', 'icopng\\\\icons8-機械学習-64 (2).png', 'icopng\\\\icons8-機械学習-64.png']\n",
      "icopng\\icons8-キャンセル-64.png\n",
      "icopng\\icons8-チェック-64.png\n",
      "icopng\\icons8-ネットワーク-48.png\n",
      "icopng\\icons8-ボット-50.png\n",
      "icopng\\icons8-マインド-マップ-48.png\n",
      "icopng\\icons8-マインド-マップ-80.png\n",
      "icopng\\icons8-ロボット2-50.png\n",
      "icopng\\icons8-人工知能-48.png\n",
      "icopng\\icons8-機械学習-64 (1).png\n",
      "icopng\\icons8-機械学習-64 (2).png\n",
      "icopng\\icons8-機械学習-64.png\n",
      "gaussian_filtered_nparrays/icons8-キャンセル-64_png\n",
      "gaussian_filtered_nparrays/icons8-チェック-64_png\n",
      "gaussian_filtered_nparrays/icons8-ネットワーク-48_png\n",
      "gaussian_filtered_nparrays/icons8-ボット-50_png\n",
      "gaussian_filtered_nparrays/icons8-マインド-マップ-48_png\n",
      "gaussian_filtered_nparrays/icons8-マインド-マップ-80_png\n",
      "gaussian_filtered_nparrays/icons8-ロボット2-50_png\n",
      "gaussian_filtered_nparrays/icons8-人工知能-48_png\n",
      "gaussian_filtered_nparrays/icons8-機械学習-64 (1)_png\n",
      "gaussian_filtered_nparrays/icons8-機械学習-64 (2)_png\n",
      "gaussian_filtered_nparrays/icons8-機械学習-64_png\n"
     ]
    }
   ],
   "source": [
    "import os\n",
    "import numpy as np\n",
    "import cv2\n",
    "from multiprocessing import Pool, cpu_count \n",
    "from tqdm import tqdm \n",
    "from glob import glob\n",
    "from multiprocess_test import wrap_save_npy\n",
    "\n",
    "p = Pool(processes=cpu_count()-1)\n",
    "# NumPy Arrayをsaveするフォルダ\n",
    "save_base_path = 'gaussian_filtered_nparrays/'\n",
    "# フォルダ作成\n",
    "if not os.path.exists(save_base_path):\n",
    "    os.makedirs(save_base_path)\n",
    "\n",
    "path_list = glob('icopng/*.png')\n",
    "print(path_list)\n",
    "for path in path_list:\n",
    "    print(path)\n",
    "job_args = [(path, path.split('.')[1]) for path in path_list]\n",
    "# wrap_save_npy([path_list[0],'test'])\n",
    "#list(tqdm(p.imap(wrap_save_npy, job_args), total=len(path_list)))\n",
    "# p.imap(wrap_save_npy, job_args)\n",
    "\n",
    "for result in p.imap_unordered(wrap_save_npy, job_args):\n",
    "    print(result)\n"
   ]
  },
  {
   "cell_type": "code",
   "execution_count": null,
   "metadata": {},
   "outputs": [
    {
     "name": "stdout",
     "output_type": "stream",
     "text": [
      "['icopng\\\\icons8-キャンセル-64.png', 'icopng\\\\icons8-チェック-64.png', 'icopng\\\\icons8-ネットワーク-48.png', 'icopng\\\\icons8-ボット-50.png', 'icopng\\\\icons8-マインド-マップ-48.png', 'icopng\\\\icons8-マインド-マップ-80.png', 'icopng\\\\icons8-ロボット2-50.png', 'icopng\\\\icons8-人工知能-48.png', 'icopng\\\\icons8-機械学習-64 (1).png', 'icopng\\\\icons8-機械学習-64 (2).png', 'icopng\\\\icons8-機械学習-64.png']\n",
      "icopng\\icons8-キャンセル-64.png\n",
      "icopng\\icons8-チェック-64.png\n",
      "icopng\\icons8-ネットワーク-48.png\n",
      "icopng\\icons8-ボット-50.png\n",
      "icopng\\icons8-マインド-マップ-48.png\n",
      "icopng\\icons8-マインド-マップ-80.png\n",
      "icopng\\icons8-ロボット2-50.png\n",
      "icopng\\icons8-人工知能-48.png\n",
      "icopng\\icons8-機械学習-64 (1).png\n",
      "icopng\\icons8-機械学習-64 (2).png\n",
      "icopng\\icons8-機械学習-64.png\n"
     ]
    }
   ],
   "source": [
    "import os\n",
    "import numpy as np\n",
    "import cv2\n",
    "from multiprocessing import Pool, cpu_count \n",
    "from tqdm import tqdm \n",
    "from glob import glob\n",
    "from multiprocess_test import wrap_save_npy\n",
    "\n",
    "p = Pool(processes=cpu_count()-1)\n",
    "# NumPy Arrayをsaveするフォルダ\n",
    "save_base_path = 'gaussian_filtered_nparrays/'\n",
    "# フォルダ作成\n",
    "if not os.path.exists(save_base_path):\n",
    "    os.makedirs(save_base_path)\n",
    "\n",
    "\n",
    "def wrap_save_npy(args):\n",
    "    return save_npy(*args)\n",
    "\n",
    "\n",
    "def save_npy(path, type_name):\n",
    "\n",
    "    #pngデータをopencvでロード\n",
    "    im = cv2.imread(path)\n",
    "    #pngのファイル名 + フォルダ名を.npyファイルのファイル名にする\n",
    "    file_name = path.split('\\\\')[-1].split('.png')[0]\n",
    "    save_path = save_base_path + file_name + '_' + type_name\n",
    "    #全てのnpyファイルを同じフォルダに格納\n",
    "    np.save(save_path, im)\n",
    "    return save_path\n",
    "\n",
    "path_list = glob('icopng/*.png')\n",
    "print(path_list)\n",
    "for path in path_list:\n",
    "    print(path)\n",
    "job_args = [(path, path.split('.')[1]) for path in path_list]\n",
    "# wrap_save_npy([path_list[0],'test'])\n",
    "#list(tqdm(p.imap(wrap_save_npy, job_args), total=len(path_list)))\n",
    "# p.imap(wrap_save_npy, job_args)\n",
    "\n",
    "for result in p.imap_unordered(wrap_save_npy, job_args):\n",
    "    print(result)\n"
   ]
  },
  {
   "cell_type": "code",
   "execution_count": null,
   "metadata": {},
   "outputs": [
    {
     "name": "stdout",
     "output_type": "stream",
     "text": [
      "['icopng\\\\icons8-キャンセル-64.png', 'icopng\\\\icons8-チェック-64.png', 'icopng\\\\icons8-ネットワーク-48.png', 'icopng\\\\icons8-ボット-50.png', 'icopng\\\\icons8-マインド-マップ-48.png', 'icopng\\\\icons8-マインド-マップ-80.png', 'icopng\\\\icons8-ロボット2-50.png', 'icopng\\\\icons8-人工知能-48.png', 'icopng\\\\icons8-機械学習-64 (1).png', 'icopng\\\\icons8-機械学習-64 (2).png', 'icopng\\\\icons8-機械学習-64.png']\n",
      "icopng\\icons8-キャンセル-64.png\n",
      "icopng\\icons8-チェック-64.png\n",
      "icopng\\icons8-ネットワーク-48.png\n",
      "icopng\\icons8-ボット-50.png\n",
      "icopng\\icons8-マインド-マップ-48.png\n",
      "icopng\\icons8-マインド-マップ-80.png\n",
      "icopng\\icons8-ロボット2-50.png\n",
      "icopng\\icons8-人工知能-48.png\n",
      "icopng\\icons8-機械学習-64 (1).png\n",
      "icopng\\icons8-機械学習-64 (2).png\n",
      "icopng\\icons8-機械学習-64.png\n"
     ]
    }
   ],
   "source": [
    "import os\n",
    "import numpy as np\n",
    "import cv2\n",
    "from multiprocessing import Pool, cpu_count \n",
    "from tqdm import tqdm \n",
    "from glob import glob\n",
    "\n",
    "p = Pool(processes=cpu_count()-1)\n",
    "# NumPy Arrayをsaveするフォルダ\n",
    "save_base_path = 'gaussian_filtered_nparrays/'\n",
    "# フォルダ作成\n",
    "if not os.path.exists(save_base_path):\n",
    "    os.makedirs(save_base_path)\n",
    "\n",
    "\n",
    "def wrap_save_npy(args):\n",
    "    return save_npy(*args)\n",
    "\n",
    "\n",
    "def save_npy(path, type_name):\n",
    "\n",
    "    #pngデータをopencvでロード\n",
    "    im = cv2.imread(path)\n",
    "    #pngのファイル名 + フォルダ名を.npyファイルのファイル名にする\n",
    "    file_name = path.split('\\\\')[-1].split('.png')[0]\n",
    "    save_path = save_base_path + file_name + '_' + type_name\n",
    "    #全てのnpyファイルを同じフォルダに格納\n",
    "    np.save(save_path, im)\n",
    "\n",
    "path_list = glob('icopng/*.png')\n",
    "print(path_list)\n",
    "for path in path_list:\n",
    "    print(path)\n",
    "job_args = [(path, path.split('.')[1]) for path in path_list]\n",
    "# wrap_save_npy([path_list[0],'test'])\n",
    "#list(tqdm(p.imap(wrap_save_npy, job_args), total=len(path_list)))\n",
    "p.imap(wrap_save_npy, job_args)\n",
    "\n",
    "p.close()\n",
    "p.join()\n"
   ]
  },
  {
   "attachments": {},
   "cell_type": "markdown",
   "metadata": {},
   "source": [
    "- multiprocessing無し"
   ]
  },
  {
   "cell_type": "code",
   "execution_count": 2,
   "metadata": {},
   "outputs": [
    {
     "name": "stdout",
     "output_type": "stream",
     "text": [
      "['icopng\\\\icons8-キャンセル-64.png', 'icopng\\\\icons8-チェック-64.png', 'icopng\\\\icons8-ネットワーク-48.png', 'icopng\\\\icons8-ボット-50.png', 'icopng\\\\icons8-マインド-マップ-48.png', 'icopng\\\\icons8-マインド-マップ-80.png', 'icopng\\\\icons8-ロボット2-50.png', 'icopng\\\\icons8-人工知能-48.png', 'icopng\\\\icons8-機械学習-64 (1).png', 'icopng\\\\icons8-機械学習-64 (2).png', 'icopng\\\\icons8-機械学習-64.png']\n",
      "0\n",
      "0\n",
      "178\n",
      "0\n",
      "87\n",
      "0\n",
      "0\n",
      "115\n",
      "93\n",
      "220\n",
      "147\n",
      "icopng\\icons8-キャンセル-64.png\n",
      "icopng\\icons8-チェック-64.png\n",
      "icopng\\icons8-ネットワーク-48.png\n",
      "icopng\\icons8-ボット-50.png\n",
      "icopng\\icons8-マインド-マップ-48.png\n",
      "icopng\\icons8-マインド-マップ-80.png\n",
      "icopng\\icons8-ロボット2-50.png\n",
      "icopng\\icons8-人工知能-48.png\n",
      "icopng\\icons8-機械学習-64 (1).png\n",
      "icopng\\icons8-機械学習-64 (2).png\n",
      "icopng\\icons8-機械学習-64.png\n",
      "[0, 0, 0, 0, 0, 0, 0, 0, 0, 0, 0]\n"
     ]
    }
   ],
   "source": [
    "import os\n",
    "from glob import glob\n",
    "import numpy as np\n",
    "from PIL import Image\n",
    "\n",
    "save_base_path = 'gaussian_filtered_nparrays/'\n",
    "path_list = glob('icopng/*.png')\n",
    "print(path_list)\n",
    "results = [0 for _ in range(len(path_list))]\n",
    "numbers = [i for i in range(len(path_list))]\n",
    "map_list = [[i, path] for i, path in enumerate(path_list)]\n",
    "\n",
    "\n",
    "def save_im(path):\n",
    "    # global save_base_path\n",
    "    # global results\n",
    "    #PILでロード\n",
    "    im = Image.open(path).convert('L')\n",
    "    \n",
    "\n",
    "    print(im.getpixel((20, 20)))\n",
    "    im = np.array(im)\n",
    "    im = im.astype(np.float64)\n",
    "    num = 6\n",
    "    im_b = im\n",
    "    for _ in range(num):\n",
    "        im_a = im+np.var(im)\n",
    "        im_b = im-np.var(im_b)\n",
    "        im = np.cov(im_b, im_a)\n",
    "\n",
    "    x = np.argsort(im.flatten())\n",
    "    y = np.argsort(x)\n",
    "\n",
    "    return path\n",
    "\n",
    "for m in list(map(save_im, path_list)):\n",
    "    print(m)\n",
    "print(results)\n"
   ]
  },
  {
   "attachments": {},
   "cell_type": "markdown",
   "metadata": {},
   "source": [
    "- mapのテスト"
   ]
  },
  {
   "cell_type": "code",
   "execution_count": 1,
   "metadata": {},
   "outputs": [
    {
     "name": "stdout",
     "output_type": "stream",
     "text": [
      "['icopng\\\\icons8-キャンセル-64.png', 'icopng\\\\icons8-チェック-64.png', 'icopng\\\\icons8-ネットワーク-48.png', 'icopng\\\\icons8-ボット-50.png', 'icopng\\\\icons8-マインド-マップ-48.png', 'icopng\\\\icons8-マインド-マップ-80.png', 'icopng\\\\icons8-ロボット2-50.png', 'icopng\\\\icons8-人工知能-48.png', 'icopng\\\\icons8-機械学習-64 (1).png', 'icopng\\\\icons8-機械学習-64 (2).png', 'icopng\\\\icons8-機械学習-64.png']\n",
      "[[0, 'icopng\\\\icons8-キャンセル-64.png'], [1, 'icopng\\\\icons8-チェック-64.png'], [2, 'icopng\\\\icons8-ネットワーク-48.png'], [3, 'icopng\\\\icons8-ボット-50.png'], [4, 'icopng\\\\icons8-マインド-マップ-48.png'], [5, 'icopng\\\\icons8-マインド-マップ-80.png'], [6, 'icopng\\\\icons8-ロボット2-50.png'], [7, 'icopng\\\\icons8-人工知能-48.png'], [8, 'icopng\\\\icons8-機械学習-64 (1).png'], [9, 'icopng\\\\icons8-機械学習-64 (2).png'], [10, 'icopng\\\\icons8-機械学習-64.png']]\n",
      "([0, 'icopng\\\\icons8-キャンセル-64.png'],)\n",
      "n,f = 0,icopng\\icons8-キャンセル-64.png\n",
      "([1, 'icopng\\\\icons8-チェック-64.png'],)\n",
      "n,f = 1,icopng\\icons8-チェック-64.png\n",
      "([2, 'icopng\\\\icons8-ネットワーク-48.png'],)\n",
      "n,f = 2,icopng\\icons8-ネットワーク-48.png\n",
      "([3, 'icopng\\\\icons8-ボット-50.png'],)\n",
      "n,f = 3,icopng\\icons8-ボット-50.png\n",
      "([4, 'icopng\\\\icons8-マインド-マップ-48.png'],)\n",
      "n,f = 4,icopng\\icons8-マインド-マップ-48.png\n",
      "([5, 'icopng\\\\icons8-マインド-マップ-80.png'],)\n",
      "n,f = 5,icopng\\icons8-マインド-マップ-80.png\n",
      "([6, 'icopng\\\\icons8-ロボット2-50.png'],)\n",
      "n,f = 6,icopng\\icons8-ロボット2-50.png\n",
      "([7, 'icopng\\\\icons8-人工知能-48.png'],)\n",
      "n,f = 7,icopng\\icons8-人工知能-48.png\n",
      "([8, 'icopng\\\\icons8-機械学習-64 (1).png'],)\n",
      "n,f = 8,icopng\\icons8-機械学習-64 (1).png\n",
      "([9, 'icopng\\\\icons8-機械学習-64 (2).png'],)\n",
      "n,f = 9,icopng\\icons8-機械学習-64 (2).png\n",
      "([10, 'icopng\\\\icons8-機械学習-64.png'],)\n",
      "n,f = 10,icopng\\icons8-機械学習-64.png\n",
      "n,f = 0,icopng\\icons8-キャンセル-64.png\n",
      "n,f = 1,icopng\\icons8-チェック-64.png\n",
      "n,f = 2,icopng\\icons8-ネットワーク-48.png\n",
      "n,f = 3,icopng\\icons8-ボット-50.png\n",
      "n,f = 4,icopng\\icons8-マインド-マップ-48.png\n",
      "n,f = 5,icopng\\icons8-マインド-マップ-80.png\n",
      "n,f = 6,icopng\\icons8-ロボット2-50.png\n",
      "n,f = 7,icopng\\icons8-人工知能-48.png\n",
      "n,f = 8,icopng\\icons8-機械学習-64 (1).png\n",
      "n,f = 9,icopng\\icons8-機械学習-64 (2).png\n",
      "n,f = 10,icopng\\icons8-機械学習-64.png\n"
     ]
    }
   ],
   "source": [
    "from glob import glob\n",
    "path_list = glob('icopng/*.png')\n",
    "print(path_list)\n",
    "results = [0 for _ in range(len(path_list))]\n",
    "numbers = [i for i in range(len(path_list))]\n",
    "map_list = [[i, path] for i, path in enumerate(path_list)]\n",
    "print(map_list)\n",
    "\n",
    "def sep(*args):\n",
    "    print(args)\n",
    "    print(f'n,f = {args[0][0]},{args[0][1]}')\n",
    "    return f'n,f = {args[0][0]},{args[0][1]}'\n",
    "for a in list(map(sep, map_list)):\n",
    "    print(a)"
   ]
  }
 ],
 "metadata": {
  "kernelspec": {
   "display_name": "venv",
   "language": "python",
   "name": "python3"
  },
  "language_info": {
   "codemirror_mode": {
    "name": "ipython",
    "version": 3
   },
   "file_extension": ".py",
   "mimetype": "text/x-python",
   "name": "python",
   "nbconvert_exporter": "python",
   "pygments_lexer": "ipython3",
   "version": "3.11.1"
  },
  "orig_nbformat": 4
 },
 "nbformat": 4,
 "nbformat_minor": 2
}
