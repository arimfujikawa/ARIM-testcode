{
 "cells": [
  {
   "attachments": {},
   "cell_type": "markdown",
   "metadata": {},
   "source": [
    "# dict形式のテスト"
   ]
  },
  {
   "attachments": {},
   "cell_type": "markdown",
   "metadata": {},
   "source": [
    "### dict.items＋enumerate"
   ]
  },
  {
   "cell_type": "code",
   "execution_count": 2,
   "metadata": {},
   "outputs": [
    {
     "name": "stdout",
     "output_type": "stream",
     "text": [
      "1\n",
      "{'a': {'number': 1, 'name': 'A'}, 'b': {'number': 2, 'name': 'B'}}\n",
      "dict_items([('a', {'number': 1, 'name': 'A'}), ('b', {'number': 2, 'name': 'B'})])\n",
      "a, {'number': 1, 'name': 'A'}\n",
      "b, {'number': 2, 'name': 'B'}\n",
      "0, ('a', {'number': 1, 'name': 'A'})\n",
      "1, ('b', {'number': 2, 'name': 'B'})\n",
      "0, 1, A\n",
      "1, 2, B\n"
     ]
    }
   ],
   "source": [
    "dic = {'a': {'number': 1, 'name': 'A'}, 'b': {'number': 2, 'name': 'B'}}\n",
    "print(dic['a']['number'])\n",
    "print(dic)\n",
    "print(dic.items())\n",
    "for k,v in dic.items():\n",
    "    print(f'{k}, {v}')\n",
    "for i, kv in enumerate(dic.items()):\n",
    "    print(f'{i}, {kv}')\n",
    "for i, k in enumerate(dic.keys()):\n",
    "    print(f'{i}, {dic[k][\"number\"]}, {dic[k][\"name\"]}')\n"
   ]
  }
 ],
 "metadata": {
  "kernelspec": {
   "display_name": "venv",
   "language": "python",
   "name": "python3"
  },
  "language_info": {
   "codemirror_mode": {
    "name": "ipython",
    "version": 3
   },
   "file_extension": ".py",
   "mimetype": "text/x-python",
   "name": "python",
   "nbconvert_exporter": "python",
   "pygments_lexer": "ipython3",
   "version": "3.11.1"
  },
  "orig_nbformat": 4
 },
 "nbformat": 4,
 "nbformat_minor": 2
}
