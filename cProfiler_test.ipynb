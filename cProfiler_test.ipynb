{
 "cells": [
  {
   "cell_type": "markdown",
   "metadata": {},
   "source": [
    "# cProfiler"
   ]
  },
  {
   "cell_type": "code",
   "execution_count": 1,
   "metadata": {},
   "outputs": [
    {
     "name": "stdout",
     "output_type": "stream",
     "text": [
      "         38 function calls in 0.000 seconds\n",
      "\n",
      "   Ordered by: cumulative time\n",
      "\n",
      "   ncalls  tottime  percall  cumtime  percall filename:lineno(function)\n",
      "        2    0.000    0.000    0.000    0.000 C:\\Users\\fujikawa\\AppData\\Local\\Programs\\Python\\Python311\\Lib\\codeop.py:117(__call__)\n",
      "        2    0.000    0.000    0.000    0.000 {built-in method builtins.compile}\n",
      "        2    0.000    0.000    0.000    0.000 c:\\Users\\fujikawa\\python_projects\\ARIM_testcode\\venv\\Lib\\site-packages\\IPython\\core\\interactiveshell.py:3406(run_code)\n",
      "        2    0.000    0.000    0.000    0.000 C:\\Users\\fujikawa\\AppData\\Local\\Programs\\Python\\Python311\\Lib\\contextlib.py:284(helper)\n",
      "        2    0.000    0.000    0.000    0.000 c:\\Users\\fujikawa\\python_projects\\ARIM_testcode\\venv\\Lib\\site-packages\\traitlets\\traitlets.py:692(__get__)\n",
      "        2    0.000    0.000    0.000    0.000 {built-in method builtins.exec}\n",
      "        2    0.000    0.000    0.000    0.000 C:\\Users\\fujikawa\\AppData\\Local\\Programs\\Python\\Python311\\Lib\\contextlib.py:132(__enter__)\n",
      "        2    0.000    0.000    0.000    0.000 C:\\Users\\fujikawa\\AppData\\Local\\Programs\\Python\\Python311\\Lib\\contextlib.py:141(__exit__)\n",
      "        4    0.000    0.000    0.000    0.000 {built-in method builtins.next}\n",
      "        1    0.000    0.000    0.000    0.000 C:\\Users\\fujikawa\\AppData\\Local\\Temp\\ipykernel_4396\\4177004030.py:1(<module>)\n",
      "        2    0.000    0.000    0.000    0.000 C:\\Users\\fujikawa\\AppData\\Local\\Programs\\Python\\Python311\\Lib\\contextlib.py:104(__init__)\n",
      "        4    0.000    0.000    0.000    0.000 c:\\Users\\fujikawa\\python_projects\\ARIM_testcode\\venv\\Lib\\site-packages\\IPython\\core\\compilerop.py:180(extra_flags)\n",
      "        2    0.000    0.000    0.000    0.000 c:\\Users\\fujikawa\\python_projects\\ARIM_testcode\\venv\\Lib\\site-packages\\IPython\\core\\interactiveshell.py:1227(user_global_ns)\n",
      "        2    0.000    0.000    0.000    0.000 c:\\Users\\fujikawa\\python_projects\\ARIM_testcode\\venv\\Lib\\site-packages\\IPython\\core\\interactiveshell.py:3358(compare)\n",
      "        2    0.000    0.000    0.000    0.000 c:\\Users\\fujikawa\\python_projects\\ARIM_testcode\\venv\\Lib\\site-packages\\traitlets\\traitlets.py:654(get)\n",
      "        4    0.000    0.000    0.000    0.000 {built-in method builtins.getattr}\n",
      "        1    0.000    0.000    0.000    0.000 {method 'disable' of '_lsprof.Profiler' objects}\n",
      "\n",
      "\n",
      "   Ordered by: internal time\n",
      "   List reduced from 17 to 9 due to restriction <0.5>\n",
      "   List reduced from 9 to 1 due to restriction <'init'>\n",
      "\n",
      "Function                                                                                   was called by...\n",
      "                                                                                               ncalls  tottime  cumtime\n",
      "C:\\Users\\fujikawa\\AppData\\Local\\Programs\\Python\\Python311\\Lib\\contextlib.py:104(__init__)  <-       2    0.000    0.000  C:\\Users\\fujikawa\\AppData\\Local\\Programs\\Python\\Python311\\Lib\\contextlib.py:284(helper)\n",
      "\n",
      "\n",
      "         38 function calls in 0.000 seconds\n",
      "\n",
      "   Ordered by: internal time\n",
      "\n",
      "   ncalls  tottime  percall  cumtime  percall filename:lineno(function)\n",
      "        2    0.000    0.000    0.000    0.000 {built-in method builtins.compile}\n",
      "        2    0.000    0.000    0.000    0.000 c:\\Users\\fujikawa\\python_projects\\ARIM_testcode\\venv\\Lib\\site-packages\\traitlets\\traitlets.py:692(__get__)\n",
      "        2    0.000    0.000    0.000    0.000 c:\\Users\\fujikawa\\python_projects\\ARIM_testcode\\venv\\Lib\\site-packages\\IPython\\core\\interactiveshell.py:3406(run_code)\n",
      "        2    0.000    0.000    0.000    0.000 C:\\Users\\fujikawa\\AppData\\Local\\Programs\\Python\\Python311\\Lib\\codeop.py:117(__call__)\n",
      "        1    0.000    0.000    0.000    0.000 C:\\Users\\fujikawa\\AppData\\Local\\Temp\\ipykernel_4396\\4177004030.py:1(<module>)\n",
      "        2    0.000    0.000    0.000    0.000 C:\\Users\\fujikawa\\AppData\\Local\\Programs\\Python\\Python311\\Lib\\contextlib.py:141(__exit__)\n",
      "        2    0.000    0.000    0.000    0.000 C:\\Users\\fujikawa\\AppData\\Local\\Programs\\Python\\Python311\\Lib\\contextlib.py:104(__init__)\n",
      "        2    0.000    0.000    0.000    0.000 C:\\Users\\fujikawa\\AppData\\Local\\Programs\\Python\\Python311\\Lib\\contextlib.py:284(helper)\n",
      "        4    0.000    0.000    0.000    0.000 {built-in method builtins.next}\n",
      "        2    0.000    0.000    0.000    0.000 C:\\Users\\fujikawa\\AppData\\Local\\Programs\\Python\\Python311\\Lib\\contextlib.py:132(__enter__)\n",
      "        4    0.000    0.000    0.000    0.000 c:\\Users\\fujikawa\\python_projects\\ARIM_testcode\\venv\\Lib\\site-packages\\IPython\\core\\compilerop.py:180(extra_flags)\n",
      "        2    0.000    0.000    0.000    0.000 c:\\Users\\fujikawa\\python_projects\\ARIM_testcode\\venv\\Lib\\site-packages\\IPython\\core\\interactiveshell.py:1227(user_global_ns)\n",
      "        2    0.000    0.000    0.000    0.000 c:\\Users\\fujikawa\\python_projects\\ARIM_testcode\\venv\\Lib\\site-packages\\IPython\\core\\interactiveshell.py:3358(compare)\n",
      "        2    0.000    0.000    0.000    0.000 {built-in method builtins.exec}\n",
      "        2    0.000    0.000    0.000    0.000 c:\\Users\\fujikawa\\python_projects\\ARIM_testcode\\venv\\Lib\\site-packages\\traitlets\\traitlets.py:654(get)\n",
      "        4    0.000    0.000    0.000    0.000 {built-in method builtins.getattr}\n",
      "        1    0.000    0.000    0.000    0.000 {method 'disable' of '_lsprof.Profiler' objects}\n",
      "\n",
      "\n",
      "\n"
     ]
    }
   ],
   "source": [
    "import cProfile\n",
    "import pstats\n",
    "import io\n",
    "import numpy as np\n",
    "from pstats import SortKey\n",
    "test_profiler=cProfile.Profile(timeunit=.000000000001)\n",
    "test_profiler.enable()\n",
    "def func():\n",
    "    N = 1000000000000000000\n",
    "    for i in range(N):\n",
    "        array = np.arange(i)\n",
    "        array = np.reshape(array, (i, 1))\n",
    "        \n",
    "test_profiler.disable()\n",
    "s = io.StringIO()\n",
    "sortkey = SortKey.CUMULATIVE\n",
    "ps = pstats.Stats(test_profiler, stream=s).sort_stats(sortkey)\n",
    "ps.print_stats(20)\n",
    "sortkey = SortKey.TIME\n",
    "ps = pstats.Stats(test_profiler, stream=s).sort_stats(sortkey)\n",
    "ps.print_callers(.5, 'init')\n",
    "ps.print_stats(20)\n",
    "\n",
    "print(s.getvalue())"
   ]
  }
 ],
 "metadata": {
  "kernelspec": {
   "display_name": "venv",
   "language": "python",
   "name": "python3"
  },
  "language_info": {
   "codemirror_mode": {
    "name": "ipython",
    "version": 3
   },
   "file_extension": ".py",
   "mimetype": "text/x-python",
   "name": "python",
   "nbconvert_exporter": "python",
   "pygments_lexer": "ipython3",
   "version": "3.11.1"
  },
  "orig_nbformat": 4
 },
 "nbformat": 4,
 "nbformat_minor": 2
}
