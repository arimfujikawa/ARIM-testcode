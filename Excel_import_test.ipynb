{
 "cells": [
  {
   "attachments": {},
   "cell_type": "markdown",
   "metadata": {},
   "source": [
    "# 施設共用課題Excelファイルから利用ユーザーの予定をインポート"
   ]
  },
  {
   "cell_type": "code",
   "execution_count": 32,
   "metadata": {},
   "outputs": [
    {
     "name": "stdout",
     "output_type": "stream",
     "text": [
      "        BL            利用装置 機構\\n担当者            利用開始日時（予定）            利用終了日時（予定）\n",
      "0   BL14B1  エネルギー分散型XAFS装置   松村　大樹   2023-07-17 10:00:00   2023-07-21 10:00:00\n",
      "1   BL14B1  エネルギー分散型XAFS装置   松村　大樹   2023-06-21 00:00:00   2023-06-27 00:00:00\n",
      "2   BL14B1  エネルギー分散型XAFS装置   松村　大樹   2023-04-14 00:00:00   2023-04-18 00:00:00\n",
      "3   BL14B1  エネルギー分散型XAFS装置   松村　大樹   2023-05-18 00:00:00   2023-05-22 00:00:00\n",
      "4   BL22XU        XAFS測定装置   塩飽　秀啓   2023-06-27 00:00:00   2023-06-29 00:00:00\n",
      "5   BL22XU        XAFS測定装置    矢板　毅   2023-06-12 00:00:00   2023-06-14 00:00:00\n",
      "6   BL22XU   応力・イメージング測定装置   菖蒲　敬久   2023-06-02 00:00:00   2023-06-04 00:00:00\n",
      "7   BL22XU         κ型X線回折計   田村　和久   2023-06-20 00:00:00   2023-06-23 00:00:00\n",
      "8   BL22XU   応力・イメージング測定装置   菖蒲　敬久   2023-05-31 00:00:00   2023-06-02 00:00:00\n",
      "9   BL22XU         κ型X線回折計   田村　和久   2023-05-11 00:00:00   2023-05-14 00:00:00\n",
      "10  BL22XU        XAFS測定装置    小林　徹   2023/6/7\\n2023/6/23   2023/6/9\\n2023/6/24\n",
      "11  BL23SU    表面化学実験ステーション   吉越　章隆  2023/5/28\\n2023/7/26  2023/5/30\\n2023/7/28\n",
      "12  BL23SU    表面化学実験ステーション   吉越　章隆  2023/6/20\\n2023/7/25  2023/6/21\\n2023/7/26\n",
      "13  BL23SU    表面化学実験ステーション   吉越　章隆   2023/6/9\\n2023/7/14  2023/6/13\\n2023/7/18\n",
      "14  BL23SU    表面化学実験ステーション   吉越　章隆   2023-06-30 00:00:00   2023-07-04 00:00:00\n",
      "15  BL23SU    表面化学実験ステーション   吉越　章隆   2023-07-30 00:00:00   2023-08-01 00:00:00\n",
      "16  BL23SU      軟X線光電子分光装置   藤森　伸一   2023-06-22 00:00:00   2023-06-26 00:00:00\n",
      "2023-07-21 10:00:00\n",
      "2023-07-21 10:00\n"
     ]
    }
   ],
   "source": [
    "import pandas as pd\n",
    "import datetime\n",
    "# NOTE*xlrdのインストールが必要\n",
    "# ImportError: Missing optional dependency 'xlrd'. Install xlrd >= 1.0.0 \n",
    "# for Excel support Use pip or conda to install xlrd.\n",
    "\n",
    "# input_book = pd.ExcelFile('施設供用課題データベース(2023A).xls')\n",
    "# print(input_book)\n",
    "# input_sheet_names = input_book.sheet_names\n",
    "# input_sheet_df = input_book.parse(input_sheet_names[0])\n",
    "\n",
    "input_sheet_df = pd.read_excel('施設供用課題データベース(2023A).xls', sheet_name=0, usecols=(8, 9, 17, 21, 22))\n",
    "print(input_sheet_df)\n",
    "\n",
    "print(input_sheet_df.values[0][4])\n",
    "str_datetime = input_sheet_df.values[0][4].strftime('%Y-%m-%d %H:%M')\n",
    "print(str_datetime)\n"
   ]
  },
  {
   "attachments": {},
   "cell_type": "markdown",
   "metadata": {},
   "source": [
    "- 予定をOutlookに登録する"
   ]
  },
  {
   "cell_type": "code",
   "execution_count": 51,
   "metadata": {},
   "outputs": [
    {
     "name": "stdout",
     "output_type": "stream",
     "text": [
      "['BL14B1' 'エネルギー分散型XAFS装置' '松村\\u3000大樹'\n",
      " datetime.datetime(2023, 7, 17, 10, 0)\n",
      " datetime.datetime(2023, 7, 21, 10, 0)]\n",
      "['BL14B1' 'エネルギー分散型XAFS装置' '松村\\u3000大樹'\n",
      " datetime.datetime(2023, 6, 21, 0, 0) datetime.datetime(2023, 6, 27, 0, 0)]\n",
      "['BL14B1' 'エネルギー分散型XAFS装置' '松村\\u3000大樹'\n",
      " datetime.datetime(2023, 4, 14, 0, 0) datetime.datetime(2023, 4, 18, 0, 0)]\n",
      "['BL14B1' 'エネルギー分散型XAFS装置' '松村\\u3000大樹'\n",
      " datetime.datetime(2023, 5, 18, 0, 0) datetime.datetime(2023, 5, 22, 0, 0)]\n",
      "['BL22XU' 'XAFS測定装置' '塩飽\\u3000秀啓' datetime.datetime(2023, 6, 27, 0, 0)\n",
      " datetime.datetime(2023, 6, 29, 0, 0)]\n",
      "['BL22XU' 'XAFS測定装置' '矢板\\u3000毅' datetime.datetime(2023, 6, 12, 0, 0)\n",
      " datetime.datetime(2023, 6, 14, 0, 0)]\n",
      "['BL22XU' '応力・イメージング測定装置' '菖蒲\\u3000敬久' datetime.datetime(2023, 6, 2, 0, 0)\n",
      " datetime.datetime(2023, 6, 4, 0, 0)]\n",
      "['BL22XU' 'κ型X線回折計' '田村\\u3000和久' datetime.datetime(2023, 6, 20, 0, 0)\n",
      " datetime.datetime(2023, 6, 23, 0, 0)]\n",
      "['BL22XU' '応力・イメージング測定装置' '菖蒲\\u3000敬久'\n",
      " datetime.datetime(2023, 5, 31, 0, 0) datetime.datetime(2023, 6, 2, 0, 0)]\n",
      "['BL22XU' 'κ型X線回折計' '田村\\u3000和久' datetime.datetime(2023, 5, 11, 0, 0)\n",
      " datetime.datetime(2023, 5, 14, 0, 0)]\n",
      "['BL22XU' 'XAFS測定装置' '小林\\u3000徹' '2023/6/7\\n2023/6/23'\n",
      " '2023/6/9\\n2023/6/24']\n",
      "start 2023-6-7 10:00\n",
      "end 2023-6-9 10:00\n",
      "start 2023-6-23 10:00\n",
      "end 2023-6-24 10:00\n",
      "['BL23SU' '表面化学実験ステーション' '吉越\\u3000章隆' '2023/5/28\\n2023/7/26'\n",
      " '2023/5/30\\n2023/7/28']\n",
      "start 2023-5-28 10:00\n",
      "end 2023-5-30 10:00\n",
      "start 2023-7-26 10:00\n",
      "end 2023-7-28 10:00\n",
      "['BL23SU' '表面化学実験ステーション' '吉越\\u3000章隆' '2023/6/20\\n2023/7/25'\n",
      " '2023/6/21\\n2023/7/26']\n",
      "start 2023-6-20 10:00\n",
      "end 2023-6-21 10:00\n",
      "start 2023-7-25 10:00\n",
      "end 2023-7-26 10:00\n",
      "['BL23SU' '表面化学実験ステーション' '吉越\\u3000章隆' '2023/6/9\\n2023/7/14'\n",
      " '2023/6/13\\n2023/7/18']\n",
      "start 2023-6-9 10:00\n",
      "end 2023-6-13 10:00\n",
      "start 2023-7-14 10:00\n",
      "end 2023-7-18 10:00\n",
      "['BL23SU' '表面化学実験ステーション' '吉越\\u3000章隆' datetime.datetime(2023, 6, 30, 0, 0)\n",
      " datetime.datetime(2023, 7, 4, 0, 0)]\n",
      "['BL23SU' '表面化学実験ステーション' '吉越\\u3000章隆' datetime.datetime(2023, 7, 30, 0, 0)\n",
      " datetime.datetime(2023, 8, 1, 0, 0)]\n",
      "['BL23SU' '軟X線光電子分光装置' '藤森\\u3000伸一' datetime.datetime(2023, 6, 22, 0, 0)\n",
      " datetime.datetime(2023, 6, 26, 0, 0)]\n"
     ]
    }
   ],
   "source": [
    "import pandas as pd\n",
    "import win32com.client\n",
    "import datetime\n",
    "import re\n",
    "\n",
    "SCHEDULE_FILE = '施設供用課題データベース(2023A).xls'\n",
    "\n",
    "def read_excel_schedule(excel_filename):\n",
    "    input_sheet_df = pd.read_excel(excel_filename, sheet_name=0, usecols=(8, 9, 17, 21, 22))\n",
    "    return input_sheet_df\n",
    "\n",
    "def add_outlook_schedule(excel_filename):\n",
    "    input_sheet_df = read_excel_schedule(excel_filename)\n",
    "    # Outlookの予定表は1　（0:メール)\n",
    "    APPOINTMENT_ITEM = 1\n",
    "    outlook = win32com.client.Dispatch(\"Outlook.Application\")\n",
    "    # mapi = outlook.GetNamespace(\"MAPI\")\n",
    "\n",
    "    for values in input_sheet_df.values:\n",
    "        print(values)\n",
    "        \n",
    "        beam_line, instrument, instrument_pic, start_date, end_date =  values\n",
    "        if isinstance(start_date, datetime.datetime):\n",
    "            item = outlook.CreateItem(APPOINTMENT_ITEM)\n",
    "            # NOTE*datetime型をわたすより文字列が安定している\n",
    "            # フォーマットは'%Y-%m-%d %H:%M'\n",
    "            # Datetime.strptimeは日付が変になる\n",
    "            item.Start =  start_date.strftime('%Y-%m-%d %H:%M')\n",
    "            item.End = end_date.strftime('%Y-%m-%d %H:%M')\n",
    "            item.Subject = instrument\n",
    "            item.Location = beam_line\n",
    "            item.Body = f'担当者：{instrument_pic}'\n",
    "            # 分類を決定\n",
    "            item.Categories = 'ビームタイム'\n",
    "            item.Save()\n",
    "        elif isinstance(start_date, str):\n",
    "            item = outlook.CreateItem(APPOINTMENT_ITEM)\n",
    "            start_date_list = start_date.split('\\n')\n",
    "            end_date_list = end_date.split('\\n')            \n",
    "            for i in range(len(start_date_list)):\n",
    "                item = outlook.CreateItem(APPOINTMENT_ITEM)\n",
    "                splited_start_date = start_date_list[i].split('/')\n",
    "                splited_end_date = end_date_list[i].split('/')\n",
    "                print(f'start {splited_start_date[0]}-{splited_start_date[1]}-{splited_start_date[2]} 10:00')\n",
    "                print(f'end {splited_end_date[0]}-{splited_end_date[1]}-{splited_end_date[2]} 10:00')\n",
    "                item.Start = f'{splited_start_date[0]}-{splited_start_date[1]}-{splited_start_date[2]} 10:00'\n",
    "                item.End = f'{splited_end_date[0]}-{splited_end_date[1]}-{splited_end_date[2]} 10:00'\n",
    "                item.Subject = instrument\n",
    "                item.Location = beam_line\n",
    "                item.Body = f'担当者：{instrument_pic}'\n",
    "                # 分類を決定\n",
    "                item.Categories = 'ビームタイム'\n",
    "                item.Save()\n",
    "\n",
    "\n",
    "add_outlook_schedule(SCHEDULE_FILE)\n",
    "\n",
    "\n",
    "    \n"
   ]
  },
  {
   "cell_type": "code",
   "execution_count": 42,
   "metadata": {},
   "outputs": [
    {
     "data": {
      "text/plain": [
       "'2023-5-28 10:00'"
      ]
     },
     "execution_count": 42,
     "metadata": {},
     "output_type": "execute_result"
    }
   ],
   "source": [
    "import re\n",
    "a = '2023/5/28'\n",
    "re.search('(\\d*)/', a).groups()\n",
    "group = a.split('/')\n",
    "f'{group[0]}-{group[1]}-{group[2]} 10:00'\n",
    "\n"
   ]
  }
 ],
 "metadata": {
  "kernelspec": {
   "display_name": "venv",
   "language": "python",
   "name": "python3"
  },
  "language_info": {
   "codemirror_mode": {
    "name": "ipython",
    "version": 3
   },
   "file_extension": ".py",
   "mimetype": "text/x-python",
   "name": "python",
   "nbconvert_exporter": "python",
   "pygments_lexer": "ipython3",
   "version": "3.11.1"
  },
  "orig_nbformat": 4
 },
 "nbformat": 4,
 "nbformat_minor": 2
}
