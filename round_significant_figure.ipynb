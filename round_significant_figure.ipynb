{
 "cells": [
  {
   "attachments": {},
   "cell_type": "markdown",
   "metadata": {},
   "source": [
    "# 四捨五入と有効数字"
   ]
  },
  {
   "attachments": {},
   "cell_type": "markdown",
   "metadata": {},
   "source": [
    "### numpy\n",
    "- np.format_float_positional  \n",
    "正確な四捨五入が可能だが、指数型がfloaat型に変換される\n",
    "- np.around, np.round  \n",
    "銀行丸め、直近の偶数に丸められる"
   ]
  },
  {
   "cell_type": "code",
   "execution_count": null,
   "metadata": {},
   "outputs": [],
   "source": [
    "import numpy as np\n",
    "np.format_float_positional(56294995342131.5, precision=3)\n",
    "ls = [790.15, 799.6499999999913, 0.009999999999990905, 951, -5.502247191011237, 5.51011235955055, 0.11123595505617967, 100, 5.05699600e+02, 1.00000000e-02, 8.41726316e-01, 1.67345263e+00, 2.50517895e+00,]\n",
    "for v in ls:\n",
    "    print(np.format_float_positional(v, precision=10))"
   ]
  },
  {
   "cell_type": "code",
   "execution_count": 10,
   "metadata": {},
   "outputs": [
    {
     "name": "stdout",
     "output_type": "stream",
     "text": [
      "790.15\n",
      "799.65\n",
      "0.01\n",
      "951.\n",
      "-5.5022471910\n",
      "5.5101123596\n",
      "0.1112359551\n",
      "100.\n",
      "505.6996\n",
      "0.01\n",
      "0.841726316\n",
      "1.67345263\n",
      "2.50517895\n"
     ]
    }
   ],
   "source": [
    "import numpy as np\n",
    "np.set_printoptions(\n",
    "    formatter={'float': '{:0.8e}'.format, 'int': '{:08d}'.format})\n",
    "\n",
    "\n",
    "ls = [790.15, 799.6499999999913, 0.009999999999990905, 951, -5.502247191011237, 5.51011235955055, 0.11123595505617967, 100, 5.05699600e+02, 1.00000000e-02, 8.41726316e-01, 1.67345263e+00, 2.50517895e+00,]\n",
    "for v in ls:\n",
    "    print(np.format_float_positional(v, precision=10))"
   ]
  },
  {
   "cell_type": "code",
   "execution_count": 9,
   "metadata": {},
   "outputs": [
    {
     "name": "stdout",
     "output_type": "stream",
     "text": [
      "[ 0.  2.  2.  4.  4.  6.  6.  8.  8. 10.]\n",
      "[0.  0.2 0.2 0.4 0.4 0.6 0.6 0.8 0.8 1. ]\n",
      "[ 0.  2.  2.  4.  4.  6.  6.  8.  8. 10.]\n",
      "[0.  0.2 0.2 0.4 0.4 0.6 0.6 0.8 0.8 1. ]\n"
     ]
    }
   ],
   "source": [
    "import numpy as np\n",
    "\n",
    "a = np.array([0.5, 1.5, 2.5, 3.5, 4.5, 5.5, 6.5, 7.5, 8.5, 9.5])\n",
    "b = np.array([0.05, 0.15, 0.25, 0.35, 0.45, 0.55, 0.65, 0.75, 0.85, 0.95])\n",
    "\n",
    "# 整数 (小数点以下0桁) に最近接丸め\n",
    "print(np.around(a))\n",
    "print(np.around(b, decimals=1))\n",
    "\n",
    "print(np.round(a))\n",
    "print(np.round(b, decimals=1))\n"
   ]
  },
  {
   "cell_type": "code",
   "execution_count": null,
   "metadata": {},
   "outputs": [
    {
     "name": "stdout",
     "output_type": "stream",
     "text": [
      "[ 0.  2.  2.  4.  4.  6.  6.  8.  8. 10.]\n",
      "[0.  0.2 0.2 0.4 0.4 0.6 0.6 0.8 0.8 1. ]\n",
      "[ 0.  2.  2.  4.  4.  6.  6.  8.  8. 10.]\n",
      "[0.  0.2 0.2 0.4 0.4 0.6 0.6 0.8 0.8 1. ]\n"
     ]
    }
   ],
   "source": [
    "import numpy as np\n",
    "\n",
    "a = np.array([0.5, 1.5, 2.5, 3.5, 4.5, 5.5, 6.5, 7.5, 8.5, 9.5])\n",
    "b = np.array([0.05, 0.15, 0.25, 0.35, 0.45, 0.55, 0.65, 0.75, 0.85, 0.95])\n",
    "\n",
    "# 整数 (小数点以下0桁) に最近接丸め\n",
    "print(np.around(a))\n",
    "print(np.around(b, decimals=1))\n",
    "\n",
    "print(np.round(a))\n",
    "print(np.round(b, decimals=1))\n"
   ]
  }
 ],
 "metadata": {
  "kernelspec": {
   "display_name": "venv",
   "language": "python",
   "name": "python3"
  },
  "language_info": {
   "codemirror_mode": {
    "name": "ipython",
    "version": 3
   },
   "file_extension": ".py",
   "mimetype": "text/x-python",
   "name": "python",
   "nbconvert_exporter": "python",
   "pygments_lexer": "ipython3",
   "version": "3.11.1"
  },
  "orig_nbformat": 4
 },
 "nbformat": 4,
 "nbformat_minor": 2
}
