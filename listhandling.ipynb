{
 "cells": [
  {
   "cell_type": "code",
   "execution_count": 10,
   "metadata": {},
   "outputs": [
    {
     "name": "stdout",
     "output_type": "stream",
     "text": [
      "['deltar']\n",
      "deltar\n",
      "deltar\n",
      "deltar\n",
      "deltar\n"
     ]
    }
   ],
   "source": [
    "SELECT_OPTIONS = [('S02', 0), ('enot', 1), ('deltar', 2), ('sigma2', 3), (\n",
    "    'third', 4), ('forth', 5), ('ei', 6)]\n",
    "d1 = dict(SELECT_OPTIONS)\n",
    "select_name = [k for k,v in d1.items() if v == 2]\n",
    "print(select_name)\n",
    "print(select_name[0])\n",
    "print(','.join(map(str,select_name)))\n",
    "print(''.join(select_name))\n",
    "print(*select_name)"
   ]
  }
 ],
 "metadata": {
  "kernelspec": {
   "display_name": "venv",
   "language": "python",
   "name": "python3"
  },
  "language_info": {
   "codemirror_mode": {
    "name": "ipython",
    "version": 3
   },
   "file_extension": ".py",
   "mimetype": "text/x-python",
   "name": "python",
   "nbconvert_exporter": "python",
   "pygments_lexer": "ipython3",
   "version": "3.11.1"
  },
  "orig_nbformat": 4
 },
 "nbformat": 4,
 "nbformat_minor": 2
}
