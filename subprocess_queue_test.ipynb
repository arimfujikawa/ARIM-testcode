{
 "cells": [
  {
   "cell_type": "code",
   "execution_count": 1,
   "metadata": {},
   "outputs": [],
   "source": [
    "import subprocess\n",
    "from subprocess import PIPE\n",
    "\n",
    "# subprocess_cmd = ['python', 'subprocess_queue_while_test_refdocs.py', '3']\n",
    "subprocess_cmd = ['python', 'subprocess_queue_while_cpubund_test_refdocs.py', '3']\n",
    "\n",
    "proc = subprocess.run(subprocess_cmd, stdout=PIPE, stderr=PIPE)\n",
    "print(proc.stdout.decode('utf-8').split('\\r\\n'))\n",
    "print(proc.stderr.decode('utf-8').split('\\n'))\n"
   ]
  },
  {
   "cell_type": "code",
   "execution_count": 2,
   "metadata": {},
   "outputs": [
    {
     "name": "stdout",
     "output_type": "stream",
     "text": [
      "test is ok\n"
     ]
    },
    {
     "ename": "TypeError",
     "evalue": "not enough arguments for format string",
     "output_type": "error",
     "traceback": [
      "\u001b[1;31m---------------------------------------------------------------------------\u001b[0m",
      "\u001b[1;31mTypeError\u001b[0m                                 Traceback (most recent call last)",
      "Cell \u001b[1;32mIn[2], line 4\u001b[0m\n\u001b[0;32m      2\u001b[0m b \u001b[39m=\u001b[39m \u001b[39m'\u001b[39m\u001b[39mok\u001b[39m\u001b[39m'\u001b[39m\n\u001b[0;32m      3\u001b[0m \u001b[39mprint\u001b[39m(\u001b[39m'\u001b[39m\u001b[39m%s\u001b[39;00m\u001b[39m is \u001b[39m\u001b[39m%s\u001b[39;00m\u001b[39m'\u001b[39m \u001b[39m%\u001b[39m (a, b))\n\u001b[1;32m----> 4\u001b[0m \u001b[39mprint\u001b[39m(\u001b[39m'\u001b[39;49m\u001b[39m%s\u001b[39;49;00m\u001b[39m is \u001b[39;49m\u001b[39m%s\u001b[39;49;00m\u001b[39m'\u001b[39;49m \u001b[39m%\u001b[39;49m a, b)\n",
      "\u001b[1;31mTypeError\u001b[0m: not enough arguments for format string"
     ]
    }
   ],
   "source": [
    "a = 'test'\n",
    "b = 'ok'\n",
    "print('%s is %s' % (a, b))\n",
    "print('%s is %s' % a, b)"
   ]
  },
  {
   "cell_type": "code",
   "execution_count": 18,
   "metadata": {},
   "outputs": [
    {
     "name": "stdout",
     "output_type": "stream",
     "text": [
      "1, [2, 3], test, [[100 200]\n",
      " [300 400]\n",
      " [500 600]]\n",
      "[[ 0  1]\n",
      " [ 6  7]\n",
      " [12 13]]\n",
      "[[[ 0  1]\n",
      "  [ 2  3]\n",
      "  [ 4  5]]\n",
      "\n",
      " [[ 6  7]\n",
      "  [ 8  9]\n",
      "  [10 11]]\n",
      "\n",
      " [[12 13]\n",
      "  [14 15]\n",
      "  [16 17]]]\n"
     ]
    }
   ],
   "source": [
    "import numpy as np\n",
    "\n",
    "a = (1, [2, 3], 'test', np.array([[100, 200], [300, 400], [500, 600]]))\n",
    "i, l, s, n = a\n",
    "print(f'{i}, {l}, {s}, {n}')\n",
    "\n",
    "n_b = np.array([i for i in range(18)])\n",
    "n_b = n_b.reshape([3, 3, 2])\n",
    "# n_b[2, :, :] = n[:, :]\n",
    "print(n_b[:, 0, :])\n",
    "print(n_b)"
   ]
  }
 ],
 "metadata": {
  "kernelspec": {
   "display_name": "venv",
   "language": "python",
   "name": "python3"
  },
  "language_info": {
   "codemirror_mode": {
    "name": "ipython",
    "version": 3
   },
   "file_extension": ".py",
   "mimetype": "text/x-python",
   "name": "python",
   "nbconvert_exporter": "python",
   "pygments_lexer": "ipython3",
   "version": "3.11.1"
  },
  "orig_nbformat": 4
 },
 "nbformat": 4,
 "nbformat_minor": 2
}
