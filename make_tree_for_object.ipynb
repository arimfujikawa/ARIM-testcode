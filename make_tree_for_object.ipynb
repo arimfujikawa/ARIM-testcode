{
 "cells": [
  {
   "cell_type": "markdown",
   "metadata": {},
   "source": [
    "# リストや辞書の混ざったオブジェクトのツリー構造を表示"
   ]
  },
  {
   "cell_type": "code",
   "execution_count": 1,
   "metadata": {},
   "outputs": [],
   "source": [
    "from io import TextIOWrapper\n",
    "import re\n",
    "import numpy as np\n",
    "\n",
    "def _make_tree(self, data, indent=0, layer=0, io_object: TextIOWrapper = None) -> None:\n",
    "    \"\"\"\n",
    "\n",
    "    TODO:まだ、typeやdelimiterの表示が見にくかったり、\n",
    "    予期せぬところに”=”が残っていたり整形は完全ではないので改善する余地あり\n",
    "\n",
    "    \"\"\"\n",
    "\n",
    "    space = ' '*indent\n",
    "    if isinstance(data, bytes):\n",
    "        print(f':byte data', end='', file=io_object)\n",
    "        data = data.decode()\n",
    "    if isinstance(data, dict):\n",
    "        # 辞書の場合\n",
    "        print(f':{type(data)},layer={layer}', end='\\n', file=io_object)\n",
    "        for k in data.keys():\n",
    "            # keyの表示\n",
    "            print(f'{space}{k}', end='', file=io_object)\n",
    "            self._make_tree(data[k], indent+4, layer+1,\n",
    "                             io_object=io_object)\n",
    "            \n",
    "    elif isinstance(data, list):\n",
    "        for i in range(len(data)):\n",
    "            if i == 0:\n",
    "                print(\n",
    "                    f'\\n{space}[: {type(data)},layer={layer}', file=io_object)\n",
    "            print(f'{space}', end='', file=io_object)\n",
    "            self._make_tree(data[i], indent+4, layer+1,\n",
    "                            io_object=io_object)\n",
    "            if i == len(data)-1:\n",
    "                print(f'\\n{space}]', file=io_object)\n",
    "    elif isinstance(data, np.ndarray):\n",
    "        print(f' = {data.shape}: {type(data)}{data.dtype}, layer={layer}',\n",
    "                end='\\n', file=io_object)\n",
    "    \n",
    "    elif isinstance(data, str):\n",
    "    # 改行コードの評価と”\\n”への変換\n",
    "        if re.search('\\r\\n', data) != None:\n",
    "            print(f',delimiter=CRLF', end='', file=io_object)\n",
    "            data = data.replace('\\r\\n', f'\\n{space}')\n",
    "        elif re.search('\\r', data) != None:\n",
    "            print(f',delimiter=CR', end='', file=io_object)\n",
    "            data = data.replace('\\r', f'\\n{space}')\n",
    "        elif re.search('\\n', data) != None:\n",
    "            print(f',delimiter=LF', end='', file=io_object)\n",
    "            data = data.replace('\\n', f'\\n{space}')\n",
    "        # 空行の削除\n",
    "        # data = re.sub('\\n[ ]+\\n', '\\n', data, re.DOTALL)\n",
    "        print(f' = {data}: {type(data)}, layer={layer}', \n",
    "                end='\\n', file=io_object)\n",
    "    else:\n",
    "        print(f' = {data}: {type(data)}, layer={layer}',\n",
    "                end='\\n', file=io_object)\n",
    "        \n",
    "    return\n"
   ]
  }
 ],
 "metadata": {
  "kernelspec": {
   "display_name": "venv",
   "language": "python",
   "name": "python3"
  },
  "language_info": {
   "codemirror_mode": {
    "name": "ipython",
    "version": 3
   },
   "file_extension": ".py",
   "mimetype": "text/x-python",
   "name": "python",
   "nbconvert_exporter": "python",
   "pygments_lexer": "ipython3",
   "version": "3.11.1"
  }
 },
 "nbformat": 4,
 "nbformat_minor": 2
}
