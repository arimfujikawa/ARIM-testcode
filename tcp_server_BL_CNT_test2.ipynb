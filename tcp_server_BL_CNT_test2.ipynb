{
 "cells": [
  {
   "cell_type": "code",
   "execution_count": 1,
   "metadata": {},
   "outputs": [
    {
     "name": "stdout",
     "output_type": "stream",
     "text": [
      "stop\n",
      "shutdown\n"
     ]
    }
   ],
   "source": [
    "import socketserver\n",
    "from struct import unpack\n",
    "\n",
    "\"\"\"\n",
    "今回サーバ↔︎クライアント間で\n",
    "やりとりするデータの構造\n",
    "\n",
    "+-----------------------------+\n",
    "| ヘッダー                            |\n",
    "+-----------------------------+\n",
    "| 内容: データサイズ            |\n",
    "| サイズ: 4byte(固定)        |\n",
    "+-----------------------------+\n",
    "+-----------------------------+\n",
    "| データ                               |\n",
    "+-----------------------------+\n",
    "| 内容: 実際のデータ           |\n",
    "| サイズ: 上記指定のサイズ |\n",
    "+-----------------------------+\n",
    "\"\"\"\n",
    "# ヘッダサイズ (固定長)\n",
    "HEADER_SIZE = 4\n",
    "\n",
    "# サーバのアドレスとポート\n",
    "ADDR = \"133.53.174.44\"\n",
    "PORT = 50550\n",
    "MESSAGE = \"<reply>2023/01/20 1116:1000.2023/01/20 1116:2000.ID_mm.rejected</reply>\"\n",
    "\n",
    "class MyTCPHandler(socketserver.BaseRequestHandler):\n",
    "    \"\"\"サーバに届いたリクエストを処理するクラス.\"\"\"\n",
    "\n",
    "    def handle(self) -> None:\n",
    "        \"\"\"\n",
    "        クライアントからのリクエストを処理する関数.\n",
    "\n",
    "        クライアントからのリクエストを受信する毎に実行される\n",
    "        \"\"\"\n",
    "\n",
    "\n",
    "        # ヘッダからデータサイズを取得 (受信データはbytesなのでintとして扱うためにunpackが必要)\n",
    "\n",
    "\n",
    "        # データ本体の受信\n",
    "        _data = self.request.recv(4096).decode()\n",
    "        print(_data)\n",
    "\n",
    "\n",
    "        # 今回はサンプルなので受信したデータをそのまま返す\n",
    "\n",
    "        # データ送信\n",
    "        \n",
    "        self.request.sendall(bytes(MESSAGE, 'utf-8'))\n",
    "        if _data == \"stop\":\n",
    "            print('shutdown')\n",
    "            self.server.server_close()\n",
    "            self.server.shutdown()\n",
    "           \n",
    "\n",
    "def start_server() -> None:\n",
    "    \"\"\"サーバ起動.\"\"\"\n",
    "    with socketserver.TCPServer((ADDR, PORT), MyTCPHandler) as s:\n",
    "        # サーバとしてクライアントのリクエストを待ち続ける\n",
    "        s.serve_forever()\n",
    "\n",
    "start_server()"
   ]
  }
 ],
 "metadata": {
  "kernelspec": {
   "display_name": "Python 3",
   "language": "python",
   "name": "python3"
  },
  "language_info": {
   "codemirror_mode": {
    "name": "ipython",
    "version": 3
   },
   "file_extension": ".py",
   "mimetype": "text/x-python",
   "name": "python",
   "nbconvert_exporter": "python",
   "pygments_lexer": "ipython3",
   "version": "3.10.7 (tags/v3.10.7:6cc6b13, Sep  5 2022, 14:08:36) [MSC v.1933 64 bit (AMD64)]"
  },
  "orig_nbformat": 4,
  "vscode": {
   "interpreter": {
    "hash": "beedbe2faf2f7048d727558d0bc3221e7eba2a0b921cac4d4771b2feb8f74b30"
   }
  }
 },
 "nbformat": 4,
 "nbformat_minor": 2
}
