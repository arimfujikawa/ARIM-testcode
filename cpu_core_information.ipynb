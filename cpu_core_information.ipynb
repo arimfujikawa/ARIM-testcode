{
 "cells": [
  {
   "attachments": {},
   "cell_type": "markdown",
   "metadata": {},
   "source": [
    "### プロセッサ\t12th Gen Intel(R) Core(TM) i5-12400   2.50 GHz\n",
    "### 実装 RAM\t16.0 GB (15.8 GB 使用可能)\n",
    "### システムの種類\t64 ビット オペレーティング システム、x64 ベース プロセッサ\n",
    "### エディション\tWindows 11 Pro\n",
    "### バージョン\t22H2\n",
    "### OS ビルド\t22621.1702\n",
    "### エクスペリエンス\tWindows Feature Experience Pack 1000.22641.1000.0\n"
   ]
  },
  {
   "cell_type": "code",
   "execution_count": 1,
   "metadata": {},
   "outputs": [
    {
     "name": "stdout",
     "output_type": "stream",
     "text": [
      "12th Gen Intel(R) Core(TM) i5-12400\n"
     ]
    }
   ],
   "source": [
    "# cpuinfoライブラリが必要\n",
    "import cpuinfo\n",
    "print(cpuinfo.get_cpu_info()['brand_raw'])\n"
   ]
  },
  {
   "attachments": {},
   "cell_type": "markdown",
   "metadata": {},
   "source": [
    "### psutil.cpu_count()ならばダイレクトに物理コアと論理コアが取得できる\n",
    "### multiprocessing.cpu_count()等ではハイパースレッディングでは論理コアの数が物理コアの2倍と想定している"
   ]
  },
  {
   "cell_type": "code",
   "execution_count": 8,
   "metadata": {},
   "outputs": [
    {
     "name": "stdout",
     "output_type": "stream",
     "text": [
      "======================================== System Information ========================================\n",
      "System: Windows\n",
      "Node Name: FUJIKAWA-DESK\n",
      "Release: 10\n",
      "Version: 10.0.22621\n",
      "Machine: AMD64\n",
      "System release: ('Windows', '10', '10.0.22621')\n",
      "Processor: Intel64 Family 6 Model 151 Stepping 5, GenuineIntel\n",
      "======================================== CPU Info ========================================\n",
      "Physical cores: 6\n",
      "Total cores: 12\n",
      "Max Frequency: 2500.00Mhz\n",
      "Min Frequency: 0.00Mhz\n",
      "Current Frequency: 2500.00Mhz\n",
      "CPU Usage Per Core:\n",
      "Core 0: 15.4%\n",
      "Core 1: 0.0%\n",
      "Core 2: 4.7%\n",
      "Core 3: 1.6%\n",
      "Core 4: 0.0%\n",
      "Core 5: 0.0%\n",
      "Core 6: 0.0%\n",
      "Core 7: 0.0%\n",
      "Core 8: 0.0%\n",
      "Core 9: 0.0%\n",
      "Core 10: 0.0%\n",
      "Core 11: 0.0%\n",
      "Total CPU Usage: 3.2%\n"
     ]
    }
   ],
   "source": [
    "# \n",
    "import psutil\n",
    "import platform\n",
    "\n",
    "print(\"=\"*40, \"System Information\", \"=\"*40)\n",
    "uname = platform.uname()\n",
    "print(f\"System: {uname.system}\")\n",
    "print(f\"Node Name: {uname.node}\")\n",
    "# 表示が不明windows11なのに10となる\n",
    "print(f\"Release: {uname.release}\")\n",
    "print(f\"Version: {uname.version}\")\n",
    "print(f\"Machine: {uname.machine}\")\n",
    "print(\n",
    "    f'System release: {platform.system_alias(platform.system(), platform.release(),platform.version())}')\n",
    "# linuxはNone\n",
    "print(f\"Processor: {uname.processor}\")\n",
    "# let's print CPU information\n",
    "print(\"=\"*40, \"CPU Info\", \"=\"*40)\n",
    "# number of cores\n",
    "print(\"Physical cores:\", psutil.cpu_count(logical=False))\n",
    "print(\"Total cores:\", psutil.cpu_count(logical=True))\n",
    "# CPU frequencies\n",
    "cpufreq = psutil.cpu_freq()\n",
    "print(f\"Max Frequency: {cpufreq.max:.2f}Mhz\")\n",
    "print(f\"Min Frequency: {cpufreq.min:.2f}Mhz\")\n",
    "print(f\"Current Frequency: {cpufreq.current:.2f}Mhz\")\n",
    "# CPU usage\n",
    "print(\"CPU Usage Per Core:\")\n",
    "for i, percentage in enumerate(psutil.cpu_percent(percpu=True, interval=1)):\n",
    "    print(f\"Core {i}: {percentage}%\")\n",
    "print(f\"Total CPU Usage: {psutil.cpu_percent()}%\")\n"
   ]
  }
 ],
 "metadata": {
  "kernelspec": {
   "display_name": "venv",
   "language": "python",
   "name": "python3"
  },
  "language_info": {
   "codemirror_mode": {
    "name": "ipython",
    "version": 3
   },
   "file_extension": ".py",
   "mimetype": "text/x-python",
   "name": "python",
   "nbconvert_exporter": "python",
   "pygments_lexer": "ipython3",
   "version": "3.11.1"
  },
  "orig_nbformat": 4
 },
 "nbformat": 4,
 "nbformat_minor": 2
}
