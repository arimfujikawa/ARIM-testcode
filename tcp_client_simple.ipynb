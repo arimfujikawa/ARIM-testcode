{
 "cells": [
  {
   "cell_type": "code",
   "execution_count": 9,
   "metadata": {},
   "outputs": [
    {
     "ename": "ConnectionRefusedError",
     "evalue": "[WinError 10061] 対象のコンピューターによって拒否されたため、接続できませんでした。",
     "output_type": "error",
     "traceback": [
      "\u001b[1;31m---------------------------------------------------------------------------\u001b[0m",
      "\u001b[1;31mConnectionRefusedError\u001b[0m                    Traceback (most recent call last)",
      "Cell \u001b[1;32mIn [9], line 11\u001b[0m\n\u001b[0;32m      8\u001b[0m server1 \u001b[39m=\u001b[39m (ip1, port1)\n\u001b[0;32m     10\u001b[0m socket1 \u001b[39m=\u001b[39m socket\u001b[39m.\u001b[39msocket(socket\u001b[39m.\u001b[39mAF_INET, socket\u001b[39m.\u001b[39mSOCK_STREAM)\n\u001b[1;32m---> 11\u001b[0m socket1\u001b[39m.\u001b[39;49mconnect(server1)\n\u001b[0;32m     13\u001b[0m line \u001b[39m=\u001b[39m \u001b[39m'\u001b[39m\u001b[39m'\u001b[39m\n\u001b[0;32m     14\u001b[0m \u001b[39mwhile\u001b[39;00m line \u001b[39m!=\u001b[39m \u001b[39m'\u001b[39m\u001b[39mbye\u001b[39m\u001b[39m'\u001b[39m:\n\u001b[0;32m     15\u001b[0m     \u001b[39m# 標準入力からデータを取得\u001b[39;00m\n",
      "\u001b[1;31mConnectionRefusedError\u001b[0m: [WinError 10061] 対象のコンピューターによって拒否されたため、接続できませんでした。"
     ]
    }
   ],
   "source": [
    "# coding: utf-8\n",
    "\n",
    "# ソケット通信(クライアント側)\n",
    "import socket\n",
    "\n",
    "ip1 = '133.53.174.44'\n",
    "port1 = 8765\n",
    "server1 = (ip1, port1)\n",
    "\n",
    "socket1 = socket.socket(socket.AF_INET, socket.SOCK_STREAM)\n",
    "socket1.connect(server1)\n",
    "\n",
    "line = ''\n",
    "while line != 'bye':\n",
    "    # 標準入力からデータを取得\n",
    "    print('偶数の数値を入力して下さい')\n",
    "#    line = input('>>>')\n",
    "    for i in [2,4,6,'bye']:\n",
    "        line = str(i)\n",
    "    # サーバに送信\n",
    "        socket1.send(line.encode(\"UTF-8\"))\n",
    "    \n",
    "    # サーバから受信\n",
    "        data1 = socket1.recv(4096).decode()\n",
    "    \n",
    "    # サーバから受信したデータを出力\n",
    "        print('サーバーからの回答: ' + str(data1))\n",
    "\n",
    "socket1.close()\n",
    "print('クライアント側終了です')"
   ]
  }
 ],
 "metadata": {
  "kernelspec": {
   "display_name": "Python 3",
   "language": "python",
   "name": "python3"
  },
  "language_info": {
   "codemirror_mode": {
    "name": "ipython",
    "version": 3
   },
   "file_extension": ".py",
   "mimetype": "text/x-python",
   "name": "python",
   "nbconvert_exporter": "python",
   "pygments_lexer": "ipython3",
   "version": "3.10.7 (tags/v3.10.7:6cc6b13, Sep  5 2022, 14:08:36) [MSC v.1933 64 bit (AMD64)]"
  },
  "orig_nbformat": 4,
  "vscode": {
   "interpreter": {
    "hash": "beedbe2faf2f7048d727558d0bc3221e7eba2a0b921cac4d4771b2feb8f74b30"
   }
  }
 },
 "nbformat": 4,
 "nbformat_minor": 2
}
