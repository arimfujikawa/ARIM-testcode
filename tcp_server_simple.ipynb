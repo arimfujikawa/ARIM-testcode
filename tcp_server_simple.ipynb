{
 "cells": [
  {
   "cell_type": "code",
   "execution_count": 6,
   "metadata": {},
   "outputs": [
    {
     "name": "stdout",
     "output_type": "stream",
     "text": [
      "クライアントからの入力待ち状態\n",
      "接続したクライアント情報:('133.53.174.44', 56766)\n",
      "クライアントで入力された文字＝2\n",
      "クライアントで入力された文字＝4\n",
      "クライアントで入力された文字＝6\n",
      "サーバー側終了です\n"
     ]
    }
   ],
   "source": [
    "# coding: utf-8\n",
    "\n",
    "# ソケット通信(サーバー側)\n",
    "import socket\n",
    "\n",
    "host1 = '133.53.174.44'\n",
    "port1 = 8765\n",
    "\n",
    "socket1 = socket.socket(socket.AF_INET, socket.SOCK_STREAM)\n",
    "socket1.bind((host1, port1))\n",
    "socket1.listen(1)\n",
    "\n",
    "print('クライアントからの入力待ち状態')\n",
    "\n",
    "# コネクションとアドレスを取得\n",
    "connection, address = socket1.accept()\n",
    "print('接続したクライアント情報:'  + str(address))\n",
    "\n",
    "# 無限ループ　byeの入力でループを抜ける\n",
    "recvline = ''\n",
    "sendline = ''\n",
    "num = 0\n",
    "while True:\n",
    "\n",
    "    # クライアントからデータを受信\n",
    "    recvline = connection.recv(4096).decode()\n",
    "\n",
    "    if recvline == 'bye':\n",
    "        break\n",
    "\n",
    "    try:\n",
    "        num = int(recvline)\n",
    "\n",
    "        if num % 2 == 0:\n",
    "            sendline = 'OKです'.encode('utf-8')\n",
    "        else:\n",
    "            sendline = 'NGです'.encode('utf-8')\n",
    "        connection.send(sendline)\n",
    "\n",
    "    except ValueError as e:\n",
    "        # 送信用の文字を送信\n",
    "        sendline = '数値を入力して下さい'.encode('utf-8')\n",
    "        connection.send(sendline)\n",
    "    finally:\n",
    "        print('クライアントで入力された文字＝' + str(recvline))\n",
    "        \n",
    "# クローズ\n",
    "connection.close()\n",
    "socket1.close()\n",
    "print('サーバー側終了です')"
   ]
  },
  {
   "cell_type": "code",
   "execution_count": null,
   "metadata": {},
   "outputs": [],
   "source": []
  },
  {
   "cell_type": "code",
   "execution_count": null,
   "metadata": {},
   "outputs": [],
   "source": []
  },
  {
   "cell_type": "code",
   "execution_count": 1,
   "metadata": {},
   "outputs": [
    {
     "name": "stdout",
     "output_type": "stream",
     "text": [
      "偶数の数値を入力して下さい\n"
     ]
    },
    {
     "ename": "ConnectionResetError",
     "evalue": "[WinError 10054] 既存の接続はリモート ホストに強制的に切断されました。",
     "output_type": "error",
     "traceback": [
      "\u001b[1;31m---------------------------------------------------------------------------\u001b[0m",
      "\u001b[1;31mConnectionResetError\u001b[0m                      Traceback (most recent call last)",
      "Cell \u001b[1;32mIn [1], line 23\u001b[0m\n\u001b[0;32m     20\u001b[0m socket1\u001b[39m.\u001b[39msend(line\u001b[39m.\u001b[39mencode(\u001b[39m\"\u001b[39m\u001b[39mUTF-8\u001b[39m\u001b[39m\"\u001b[39m))\n\u001b[0;32m     22\u001b[0m \u001b[39m# サーバから受信\u001b[39;00m\n\u001b[1;32m---> 23\u001b[0m data1 \u001b[39m=\u001b[39m socket1\u001b[39m.\u001b[39;49mrecv(\u001b[39m4096\u001b[39;49m)\u001b[39m.\u001b[39mdecode()\n\u001b[0;32m     25\u001b[0m \u001b[39m# サーバから受信したデータを出力\u001b[39;00m\n\u001b[0;32m     26\u001b[0m \u001b[39mprint\u001b[39m(\u001b[39m'\u001b[39m\u001b[39mサーバーからの回答: \u001b[39m\u001b[39m'\u001b[39m \u001b[39m+\u001b[39m \u001b[39mstr\u001b[39m(data1))\n",
      "\u001b[1;31mConnectionResetError\u001b[0m: [WinError 10054] 既存の接続はリモート ホストに強制的に切断されました。"
     ]
    }
   ],
   "source": [
    "# coding: utf-8\n",
    "\n",
    "# ソケット通信(クライアント側)\n",
    "import socket\n",
    "\n",
    "ip1 = '133.53.174.44'\n",
    "port1 = 8765\n",
    "server1 = (ip1, port1)\n",
    "\n",
    "socket1 = socket.socket(socket.AF_INET, socket.SOCK_STREAM)\n",
    "socket1.connect(server1)\n",
    "\n",
    "line = ''\n",
    "while line != 'bye':\n",
    "    # 標準入力からデータを取得\n",
    "    print('偶数の数値を入力して下さい')\n",
    "#    line = input('>>>')\n",
    "    line = \"test\"\n",
    "    # サーバに送信\n",
    "    socket1.send(line.encode(\"UTF-8\"))\n",
    "    \n",
    "    # サーバから受信\n",
    "    data1 = socket1.recv(4096).decode()\n",
    "    \n",
    "    # サーバから受信したデータを出力\n",
    "    print('サーバーからの回答: ' + str(data1))\n",
    "\n",
    "socket1.close()\n",
    "print('クライアント側終了です')"
   ]
  },
  {
   "cell_type": "code",
   "execution_count": null,
   "metadata": {},
   "outputs": [],
   "source": []
  },
  {
   "cell_type": "code",
   "execution_count": null,
   "metadata": {},
   "outputs": [],
   "source": []
  },
  {
   "cell_type": "code",
   "execution_count": null,
   "metadata": {},
   "outputs": [],
   "source": []
  }
 ],
 "metadata": {
  "kernelspec": {
   "display_name": "Python 3",
   "language": "python",
   "name": "python3"
  },
  "language_info": {
   "codemirror_mode": {
    "name": "ipython",
    "version": 3
   },
   "file_extension": ".py",
   "mimetype": "text/x-python",
   "name": "python",
   "nbconvert_exporter": "python",
   "pygments_lexer": "ipython3",
   "version": "3.10.7 (tags/v3.10.7:6cc6b13, Sep  5 2022, 14:08:36) [MSC v.1933 64 bit (AMD64)]"
  },
  "orig_nbformat": 4,
  "vscode": {
   "interpreter": {
    "hash": "beedbe2faf2f7048d727558d0bc3221e7eba2a0b921cac4d4771b2feb8f74b30"
   }
  }
 },
 "nbformat": 4,
 "nbformat_minor": 2
}
