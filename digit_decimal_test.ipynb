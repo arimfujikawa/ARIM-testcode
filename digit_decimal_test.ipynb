{
 "cells": [
  {
   "cell_type": "code",
   "execution_count": 5,
   "metadata": {},
   "outputs": [
    {
     "name": "stdout",
     "output_type": "stream",
     "text": [
      "小数第2位 = 6\n",
      "1の桁 = 4\n"
     ]
    }
   ],
   "source": [
    "float_value = 1234.56789\n",
    "check_decimal_place = 2\n",
    "print(f'小数第{check_decimal_place}位 = {str(float_value).split(\".\")[1][check_decimal_place-1]}')\n",
    "print(f'1の桁 = {str(float_value).split(\".\")[0][-1]}')\n"
   ]
  }
 ],
 "metadata": {
  "kernelspec": {
   "display_name": "venv",
   "language": "python",
   "name": "python3"
  },
  "language_info": {
   "codemirror_mode": {
    "name": "ipython",
    "version": 3
   },
   "file_extension": ".py",
   "mimetype": "text/x-python",
   "name": "python",
   "nbconvert_exporter": "python",
   "pygments_lexer": "ipython3",
   "version": "3.11.1"
  },
  "orig_nbformat": 4
 },
 "nbformat": 4,
 "nbformat_minor": 2
}
