{
 "cells": [
  {
   "cell_type": "code",
   "execution_count": 23,
   "id": "0624c3c2-ac13-45e5-8d45-b23d2aa4aadb",
   "metadata": {},
   "outputs": [
    {
     "name": "stdout",
     "output_type": "stream",
     "text": [
      "b\n",
      "a\n",
      "a\\b\n",
      "a\\b\n",
      "a\\b\\c.d\n",
      "a\\b\\c\n"
     ]
    },
    {
     "data": {
      "text/plain": [
       "True"
      ]
     },
     "execution_count": 23,
     "metadata": {},
     "output_type": "execute_result"
    }
   ],
   "source": [
    "from pathlib   import  Path\n",
    "pa = 'a/b'\n",
    "par = r'a\\b'\n",
    "npa=Path(pa)\n",
    "print(npa.name)\n",
    "print(npa.parent)\n",
    "print(str(npa))\n",
    "npa=Path(par)\n",
    "print(str(npa))\n",
    "pac = 'c'\n",
    "print(pathlib.PurePath(pa, f'{pac}.d'))\n",
    "print(npa / 'c')\n",
    "(npa / 'c').is_dir()"
   ]
  },
  {
   "cell_type": "code",
   "execution_count": 21,
   "id": "c548c99d-1cf3-4f7e-a416-7737a27380ab",
   "metadata": {},
   "outputs": [
    {
     "name": "stdout",
     "output_type": "stream",
     "text": [
      "[WindowsPath('a/b/0'), WindowsPath('a/b/1'), WindowsPath('a/b/2')]\n"
     ]
    }
   ],
   "source": [
    "li = [npa / str(i) for i in range(3)]\n",
    "print(li)"
   ]
  },
  {
   "cell_type": "code",
   "execution_count": null,
   "id": "aa1c9d00-b113-4771-9df0-3b5d7432b592",
   "metadata": {},
   "outputs": [],
   "source": []
  }
 ],
 "metadata": {
  "kernelspec": {
   "display_name": "venv",
   "language": "python",
   "name": "python3"
  },
  "language_info": {
   "codemirror_mode": {
    "name": "ipython",
    "version": 3
   },
   "file_extension": ".py",
   "mimetype": "text/x-python",
   "name": "python",
   "nbconvert_exporter": "python",
   "pygments_lexer": "ipython3",
   "version": "3.11.1"
  },
  "vscode": {
   "interpreter": {
    "hash": "d35c52b2c13af452197fdd75c6084e25b04d1acbe8d55b56c2a3127f4fde3c1e"
   }
  }
 },
 "nbformat": 4,
 "nbformat_minor": 5
}
