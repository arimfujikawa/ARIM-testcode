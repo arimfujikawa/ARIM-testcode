{
 "cells": [
  {
   "cell_type": "markdown",
   "metadata": {},
   "source": [
    "# 列挙型\n",
    "- Classだがインスタンス無で名前空間が使用できる\n"
   ]
  },
  {
   "cell_type": "markdown",
   "metadata": {},
   "source": [
    "### Enum  \n",
    "参考  \n",
    "- https://atmarkit.itmedia.co.jp/ait/articles/2206/14/news020.html\n",
    "- [公式](https://docs.python.org/ja/3.8/library/enum.html)"
   ]
  },
  {
   "cell_type": "code",
   "execution_count": 22,
   "metadata": {},
   "outputs": [
    {
     "name": "stdout",
     "output_type": "stream",
     "text": [
      "['CAT', 'COW', 'DOG', '__class__', '__contains__', '__doc__', '__getitem__', '__init_subclass__', '__iter__', '__len__', '__members__', '__module__', '__name__', '__qualname__']\n",
      "Animal.CAT\n",
      "<Animal.CAT: 1>\n",
      "DOG\n",
      "3\n",
      "Animal.CAT\n",
      "Animal.DOG\n",
      "Animal.COW\n",
      "name: CAT, member: Animal.CAT\n",
      "name: DOG, member: Animal.DOG\n",
      "name: COW, member: Animal.COW\n",
      "['CAT', 'COW', 'DOG', '__class__', '__contains__', '__doc__', '__getitem__', '__init_subclass__', '__iter__', '__len__', '__members__', '__module__', '__name__', '__qualname__']\n",
      "<Animal.CAT: 1>\n",
      "<Animal.DOG: 2>\n",
      "<Animal.COW: 3>\n",
      "Animal.NYANKO = Animal.CAT\n"
     ]
    }
   ],
   "source": [
    "from enum import Enum, auto, unique\n",
    "\n",
    "class Animal(Enum):\n",
    "    CAT = 1\n",
    "    DOG = 2\n",
    "    COW = 3\n",
    "\n",
    "\n",
    "# インスタンスは必要なし\n",
    "print(dir(Animal))\n",
    "print(Animal.CAT)  \n",
    "print(repr(Animal.CAT)) \n",
    "print(Animal.DOG.name)  \n",
    "print(Animal.COW.value)\n",
    "\n",
    "for member in Animal:\n",
    "    print(member)\n",
    "\n",
    "for name, animal in Animal.__members__.items():\n",
    "    print(f'name: {name}, member: {animal}')\n",
    "    \n",
    "\n",
    "class Animal(Enum):\n",
    "    # メンバーのvalueを自動設定1, 2, 3, ...\n",
    "    CAT = auto()\n",
    "    DOG = auto()\n",
    "    COW = auto()\n",
    "    # メンバーに別名を与える\n",
    "    NYANKO = CAT\n",
    "    \n",
    "    \n",
    "print(dir(Animal))\n",
    "\n",
    "for member in Animal:\n",
    "    print(repr(member))\n",
    "print(f'Animal.NYANKO = {Animal.NYANKO}')\n",
    "\n",
    "\n"
   ]
  },
  {
   "cell_type": "markdown",
   "metadata": {},
   "source": [
    "### メンバーが重複する値を持つとエラーにする\n",
    "```python\n",
    "from enum import unique\n",
    "```\n",
    "デフォルトの開始番号が 0 ではなく 1 である理由は、0 がブール演算子では False になりますが、すべての列挙型メンバーの評価は True でなければならないためです。"
   ]
  },
  {
   "cell_type": "code",
   "execution_count": 25,
   "metadata": {},
   "outputs": [
    {
     "ename": "ValueError",
     "evalue": "duplicate values found in <enum 'Animal'>: NYANKO -> CAT",
     "output_type": "error",
     "traceback": [
      "\u001b[1;31m---------------------------------------------------------------------------\u001b[0m",
      "\u001b[1;31mValueError\u001b[0m                                Traceback (most recent call last)",
      "Cell \u001b[1;32mIn[25], line 3\u001b[0m\n\u001b[0;32m      1\u001b[0m \u001b[39mfrom\u001b[39;00m \u001b[39menum\u001b[39;00m \u001b[39mimport\u001b[39;00m Enum, auto, unique\n\u001b[1;32m----> 3\u001b[0m \u001b[39m@unique\u001b[39;49m\n\u001b[0;32m      4\u001b[0m \u001b[39mclass\u001b[39;49;00m \u001b[39mAnimal\u001b[39;49;00m(Enum):\n\u001b[0;32m      5\u001b[0m     CAT \u001b[39m=\u001b[39;49m auto()\n\u001b[0;32m      6\u001b[0m     DOG \u001b[39m=\u001b[39;49m auto()\n",
      "File \u001b[1;32m~\\AppData\\Local\\Programs\\Python\\Python311\\Lib\\enum.py:1563\u001b[0m, in \u001b[0;36munique\u001b[1;34m(enumeration)\u001b[0m\n\u001b[0;32m   1560\u001b[0m \u001b[39mif\u001b[39;00m duplicates:\n\u001b[0;32m   1561\u001b[0m     alias_details \u001b[39m=\u001b[39m \u001b[39m'\u001b[39m\u001b[39m, \u001b[39m\u001b[39m'\u001b[39m\u001b[39m.\u001b[39mjoin(\n\u001b[0;32m   1562\u001b[0m             [\u001b[39m\"\u001b[39m\u001b[39m%s\u001b[39;00m\u001b[39m -> \u001b[39m\u001b[39m%s\u001b[39;00m\u001b[39m\"\u001b[39m \u001b[39m%\u001b[39m (alias, name) \u001b[39mfor\u001b[39;00m (alias, name) \u001b[39min\u001b[39;00m duplicates])\n\u001b[1;32m-> 1563\u001b[0m     \u001b[39mraise\u001b[39;00m \u001b[39mValueError\u001b[39;00m(\u001b[39m'\u001b[39m\u001b[39mduplicate values found in \u001b[39m\u001b[39m%r\u001b[39;00m\u001b[39m: \u001b[39m\u001b[39m%s\u001b[39;00m\u001b[39m'\u001b[39m \u001b[39m%\u001b[39m\n\u001b[0;32m   1564\u001b[0m             (enumeration, alias_details))\n\u001b[0;32m   1565\u001b[0m \u001b[39mreturn\u001b[39;00m enumeration\n",
      "\u001b[1;31mValueError\u001b[0m: duplicate values found in <enum 'Animal'>: NYANKO -> CAT"
     ]
    }
   ],
   "source": [
    "from enum import Enum, auto, unique\n",
    "\n",
    "@unique\n",
    "class Animal(Enum):\n",
    "    CAT = auto()\n",
    "    DOG = auto()\n",
    "    COW = auto()\n",
    "    NYANKO = CAT\n",
    "\n"
   ]
  },
  {
   "cell_type": "markdown",
   "metadata": {},
   "source": [
    "### 比較可能な列挙型"
   ]
  },
  {
   "cell_type": "code",
   "execution_count": 26,
   "metadata": {},
   "outputs": [
    {
     "name": "stdout",
     "output_type": "stream",
     "text": [
      "True\n",
      "False\n"
     ]
    }
   ],
   "source": [
    "from enum import IntEnum, auto\n",
    "\n",
    "class PhoneticCode(IntEnum):\n",
    "    ALPHA = auto()\n",
    "    BETA = auto()\n",
    "    GAMMA = auto()\n",
    "\n",
    "print(PhoneticCode.ALPHA == 1)  # True\n",
    "print(PhoneticCode.ALPHA == Animal.CAT) "
   ]
  },
  {
   "cell_type": "markdown",
   "metadata": {},
   "source": [
    "### Flagによるネスト"
   ]
  },
  {
   "cell_type": "code",
   "execution_count": 31,
   "metadata": {},
   "outputs": [
    {
     "name": "stdout",
     "output_type": "stream",
     "text": [
      "BLUE=1\n",
      "GREEN=2\n",
      "RED=4\n",
      "CYAN=3\n",
      "MAGENTA=5\n",
      "YELLOW=6\n",
      "WHITE=7\n",
      "BLACK=0\n",
      "AQUA=3\n",
      "FUCHSIA=5\n"
     ]
    }
   ],
   "source": [
    "from enum import Flag, auto\n",
    "\n",
    "class Color(Flag):\n",
    "    BLUE = auto()  # 1 = 0b001\n",
    "    GREEN = auto()  # 2 = 0b010\n",
    "    RED = auto()  # 4 = 0b100\n",
    "    CYAN = GREEN | BLUE  # 0b010 | 0b001 = 0b11 = 3\n",
    "    MAGENTA = RED | BLUE  # 0b100 | 0b001 = 0b101 = 5\n",
    "    YELLOW = RED | GREEN  # 0b100 | 0b010 = 0b110 = 6\n",
    "    WHITE = RED | GREEN | BLUE  # 0b100 | 0b010 | 0b001 = 0b111 = 7\n",
    "    BLACK = RED & GREEN & BLUE  # 0b100 & 0b010 & 0b001 = 0b000 = 0\n",
    "    AQUA = CYAN\n",
    "    FUCHSIA = MAGENTA\n",
    "\n",
    "for c,member in Color.__members__.items():\n",
    "    print(f'{c}={member.value}')"
   ]
  },
  {
   "cell_type": "markdown",
   "metadata": {},
   "source": [
    "### 呼び出し"
   ]
  },
  {
   "cell_type": "code",
   "execution_count": 33,
   "metadata": {},
   "outputs": [
    {
     "name": "stdout",
     "output_type": "stream",
     "text": [
      "<Animal.DOG: 2>\n"
     ]
    }
   ],
   "source": [
    "from enum import Enum\n",
    "Animal = Enum('Animal', 'CAT DOG COW')\n",
    "print(repr(Animal.DOG))"
   ]
  },
  {
   "cell_type": "code",
   "execution_count": 17,
   "metadata": {},
   "outputs": [],
   "source": [
    "from enum import Enum, auto, unique\n",
    "\n",
    "class Animal(Enum):\n",
    "    CAT = 1\n",
    "    DOG = 2\n",
    "    COW = 3\n",
    "    "
   ]
  },
  {
   "cell_type": "markdown",
   "metadata": {},
   "source": [
    "### 表示"
   ]
  },
  {
   "cell_type": "code",
   "execution_count": 3,
   "metadata": {},
   "outputs": [
    {
     "name": "stdout",
     "output_type": "stream",
     "text": [
      "1\n",
      "1\n",
      "1\n",
      "Animal.DOG\n",
      "Animal.DOG\n",
      "Animal.DOG\n",
      "COW\n",
      "<enum 'Animal'>\n",
      "<enum 'Animal'>\n",
      "<enum 'Animal'>\n",
      "Animal.COW\n",
      "<Animal.COW: 3>\n",
      "False\n",
      "True\n",
      "(4, 5)\n",
      "4\n"
     ]
    }
   ],
   "source": [
    "from enum import Enum, auto, unique\n",
    "\n",
    "class Animal(Enum):\n",
    "    CAT = 1\n",
    "    DOG = 2\n",
    "    COW = 3\n",
    "    PIG = COW\n",
    "    RAT = (4, 5)\n",
    "\n",
    "\n",
    "print(Animal.CAT.value)\n",
    "print(Animal['CAT'].value)\n",
    "print(Animal(1).value)\n",
    "print(Animal.DOG)\n",
    "print(Animal['DOG'])\n",
    "print(Animal(2))\n",
    "print(Animal.COW.name)\n",
    "print(Animal)\n",
    "print(str(Animal))\n",
    "print(repr(Animal))\n",
    "print(str(Animal.COW))\n",
    "print(repr(Animal.COW))\n",
    "print(Animal.CAT == Animal.DOG)\n",
    "print(Animal.COW == Animal.PIG)\n",
    "print(Animal.RAT.value)\n",
    "print(Animal.RAT.value[0])\n"
   ]
  },
  {
   "cell_type": "markdown",
   "metadata": {},
   "source": [
    "### Enumの拡張  \n",
    "❗このままでは変数のように代入はクラスメンバが変更されないのであくまで定数として使用するほうが良い  \n",
    "❗メソッドはインスタンスを作らないのでclassmethodで作成する\n"
   ]
  },
  {
   "cell_type": "code",
   "execution_count": 1,
   "metadata": {},
   "outputs": [
    {
     "name": "stdout",
     "output_type": "stream",
     "text": [
      "1\n",
      "one\n",
      "None\n",
      "ONE:<class 'str'>\n",
      "(1, 'one')\n",
      "2\n",
      "two\n",
      "{'option': 'ext'}\n",
      "3\n",
      "[('ONE', <ExampleType.ONE: (1, 'one')>), ('TWO', <ExampleType.TWO: (2, 'two', {'option': 'ext'})>)]\n",
      "ONE = (1, 'one')\n",
      "TWO = (2, 'two', {'option': 'ext'})\n"
     ]
    }
   ],
   "source": [
    "from enum import Enum\n",
    "\n",
    "class TypeBase(Enum):\n",
    "    def __init__(self, val, label, data: dict = None):\n",
    "        self.val = val\n",
    "        self.label = label\n",
    "        self.data = data\n",
    "\n",
    "    @classmethod\n",
    "    def get_members(cls):\n",
    "        \"\"\"全メンバを取得\"\"\"\n",
    "        return [*cls.__members__.items()]\n",
    "\n",
    "    @classmethod\n",
    "    def get_by_val(cls, val):\n",
    "        \"\"\"値からメンバを取得\"\"\"\n",
    "        for c in cls.get_members():\n",
    "            if c.val == val:\n",
    "                return c\n",
    "        return None\n",
    "\n",
    "    @classmethod\n",
    "    def get_choices(cls, empty_label=None):\n",
    "        \"\"\"選択肢用\"\"\"\n",
    "        choices = []\n",
    "        if empty_label:\n",
    "            choices.append((\"\", empty_label))\n",
    "        choices.extend([c.value for c in cls])\n",
    "        return choices\n",
    "\n",
    "class ExampleType(TypeBase):\n",
    "    ONE = (1, \"one\")\n",
    "    TWO = (2, \"two\", {\"option\": \"ext\"})\n",
    "\n",
    "# 使うとき\n",
    "print(ExampleType.ONE.val)\n",
    "print(ExampleType.ONE.label)\n",
    "print(ExampleType.ONE.data)\n",
    "print(f'{ExampleType.ONE.name}:{type(ExampleType.ONE.name)}')\n",
    "print(ExampleType.ONE.value)\n",
    "print(ExampleType.TWO.val)\n",
    "print(ExampleType.TWO.label)\n",
    "print(ExampleType.TWO.data)\n",
    "\n",
    "ExampleType.TWO.data = 3\n",
    "print(ExampleType.TWO.data)\n",
    "\n",
    "print(ExampleType.get_members())\n",
    "for name, member in ExampleType.get_members():\n",
    "    print(f'{name} = {member.value}')\n"
   ]
  },
  {
   "cell_type": "code",
   "execution_count": null,
   "metadata": {},
   "outputs": [
    {
     "name": "stdout",
     "output_type": "stream",
     "text": [
      "amp\n",
      "0\n",
      "-2\n",
      "1\n",
      "True\n",
      "# variable = (initial_value, minimum, maximum, enbale)\n",
      "amp = (1.0, 0, 20, True)\n",
      "cen = (0, -10, 10, True)\n",
      "sigma = (0, -2, 2, True)\n",
      "base = (3, 0, 1, True)\n",
      "incl = (3, 0, 1, True)\n",
      "\n",
      "items\n",
      "amp = (1.0, 0, 20, True)\n",
      "cen = (0, -10, 10, True)\n",
      "sigma = (0, -2, 2, True)\n",
      "base = (3, 0, 1, True)\n",
      "incl = (3, 0, 1, True)\n",
      "name = ['amp', 'cen', 'sigma', 'base', 'incl']\n",
      "initial_values = [1.0, 0, 0, 3, 3]\n",
      "minimums = [0, -10, -2, 0, 0]\n",
      "maximums = [20, 10, 2, 1, 1]\n",
      "enables = [True, True, True, True, True]\n"
     ]
    }
   ],
   "source": [
    "from enum import Enum\n",
    "\n",
    "class FitParameterBase(Enum):\n",
    "    def __init__(self, initial_value, minimum, maximum, enable:bool):\n",
    "        self.initial_value = initial_value\n",
    "        self.minimum = minimum\n",
    "        self.maximum = maximum\n",
    "        self.enable = enable\n",
    "    \n",
    "    @classmethod\n",
    "    def get_items(cls):\n",
    "        # items()メソッドを実行\n",
    "        return [*cls.__members__.items()]\n",
    "    \n",
    "    @classmethod\n",
    "    def get_parameters(cls):\n",
    "        strings = '# variable = (initial_value, minimum, maximum, enbale)\\n'\n",
    "        for key, member in cls.get_items():\n",
    "            strings += f'{key} = {member.value}\\n'\n",
    "        return strings\n",
    "    \n",
    "class FitParameter(FitParameterBase):\n",
    "    amp = (1.0, 0, 20, True)\n",
    "    cen = (0, -10, 10, True)\n",
    "    sigma = (0, -2, 2, True)\n",
    "    base = (3, 0, 1, True)\n",
    "    incl = base\n",
    "\n",
    "\n",
    "\n",
    "print(FitParameter.amp.name)\n",
    "print(FitParameter.cen.initial_value)\n",
    "print(FitParameter.sigma.minimum)\n",
    "print(FitParameter.base.maximum)\n",
    "print(FitParameter.incl.enable)\n",
    "names = []\n",
    "initial_values = []\n",
    "minimums = []\n",
    "maximums = []\n",
    "enables = []\n",
    "print(FitParameter.get_parameters())\n",
    "print('items')\n",
    "for key, member in FitParameter.get_items():\n",
    "    print(f'{key} = {member.value}')\n",
    "    names.append(key)\n",
    "    initial_values.append(member.value[0])\n",
    "    minimums.append(member.value[1])\n",
    "    maximums.append(member.value[2])\n",
    "    enables.append(member.value[3])\n",
    "print(f'name = {names}')\n",
    "print(f'initial_values = {initial_values}')\n",
    "print(f'minimums = {minimums}')\n",
    "print(f'maximums = {maximums}')\n",
    "print(f'enables = {enables}')\n"
   ]
  },
  {
   "cell_type": "markdown",
   "metadata": {},
   "source": [
    "### 階層化"
   ]
  },
  {
   "cell_type": "code",
   "execution_count": 8,
   "metadata": {},
   "outputs": [
    {
     "name": "stdout",
     "output_type": "stream",
     "text": [
      "1.0\n",
      "-10\n",
      "amp = (1.0, 0, 20, True)\n",
      "e0 = (0, -10, 10, True)\n",
      "delr = (0, -2, 2, True)\n",
      "ss = (3, 0, 1, True)\n",
      "C3 = (0, -10, 10, True)\n",
      "C4 = (0, -10, 10, True)\n",
      "Ei = (0, -10, 10, True)\n"
     ]
    }
   ],
   "source": [
    "class FitParameterBase(Enum):\n",
    "    def __init__(self, initial_value, minimum, maximam, variable:bool):\n",
    "        self.initial_value = initial_value\n",
    "        self.minimum = minimum\n",
    "        self.maximam = maximam\n",
    "        self.variable = variable\n",
    "\n",
    "    @classmethod\n",
    "    def get_items(cls):\n",
    "        # items()メソッドを実行\n",
    "        return [*cls.__members__.items()]\n",
    "\n",
    "class Fit():\n",
    "    class ParaA(FitParameterBase):\n",
    "        amp = (1.0, 0, 20, True)\n",
    "        e0 = (0, -10, 10, True)\n",
    "        delr = (0, -2, 2, True)\n",
    "    class ParaB(FitParameterBase):\n",
    "        ss = (3, 0, 1, True)\n",
    "        C3 = (0, -10, 10, True)\n",
    "        C4 = C3\n",
    "        Ei = C3\n",
    "        \n",
    "print(Fit.ParaA.amp.initial_value)\n",
    "print(Fit.ParaB.C4.minimum)\n",
    "\n",
    "for key, member in Fit.ParaA.get_items():\n",
    "    print(f'{key} = {member.value}')\n",
    "for key, member in Fit.ParaB.get_items():\n",
    "    print(f'{key} = {member.value}')"
   ]
  },
  {
   "cell_type": "markdown",
   "metadata": {},
   "source": [
    "### dictからEnum作成"
   ]
  },
  {
   "cell_type": "code",
   "execution_count": 3,
   "metadata": {},
   "outputs": [
    {
     "data": {
      "text/plain": [
       "'A'"
      ]
     },
     "execution_count": 3,
     "metadata": {},
     "output_type": "execute_result"
    }
   ],
   "source": [
    "from enum import Enum, auto, unique\n",
    "\n",
    "\n",
    "class Default():\n",
    "    dict = {'a':'A', 'b':1, 'c':None, 'd':'None', 'e':''}\n",
    "    class Para(Enum):\n",
    "        a = dict['a']\n",
    "        b = dict['b']\n",
    "        c = dict['c']\n",
    "        d = dict['d']\n",
    "        e = dict['e']\n",
    "\n",
    "Default.Para.a.value"
   ]
  },
  {
   "cell_type": "code",
   "execution_count": 4,
   "metadata": {},
   "outputs": [
    {
     "data": {
      "text/plain": [
       "'A'"
      ]
     },
     "execution_count": 4,
     "metadata": {},
     "output_type": "execute_result"
    }
   ],
   "source": [
    "from enum import Enum, auto, unique\n",
    "\n",
    "\n",
    "dict = {'a':'A', 'b':1, 'c':None, 'd':'None', 'e':''}\n",
    "class Para(Enum):\n",
    "    a = dict['a']\n",
    "    b = dict['b']\n",
    "    c = dict['c']\n",
    "    d = dict['d']\n",
    "    e = dict['e']\n",
    "\n",
    "Para.a.value"
   ]
  }
 ],
 "metadata": {
  "kernelspec": {
   "display_name": "venv",
   "language": "python",
   "name": "python3"
  },
  "language_info": {
   "codemirror_mode": {
    "name": "ipython",
    "version": 3
   },
   "file_extension": ".py",
   "mimetype": "text/x-python",
   "name": "python",
   "nbconvert_exporter": "python",
   "pygments_lexer": "ipython3",
   "version": "3.11.1"
  },
  "orig_nbformat": 4
 },
 "nbformat": 4,
 "nbformat_minor": 2
}
