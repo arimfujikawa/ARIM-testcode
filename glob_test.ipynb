{
 "cells": [
  {
   "cell_type": "markdown",
   "metadata": {},
   "source": [
    "# globの使用方法"
   ]
  },
  {
   "cell_type": "markdown",
   "metadata": {},
   "source": [
    "### 再帰的検索  \n",
    "下位フォルダも検索"
   ]
  },
  {
   "cell_type": "code",
   "execution_count": 14,
   "metadata": {},
   "outputs": [
    {
     "name": "stdout",
     "output_type": "stream",
     "text": [
      "['test.txt',\n",
      " 'test1.txt',\n",
      " 'venv\\\\Lib\\\\site-packages\\\\IPython\\\\testing\\\\plugin\\\\test_combo.txt',\n",
      " 'venv\\\\Lib\\\\site-packages\\\\IPython\\\\testing\\\\plugin\\\\test_example.txt',\n",
      " 'venv\\\\Lib\\\\site-packages\\\\IPython\\\\testing\\\\plugin\\\\test_exampleip.txt',\n",
      " 'venv\\\\Lib\\\\site-packages\\\\nbclassic\\\\bundler\\\\tests\\\\resources\\\\another_subdir\\\\test_file.txt',\n",
      " 'venv\\\\Lib\\\\site-packages\\\\nbclassic\\\\bundler\\\\tests\\\\resources\\\\subdir\\\\test_file.txt',\n",
      " 'venv\\\\Lib\\\\site-packages\\\\notebook\\\\bundler\\\\tests\\\\resources\\\\another_subdir\\\\test_file.txt',\n",
      " 'venv\\\\Lib\\\\site-packages\\\\notebook\\\\bundler\\\\tests\\\\resources\\\\subdir\\\\test_file.txt']\n",
      "[]\n"
     ]
    }
   ],
   "source": [
    "import glob\n",
    "import pprint\n",
    "\n",
    "file_list = glob.glob('**/test*.txt', recursive=True)\n",
    "pprint.pprint(file_list, width=1)\n",
    "file_list = glob.glob('**/test*.txt')\n",
    "pprint.pprint(file_list, width=1)"
   ]
  },
  {
   "cell_type": "markdown",
   "metadata": {},
   "source": [
    "### 正規表現との組み合わせ"
   ]
  },
  {
   "cell_type": "code",
   "execution_count": 35,
   "metadata": {},
   "outputs": [
    {
     "name": "stdout",
     "output_type": "stream",
     "text": [
      "['header.npy',\n",
      " 'out_l0.npy',\n",
      " 'out_l1.npy',\n",
      " 'out_l10.npy',\n",
      " 'out_l11.npy',\n",
      " 'out_l12.npy',\n",
      " 'out_l13.npy',\n",
      " 'out_l14.npy',\n",
      " 'out_l2.npy',\n",
      " 'out_l3.npy',\n",
      " 'out_l4.npy',\n",
      " 'out_l5.npy',\n",
      " 'out_l6.npy',\n",
      " 'out_l7.npy',\n",
      " 'out_l8.npy',\n",
      " 'out_l9.npy',\n",
      " 'test.npy',\n",
      " 'test1.npy',\n",
      " 'gaussian_filtered_nparrays\\\\icons8-キャンセル-64_png.npy',\n",
      " 'gaussian_filtered_nparrays\\\\icons8-キャンセル-64_test.npy',\n",
      " 'gaussian_filtered_nparrays\\\\icons8-チェック-64_png.npy',\n",
      " 'gaussian_filtered_nparrays\\\\icons8-ネットワーク-48_png.npy',\n",
      " 'gaussian_filtered_nparrays\\\\icons8-ボット-50_png.npy',\n",
      " 'gaussian_filtered_nparrays\\\\icons8-マインド-マップ-48_png.npy',\n",
      " 'gaussian_filtered_nparrays\\\\icons8-マインド-マップ-80_png.npy',\n",
      " 'gaussian_filtered_nparrays\\\\icons8-ロボット2-50_png.npy',\n",
      " 'gaussian_filtered_nparrays\\\\icons8-人工知能-48_png.npy',\n",
      " 'gaussian_filtered_nparrays\\\\icons8-機械学習-64 '\n",
      " '(1)_png.npy',\n",
      " 'gaussian_filtered_nparrays\\\\icons8-機械学習-64 '\n",
      " '(2)_png.npy',\n",
      " 'gaussian_filtered_nparrays\\\\icons8-機械学習-64_png.npy',\n",
      " 'gaussian_filtered_nparrays_multi\\\\icopng\\\\icons8-キャンセル-64.npy',\n",
      " 'gaussian_filtered_nparrays_multi\\\\icopng\\\\icons8-チェック-64.npy',\n",
      " 'gaussian_filtered_nparrays_multi\\\\icopng\\\\icons8-ネットワーク-48.npy',\n",
      " 'gaussian_filtered_nparrays_multi\\\\icopng\\\\icons8-ボット-50.npy',\n",
      " 'gaussian_filtered_nparrays_multi\\\\icopng\\\\icons8-マインド-マップ-48.npy',\n",
      " 'gaussian_filtered_nparrays_multi\\\\icopng\\\\icons8-マインド-マップ-80.npy',\n",
      " 'gaussian_filtered_nparrays_multi\\\\icopng\\\\icons8-ロボット2-50.npy',\n",
      " 'gaussian_filtered_nparrays_multi\\\\icopng\\\\icons8-人工知能-48.npy',\n",
      " 'gaussian_filtered_nparrays_multi\\\\icopng\\\\icons8-機械学習-64 '\n",
      " '(1).npy',\n",
      " 'gaussian_filtered_nparrays_multi\\\\icopng\\\\icons8-機械学習-64 '\n",
      " '(2).npy',\n",
      " 'gaussian_filtered_nparrays_multi\\\\icopng\\\\icons8-機械学習-64.npy',\n",
      " 'venv\\\\Lib\\\\site-packages\\\\joblib\\\\test\\\\data\\\\joblib_0.9.2_pickle_py27_np16.pkl_01.npy',\n",
      " 'venv\\\\Lib\\\\site-packages\\\\joblib\\\\test\\\\data\\\\joblib_0.9.2_pickle_py27_np16.pkl_02.npy',\n",
      " 'venv\\\\Lib\\\\site-packages\\\\joblib\\\\test\\\\data\\\\joblib_0.9.2_pickle_py27_np16.pkl_03.npy',\n",
      " 'venv\\\\Lib\\\\site-packages\\\\joblib\\\\test\\\\data\\\\joblib_0.9.2_pickle_py27_np16.pkl_04.npy',\n",
      " 'venv\\\\Lib\\\\site-packages\\\\joblib\\\\test\\\\data\\\\joblib_0.9.2_pickle_py27_np17.pkl_01.npy',\n",
      " 'venv\\\\Lib\\\\site-packages\\\\joblib\\\\test\\\\data\\\\joblib_0.9.2_pickle_py27_np17.pkl_02.npy',\n",
      " 'venv\\\\Lib\\\\site-packages\\\\joblib\\\\test\\\\data\\\\joblib_0.9.2_pickle_py27_np17.pkl_03.npy',\n",
      " 'venv\\\\Lib\\\\site-packages\\\\joblib\\\\test\\\\data\\\\joblib_0.9.2_pickle_py27_np17.pkl_04.npy',\n",
      " 'venv\\\\Lib\\\\site-packages\\\\joblib\\\\test\\\\data\\\\joblib_0.9.2_pickle_py33_np18.pkl_01.npy',\n",
      " 'venv\\\\Lib\\\\site-packages\\\\joblib\\\\test\\\\data\\\\joblib_0.9.2_pickle_py33_np18.pkl_02.npy',\n",
      " 'venv\\\\Lib\\\\site-packages\\\\joblib\\\\test\\\\data\\\\joblib_0.9.2_pickle_py33_np18.pkl_03.npy',\n",
      " 'venv\\\\Lib\\\\site-packages\\\\joblib\\\\test\\\\data\\\\joblib_0.9.2_pickle_py33_np18.pkl_04.npy',\n",
      " 'venv\\\\Lib\\\\site-packages\\\\joblib\\\\test\\\\data\\\\joblib_0.9.2_pickle_py34_np19.pkl_01.npy',\n",
      " 'venv\\\\Lib\\\\site-packages\\\\joblib\\\\test\\\\data\\\\joblib_0.9.2_pickle_py34_np19.pkl_02.npy',\n",
      " 'venv\\\\Lib\\\\site-packages\\\\joblib\\\\test\\\\data\\\\joblib_0.9.2_pickle_py34_np19.pkl_03.npy',\n",
      " 'venv\\\\Lib\\\\site-packages\\\\joblib\\\\test\\\\data\\\\joblib_0.9.2_pickle_py34_np19.pkl_04.npy',\n",
      " 'venv\\\\Lib\\\\site-packages\\\\joblib\\\\test\\\\data\\\\joblib_0.9.2_pickle_py35_np19.pkl_01.npy',\n",
      " 'venv\\\\Lib\\\\site-packages\\\\joblib\\\\test\\\\data\\\\joblib_0.9.2_pickle_py35_np19.pkl_02.npy',\n",
      " 'venv\\\\Lib\\\\site-packages\\\\joblib\\\\test\\\\data\\\\joblib_0.9.2_pickle_py35_np19.pkl_03.npy',\n",
      " 'venv\\\\Lib\\\\site-packages\\\\joblib\\\\test\\\\data\\\\joblib_0.9.2_pickle_py35_np19.pkl_04.npy',\n",
      " 'venv\\\\Lib\\\\site-packages\\\\matplotlib\\\\mpl-data\\\\sample_data\\\\axes_grid\\\\bivariate_normal.npy',\n",
      " 'venv\\\\Lib\\\\site-packages\\\\numpy\\\\lib\\\\tests\\\\data\\\\py2-objarr.npy',\n",
      " 'venv\\\\Lib\\\\site-packages\\\\numpy\\\\lib\\\\tests\\\\data\\\\py3-objarr.npy',\n",
      " 'venv\\\\Lib\\\\site-packages\\\\numpy\\\\lib\\\\tests\\\\data\\\\python3.npy',\n",
      " 'venv\\\\Lib\\\\site-packages\\\\numpy\\\\lib\\\\tests\\\\data\\\\win64python2.npy',\n",
      " 'venv\\\\Lib\\\\site-packages\\\\scipy\\\\interpolate\\\\tests\\\\data\\\\estimate_gradients_hang.npy',\n",
      " 'venv\\\\Lib\\\\site-packages\\\\scipy\\\\stats\\\\tests\\\\data\\\\rel_breitwigner_pdf_sample_data_ROOT.npy',\n",
      " 'venv\\\\Lib\\\\site-packages\\\\scipy\\\\stats\\\\tests\\\\data\\\\levy_stable\\\\stable-loc-scale-sample-data.npy',\n",
      " 'venv\\\\Lib\\\\site-packages\\\\scipy\\\\stats\\\\tests\\\\data\\\\levy_stable\\\\stable-Z1-cdf-sample-data.npy',\n",
      " 'venv\\\\Lib\\\\site-packages\\\\scipy\\\\stats\\\\tests\\\\data\\\\levy_stable\\\\stable-Z1-pdf-sample-data.npy']\n",
      "matched\n",
      "['out_l0.npy',\n",
      " 'out_l1.npy',\n",
      " 'out_l10.npy',\n",
      " 'out_l11.npy',\n",
      " 'out_l12.npy',\n",
      " 'out_l13.npy',\n",
      " 'out_l14.npy',\n",
      " 'out_l2.npy',\n",
      " 'out_l3.npy',\n",
      " 'out_l4.npy',\n",
      " 'out_l5.npy',\n",
      " 'out_l6.npy',\n",
      " 'out_l7.npy',\n",
      " 'out_l8.npy',\n",
      " 'out_l9.npy',\n",
      " 'test1.npy',\n",
      " 'venv\\\\Lib\\\\site-packages\\\\joblib\\\\test\\\\data\\\\joblib_0.9.2_pickle_py27_np16.pkl_01.npy',\n",
      " 'venv\\\\Lib\\\\site-packages\\\\joblib\\\\test\\\\data\\\\joblib_0.9.2_pickle_py27_np16.pkl_02.npy',\n",
      " 'venv\\\\Lib\\\\site-packages\\\\joblib\\\\test\\\\data\\\\joblib_0.9.2_pickle_py27_np16.pkl_03.npy',\n",
      " 'venv\\\\Lib\\\\site-packages\\\\joblib\\\\test\\\\data\\\\joblib_0.9.2_pickle_py27_np16.pkl_04.npy',\n",
      " 'venv\\\\Lib\\\\site-packages\\\\joblib\\\\test\\\\data\\\\joblib_0.9.2_pickle_py27_np17.pkl_01.npy',\n",
      " 'venv\\\\Lib\\\\site-packages\\\\joblib\\\\test\\\\data\\\\joblib_0.9.2_pickle_py27_np17.pkl_02.npy',\n",
      " 'venv\\\\Lib\\\\site-packages\\\\joblib\\\\test\\\\data\\\\joblib_0.9.2_pickle_py27_np17.pkl_03.npy',\n",
      " 'venv\\\\Lib\\\\site-packages\\\\joblib\\\\test\\\\data\\\\joblib_0.9.2_pickle_py27_np17.pkl_04.npy',\n",
      " 'venv\\\\Lib\\\\site-packages\\\\joblib\\\\test\\\\data\\\\joblib_0.9.2_pickle_py33_np18.pkl_01.npy',\n",
      " 'venv\\\\Lib\\\\site-packages\\\\joblib\\\\test\\\\data\\\\joblib_0.9.2_pickle_py33_np18.pkl_02.npy',\n",
      " 'venv\\\\Lib\\\\site-packages\\\\joblib\\\\test\\\\data\\\\joblib_0.9.2_pickle_py33_np18.pkl_03.npy',\n",
      " 'venv\\\\Lib\\\\site-packages\\\\joblib\\\\test\\\\data\\\\joblib_0.9.2_pickle_py33_np18.pkl_04.npy',\n",
      " 'venv\\\\Lib\\\\site-packages\\\\joblib\\\\test\\\\data\\\\joblib_0.9.2_pickle_py34_np19.pkl_01.npy',\n",
      " 'venv\\\\Lib\\\\site-packages\\\\joblib\\\\test\\\\data\\\\joblib_0.9.2_pickle_py34_np19.pkl_02.npy',\n",
      " 'venv\\\\Lib\\\\site-packages\\\\joblib\\\\test\\\\data\\\\joblib_0.9.2_pickle_py34_np19.pkl_03.npy',\n",
      " 'venv\\\\Lib\\\\site-packages\\\\joblib\\\\test\\\\data\\\\joblib_0.9.2_pickle_py34_np19.pkl_04.npy',\n",
      " 'venv\\\\Lib\\\\site-packages\\\\joblib\\\\test\\\\data\\\\joblib_0.9.2_pickle_py35_np19.pkl_01.npy',\n",
      " 'venv\\\\Lib\\\\site-packages\\\\joblib\\\\test\\\\data\\\\joblib_0.9.2_pickle_py35_np19.pkl_02.npy',\n",
      " 'venv\\\\Lib\\\\site-packages\\\\joblib\\\\test\\\\data\\\\joblib_0.9.2_pickle_py35_np19.pkl_03.npy',\n",
      " 'venv\\\\Lib\\\\site-packages\\\\joblib\\\\test\\\\data\\\\joblib_0.9.2_pickle_py35_np19.pkl_04.npy',\n",
      " 'venv\\\\Lib\\\\site-packages\\\\joblib\\\\test\\\\data\\\\joblib_0.9.4.dev0_compressed_cache_size_pickle_py35_np19.gz_01.npy.z',\n",
      " 'venv\\\\Lib\\\\site-packages\\\\joblib\\\\test\\\\data\\\\joblib_0.9.4.dev0_compressed_cache_size_pickle_py35_np19.gz_02.npy.z',\n",
      " 'venv\\\\Lib\\\\site-packages\\\\joblib\\\\test\\\\data\\\\joblib_0.9.4.dev0_compressed_cache_size_pickle_py35_np19.gz_03.npy.z',\n",
      " 'venv\\\\Lib\\\\site-packages\\\\numpy\\\\lib\\\\tests\\\\data\\\\python3.npy',\n",
      " 'venv\\\\Lib\\\\site-packages\\\\numpy\\\\lib\\\\tests\\\\data\\\\win64python2.npy']\n"
     ]
    }
   ],
   "source": [
    "import glob\n",
    "import re\n",
    "import pprint\n",
    "\n",
    "file_list = glob.glob('**/*.npy', recursive=True)\n",
    "pprint.pprint(file_list, width=1)\n",
    "# 正規表現パターンにマッチするファイルを取得する\n",
    "# pattern = r'[\\D]+[\\d]+.npy\\$'  # ファイル名が’test’の後に1桁の数字、拡張子が.txtのパターン\n",
    "pattern = r'^[a-zA-Z\\d_\\.\\-\\\\]+[\\d]+.npy'  # ファイルパスが先頭からアルファベット、数字_、.、-、\\を含む文字列の次に、数字の直後に拡張子.npyのパターン\n",
    "matched_files = [file for file in glob.glob('**/*', recursive=True) if re.search(pattern, file, re.ASCII)]\n",
    "print('matched')\n",
    "pprint.pprint(matched_files)\n"
   ]
  },
  {
   "cell_type": "markdown",
   "metadata": {},
   "source": [
    "### 大文字小文字は区別なし"
   ]
  },
  {
   "cell_type": "code",
   "execution_count": 13,
   "metadata": {},
   "outputs": [
    {
     "name": "stdout",
     "output_type": "stream",
     "text": [
      "['glob_file\\\\TEST.dat']:<class 'str'>\n"
     ]
    }
   ],
   "source": [
    "import glob\n",
    "prefix = 'test'\n",
    "sub_dir = 'glob_file'\n",
    "\n",
    "files = glob.glob(f'{sub_dir}/*{prefix}*')\n",
    "print(f'{files}:{type(files[0])}')\n"
   ]
  },
  {
   "cell_type": "code",
   "execution_count": 14,
   "metadata": {},
   "outputs": [
    {
     "ename": "TypeError",
     "evalue": "setattr expected 3 arguments, got 2",
     "output_type": "error",
     "traceback": [
      "\u001b[1;31m---------------------------------------------------------------------------\u001b[0m",
      "\u001b[1;31mTypeError\u001b[0m                                 Traceback (most recent call last)",
      "Cell \u001b[1;32mIn[14], line 3\u001b[0m\n\u001b[0;32m      1\u001b[0m var \u001b[39m=\u001b[39m \u001b[39m'\u001b[39m\u001b[39ma\u001b[39m\u001b[39m'\u001b[39m\n\u001b[0;32m      2\u001b[0m value \u001b[39m=\u001b[39m \u001b[39m1\u001b[39m\n\u001b[1;32m----> 3\u001b[0m \u001b[39msetattr\u001b[39;49m(var, value)\n\u001b[0;32m      4\u001b[0m \u001b[39mprint\u001b[39m(a)\n",
      "\u001b[1;31mTypeError\u001b[0m: setattr expected 3 arguments, got 2"
     ]
    }
   ],
   "source": [
    "var = 'a'\n",
    "value = 1\n",
    "setattr(var, value)\n",
    "print(a)"
   ]
  }
 ],
 "metadata": {
  "kernelspec": {
   "display_name": "venv",
   "language": "python",
   "name": "python3"
  },
  "language_info": {
   "codemirror_mode": {
    "name": "ipython",
    "version": 3
   },
   "file_extension": ".py",
   "mimetype": "text/x-python",
   "name": "python",
   "nbconvert_exporter": "python",
   "pygments_lexer": "ipython3",
   "version": "3.11.1"
  },
  "orig_nbformat": 4
 },
 "nbformat": 4,
 "nbformat_minor": 2
}
