{
 "cells": [
  {
   "attachments": {},
   "cell_type": "markdown",
   "metadata": {},
   "source": [
    "# Typeについて"
   ]
  },
  {
   "attachments": {},
   "cell_type": "markdown",
   "metadata": {},
   "source": [
    "### typeの定義は  \n",
    "numpyのndarrayの場合\n"
   ]
  },
  {
   "cell_type": "code",
   "execution_count": 1,
   "metadata": {},
   "outputs": [],
   "source": [
    "import numpy as np\n",
    "from numpy import ndarray\n",
    "\n",
    "np.nd\n",
    "ndarray_type = ndarray\n",
    "\n",
    "\n",
    "def func() -> ndarray_type:\n",
    "    return np.arange(range(5))"
   ]
  },
  {
   "attachments": {},
   "cell_type": "markdown",
   "metadata": {},
   "source": [
    "- np.ndarrayは__init__.pyで、\n",
    "```python\n",
    "class ndarray(_ArrayOrScalarCommon, Generic[_ShapeType, _DType_co]):\n",
    "```\n",
    "に定義されている"
   ]
  },
  {
   "attachments": {},
   "cell_type": "markdown",
   "metadata": {},
   "source": []
  },
  {
   "cell_type": "markdown",
   "metadata": {},
   "source": [
    "### typingモジュール  \n",
    "参考:  \n",
    "[Pythonの型を完全に理解するためのtypingモジュール全解説 -3.10対応 - Qiita](https://qiita.com/nicco_mirai/items/5591c1c48b1422c324c9)"
   ]
  },
  {
   "cell_type": "markdown",
   "metadata": {},
   "source": []
  },
  {
   "cell_type": "code",
   "execution_count": 6,
   "metadata": {},
   "outputs": [
    {
     "name": "stdout",
     "output_type": "stream",
     "text": [
      "1\n"
     ]
    },
    {
     "data": {
      "text/plain": [
       "50000000000000000000"
      ]
     },
     "execution_count": 6,
     "metadata": {},
     "output_type": "execute_result"
    }
   ],
   "source": [
    "from typing import Final\n",
    "HOSHII_YEN: Final = 5000_0000_0000_0000\n",
    "HOSHII_YEN = 1  # NGだけどFinalには強制力がなくてできちゃう\n",
    "print(HOSHII_YEN)\n",
    "\n",
    "\n",
    "class Hoshii:\n",
    "    YEN: Final[int] = 5000_0000_0000_0000\n",
    "\n",
    "\n",
    "class MottoHoshii(Hoshii):\n",
    "    # NGだけどFinalには強制力がなくてできちゃう\n",
    "    YEN = 5000_0000_0000_0000_0000  # NG\n",
    "\n",
    "MottoHoshii.YEN\n"
   ]
  },
  {
   "cell_type": "markdown",
   "metadata": {},
   "source": [
    "### mypyライブラリで型ヒントをチェックできる  \n",
    "使い方はモジュールとして  \n",
    "```\n",
    "> mypy sample.py\n",
    "```"
   ]
  },
  {
   "cell_type": "markdown",
   "metadata": {},
   "source": []
  }
 ],
 "metadata": {
  "kernelspec": {
   "display_name": "venv",
   "language": "python",
   "name": "python3"
  },
  "language_info": {
   "codemirror_mode": {
    "name": "ipython",
    "version": 3
   },
   "file_extension": ".py",
   "mimetype": "text/x-python",
   "name": "python",
   "nbconvert_exporter": "python",
   "pygments_lexer": "ipython3",
   "version": "3.11.1"
  },
  "orig_nbformat": 4
 },
 "nbformat": 4,
 "nbformat_minor": 2
}
