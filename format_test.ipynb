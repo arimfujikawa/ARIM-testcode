{
 "cells": [
  {
   "attachments": {},
   "cell_type": "markdown",
   "metadata": {},
   "source": [
    "# 出力、変数のフォーマット"
   ]
  },
  {
   "cell_type": "code",
   "execution_count": 4,
   "metadata": {},
   "outputs": [
    {
     "name": "stdout",
     "output_type": "stream",
     "text": [
      "00123\n",
      "00123\n",
      "12300\n",
      "-0123\n",
      "-0123\n",
      "-1230\n",
      "01.23\n",
      "01.23\n",
      "1.230\n"
     ]
    }
   ],
   "source": [
    "a = 123\n",
    "print(str(a).zfill(5))\n",
    "print(f'{a:05}')\n",
    "print(f'{str(a):05}')\n",
    "b = -123\n",
    "print(str(b).zfill(5))\n",
    "print(f'{b:05}')\n",
    "print(f'{str(b):05}')\n",
    "c = 1.23\n",
    "print(str(c).zfill(5))\n",
    "print(f'{c:05}')\n",
    "print(f'{str(c):05}')\n"
   ]
  },
  {
   "attachments": {},
   "cell_type": "markdown",
   "metadata": {},
   "source": [
    "### numpyやfloatの数値末尾の処理\n",
    "np.format_float_positional"
   ]
  },
  {
   "cell_type": "code",
   "execution_count": 2,
   "metadata": {},
   "outputs": [
    {
     "name": "stdout",
     "output_type": "stream",
     "text": [
      "[5.0, 5.1, 5.2, 5.3, 5.4, 5.5, 5.6, 5.7, 5.8, 5.9, 6.0, 6.1, 6.2, 6.3, 6.4, 6.5, 6.6, 6.7, 6.8, 6.9, 7.0, 7.1, 7.2, 7.300000000000001, 7.4, 7.5, 7.6, 7.7, 7.800000000000001, 7.9, 8.0, 8.1, 8.2, 8.3, 8.4, 8.5, 8.6, 8.7, 8.8, 8.9, 9.0, 9.100000000000001, 9.2, 9.3, 9.4, 9.5, 9.600000000000001, 9.7, 9.8, 9.9, 10.0]\n",
      "['5.', '5.1', '5.2', '5.3', '5.4', '5.5', '5.6', '5.7', '5.8', '5.9', '6.', '6.1', '6.2', '6.3', '6.4', '6.5', '6.6', '6.7', '6.8', '6.9', '7.', '7.1', '7.2', '7.30000000000000', '7.4', '7.5', '7.6', '7.7', '7.80000000000000', '7.9', '8.', '8.1', '8.2', '8.3', '8.4', '8.5', '8.6', '8.7', '8.8', '8.9', '9.', '9.10000000000000', '9.2', '9.3', '9.4', '9.5', '9.60000000000000', '9.7', '9.8', '9.9', '10.']\n",
      "['5.00000000000000', '5.10000000000000', '5.20000000000000', '5.30000000000000', '5.40000000000000', '5.50000000000000', '5.60000000000000', '5.70000000000000', '5.80000000000000', '5.90000000000000', '6.00000000000000', '6.10000000000000', '6.20000000000000', '6.30000000000000', '6.40000000000000', '6.50000000000000', '6.60000000000000', '6.70000000000000', '6.80000000000000', '6.90000000000000', '7.00000000000000', '7.10000000000000', '7.20000000000000', '7.30000000000000', '7.40000000000000', '7.50000000000000', '7.60000000000000', '7.70000000000000', '7.80000000000000', '7.90000000000000', '8.00000000000000', '8.10000000000000', '8.20000000000000', '8.30000000000000', '8.40000000000000', '8.50000000000000', '8.60000000000000', '8.70000000000000', '8.80000000000000', '8.90000000000000', '9.00000000000000', '9.10000000000000', '9.20000000000000', '9.30000000000000', '9.40000000000000', '9.50000000000000', '9.60000000000000', '9.70000000000000', '9.80000000000000', '9.90000000000000', '10.00000000000000']\n",
      "['5.', '5.1', '5.2', '5.3', '5.4', '5.5', '5.6', '5.7', '5.8', '5.9', '6.', '6.1', '6.2', '6.3', '6.4', '6.5', '6.6', '6.7', '6.8', '6.9', '7.', '7.1', '7.2', '7.3000000000000', '7.4', '7.5', '7.6', '7.7', '7.8000000000000', '7.9', '8.', '8.1', '8.2', '8.3', '8.4', '8.5', '8.6', '8.7', '8.8', '8.9', '9.', '9.1000000000000', '9.2', '9.3', '9.4', '9.5', '9.6000000000000', '9.7', '9.8', '9.9', '10.']\n",
      "['5.0', '5.1', '5.2', '5.3', '5.4', '5.5', '5.6', '5.7', '5.8', '5.9', '6.0', '6.1', '6.2', '6.3', '6.4', '6.5', '6.6', '6.7', '6.8', '6.9', '7.0', '7.1', '7.2', '7.3', '7.4', '7.5', '7.6', '7.7', '7.8', '7.9', '8.0', '8.1', '8.2', '8.3', '8.4', '8.5', '8.6', '8.7', '8.8', '8.9', '9.0', '9.1', '9.2', '9.3', '9.4', '9.5', '9.6', '9.7', '9.8', '9.9', '10.0']\n",
      "['5.', '5.1', '5.2', '5.3', '5.4', '5.5', '5.6', '5.7', '5.8', '5.9', '6.', '6.1', '6.2', '6.3', '6.4', '6.5', '6.6', '6.7', '6.8', '6.9', '7.', '7.1', '7.2', '7.3', '7.4', '7.5', '7.6', '7.7', '7.8', '7.9', '8.', '8.1', '8.2', '8.3', '8.4', '8.5', '8.6', '8.7', '8.8', '8.9', '9.', '9.1', '9.2', '9.3', '9.4', '9.5', '9.6', '9.7', '9.8', '9.9', '10.']\n",
      "['5', '5.1', '5.2', '5.3', '5.4', '5.5', '5.6', '5.7', '5.8', '5.9', '6', '6.1', '6.2', '6.3', '6.4', '6.5', '6.6', '6.7', '6.8', '6.9', '7', '7.1', '7.2', '7.3', '7.4', '7.5', '7.6', '7.7', '7.8', '7.9', '8', '8.1', '8.2', '8.3', '8.4', '8.5', '8.6', '8.7', '8.8', '8.9', '9', '9.1', '9.2', '9.3', '9.4', '9.5', '9.6', '9.7', '9.8', '9.9', '10']\n",
      "['5', '5.1', '5.2', '5.3', '5.4', '5.5', '5.6', '5.7', '5.8', '5.9', '6', '6.1', '6.2', '6.3', '6.4', '6.5', '6.6', '6.7', '6.8', '6.9', '7', '7.1', '7.2', '7.3', '7.4', '7.5', '7.6', '7.7', '7.8', '7.9', '8', '8.1', '8.2', '8.3', '8.4', '8.5', '8.6', '8.7', '8.8', '8.9', '9', '9.1', '9.2', '9.3', '9.4', '9.5', '9.6', '9.7', '9.8', '9.9', '10']\n",
      "5. 5.1 5.2 5.3 5.4 5.5 5.6 5.7 5.8 5.9 6. 6.1 6.2 6.3 6.4 6.5 6.6 6.7 6.8 6.9 7. 7.1 7.2 7.30000000000000 7.4 7.5 7.6 7.7 7.80000000000000 7.9 8. 8.1 8.2 8.3 8.4 8.5 8.6 8.7 8.8 8.9 9. 9.10000000000000 9.2 9.3 9.4 9.5 9.60000000000000 9.7 9.8 9.9 10.\n"
     ]
    }
   ],
   "source": [
    "import numpy as np\n",
    "\n",
    "SAVE_FILE = 'format_test.txt'\n",
    "\n",
    "step = 0.1\n",
    "start = 5.0\n",
    "size = 51\n",
    "data = []\n",
    "for i in range(size):\n",
    "    data.append((step * i) + start)\n",
    "\n",
    "u_data = []\n",
    "f_data = []\n",
    "t_0_data = []\n",
    "t_p_data = []\n",
    "t_m_data = []\n",
    "t_m8_data = []\n",
    "print(data)\n",
    "\n",
    "for i,value in enumerate(data):\n",
    "    data[i] = np.format_float_positional(value, precision=14)\n",
    "    u_data.append(np.format_float_positional(value, precision=14, unique=False))\n",
    "    f_data.append(np.format_float_positional(value, precision=14, fractional=False))\n",
    "    # Controls post-processing trimming of trailing digits\n",
    "    t_0_data.append(np.format_float_positional(value, precision=14, trim='0'))\n",
    "    t_p_data.append(np.format_float_positional(value, precision=14, trim='.'))\n",
    "    t_m_data.append(np.format_float_positional(value, precision=14, trim='-'))\n",
    "    t_m8_data.append(np.format_float_positional(value, precision=8, trim='-'))\n",
    "print(data)\n",
    "print(u_data)\n",
    "print(f_data)\n",
    "print(t_0_data)\n",
    "print(t_p_data)\n",
    "print(t_m_data)\n",
    "print(t_m8_data)\n",
    "\n",
    "print(*data)\n",
    "\n",
    "with open(SAVE_FILE, 'w') as fs:\n",
    "    fs.write(str(data))\n",
    "    fs.write('\\n')\n",
    "    print(f_data, file=fs)\n",
    "    print(t_0_data, file=fs)\n",
    "    print(t_p_data, file=fs)\n",
    "    print(t_m_data, file=fs)\n",
    "    print(*data, file=fs)\n",
    "    \n",
    "\n"
   ]
  },
  {
   "cell_type": "code",
   "execution_count": 9,
   "metadata": {},
   "outputs": [
    {
     "name": "stdout",
     "output_type": "stream",
     "text": [
      "<class 'float'>\n",
      "2545\n",
      "[2545.]\n",
      "2545\n",
      "[2545.]\n",
      "2545\n"
     ]
    }
   ],
   "source": [
    "import numpy as np\n",
    "a = 2545.0\n",
    "print(type(a))\n",
    "print(np.format_float_positional(a, precision=14, trim='-'))\n",
    "data = [2545]\n",
    "b = np.array(data, dtype='float32')\n",
    "print(b)\n",
    "print(np.format_float_positional(b, precision=14, trim='-'))\n",
    "c = np.array(data, dtype='float64')\n",
    "print(c)\n",
    "print(np.format_float_positional(c, precision=14, trim='-'))\n",
    "\n",
    "np.set_printoptions(suppress=True, precision=6, floatmode='unique')\n",
    "np.savetxt('f32.txt', b)\n"
   ]
  },
  {
   "cell_type": "markdown",
   "metadata": {},
   "source": [
    "### ndarrayの整数末尾の\".\"が取れないとき  \n",
    "再現できないのはnumpyのバージョンが原因かもしれない\n"
   ]
  },
  {
   "cell_type": "code",
   "execution_count": 30,
   "metadata": {},
   "outputs": [
    {
     "name": "stdout",
     "output_type": "stream",
     "text": [
      "[[5.000e-02 2.525e+03]]:<class 'numpy.ndarray'>\n",
      "0.0500000000001819:<class 'numpy.float64'>\n",
      "2525.0:<class 'numpy.float64'>\n",
      "2545.0000000000728:<class 'numpy.float64'>\n",
      "[[2525.0, 2545.0000000000728, 0.0500000000001819, 401]]:<class 'list'>\n",
      "<class 'numpy.float64'>\n",
      "test\n",
      "Dimension start=2525\n",
      "Dimension  end=2545\n",
      "Dimension step=0.05\n",
      "Dimension size=401\n",
      "\n"
     ]
    },
    {
     "data": {
      "text/plain": [
       "2525.0"
      ]
     },
     "execution_count": 30,
     "metadata": {},
     "output_type": "execute_result"
    }
   ],
   "source": [
    "import numpy as np\n",
    "note = 'test\\n'\n",
    "DIGIT_PRECISION = 8\n",
    "a = [[0.0500000000001819, 2525.0]]\n",
    "nda = np.array(a, dtype='float64')\n",
    "axis = []\n",
    "buf_axis = nda\n",
    "print(f'{buf_axis}:{type(buf_axis)}')\n",
    "for axis_values in buf_axis:\n",
    "    step = axis_values[0]\n",
    "    print(f'{step}:{type(step)}')\n",
    "    start = axis_values[-1]\n",
    "    print(f'{start}:{type(start)}')\n",
    "    division = 401\n",
    "    end = step * (division - 1) + start\n",
    "    print(f'{end}:{type(end)}')\n",
    "    axis.append([start, end, step, division])\n",
    "print(f'{axis}:{type(axis)}')\n",
    "dimension_start = axis[0][0]\n",
    "note += f'Dimension start={np.format_float_positional(dimension_start, precision=DIGIT_PRECISION, trim=\"-\")}\\n'\n",
    "test_end = axis[0][1]\n",
    "print(type(test_end))\n",
    "# note += f'Dimension {axis_count} end={np.format_float_positional(axis[i][1], precision=self.DIGIT_PRECISION, trim=\"-\")}\\n'\n",
    "# XAFSプログラムのpxt2txt.pyではここでend=2525.になるが再現できない\n",
    "note += f'Dimension  end={np.format_float_positional(test_end, precision=DIGIT_PRECISION, trim=\"-\")}\\n'\n",
    "\n",
    "dimension_step = axis[0][2]\n",
    "note += f'Dimension step={np.format_float_positional(dimension_step, precision=DIGIT_PRECISION, trim=\"-\")}\\n'\n",
    "dimension_size = axis[0][3]\n",
    "note += f'Dimension size={dimension_size}\\n'\n",
    "print(note)\n",
    "axis[0][0].astype(np.float32)"
   ]
  },
  {
   "cell_type": "code",
   "execution_count": 28,
   "metadata": {},
   "outputs": [
    {
     "name": "stdout",
     "output_type": "stream",
     "text": [
      "Machine parameters for float32\n",
      "---------------------------------------------------------------\n",
      "precision =   6   resolution = 1.0000000e-06\n",
      "machep =    -23   eps =        1.1920929e-07\n",
      "negep =     -24   epsneg =     5.9604645e-08\n",
      "minexp =   -126   tiny =       1.1754944e-38\n",
      "maxexp =    128   max =        3.4028235e+38\n",
      "nexp =        8   min =        -max\n",
      "smallest_normal = 1.1754944e-38   smallest_subnormal = 1.4012985e-45\n",
      "---------------------------------------------------------------\n",
      "\n",
      "Machine parameters for float64\n",
      "---------------------------------------------------------------\n",
      "precision =  15   resolution = 1.0000000000000001e-15\n",
      "machep =    -52   eps =        2.2204460492503131e-16\n",
      "negep =     -53   epsneg =     1.1102230246251565e-16\n",
      "minexp =  -1022   tiny =       2.2250738585072014e-308\n",
      "maxexp =   1024   max =        1.7976931348623157e+308\n",
      "nexp =       11   min =        -max\n",
      "smallest_normal = 2.2250738585072014e-308   smallest_subnormal = 4.9406564584124654e-324\n",
      "---------------------------------------------------------------\n",
      "\n",
      "1.24.2\n"
     ]
    }
   ],
   "source": [
    "import numpy as np\n",
    "fi32 = np.finfo(np.float32)\n",
    "fi64 = np.finfo(np.float64)\n",
    "print(fi32)\n",
    "print(fi64)\n",
    "print(np.__version__)"
   ]
  },
  {
   "cell_type": "markdown",
   "metadata": {},
   "source": [
    "pxt2txtのnumpyバージョンは 1.19.5  \n",
    "バージョンの違いか\n",
    "'''\n",
    "---------------------------------------------------------------\n",
    "precision =  15   resolution = 1.0000000000000001e-15\n",
    "machep =    -52   eps =        2.2204460492503131e-16\n",
    "negep =     -53   epsneg =     1.1102230246251565e-16\n",
    "minexp =  -1022   tiny =       2.2250738585072014e-308\n",
    "maxexp =   1024   max =        1.7976931348623157e+308\n",
    "nexp =       11   min =        -max\n",
    "'''"
   ]
  },
  {
   "cell_type": "markdown",
   "metadata": {},
   "source": [
    "### str -> int等の変換"
   ]
  },
  {
   "cell_type": "code",
   "execution_count": 2,
   "metadata": {},
   "outputs": [
    {
     "name": "stdout",
     "output_type": "stream",
     "text": [
      "1\n"
     ]
    }
   ],
   "source": [
    "str_int = '0001'\n",
    "int_data = int(str_int)\n",
    "print(int_data)"
   ]
  },
  {
   "cell_type": "markdown",
   "metadata": {},
   "source": [
    "### ndaarryの表示\n",
    "- ndarryとlistではprint表示に違いがある\n",
    "- ndarryは小数点以下が0の時.だけで終わる\n",
    "- float32からfloat64への変換は切りの悪い数値になる  \n",
    "floatによるキャストが良い"
   ]
  },
  {
   "cell_type": "code",
   "execution_count": 3,
   "metadata": {},
   "outputs": [
    {
     "name": "stdout",
     "output_type": "stream",
     "text": [
      "790.15\n",
      "790.16\n",
      "790\n",
      "790.15\n",
      "790.16\n",
      "790\n",
      "[790.15, 790.16, 790]\n",
      "[790.15002441 790.15997314 790.00000000]\n",
      "[790.15, 790.16, 790.0]\n",
      "[790.15002441 790.15997314 790.00000000]\n",
      "[790.15000000 790.16000000 790.00000000]\n",
      "[790.15000000 790.16000000 790.00000000]\n",
      "set options\n",
      "[790.15002441 790.15997314 790.00000000]\n",
      "[790.15000000 790.16000000 790.00000000]\n",
      "[790.15000000 790.16000000 790.00000000]\n"
     ]
    }
   ],
   "source": [
    "import numpy as np\n",
    "a = [790.15, 790.16, 790]\n",
    "b = np.array(a, dtype=np.float32)\n",
    "for value in b:\n",
    "     print(np.format_float_positional(value, precision=14, trim='-'))\n",
    "c = []\n",
    "\n",
    "for value in a:\n",
    "    float_value = float(value)\n",
    "    c.append(float_value)\n",
    "    print(np.format_float_positional(float_value, precision=14, trim='-'))\n",
    "d = b.astype(np.float64)\n",
    "e = np.array(c)\n",
    "f = np.array(a, dtype=np.float64)\n",
    "\n",
    "print(a)\n",
    "print(b)\n",
    "print(c)\n",
    "print(d)\n",
    "print(e)\n",
    "print(f)\n",
    "np.set_printoptions(suppress=False, precision=8, floatmode='fixed')\n",
    "print('set options')\n",
    "print(d)\n",
    "print(e)\n",
    "print(f)\n"
   ]
  },
  {
   "cell_type": "markdown",
   "metadata": {},
   "source": []
  },
  {
   "cell_type": "markdown",
   "metadata": {},
   "source": [
    "### \"C:\\Users\\fujikawa\\Documents\\works\\ARIM\\XPS\\IGORテストファイル\\軟X線光電子分光装置\\SES_angle.txt\"のデータの精度"
   ]
  },
  {
   "cell_type": "markdown",
   "metadata": {},
   "source": [
    "- 少なくとも小数点第8位以下は精度不足で補完された値\n",
    "- 装置出力のもともとの精度はfloat32"
   ]
  },
  {
   "cell_type": "code",
   "execution_count": 27,
   "metadata": {},
   "outputs": [
    {
     "name": "stdout",
     "output_type": "stream",
     "text": [
      "装置排出値\n",
      "[4.80055332183838, 7.6766529083252, 0.677240550518036]\n",
      "[4.800553321838 7.676652908325 0.677240550518]: float64\n",
      "ダミー\n",
      "[4.8005533, 7.6766529, 0.67724055]\n",
      "[4.800553321838 7.676652908325 0.677240550518]: float32\n"
     ]
    }
   ],
   "source": [
    "import numpy as np\n",
    "\n",
    "# numpyの精度を指定\n",
    "np.set_printoptions(suppress=False, precision=12, floatmode='fixed')\n",
    "\n",
    "# XPS装置からの出力結果\n",
    "original_values = [4.80055332183838E+0000,\n",
    "                   7.67665290832520E+0000,  6.77240550518036E-0001]\n",
    "print(f'装置排出値\\n{original_values}')\n",
    "float64_original_values = np.array(original_values, dtype=np.float64)\n",
    "print(f'{float64_original_values}: {float64_original_values.dtype}')\n",
    "\n",
    "# 小数点第8位以下を消去\n",
    "values = [4.8005533,\n",
    "          7.6766529,  0.67724055]\n",
    "print(f'ダミー\\n{values}')\n",
    "float32_values = np.array(values, dtype=np.float32)\n",
    "print(f'{float32_values}: {float32_values.dtype}')\n",
    "\n",
    "\n"
   ]
  }
 ],
 "metadata": {
  "kernelspec": {
   "display_name": "venv",
   "language": "python",
   "name": "python3"
  },
  "language_info": {
   "codemirror_mode": {
    "name": "ipython",
    "version": 3
   },
   "file_extension": ".py",
   "mimetype": "text/x-python",
   "name": "python",
   "nbconvert_exporter": "python",
   "pygments_lexer": "ipython3",
   "version": "3.11.1"
  },
  "orig_nbformat": 4
 },
 "nbformat": 4,
 "nbformat_minor": 2
}
