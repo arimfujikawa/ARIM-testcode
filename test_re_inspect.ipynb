{
 "cells": [
  {
   "cell_type": "code",
   "execution_count": null,
   "id": "14631558-f68d-4361-a353-5a2a51c8e17f",
   "metadata": {},
   "outputs": [],
   "source": [
    "from turtle import *\n",
    "color('red', 'yellow')\n",
    "begin_fill()\n",
    "while True:\n",
    "    forward(200)\n",
    "    left(170)\n",
    "    if abs(pos()) < 1:\n",
    "        break\n",
    "enf_fill()\n",
    "done()"
   ]
  },
  {
   "cell_type": "code",
   "execution_count": null,
   "id": "8ba343c8-ee44-43ca-8b4e-428ac9abcec6",
   "metadata": {},
   "outputs": [],
   "source": [
    "import time\n",
    "\n",
    "n = 20\n",
    "for i in range(n):\n",
    "    bar = '*' * (i+1) + \" \" * (n-i-1)\n",
    "    print(f\"\\r[{bar}] {(i+1)/n*100:.02f}% ({i+1}/{n})\", end=\"\")\n",
    "    time.sleep(0.5)\n",
    "print()"
   ]
  },
  {
   "cell_type": "code",
   "execution_count": null,
   "id": "af0440b9-3872-440e-96ec-c62e50cbc1c4",
   "metadata": {},
   "outputs": [],
   "source": [
    "n = 20\n",
    "for i in range(n):\n",
    "    bar = '■'*i + \".\"*(n-i-1)\n",
    "    print(f\"\\r\\033[K[\\033[33m{bar}\\033[39m] {i/n*100:.02f}% ({i}/{n})\", end=\"\")\n",
    "    time.sleep(0.5)"
   ]
  },
  {
   "cell_type": "code",
   "execution_count": 15,
   "id": "b559f6d1-1e80-4eea-9c4a-a076fe7fd3f4",
   "metadata": {},
   "outputs": [],
   "source": [
    "import inspect\n",
    "\n",
    "def output_log(func):\n",
    "    def wrapper(*args, **kargs):\n",
    "        print(f'### START {inspect.currentframe().f_code.co_name} ###')\n",
    "        ret = func(*args, **kargs)\n",
    "        print(f'### END {inspect.currentframe().f_code.co_name} ###')\n",
    "        return ret\n",
    "    return wrapper\n",
    "\n",
    "def print_hello(text):\n",
    "    print(text)"
   ]
  },
  {
   "cell_type": "code",
   "execution_count": 16,
   "id": "a73bff8d-38e9-488b-85cd-1fa0519f6c5b",
   "metadata": {},
   "outputs": [
    {
     "name": "stdout",
     "output_type": "stream",
     "text": [
      "### START wrapper ###\n",
      "test\n",
      "### END wrapper ###\n"
     ]
    }
   ],
   "source": [
    "print_hello('test')\n"
   ]
  },
  {
   "cell_type": "code",
   "execution_count": 19,
   "id": "95cf39bb-eaf7-4844-bd87-e7d2188b5935",
   "metadata": {},
   "outputs": [
    {
     "name": "stdout",
     "output_type": "stream",
     "text": [
      "### START wrapper ###\n",
      "test\n",
      "### END wrapper ###\n"
     ]
    },
    {
     "data": {
      "text/plain": [
       "<function __main__.output_log.<locals>.wrapper(*args, **kargs)>"
      ]
     },
     "execution_count": 19,
     "metadata": {},
     "output_type": "execute_result"
    }
   ],
   "source": [
    "output_log(print_hello('test'))\n"
   ]
  },
  {
   "cell_type": "code",
   "execution_count": 147,
   "id": "30389221-40f7-458c-a835-409b44620489",
   "metadata": {},
   "outputs": [],
   "source": [
    "import inspect\n",
    "import re\n",
    "\n",
    "def output_log(func):\n",
    "\n",
    "    def wrapper(*args, **kargs):\n",
    "        print(f'### START {inspect.currentframe().f_code.co_varnames} ###')\n",
    "        ret = func(*args, **kargs)\n",
    "        print(f'### END {inspect.currentframe().f_code.co_varnames} ###')\n",
    "        fs=inspect.getouterframes(inspect.currentframe(),2)\n",
    "        print(f'### func {fs[1]} ###')\n",
    "        m=re.fullmatch(\".*output_log\\((.*)\\)\",str(fs[1]))\n",
    "        print(f'fullmatch={m.group(1)}')\n",
    "        m=re.match(\"output_log\\((.*)\\)\",str(fs[1]))\n",
    "        print(f'match={m}')\n",
    "        m=re.search(\"output_log\\(([^\\)]*)\",str(fs[1]))\n",
    "        print(f'search={m.group(1)}')\n",
    "\n",
    "\n",
    "        print(f'### wrapper {inspect.FrameInfo.filename} ###')\n",
    "\n",
    "        return ret\n",
    "    return wrapper\n",
    "def print_hello(text):\n",
    "    #comment\n",
    "    print(text)\n",
    "    print(f'### hello {inspect.currentframe().f_code.co_name} ###')\n",
    "    print(f'### hello {inspect.FrameInfo.lineno} ###')\n",
    "\n"
   ]
  },
  {
   "cell_type": "code",
   "execution_count": 148,
   "id": "05fc402e-8ef3-42d0-823f-6b3b276951b6",
   "metadata": {},
   "outputs": [
    {
     "name": "stdout",
     "output_type": "stream",
     "text": [
      "### START ('args', 'kargs', 'ret', 'fs', 'm') ###\n",
      "test\n",
      "### hello print_hello ###\n",
      "### hello _tuplegetter(2, 'Alias for field number 2') ###\n",
      "### END ('args', 'kargs', 'ret', 'fs', 'm') ###\n",
      "### func FrameInfo(frame=<frame at 0x00000178FAFC54F0, file 'C:\\\\Users\\\\admin\\\\AppData\\\\Local\\\\Temp\\\\ipykernel_8548\\\\3535305310.py', line 2, code <module>>, filename='C:\\\\Users\\\\admin\\\\AppData\\\\Local\\\\Temp\\\\ipykernel_8548\\\\3535305310.py', lineno=2, function='<module>', code_context=['f = output_log(print_hello)\\n', \"f('test')\\n\"], index=1) ###\n",
      "fullmatch=print_hello)\\n', \"f('test')\\n\"], index=1\n",
      "match=None\n",
      "search=print_hello\n",
      "### wrapper _tuplegetter(1, 'Alias for field number 1') ###\n"
     ]
    }
   ],
   "source": [
    "f = output_log(print_hello)\n",
    "f('test')"
   ]
  },
  {
   "cell_type": "code",
   "execution_count": 149,
   "id": "b6bd4434-d2f4-4790-a1fa-c2365cf886b0",
   "metadata": {},
   "outputs": [
    {
     "name": "stdout",
     "output_type": "stream",
     "text": [
      "カウント 0\n",
      "カウント 1\n",
      "動作を途中停止します。\n"
     ]
    }
   ],
   "source": [
    "import tkinter as tk\n",
    "import threading\n",
    "import time\n",
    "\n",
    "def start():\n",
    "    thread = threading.Thread(target=count)\n",
    "    thread.start()\n",
    "\n",
    "def count():\n",
    "    global flg\n",
    "    i = 0\n",
    "    while 1:\n",
    "        if flg == False:\n",
    "            print(\"動作を途中停止します。\")\n",
    "            flg = True\n",
    "            break\n",
    "        else:\n",
    "            print(\"カウント\",i)\n",
    "            time.sleep(2)\n",
    "            i += 1\n",
    "\n",
    "def stop():\n",
    "    global flg\n",
    "    flg = False\n",
    "\n",
    "root = tk.Tk()\n",
    "\n",
    "flg = True\n",
    "\n",
    "btn1 = tk.Button(text=\"開始\",command=start)\n",
    "btn1.grid(row=0,column=0)\n",
    "\n",
    "btn2 = tk.Button(text=\"停止\",command=stop)\n",
    "btn2.grid(row=1,column=0)\n",
    "\n",
    "root.mainloop()"
   ]
  },
  {
   "cell_type": "code",
   "execution_count": null,
   "id": "ea578b56-c0c5-4c39-8307-b0b53c3bc013",
   "metadata": {},
   "outputs": [],
   "source": []
  }
 ],
 "metadata": {
  "kernelspec": {
   "display_name": "Python 3",
   "language": "python",
   "name": "python3"
  },
  "language_info": {
   "codemirror_mode": {
    "name": "ipython",
    "version": 3
   },
   "file_extension": ".py",
   "mimetype": "text/x-python",
   "name": "python",
   "nbconvert_exporter": "python",
   "pygments_lexer": "ipython3",
   "version": "3.10.7"
  },
  "vscode": {
   "interpreter": {
    "hash": "beedbe2faf2f7048d727558d0bc3221e7eba2a0b921cac4d4771b2feb8f74b30"
   }
  }
 },
 "nbformat": 4,
 "nbformat_minor": 5
}
