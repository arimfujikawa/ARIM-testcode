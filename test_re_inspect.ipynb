{
 "cells": [
  {
   "cell_type": "code",
   "execution_count": 1,
   "id": "14631558-f68d-4361-a353-5a2a51c8e17f",
   "metadata": {},
   "outputs": [
    {
     "ename": "Terminator",
     "evalue": "",
     "output_type": "error",
     "traceback": [
      "\u001b[1;31m---------------------------------------------------------------------------\u001b[0m",
      "\u001b[1;31mTerminator\u001b[0m                                Traceback (most recent call last)",
      "Cell \u001b[1;32mIn[1], line 6\u001b[0m\n\u001b[0;32m      4\u001b[0m \u001b[39mwhile\u001b[39;00m \u001b[39mTrue\u001b[39;00m:\n\u001b[0;32m      5\u001b[0m     forward(\u001b[39m200\u001b[39m)\n\u001b[1;32m----> 6\u001b[0m     left(\u001b[39m170\u001b[39;49m)\n\u001b[0;32m      7\u001b[0m     \u001b[39mif\u001b[39;00m \u001b[39mabs\u001b[39m(pos()) \u001b[39m<\u001b[39m \u001b[39m1\u001b[39m:\n\u001b[0;32m      8\u001b[0m         \u001b[39mbreak\u001b[39;00m\n",
      "File \u001b[1;32m<string>:5\u001b[0m, in \u001b[0;36mleft\u001b[1;34m(angle)\u001b[0m\n",
      "\u001b[1;31mTerminator\u001b[0m: "
     ]
    }
   ],
   "source": [
    "from turtle import *\n",
    "color('red', 'yellow')\n",
    "begin_fill()\n",
    "while True:\n",
    "    forward(200)\n",
    "    left(170)\n",
    "    if abs(pos()) < 1:\n",
    "        break\n",
    "enf_fill()\n",
    "done()"
   ]
  },
  {
   "cell_type": "code",
   "execution_count": null,
   "id": "8ba343c8-ee44-43ca-8b4e-428ac9abcec6",
   "metadata": {},
   "outputs": [],
   "source": [
    "import time\n",
    "\n",
    "n = 20\n",
    "for i in range(n):\n",
    "    bar = '*' * (i+1) + \" \" * (n-i-1)\n",
    "    print(f\"\\r[{bar}] {(i+1)/n*100:.02f}% ({i+1}/{n})\", end=\"\")\n",
    "    time.sleep(0.5)\n",
    "print()"
   ]
  },
  {
   "cell_type": "code",
   "execution_count": null,
   "id": "af0440b9-3872-440e-96ec-c62e50cbc1c4",
   "metadata": {},
   "outputs": [],
   "source": [
    "n = 20\n",
    "for i in range(n):\n",
    "    bar = '■'*i + \".\"*(n-i-1)\n",
    "    print(f\"\\r\\033[K[\\033[33m{bar}\\033[39m] {i/n*100:.02f}% ({i}/{n})\", end=\"\")\n",
    "    time.sleep(0.5)"
   ]
  },
  {
   "cell_type": "code",
   "execution_count": 2,
   "id": "b559f6d1-1e80-4eea-9c4a-a076fe7fd3f4",
   "metadata": {},
   "outputs": [],
   "source": [
    "import inspect\n",
    "\n",
    "def output_log(func):\n",
    "    def wrapper(*args, **kargs):\n",
    "        print(f'### START {inspect.currentframe().f_code.co_name} ###')\n",
    "        ret = func(*args, **kargs)\n",
    "        print(f'### END {inspect.currentframe().f_code.co_name} ###')\n",
    "        return ret\n",
    "    return wrapper\n",
    "\n",
    "def print_hello(text):\n",
    "    print(text)"
   ]
  },
  {
   "cell_type": "code",
   "execution_count": 3,
   "id": "a73bff8d-38e9-488b-85cd-1fa0519f6c5b",
   "metadata": {},
   "outputs": [
    {
     "name": "stdout",
     "output_type": "stream",
     "text": [
      "test\n"
     ]
    }
   ],
   "source": [
    "print_hello('test')\n"
   ]
  },
  {
   "cell_type": "code",
   "execution_count": 4,
   "id": "95cf39bb-eaf7-4844-bd87-e7d2188b5935",
   "metadata": {},
   "outputs": [
    {
     "name": "stdout",
     "output_type": "stream",
     "text": [
      "test\n"
     ]
    },
    {
     "data": {
      "text/plain": [
       "<function __main__.output_log.<locals>.wrapper(*args, **kargs)>"
      ]
     },
     "execution_count": 4,
     "metadata": {},
     "output_type": "execute_result"
    }
   ],
   "source": [
    "output_log(print_hello('test'))\n"
   ]
  },
  {
   "cell_type": "code",
   "execution_count": 101,
   "id": "30389221-40f7-458c-a835-409b44620489",
   "metadata": {},
   "outputs": [],
   "source": [
    "import inspect\n",
    "import re\n",
    "\n",
    "def output_log(func):\n",
    "\n",
    "    def wrapper(*args, **kargs):\n",
    "        print(f'### START {inspect.currentframe().f_code.co_varnames} ###')\n",
    "        ret = func(*args, **kargs)\n",
    "        print(f'### END {inspect.currentframe().f_code.co_varnames} ###')\n",
    "        # 現在の階層（context=1）から2階層目までのFrame情報を取得する。\n",
    "        fs=inspect.getouterframes(inspect.currentframe(), context=2)\n",
    "        print(f'### func {fs[1]} ###')\n",
    "        m=re.fullmatch(\".*output_log\\((.*)\\)\",str(fs[1]))\n",
    "        print(f'fullmatch={m.group(1)}')\n",
    "        m=re.findall(r\"f = (\\S+)\\((\\S+)\\)\",str(fs[1]))\n",
    "        print(f'm = {m}:{type(m)},{m[0][0]}')\n",
    "        d=dict(m)\n",
    "        print(f'findall={d.items()}, {d.keys()}')\n",
    "        m=re.search(\"output_log\\(([^\\)]+)\",str(fs[1]))\n",
    "        print(f'search={m.group(1)}')\n",
    "        m=re.search(\"\\(\\S+\\)\",str(fs[1]))\n",
    "        print(f'search all={m}')\n",
    "\n",
    "        print(f'### wrapper {inspect.FrameInfo.filename} ###')\n",
    "\n",
    "        return ret\n",
    "    return wrapper\n",
    "def print_hello(text):\n",
    "    #comment\n",
    "    print(text)\n",
    "    print(f'### hello {inspect.currentframe().f_code.co_name} ###')\n",
    "    print(f'### hello {inspect.FrameInfo.lineno} ###')\n",
    "\n"
   ]
  },
  {
   "cell_type": "code",
   "execution_count": 63,
   "id": "05fc402e-8ef3-42d0-823f-6b3b276951b6",
   "metadata": {},
   "outputs": [
    {
     "name": "stdout",
     "output_type": "stream",
     "text": [
      "### START ('args', 'kargs', 'ret', 'fs', 'm', 'd') ###\n",
      "test\n",
      "### hello print_hello ###\n",
      "### hello _tuplegetter(2, 'Alias for field number 2') ###\n",
      "### END ('args', 'kargs', 'ret', 'fs', 'm', 'd') ###\n",
      "### func FrameInfo(frame=<frame at 0x000001D45F0A24C0, file 'C:\\\\Users\\\\fujikawa\\\\AppData\\\\Local\\\\Temp\\\\ipykernel_8840\\\\3535305310.py', line 2, code <module>>, filename='C:\\\\Users\\\\fujikawa\\\\AppData\\\\Local\\\\Temp\\\\ipykernel_8840\\\\3535305310.py', lineno=2, function='<module>', code_context=['f = output_log(print_hello)\\n', \"f('test')\\n\"], index=1) ###\n",
      "fullmatch=print_hello)\\n', \"f('test')\\n\"], index=1\n",
      "m = [('output_log', 'print_hello')]:<class 'list'>,output_log\n",
      "findall=dict_items([('output_log', 'print_hello')]), dict_keys(['output_log'])\n",
      "search=print_hello\n",
      "search all=<re.Match object; span=(296, 309), match='(print_hello)'>\n",
      "### wrapper _tuplegetter(1, 'Alias for field number 1') ###\n"
     ]
    }
   ],
   "source": [
    "f = output_log(print_hello)\n",
    "f('test')"
   ]
  },
  {
   "attachments": {},
   "cell_type": "markdown",
   "id": "59b53d11",
   "metadata": {},
   "source": [
    "# ispectを使って関数名と引数名を取得するラッパー"
   ]
  },
  {
   "cell_type": "code",
   "execution_count": 15,
   "id": "08bfbca9",
   "metadata": {},
   "outputs": [
    {
     "name": "stdout",
     "output_type": "stream",
     "text": [
      "### func print_hello FrameInfo(frame=<frame at 0x0000015B4FB65630, file 'C:\\\\Users\\\\fujikawa\\\\AppData\\\\Local\\\\Temp\\\\ipykernel_5044\\\\732890393.py', line 6, code wrapper>, filename='C:\\\\Users\\\\fujikawa\\\\AppData\\\\Local\\\\Temp\\\\ipykernel_5044\\\\732890393.py', lineno=6, function='wrapper', code_context=['        ret = func(*args, **kargs)\\n'], index=0) ###\n",
      "test\n",
      "### func FrameInfo(frame=<frame at 0x0000015B534229A0, file 'C:\\\\Users\\\\fujikawa\\\\AppData\\\\Local\\\\Temp\\\\ipykernel_5044\\\\732890393.py', line 32, code <module>>, filename='C:\\\\Users\\\\fujikawa\\\\AppData\\\\Local\\\\Temp\\\\ipykernel_5044\\\\732890393.py', lineno=32, function='<module>', code_context=[\"var_text = 'test'\\n\", 'f = get_func_var_name(print_hello)\\n', 'func_var = f(var_text)\\n', \"print(f'{func_var[0]}, {func_var[1]}, {func_var[2]}')\\n\"], index=2) ###\n",
      "m = ['print_hello', 'var_text']:<class 'list'>,2,print_hello,var_text\n",
      "value = test\n",
      "### wrapper _tuplegetter(1, 'Alias for field number 1') ###\n",
      "print_hello, var_text, test\n"
     ]
    }
   ],
   "source": [
    "import inspect\n",
    "import re\n",
    "\n",
    "def get_func_var_name(func):\n",
    "    def wrapper(*args, **kargs):\n",
    "        ret = func(*args, **kargs)\n",
    "        # 現在の階層（context=1）から2階層目までのFrame情報を取得する。\n",
    "        fs=inspect.getouterframes(inspect.currentframe(), context=4)\n",
    "        print(f'### func {fs[1]} ###')\n",
    "        m=re.findall(r'\\((\\S+)\\)',str(fs[1]))\n",
    "        print(f'm = {m}:{type(m)},{len(m)},{m[0]},{m[1]}')\n",
    "        function_name = m[0]\n",
    "        var_name = m[1]\n",
    "        m=re.findall(f'{var_name} = \\'(\\S+)\\'',str(fs[1]))\n",
    "        var_value = m[0]\n",
    "        print(f'value = {var_value}') \n",
    "        # print(f'locals2 = {locals()}')\n",
    "        print(f'### wrapper {inspect.FrameInfo.filename} ###')\n",
    "        return function_name, var_name, var_value, ret\n",
    "        # return ret\n",
    "\n",
    "    return wrapper\n",
    "\n",
    "def print_hello(text):\n",
    "    fs=inspect.getouterframes(inspect.currentframe(), context=1)\n",
    "    print(f'### func print_hello {fs[1]} ###')\n",
    "    print(text)\n",
    "    # print(f'locals1 = {locals()}')\n",
    "    \n",
    "var_text = 'test'\n",
    "f = get_func_var_name(print_hello)\n",
    "func_var = f(var_text)\n",
    "print(f'{func_var[0]}, {func_var[1]}, {func_var[2]}')\n",
    "\n",
    "\n"
   ]
  },
  {
   "cell_type": "code",
   "execution_count": 149,
   "id": "b6bd4434-d2f4-4790-a1fa-c2365cf886b0",
   "metadata": {},
   "outputs": [
    {
     "name": "stdout",
     "output_type": "stream",
     "text": [
      "カウント 0\n",
      "カウント 1\n",
      "動作を途中停止します。\n"
     ]
    }
   ],
   "source": [
    "import tkinter as tk\n",
    "import threading\n",
    "import time\n",
    "\n",
    "def start():\n",
    "    thread = threading.Thread(target=count)\n",
    "    thread.start()\n",
    "\n",
    "def count():\n",
    "    global flg\n",
    "    i = 0\n",
    "    while 1:\n",
    "        if flg == False:\n",
    "            print(\"動作を途中停止します。\")\n",
    "            flg = True\n",
    "            break\n",
    "        else:\n",
    "            print(\"カウント\",i)\n",
    "            time.sleep(2)\n",
    "            i += 1\n",
    "\n",
    "def stop():\n",
    "    global flg\n",
    "    flg = False\n",
    "\n",
    "root = tk.Tk()\n",
    "\n",
    "flg = True\n",
    "\n",
    "btn1 = tk.Button(text=\"開始\",command=start)\n",
    "btn1.grid(row=0,column=0)\n",
    "\n",
    "btn2 = tk.Button(text=\"停止\",command=stop)\n",
    "btn2.grid(row=1,column=0)\n",
    "\n",
    "root.mainloop()"
   ]
  },
  {
   "cell_type": "code",
   "execution_count": null,
   "id": "ea578b56-c0c5-4c39-8307-b0b53c3bc013",
   "metadata": {},
   "outputs": [],
   "source": []
  }
 ],
 "metadata": {
  "kernelspec": {
   "display_name": "venv",
   "language": "python",
   "name": "python3"
  },
  "language_info": {
   "codemirror_mode": {
    "name": "ipython",
    "version": 3
   },
   "file_extension": ".py",
   "mimetype": "text/x-python",
   "name": "python",
   "nbconvert_exporter": "python",
   "pygments_lexer": "ipython3",
   "version": "3.9.13"
  },
  "vscode": {
   "interpreter": {
    "hash": "6eaa0237c241f55a5f392a4aea2170bdcd52d5b2e50ed14c33f3a0062405424e"
   }
  }
 },
 "nbformat": 4,
 "nbformat_minor": 5
}
