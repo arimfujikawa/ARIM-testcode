{
 "cells": [
  {
   "cell_type": "code",
   "execution_count": 1,
   "metadata": {},
   "outputs": [
    {
     "name": "stdout",
     "output_type": "stream",
     "text": [
      "0\n",
      "1\n"
     ]
    },
    {
     "data": {
      "text/plain": [
       "<__main__.Test2 at 0x26d78ca67d0>"
      ]
     },
     "execution_count": 1,
     "metadata": {},
     "output_type": "execute_result"
    }
   ],
   "source": [
    "class Test:\n",
    "    def __init__(self):\n",
    "        # 下位の関数にスコープがある\n",
    "        var = 0\n",
    "        def func():\n",
    "            # var = 1\n",
    "            def func1():\n",
    "                print(var)\n",
    "            func1()\n",
    "        func()\n",
    "Test()\n",
    "\n",
    "\n",
    "class Test2:\n",
    "    def __init__(self):\n",
    "        # 下位の関数に同じ変数が現れるとスコープがなくなる\n",
    "        var = 0\n",
    "        def func():\n",
    "            var = 1\n",
    "            def func1():\n",
    "                print(var)\n",
    "            func1()\n",
    "        func()\n",
    "\n",
    "\n",
    "Test2()\n"
   ]
  },
  {
   "cell_type": "code",
   "execution_count": null,
   "metadata": {},
   "outputs": [],
   "source": [
    "VAR = 12345\n",
    "\n",
    "def func():\n",
    "    VAR"
   ]
  }
 ],
 "metadata": {
  "kernelspec": {
   "display_name": "venv",
   "language": "python",
   "name": "python3"
  },
  "language_info": {
   "codemirror_mode": {
    "name": "ipython",
    "version": 3
   },
   "file_extension": ".py",
   "mimetype": "text/x-python",
   "name": "python",
   "nbconvert_exporter": "python",
   "pygments_lexer": "ipython3",
   "version": "3.11.1"
  },
  "orig_nbformat": 4
 },
 "nbformat": 4,
 "nbformat_minor": 2
}
