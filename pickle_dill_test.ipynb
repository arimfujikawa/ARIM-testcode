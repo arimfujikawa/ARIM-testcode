{
 "cells": [
  {
   "cell_type": "code",
   "execution_count": 8,
   "metadata": {},
   "outputs": [
    {
     "name": "stdout",
     "output_type": "stream",
     "text": [
      "[array([[1, 1, 1],\n",
      "       [1, 1, 1]]), {'a': 1, 'b': '2', 'c': array([[1, 1, 1],\n",
      "       [1, 1, 1]])}, [{'a': 1, 'b': '2', 'c': array([[1, 1, 1],\n",
      "       [1, 1, 1]])}, array([[1, 1, 1],\n",
      "       [1, 1, 1]])]]\n",
      "pickle ok\n",
      "[{'a': 1, 'b': '2', 'c': array([[1, 1, 1],\n",
      "       [1, 1, 1]])}, array([[1, 1, 1],\n",
      "       [1, 1, 1]])]\n",
      "dill ok\n"
     ]
    }
   ],
   "source": [
    "import pickle\n",
    "import dill\n",
    "import numpy as np\n",
    "\n",
    "\n",
    "def test(a, b):\n",
    "    print('test')\n",
    "    return a+b\n",
    "\n",
    "ndarray_a = np.full((2,3), 1)\n",
    "list_a = []\n",
    "dict_a = {'a':1, 'b':'2', 'c':ndarray_a}\n",
    "list_a.append(dict_a)\n",
    "list_a.append(ndarray_a)\n",
    "results = [ndarray_a, dict_a, list_a]\n",
    "print(results)\n",
    "if pickle.dumps(test):\n",
    "    print('pickle ok')\n",
    "with open('test.pkl', 'wb+') as bfsw:\n",
    "    pickle.dump(list_a, bfsw)\n",
    "with open('test.pkl', 'rb') as bfsr:\n",
    "    unpickled_a = pickle.load(bfsr)\n",
    "    print(unpickled_a)\n",
    "if dill.dumps(test):\n",
    "    print('dill ok')\n",
    "\n",
    "\n"
   ]
  }
 ],
 "metadata": {
  "kernelspec": {
   "display_name": "venv",
   "language": "python",
   "name": "python3"
  },
  "language_info": {
   "codemirror_mode": {
    "name": "ipython",
    "version": 3
   },
   "file_extension": ".py",
   "mimetype": "text/x-python",
   "name": "python",
   "nbconvert_exporter": "python",
   "pygments_lexer": "ipython3",
   "version": "3.11.1"
  },
  "orig_nbformat": 4
 },
 "nbformat": 4,
 "nbformat_minor": 2
}
