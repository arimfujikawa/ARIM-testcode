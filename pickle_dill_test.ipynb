{
 "cells": [
  {
   "cell_type": "code",
   "execution_count": 5,
   "metadata": {},
   "outputs": [
    {
     "name": "stdout",
     "output_type": "stream",
     "text": [
      "pickle ok\n",
      "dill ok\n"
     ]
    }
   ],
   "source": [
    "import pickle\n",
    "import dill\n",
    "\n",
    "def test(a, b):\n",
    "    print('test')\n",
    "    return a+b\n",
    "\n",
    "if pickle.dumps(test):\n",
    "    print('pickle ok')\n",
    "if dill.dumps(test):\n",
    "    print('dill ok')\n"
   ]
  }
 ],
 "metadata": {
  "kernelspec": {
   "display_name": "venv",
   "language": "python",
   "name": "python3"
  },
  "language_info": {
   "codemirror_mode": {
    "name": "ipython",
    "version": 3
   },
   "file_extension": ".py",
   "mimetype": "text/x-python",
   "name": "python",
   "nbconvert_exporter": "python",
   "pygments_lexer": "ipython3",
   "version": "3.11.1"
  },
  "orig_nbformat": 4
 },
 "nbformat": 4,
 "nbformat_minor": 2
}
